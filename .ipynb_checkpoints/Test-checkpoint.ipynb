{
 "cells": [
  {
   "cell_type": "code",
   "execution_count": 39,
   "metadata": {},
   "outputs": [],
   "source": [
    "import numpy as np\n",
    "from model import *\n",
    "from mod_v11 import *\n",
    "import tensorflow as tf\n",
    "import fastwer\n",
    "import cv2\n",
    "from skimage import color\n",
    "\n",
    "imgs = np.expand_dims(np.load('../generated_text.npz')['arr_0'], axis=-1)\n",
    "imgs = np.transpose(imgs, (0, 2, 1, 3))\n",
    "labels = np.load('../generated_labels.npy')\n",
    "characters = set(char for label in labels for char in label)\n",
    "\n",
    "t_dist_dim = int(128)"
   ]
  },
  {
   "cell_type": "code",
   "execution_count": 98,
   "metadata": {},
   "outputs": [],
   "source": [
    "net = build_and_compile_model_v9_7(input_shape=(128, 128, 1), len_characters=len(characters), opt=\"Adam\")\n",
    "net2 = build_and_compile_model_v11(input_shape=(128, 128, 1), len_characters=len(characters), opt=\"Adam\")\n",
    "net.load_weights('../CRNN_v9_7.h5')\n",
    "net2.load_weights('../CRNN_v11.h5')"
   ]
  },
  {
   "cell_type": "code",
   "execution_count": 82,
   "metadata": {},
   "outputs": [],
   "source": [
    "num_dic = []\n",
    "for char in sorted(characters):\n",
    "    num_dic.append(char)\n",
    "num_dic.append('[UNK]')\n",
    "\n",
    "def num_to_char(strings):\n",
    "    rets = []\n",
    "    for strng in strings:\n",
    "        ret = []\n",
    "        for char in strng:\n",
    "            ret.append(num_dic[char])\n",
    "        rets.append(ret)\n",
    "    return np.array(rets)\n",
    "\n",
    "def decode_ctc(args):\n",
    "    \"\"\"returns a list of decoded ctc losses\"\"\"\n",
    "\n",
    "    y_pred, input_length = args\n",
    "\n",
    "    ctc_decoded = tf.keras.backend.ctc_decode(\n",
    "        y_pred, input_length, greedy=True)\n",
    "\n",
    "    return ctc_decoded\n",
    "\n",
    "def encoding_to_label(pred):\n",
    "    lst = []\n",
    "    for label in pred:\n",
    "        b = label.squeeze()[np.argwhere(label.squeeze()!='[UNK]')]\n",
    "        tmp = ''\n",
    "        if len(b) == 1:\n",
    "            tmp = b[0][0]\n",
    "        else:\n",
    "            for char in b.squeeze():\n",
    "                tmp += char\n",
    "        lst.append(tmp)\n",
    "    return lst\n",
    "\n",
    "def predict_text(imgs, net, t_dist_dim):\n",
    "    if len(imgs.shape) == 3:\n",
    "        imgs = np.expand_dims(imgs, axis=0)\n",
    "    t_dim = np.full((imgs.shape[0],), t_dist_dim)\n",
    "    pred_tensor, _ = decode_ctc([net.predict(imgs), t_dim])\n",
    "    pred_labels = tf.keras.backend.get_value(pred_tensor[0])\n",
    "    return encoding_to_label(num_to_char(pred_labels))\n",
    "\n",
    "def predict_random_text(size, gen, net, t_dist_dim):\n",
    "    preds = []\n",
    "    y_true = []\n",
    "    for _ in range(size):\n",
    "        img, lbl = next(gen)\n",
    "        y_true.append(lbl)\n",
    "        im = cv2.resize(np.array(img), (128, 128))\n",
    "        im = color.rgb2gray(im)\n",
    "        im = np.expand_dims(im, axis=-1)\n",
    "        im = np.transpose(im, (1, 0, 2))\n",
    "        pred_tensor, _ = decode_ctc([net.predict(np.expand_dims(im, axis=0)), np.array([t_dist_dim])])\n",
    "        pred_labels = tf.keras.backend.get_value(pred_tensor[0])\n",
    "        preds.append(encoding_to_label(num_to_char(pred_labels).numpy())[0])\n",
    "    return preds, y_true\n",
    "\n",
    "def predict_phrase(phrase_img, net, tdist_dim):\n",
    "    im = color.rgb2gray(np.array(phrase_img))\n",
    "    saltpepper = cv2.fastNlMeansDenoising(np.uint8(im*255),None, 13,2)\n",
    "    kernel = cv2.getStructuringElement(cv2.MORPH_ELLIPSE, (9, 9))\n",
    "    dilated = cv2.dilate(1-saltpepper, kernel)\n",
    "    dilated[dilated > 128] = 255\n",
    "    dilated[dilated <= 128] = 0\n",
    "    contours, hierarchy = cv2.findContours(dilated, cv2.RETR_EXTERNAL, cv2.CHAIN_APPROX_NONE)\n",
    "    contours = sorted(contours, key=lambda c: min(min(c[:, :, 0])))\n",
    "    words = []\n",
    "    \n",
    "    for i in range(len(contours)):\n",
    "        mask = np.zeros((im.shape[0], im.shape[1]), dtype=np.uint8)\n",
    "\n",
    "        # i is the contour to draw, -1 means fill the contours\n",
    "        mask = cv2.drawContours(mask, contours, i, 255, -1)\n",
    "        masked_img = cv2.bitwise_and(255-saltpepper, 255-saltpepper, mask=mask)\n",
    "        masked_img[masked_img<=90] = 0\n",
    "        masked_img = masked_img/255\n",
    "        masked_img = 1-masked_img\n",
    "        #masked_img[masked_img>=0.9] = 0.86\n",
    "        masked_img = cv2.resize(masked_img, (128, 128))\n",
    "        masked_img = np.expand_dims(masked_img, axis=-1)\n",
    "        masked_img = np.transpose(masked_img, (1, 0, 2))\n",
    "        words.append(masked_img)\n",
    "\n",
    "    return predict_text(np.array(words), net, tdist_dim)\n",
    "\n",
    "\n",
    "def predict_random_phrase_1(net, gen, n_samples, t_dist_dim):\n",
    "    preds = []\n",
    "    y_true = []\n",
    "    for _ in range(n_samples):\n",
    "        img, lbl = next(gen)\n",
    "        y_true.append(lbl)\n",
    "        pred = predict_phrase(img, net, t_dist_dim)\n",
    "        preds.append(phrase_prediction_to_string(pred))\n",
    "    return preds, y_true\n",
    "\n",
    "def predict_random_phrase_2(net, gen, n_samples, t_dist_dim):\n",
    "    preds = []\n",
    "    y_true = []\n",
    "    for _ in range(n_samples):\n",
    "        img, lbl = next(gen)\n",
    "        y_true.append(lbl)\n",
    "        pred = predict_phrase_2(img, net, t_dist_dim)\n",
    "        preds.append(phrase_prediction_to_string(pred))\n",
    "    return preds, y_true\n",
    "\n",
    "def predict_phrases(net, imgs, t_dist_dim):\n",
    "    preds = []\n",
    "    for im in imgs:\n",
    "        pred = predict_phrase(im, net, t_dist_dim)\n",
    "        preds.append(phrase_prediction_to_string(pred))\n",
    "    return preds\n",
    "\n",
    "def predict_phrases_2(net, imgs, t_dist_dim):\n",
    "    preds = []\n",
    "    for im in imgs:\n",
    "        pred = predict_phrase_2(im, net, t_dist_dim)\n",
    "        preds.append(phrase_prediction_to_string(pred))\n",
    "    return preds\n",
    "\n",
    "def predict_phrase_2(phrase_img, net, tdist_dim):\n",
    "    im = color.rgb2gray(np.array(phrase_img))\n",
    "    saltpepper = cv2.fastNlMeansDenoising(np.uint8(im*255),None, 13,2)\n",
    "    kernel = cv2.getStructuringElement(cv2.MORPH_ELLIPSE, (9, 9))\n",
    "    dilated = cv2.dilate(1-saltpepper, kernel)\n",
    "    dilated[dilated > 128] = 255\n",
    "    dilated[dilated <= 128] = 0\n",
    "    contours, hierarchy = cv2.findContours(dilated, cv2.RETR_EXTERNAL, cv2.CHAIN_APPROX_NONE)\n",
    "    contours = sorted(contours, key=lambda c: min(min(c[:, :, 0])))\n",
    "    words = []\n",
    "    \n",
    "    for i in range(len(contours)):\n",
    "        mask = np.zeros((im.shape[0], im.shape[1]), dtype=np.uint8)\n",
    "\n",
    "        # i is the contour to draw, -1 means fill the contours\n",
    "        mask = cv2.drawContours(mask, contours, i, 255, -1)\n",
    "        masked_img = cv2.bitwise_and(255-saltpepper, 255-saltpepper, mask=mask)\n",
    "        masked_img[masked_img<=90] = 0\n",
    "        masked_img = masked_img/255\n",
    "        masked_img = 1-masked_img\n",
    "        x, y, w, h = cv2.boundingRect(contours[i])\n",
    "        crop_word = masked_img[y:y+h,x:x+w]\n",
    "        if w > 128:\n",
    "            crop_word = cv2.resize(crop_word, (128,h))\n",
    "            w = 128    \n",
    "        masked_img = np.ones((32,128))\n",
    "        startx = (128 - w)//2\n",
    "        starty = (32 - h)//2\n",
    "        masked_img[starty:starty+h, startx:startx+w] = crop_word\n",
    "        masked_img = cv2.resize(masked_img, (128, 128))\n",
    "        masked_img = np.expand_dims(masked_img, axis=-1)\n",
    "        masked_img = np.transpose(masked_img, (1, 0, 2))\n",
    "        words.append(masked_img)\n",
    "    return predict_text(np.array(words), net, tdist_dim)\n",
    "\n",
    "def phrase_prediction_to_string(predictions):\n",
    "    result = \"\"\n",
    "    for word in predictions:\n",
    "        result+=word+\" \"\n",
    "    result=result[:-1]\n",
    "    return result\n",
    "\n",
    "def generate_testset(dim, gen):\n",
    "    test_set = []\n",
    "    y_true = []\n",
    "    for _ in range(dim):\n",
    "        img, lbl = next(gen)\n",
    "        y_true.append(lbl)\n",
    "        test_set.append(img)\n",
    "    return test_set, y_true"
   ]
  },
  {
   "cell_type": "code",
   "execution_count": 18,
   "metadata": {},
   "outputs": [],
   "source": [
    "import cv2\n",
    "from skimage import color\n",
    "from trdg.generators import GeneratorFromRandom, GeneratorFromWikipedia\n",
    "\n",
    "base_generator = GeneratorFromRandom(use_symbols=False, use_letters=True, length=1, width=180, size=32, space_width=2.0)\n",
    "#base_generator = GeneratorFromWikipedia(width=180, size=32, space_width=2.0)"
   ]
  },
  {
   "cell_type": "code",
   "execution_count": 41,
   "metadata": {},
   "outputs": [],
   "source": [
    "training_preds = predict_text(imgs, net2, t_dist_dim)"
   ]
  },
  {
   "cell_type": "code",
   "execution_count": 42,
   "metadata": {},
   "outputs": [
    {
     "name": "stdout",
     "output_type": "stream",
     "text": [
      "1.3738529700000013\n"
     ]
    }
   ],
   "source": [
    "#Metrica su training set\n",
    "score = 0\n",
    "for i in range(len(training_preds)):\n",
    "    score += fastwer.score_sent(training_preds[i], labels[i], char_level=True)\n",
    "score = score / len(training_preds)\n",
    "print(score)"
   ]
  },
  {
   "cell_type": "code",
   "execution_count": 12,
   "metadata": {
    "scrolled": true
   },
   "outputs": [
    {
     "name": "stdout",
     "output_type": "stream",
     "text": [
      "3.423968199999999\n"
     ]
    }
   ],
   "source": [
    "#Metrica su test set\n",
    "test_preds, test_labels = predict_random_text(500, base_generator, net, t_dist_dim)\n",
    "test_score = 0\n",
    "for i in range(len(test_preds)):\n",
    "    test_score += fastwer.score_sent(test_preds[i], test_labels[i], char_level=True)\n",
    "test_score = test_score / len(test_preds)\n",
    "print(test_score)"
   ]
  },
  {
   "cell_type": "code",
   "execution_count": 51,
   "metadata": {},
   "outputs": [
    {
     "data": {
      "text/plain": [
       "['3qiaahawn5ka9nilvrk', 'OvicoIa', 'Binomialname', 'kM8yb6848lbhiaA']"
      ]
     },
     "execution_count": 51,
     "metadata": {},
     "output_type": "execute_result"
    }
   ],
   "source": [
    "test_preds"
   ]
  },
  {
   "cell_type": "code",
   "execution_count": 52,
   "metadata": {},
   "outputs": [
    {
     "data": {
      "text/plain": [
       "['clade Heterobranchiaclade Euthyneuraclade Panpulmonata',\n",
       " 'O vicola',\n",
       " 'Binomial name',\n",
       " 'Odostomia vicolaDall Bartsch 1909']"
      ]
     },
     "execution_count": 52,
     "metadata": {},
     "output_type": "execute_result"
    }
   ],
   "source": [
    "test_labels"
   ]
  },
  {
   "cell_type": "code",
   "execution_count": 70,
   "metadata": {},
   "outputs": [],
   "source": [
    "test_set = []\n",
    "y_true = []\n",
    "for _ in range(5000):\n",
    "    img, lbl = next(base_generator)\n",
    "    y_true.append(lbl)\n",
    "    im = cv2.resize(np.array(img), (128, 128))\n",
    "    im = color.rgb2gray(im)\n",
    "    im = np.expand_dims(im, axis=-1)\n",
    "    im = np.transpose(im, (1, 0, 2))\n",
    "    test_set.append(im)\n",
    "test_set = np.array(test_set)"
   ]
  },
  {
   "cell_type": "code",
   "execution_count": 71,
   "metadata": {},
   "outputs": [],
   "source": [
    "pred_1 = predict_text(test_set, net, t_dist_dim)\n",
    "pred_2 = predict_text(test_set, net2, t_dist_dim)"
   ]
  },
  {
   "cell_type": "code",
   "execution_count": 72,
   "metadata": {},
   "outputs": [
    {
     "name": "stdout",
     "output_type": "stream",
     "text": [
      "3.0066504400000027\n",
      "2.9954759000000033\n"
     ]
    }
   ],
   "source": [
    "test_score1 = 0\n",
    "test_score2 = 0\n",
    "for i in range(len(test_set)):\n",
    "    test_score1 += fastwer.score_sent(pred_1[i], y_true[i], char_level=True)\n",
    "    test_score2 += fastwer.score_sent(pred_2[i], y_true[i], char_level=True)\n",
    "test_score1 = test_score1 / len(pred_1)\n",
    "test_score2 = test_score2 / len(pred_2)\n",
    "print(test_score1)\n",
    "print(test_score2)"
   ]
  },
  {
   "cell_type": "markdown",
   "metadata": {},
   "source": [
    "Prediction su frasi, separando le parole"
   ]
  },
  {
   "cell_type": "code",
   "execution_count": 44,
   "metadata": {},
   "outputs": [],
   "source": [
    "import matplotlib.pyplot as plt"
   ]
  },
  {
   "cell_type": "code",
   "execution_count": 20,
   "metadata": {},
   "outputs": [
    {
     "data": {
      "image/png": "[encoded data removed]",
      "text/plain": [
       "<PIL.Image.Image image mode=RGB size=180x32 at 0x1F54FF6CC40>"
      ]
     },
     "metadata": {},
     "output_type": "display_data"
    }
   ],
   "source": [
    "img, _ = next(base_generator)\n",
    "im = cv2.resize(np.array(img), (128, 128))\n",
    "im = color.rgb2gray(im)\n",
    "im = np.expand_dims(im, axis=-1)\n",
    "im = np.transpose(im, (1, 0, 2))\n",
    "display(img)"
   ]
  },
  {
   "cell_type": "code",
   "execution_count": 17,
   "metadata": {},
   "outputs": [],
   "source": [
    "im = color.rgb2gray(np.array(img))"
   ]
  },
  {
   "cell_type": "code",
   "execution_count": 80,
   "metadata": {},
   "outputs": [
    {
     "data": {
      "image/png": "[encoded data removed]",
      "text/plain": [
       "<Figure size 432x288 with 1 Axes>"
      ]
     },
     "metadata": {
      "needs_background": "light"
     },
     "output_type": "display_data"
    }
   ],
   "source": [
    "saltpepper = cv2.fastNlMeansDenoising(np.uint8(im*255),None, 13,2)\n",
    "plt.imshow(255-saltpepper, cmap='gray')\n",
    "plt.show()"
   ]
  },
  {
   "cell_type": "code",
   "execution_count": 81,
   "metadata": {},
   "outputs": [
    {
     "data": {
      "image/png": "[encoded data removed]",
      "text/plain": [
       "<Figure size 432x288 with 1 Axes>"
      ]
     },
     "metadata": {
      "needs_background": "light"
     },
     "output_type": "display_data"
    }
   ],
   "source": [
    "kernel = cv2.getStructuringElement(cv2.MORPH_ELLIPSE, (9, 9))\n",
    "dilated = cv2.dilate(1-saltpepper, kernel)\n",
    "dilated[dilated > 128] = 255\n",
    "dilated[dilated <= 128] = 0\n",
    "plt.imshow(dilated, cmap='gray')\n",
    "plt.show()"
   ]
  },
  {
   "cell_type": "code",
   "execution_count": 82,
   "metadata": {},
   "outputs": [],
   "source": [
    "contours, hierarchy = cv2.findContours(dilated, cv2.RETR_EXTERNAL, cv2.CHAIN_APPROX_NONE)\n",
    "contours = sorted(contours, key=lambda c: min(min(c[:, :, 0])))\n",
    "words = []\n",
    "for i in range(len(contours)):\n",
    "\n",
    "    mask = np.zeros((32, 180), dtype=np.uint8)\n",
    "\n",
    "    # i is the contour to draw, -1 means fill the contours\n",
    "    mask = cv2.drawContours(mask, contours, i, 255, -1)\n",
    "    masked_img = cv2.bitwise_and(255-saltpepper, 255-saltpepper, mask=mask)\n",
    "    masked_img[masked_img<=90] = 0\n",
    "    masked_img = masked_img/255\n",
    "    masked_img = 1-masked_img\n",
    "    #masked_img[masked_img>=0.9] = 0.86\n",
    "    words.append(masked_img)"
   ]
  },
  {
   "cell_type": "code",
   "execution_count": 90,
   "metadata": {},
   "outputs": [
    {
     "data": {
      "image/png": "[encoded data removed]",
      "text/plain": [
       "<Figure size 432x288 with 1 Axes>"
      ]
     },
     "metadata": {
      "needs_background": "light"
     },
     "output_type": "display_data"
    }
   ],
   "source": [
    "plt.imshow(words[2], cmap='gray')\n",
    "plt.show()"
   ]
  },
  {
   "cell_type": "code",
   "execution_count": 87,
   "metadata": {},
   "outputs": [],
   "source": [
    "test_img = cv2.resize(words[0], (128, 128))\n",
    "test_img = np.expand_dims(test_img, axis=-1)\n",
    "test_img = np.transpose(test_img, (1, 0, 2))"
   ]
  },
  {
   "cell_type": "code",
   "execution_count": 88,
   "metadata": {},
   "outputs": [
    {
     "data": {
      "image/png": "[encoded data removed]",
      "text/plain": [
       "<Figure size 432x288 with 1 Axes>"
      ]
     },
     "metadata": {
      "needs_background": "light"
     },
     "output_type": "display_data"
    }
   ],
   "source": [
    "plt.imshow(test_img, cmap='gray')\n",
    "plt.show()"
   ]
  },
  {
   "cell_type": "code",
   "execution_count": 344,
   "metadata": {},
   "outputs": [],
   "source": [
    "pred_tensor, _ = decode_ctc([net2.predict(np.expand_dims(test_img, axis=0)), np.array([t_dist_dim])])\n",
    "pred_labels = tf.keras.backend.get_value(pred_tensor[0])"
   ]
  },
  {
   "cell_type": "code",
   "execution_count": 345,
   "metadata": {},
   "outputs": [
    {
     "data": {
      "text/plain": [
       "array([[11, 47, 36, 46, 40, -1, -1, -1, -1, -1, -1, -1, -1, -1, -1, -1,\n",
       "        -1, -1, -1, -1, -1, -1, -1, -1, -1, -1, -1, -1, -1, -1, -1, -1,\n",
       "        -1, -1, -1, -1, -1, -1, -1, -1, -1, -1, -1, -1, -1, -1, -1, -1,\n",
       "        -1, -1, -1, -1, -1, -1, -1, -1, -1, -1, -1, -1, -1, -1, -1, -1,\n",
       "        -1, -1, -1, -1, -1, -1, -1, -1, -1, -1, -1, -1, -1, -1, -1, -1,\n",
       "        -1, -1, -1, -1, -1, -1, -1, -1, -1, -1, -1, -1, -1, -1, -1, -1,\n",
       "        -1, -1, -1, -1, -1, -1, -1, -1, -1, -1, -1, -1, -1, -1, -1, -1,\n",
       "        -1, -1, -1, -1, -1, -1, -1, -1, -1, -1, -1, -1, -1, -1, -1, -1]])"
      ]
     },
     "execution_count": 345,
     "metadata": {},
     "output_type": "execute_result"
    }
   ],
   "source": [
    "pred_labels"
   ]
  },
  {
   "cell_type": "code",
   "execution_count": 346,
   "metadata": {},
   "outputs": [
    {
     "data": {
      "text/plain": [
       "<tf.Tensor: shape=(1, 128), dtype=string, numpy=\n",
       "array([[b'B', b'l', b'a', b'k', b'e', b'[UNK]', b'[UNK]', b'[UNK]',\n",
       "        b'[UNK]', b'[UNK]', b'[UNK]', b'[UNK]', b'[UNK]', b'[UNK]',\n",
       "        b'[UNK]', b'[UNK]', b'[UNK]', b'[UNK]', b'[UNK]', b'[UNK]',\n",
       "        b'[UNK]', b'[UNK]', b'[UNK]', b'[UNK]', b'[UNK]', b'[UNK]',\n",
       "        b'[UNK]', b'[UNK]', b'[UNK]', b'[UNK]', b'[UNK]', b'[UNK]',\n",
       "        b'[UNK]', b'[UNK]', b'[UNK]', b'[UNK]', b'[UNK]', b'[UNK]',\n",
       "        b'[UNK]', b'[UNK]', b'[UNK]', b'[UNK]', b'[UNK]', b'[UNK]',\n",
       "        b'[UNK]', b'[UNK]', b'[UNK]', b'[UNK]', b'[UNK]', b'[UNK]',\n",
       "        b'[UNK]', b'[UNK]', b'[UNK]', b'[UNK]', b'[UNK]', b'[UNK]',\n",
       "        b'[UNK]', b'[UNK]', b'[UNK]', b'[UNK]', b'[UNK]', b'[UNK]',\n",
       "        b'[UNK]', b'[UNK]', b'[UNK]', b'[UNK]', b'[UNK]', b'[UNK]',\n",
       "        b'[UNK]', b'[UNK]', b'[UNK]', b'[UNK]', b'[UNK]', b'[UNK]',\n",
       "        b'[UNK]', b'[UNK]', b'[UNK]', b'[UNK]', b'[UNK]', b'[UNK]',\n",
       "        b'[UNK]', b'[UNK]', b'[UNK]', b'[UNK]', b'[UNK]', b'[UNK]',\n",
       "        b'[UNK]', b'[UNK]', b'[UNK]', b'[UNK]', b'[UNK]', b'[UNK]',\n",
       "        b'[UNK]', b'[UNK]', b'[UNK]', b'[UNK]', b'[UNK]', b'[UNK]',\n",
       "        b'[UNK]', b'[UNK]', b'[UNK]', b'[UNK]', b'[UNK]', b'[UNK]',\n",
       "        b'[UNK]', b'[UNK]', b'[UNK]', b'[UNK]', b'[UNK]', b'[UNK]',\n",
       "        b'[UNK]', b'[UNK]', b'[UNK]', b'[UNK]', b'[UNK]', b'[UNK]',\n",
       "        b'[UNK]', b'[UNK]', b'[UNK]', b'[UNK]', b'[UNK]', b'[UNK]',\n",
       "        b'[UNK]', b'[UNK]', b'[UNK]', b'[UNK]', b'[UNK]', b'[UNK]']],\n",
       "      dtype=object)>"
      ]
     },
     "execution_count": 346,
     "metadata": {},
     "output_type": "execute_result"
    }
   ],
   "source": [
    "num_to_char(pred_labels)"
   ]
  },
  {
   "cell_type": "code",
   "execution_count": 13,
   "metadata": {},
   "outputs": [
    {
     "data": {
      "text/plain": [
       "['0x', 'g92FFTHFB8', 'PN1']"
      ]
     },
     "execution_count": 13,
     "metadata": {},
     "output_type": "execute_result"
    }
   ],
   "source": [
    "predict_phrase_2(np.array(img), net2, t_dist_dim)"
   ]
  },
  {
   "cell_type": "code",
   "execution_count": 14,
   "metadata": {},
   "outputs": [
    {
     "data": {
      "image/png": "[encoded data removed]",
      "text/plain": [
       "<PIL.Image.Image image mode=RGB size=180x32 at 0x1F5409037F0>"
      ]
     },
     "metadata": {},
     "output_type": "display_data"
    }
   ],
   "source": [
    "display(img)"
   ]
  },
  {
   "cell_type": "code",
   "execution_count": 15,
   "metadata": {},
   "outputs": [
    {
     "data": {
      "text/plain": [
       "['0x', 'Gq2ffthfB8', 'PN1']"
      ]
     },
     "execution_count": 15,
     "metadata": {},
     "output_type": "execute_result"
    }
   ],
   "source": [
    "predict_phrase(np.array(img), net2, t_dist_dim)"
   ]
  },
  {
   "cell_type": "code",
   "execution_count": 221,
   "metadata": {},
   "outputs": [
    {
     "name": "stdout",
     "output_type": "stream",
     "text": [
      "Lunghezza: 128\n",
      "CER 1: 23.730052000000004\n",
      "CER 2: 47.313902999999975\n",
      "WER 1: 75.5\n",
      "WER 2: 93.0\n",
      "--------------------------------------\n",
      "Lunghezza: 132\n",
      "CER 1: 21.298651999999993\n",
      "CER 2: 44.8323585\n",
      "WER 1: 72.5\n",
      "WER 2: 94.75\n",
      "--------------------------------------\n",
      "Lunghezza: 136\n",
      "CER 1: 22.297096000000007\n",
      "CER 2: 44.07246250000001\n",
      "WER 1: 73.25\n",
      "WER 2: 93.5\n",
      "--------------------------------------\n",
      "Lunghezza: 140\n",
      "CER 1: 22.28724649999999\n",
      "CER 2: 46.048128\n",
      "WER 1: 72.5\n",
      "WER 2: 95.75\n",
      "--------------------------------------\n",
      "Lunghezza: 144\n",
      "CER 1: 21.48247149999999\n",
      "CER 2: 43.14549749999999\n",
      "WER 1: 76.0\n",
      "WER 2: 94.75\n",
      "--------------------------------------\n",
      "Lunghezza: 148\n",
      "CER 1: 18.840536\n",
      "CER 2: 44.8594125\n",
      "WER 1: 65.5\n",
      "WER 2: 95.25\n",
      "--------------------------------------\n",
      "Lunghezza: 152\n",
      "CER 1: 18.7464795\n",
      "CER 2: 41.90474949999999\n",
      "WER 1: 64.75\n",
      "WER 2: 88.75\n",
      "--------------------------------------\n",
      "Lunghezza: 156\n",
      "CER 1: 20.907093500000006\n",
      "CER 2: 42.01406749999999\n",
      "WER 1: 71.5\n",
      "WER 2: 88.0\n",
      "--------------------------------------\n",
      "Lunghezza: 160\n",
      "CER 1: 19.368819000000002\n",
      "CER 2: 39.453725000000006\n",
      "WER 1: 64.25\n",
      "WER 2: 86.75\n",
      "--------------------------------------\n",
      "Lunghezza: 164\n",
      "CER 1: 19.3491715\n",
      "CER 2: 41.42436700000002\n",
      "WER 1: 68.5\n",
      "WER 2: 89.5\n",
      "--------------------------------------\n",
      "Lunghezza: 168\n",
      "CER 1: 19.850062999999995\n",
      "CER 2: 39.87698250000001\n",
      "WER 1: 65.0\n",
      "WER 2: 86.0\n",
      "--------------------------------------\n",
      "Lunghezza: 172\n",
      "CER 1: 20.818879000000006\n",
      "CER 2: 39.3588605\n",
      "WER 1: 72.5\n",
      "WER 2: 87.5\n",
      "--------------------------------------\n",
      "Lunghezza: 176\n",
      "CER 1: 19.777162\n",
      "CER 2: 40.25887200000001\n",
      "WER 1: 68.25\n",
      "WER 2: 90.25\n",
      "--------------------------------------\n",
      "Lunghezza: 180\n",
      "CER 1: 18.909535\n",
      "CER 2: 38.277782000000016\n",
      "WER 1: 66.5\n",
      "WER 2: 82.25\n",
      "--------------------------------------\n",
      "Lunghezza: 184\n",
      "CER 1: 20.790409999999998\n",
      "CER 2: 38.965840499999985\n",
      "WER 1: 67.75\n",
      "WER 2: 83.25\n",
      "--------------------------------------\n",
      "Lunghezza: 188\n",
      "CER 1: 21.531204\n",
      "CER 2: 39.610122\n",
      "WER 1: 67.5\n",
      "WER 2: 79.25\n",
      "--------------------------------------\n",
      "Lunghezza: 192\n",
      "CER 1: 22.577834500000005\n",
      "CER 2: 38.61949650000002\n",
      "WER 1: 75.75\n",
      "WER 2: 86.5\n",
      "--------------------------------------\n",
      "Lunghezza: 196\n",
      "CER 1: 23.61167200000001\n",
      "CER 2: 41.213422500000014\n",
      "WER 1: 76.75\n",
      "WER 2: 88.5\n",
      "--------------------------------------\n",
      "Lunghezza: 200\n",
      "CER 1: 24.887431500000012\n",
      "CER 2: 38.533822\n",
      "WER 1: 78.0\n",
      "WER 2: 81.0\n",
      "--------------------------------------\n",
      "Lunghezza: 204\n",
      "CER 1: 26.840095499999997\n",
      "CER 2: 36.67654400000001\n",
      "WER 1: 81.0\n",
      "WER 2: 76.5\n",
      "--------------------------------------\n",
      "Lunghezza: 208\n",
      "CER 1: 27.294392000000006\n",
      "CER 2: 37.4592895\n",
      "WER 1: 79.25\n",
      "WER 2: 83.0\n",
      "--------------------------------------\n",
      "Lunghezza: 212\n",
      "CER 1: 28.53549300000001\n",
      "CER 2: 37.74949699999999\n",
      "WER 1: 79.5\n",
      "WER 2: 80.75\n",
      "--------------------------------------\n",
      "Lunghezza: 216\n",
      "CER 1: 29.43920149999999\n",
      "CER 2: 37.9584255\n",
      "WER 1: 84.25\n",
      "WER 2: 80.5\n",
      "--------------------------------------\n",
      "Lunghezza: 220\n",
      "CER 1: 30.29814949999998\n",
      "CER 2: 35.591841500000015\n",
      "WER 1: 84.25\n",
      "WER 2: 75.25\n",
      "--------------------------------------\n",
      "Lunghezza: 224\n",
      "CER 1: 33.45195249999999\n",
      "CER 2: 34.3146175\n",
      "WER 1: 89.0\n",
      "WER 2: 80.0\n",
      "--------------------------------------\n",
      "Lunghezza: 228\n",
      "CER 1: 34.51094450000002\n",
      "CER 2: 37.651240999999985\n",
      "WER 1: 89.25\n",
      "WER 2: 79.75\n",
      "--------------------------------------\n",
      "Lunghezza: 232\n",
      "CER 1: 36.383275000000005\n",
      "CER 2: 38.88588549999999\n",
      "WER 1: 89.5\n",
      "WER 2: 85.5\n",
      "--------------------------------------\n",
      "Lunghezza: 236\n",
      "CER 1: 38.274305000000005\n",
      "CER 2: 38.68720449999999\n",
      "WER 1: 90.75\n",
      "WER 2: 84.75\n",
      "--------------------------------------\n",
      "Lunghezza: 240\n",
      "CER 1: 40.636590500000025\n",
      "CER 2: 39.21502950000001\n",
      "WER 1: 96.5\n",
      "WER 2: 80.75\n",
      "--------------------------------------\n",
      "Lunghezza: 244\n",
      "CER 1: 40.45778150000002\n",
      "CER 2: 39.90378000000002\n",
      "WER 1: 98.5\n",
      "WER 2: 86.75\n",
      "--------------------------------------\n",
      "Lunghezza: 248\n",
      "CER 1: 41.53610250000001\n",
      "CER 2: 37.955572000000004\n",
      "WER 1: 97.0\n",
      "WER 2: 82.75\n",
      "--------------------------------------\n",
      "Lunghezza: 252\n",
      "CER 1: 44.122976\n",
      "CER 2: 37.93119550000001\n",
      "WER 1: 103.75\n",
      "WER 2: 82.75\n",
      "--------------------------------------\n",
      "Lunghezza: 256\n",
      "CER 1: 41.403554500000034\n",
      "CER 2: 38.22202450000001\n",
      "WER 1: 101.5\n",
      "WER 2: 86.25\n",
      "--------------------------------------\n",
      "Lunghezza: 260\n",
      "CER 1: 47.55590900000002\n",
      "CER 2: 39.127466999999996\n",
      "WER 1: 107.5\n",
      "WER 2: 85.75\n",
      "--------------------------------------\n",
      "Lunghezza: 264\n",
      "CER 1: 48.04650450000001\n",
      "CER 2: 37.87489399999999\n",
      "WER 1: 100.5\n",
      "WER 2: 80.75\n",
      "--------------------------------------\n",
      "Lunghezza: 268\n",
      "CER 1: 47.69285350000002\n",
      "CER 2: 37.08725199999999\n",
      "WER 1: 99.75\n",
      "WER 2: 78.25\n",
      "--------------------------------------\n",
      "Lunghezza: 272\n",
      "CER 1: 50.19449699999999\n",
      "CER 2: 38.027108500000004\n",
      "WER 1: 103.5\n",
      "WER 2: 82.5\n",
      "--------------------------------------\n",
      "Lunghezza: 276\n",
      "CER 1: 50.9097905\n",
      "CER 2: 36.48073700000001\n",
      "WER 1: 102.25\n",
      "WER 2: 80.25\n",
      "--------------------------------------\n",
      "Lunghezza: 280\n",
      "CER 1: 52.834123499999976\n",
      "CER 2: 37.3077725\n",
      "WER 1: 108.75\n",
      "WER 2: 85.5\n",
      "--------------------------------------\n",
      "Lunghezza: 284\n",
      "CER 1: 54.539160999999964\n",
      "CER 2: 38.5475025\n",
      "WER 1: 103.5\n",
      "WER 2: 80.5\n",
      "--------------------------------------\n",
      "Lunghezza: 288\n",
      "CER 1: 54.791197000000004\n",
      "CER 2: 36.771614499999984\n",
      "WER 1: 105.0\n",
      "WER 2: 82.0\n",
      "--------------------------------------\n",
      "Lunghezza: 292\n",
      "CER 1: 55.23962849999996\n",
      "CER 2: 38.2629785\n",
      "WER 1: 104.5\n",
      "WER 2: 78.5\n",
      "--------------------------------------\n",
      "Lunghezza: 296\n",
      "CER 1: 58.18088949999998\n",
      "CER 2: 37.678231000000004\n",
      "WER 1: 110.75\n",
      "WER 2: 80.25\n",
      "--------------------------------------\n",
      "Lunghezza: 300\n",
      "CER 1: 59.18302950000001\n",
      "CER 2: 37.518397500000006\n",
      "WER 1: 109.5\n",
      "WER 2: 83.0\n",
      "--------------------------------------\n",
      "Lunghezza: 304\n",
      "CER 1: 61.34917600000003\n",
      "CER 2: 39.738669\n",
      "WER 1: 107.5\n",
      "WER 2: 83.5\n",
      "--------------------------------------\n",
      "Lunghezza: 308\n",
      "CER 1: 61.58098350000002\n",
      "CER 2: 36.590479500000015\n",
      "WER 1: 109.0\n",
      "WER 2: 80.25\n",
      "--------------------------------------\n",
      "Lunghezza: 312\n",
      "CER 1: 62.031390999999985\n",
      "CER 2: 38.9078845\n",
      "WER 1: 107.5\n",
      "WER 2: 82.25\n",
      "--------------------------------------\n",
      "Lunghezza: 316\n",
      "CER 1: 64.145248\n",
      "CER 2: 37.5493705\n",
      "WER 1: 111.75\n",
      "WER 2: 81.75\n",
      "--------------------------------------\n",
      "Lunghezza: 320\n",
      "CER 1: 65.6542575\n",
      "CER 2: 37.18720750000001\n",
      "WER 1: 114.5\n",
      "WER 2: 84.0\n",
      "--------------------------------------\n",
      "Lunghezza: 324\n",
      "CER 1: 64.89256599999999\n",
      "CER 2: 38.1905675\n",
      "WER 1: 105.25\n",
      "WER 2: 79.0\n",
      "--------------------------------------\n",
      "Lunghezza: 328\n",
      "CER 1: 67.05791149999997\n",
      "CER 2: 39.15130750000001\n",
      "WER 1: 112.75\n",
      "WER 2: 85.0\n",
      "--------------------------------------\n",
      "Lunghezza: 332\n",
      "CER 1: 66.09459950000002\n",
      "CER 2: 35.67485600000001\n",
      "WER 1: 106.5\n",
      "WER 2: 75.5\n",
      "--------------------------------------\n",
      "Lunghezza: 336\n",
      "CER 1: 69.4282585\n",
      "CER 2: 36.798819000000016\n",
      "WER 1: 114.25\n",
      "WER 2: 81.75\n",
      "--------------------------------------\n",
      "Lunghezza: 340\n",
      "CER 1: 69.10821349999998\n",
      "CER 2: 36.16879750000002\n",
      "WER 1: 106.25\n",
      "WER 2: 78.5\n",
      "--------------------------------------\n",
      "Lunghezza: 344\n",
      "CER 1: 71.021592\n",
      "CER 2: 38.270082499999994\n",
      "WER 1: 112.5\n",
      "WER 2: 84.5\n",
      "--------------------------------------\n",
      "Lunghezza: 348\n",
      "CER 1: 71.58267249999999\n",
      "CER 2: 37.76815799999999\n",
      "WER 1: 106.25\n",
      "WER 2: 77.75\n",
      "--------------------------------------\n",
      "Lunghezza: 352\n",
      "CER 1: 71.77045849999998\n",
      "CER 2: 36.12831900000002\n",
      "WER 1: 109.5\n",
      "WER 2: 78.75\n",
      "--------------------------------------\n",
      "Lunghezza: 356\n",
      "CER 1: 72.94483249999999\n",
      "CER 2: 37.413943999999994\n",
      "WER 1: 111.5\n",
      "WER 2: 80.0\n",
      "--------------------------------------\n",
      "Lunghezza: 360\n",
      "CER 1: 74.40900249999997\n",
      "CER 2: 37.54749000000001\n",
      "WER 1: 111.0\n",
      "WER 2: 79.5\n",
      "--------------------------------------\n",
      "Lunghezza: 364\n",
      "CER 1: 73.60012699999999\n",
      "CER 2: 37.16047250000003\n",
      "WER 1: 111.25\n",
      "WER 2: 82.25\n",
      "--------------------------------------\n",
      "Lunghezza: 368\n",
      "CER 1: 73.47559900000002\n",
      "CER 2: 38.9167535\n",
      "WER 1: 110.5\n",
      "WER 2: 81.25\n",
      "--------------------------------------\n",
      "Lunghezza: 372\n",
      "CER 1: 75.41823949999994\n",
      "CER 2: 34.64048749999998\n",
      "WER 1: 108.5\n",
      "WER 2: 78.25\n",
      "--------------------------------------\n",
      "Lunghezza: 376\n",
      "CER 1: 76.19913399999994\n",
      "CER 2: 38.20850700000001\n",
      "WER 1: 111.5\n",
      "WER 2: 81.75\n",
      "--------------------------------------\n",
      "Lunghezza: 380\n",
      "CER 1: 77.50715299999999\n",
      "CER 2: 37.413682000000016\n",
      "WER 1: 114.0\n",
      "WER 2: 82.75\n",
      "--------------------------------------\n",
      "Lunghezza: 384\n",
      "CER 1: 78.43313149999999\n",
      "CER 2: 38.806200499999974\n",
      "WER 1: 113.75\n",
      "WER 2: 85.5\n",
      "--------------------------------------\n",
      "Lunghezza: 388\n",
      "CER 1: 78.27015699999994\n",
      "CER 2: 38.408275499999995\n",
      "WER 1: 108.25\n",
      "WER 2: 77.25\n",
      "--------------------------------------\n",
      "Lunghezza: 392\n",
      "CER 1: 77.29039199999998\n",
      "CER 2: 36.0957115\n",
      "WER 1: 113.0\n",
      "WER 2: 79.5\n",
      "--------------------------------------\n",
      "Lunghezza: 396\n",
      "CER 1: 79.91017499999997\n",
      "CER 2: 39.56857950000001\n",
      "WER 1: 109.75\n",
      "WER 2: 80.25\n",
      "--------------------------------------\n",
      "Lunghezza: 400\n",
      "CER 1: 78.54964549999998\n",
      "CER 2: 35.53603350000001\n",
      "WER 1: 108.5\n",
      "WER 2: 74.25\n",
      "--------------------------------------\n",
      "Lunghezza: 404\n",
      "CER 1: 80.47070499999998\n",
      "CER 2: 37.46216750000001\n",
      "WER 1: 112.75\n",
      "WER 2: 83.0\n",
      "--------------------------------------\n",
      "Lunghezza: 408\n",
      "CER 1: 80.80388499999998\n",
      "CER 2: 36.933044499999994\n",
      "WER 1: 115.5\n",
      "WER 2: 83.75\n",
      "--------------------------------------\n"
     ]
    },
    {
     "ename": "ValueError",
     "evalue": "Expect x to be a non-empty array or dataset.",
     "output_type": "error",
     "traceback": [
      "\u001b[1;31m---------------------------------------------------------------------------\u001b[0m",
      "\u001b[1;31mValueError\u001b[0m                                Traceback (most recent call last)",
      "\u001b[1;32m<ipython-input-221-a1c51befb8da>\u001b[0m in \u001b[0;36m<module>\u001b[1;34m\u001b[0m\n\u001b[0;32m      7\u001b[0m     \u001b[0mbase_generator\u001b[0m \u001b[1;33m=\u001b[0m \u001b[0mGeneratorFromRandom\u001b[0m\u001b[1;33m(\u001b[0m\u001b[0muse_symbols\u001b[0m\u001b[1;33m=\u001b[0m\u001b[1;32mFalse\u001b[0m\u001b[1;33m,\u001b[0m \u001b[0muse_letters\u001b[0m\u001b[1;33m=\u001b[0m\u001b[1;32mTrue\u001b[0m\u001b[1;33m,\u001b[0m \u001b[0mlength\u001b[0m \u001b[1;33m=\u001b[0m \u001b[1;36m2\u001b[0m\u001b[1;33m,\u001b[0m \u001b[0mwidth\u001b[0m\u001b[1;33m=\u001b[0m\u001b[0mw\u001b[0m\u001b[1;33m,\u001b[0m \u001b[0msize\u001b[0m\u001b[1;33m=\u001b[0m\u001b[1;36m32\u001b[0m\u001b[1;33m,\u001b[0m \u001b[0mspace_width\u001b[0m\u001b[1;33m=\u001b[0m\u001b[1;36m2.0\u001b[0m\u001b[1;33m)\u001b[0m\u001b[1;33m\u001b[0m\u001b[1;33m\u001b[0m\u001b[0m\n\u001b[0;32m      8\u001b[0m     \u001b[0mtest_imgs\u001b[0m\u001b[1;33m,\u001b[0m \u001b[0mtest_labels\u001b[0m \u001b[1;33m=\u001b[0m \u001b[0mgenerate_testset\u001b[0m\u001b[1;33m(\u001b[0m\u001b[1;36m200\u001b[0m\u001b[1;33m,\u001b[0m \u001b[0mbase_generator\u001b[0m\u001b[1;33m)\u001b[0m\u001b[1;33m\u001b[0m\u001b[1;33m\u001b[0m\u001b[0m\n\u001b[1;32m----> 9\u001b[1;33m     \u001b[0mtest_preds_1\u001b[0m \u001b[1;33m=\u001b[0m \u001b[0mpredict_phrases\u001b[0m\u001b[1;33m(\u001b[0m\u001b[0mnet2\u001b[0m\u001b[1;33m,\u001b[0m \u001b[0mtest_imgs\u001b[0m\u001b[1;33m,\u001b[0m \u001b[0mt_dist_dim\u001b[0m\u001b[1;33m)\u001b[0m\u001b[1;33m\u001b[0m\u001b[1;33m\u001b[0m\u001b[0m\n\u001b[0m\u001b[0;32m     10\u001b[0m     \u001b[0mtest_preds_2\u001b[0m \u001b[1;33m=\u001b[0m \u001b[0mpredict_phrases_2\u001b[0m\u001b[1;33m(\u001b[0m\u001b[0mnet2\u001b[0m\u001b[1;33m,\u001b[0m \u001b[0mtest_imgs\u001b[0m\u001b[1;33m,\u001b[0m \u001b[0mt_dist_dim\u001b[0m\u001b[1;33m)\u001b[0m\u001b[1;33m\u001b[0m\u001b[1;33m\u001b[0m\u001b[0m\n\u001b[0;32m     11\u001b[0m     \u001b[0mtest_score_1_cer\u001b[0m \u001b[1;33m=\u001b[0m \u001b[1;36m0\u001b[0m\u001b[1;33m\u001b[0m\u001b[1;33m\u001b[0m\u001b[0m\n",
      "\u001b[1;32m<ipython-input-82-343a51203627>\u001b[0m in \u001b[0;36mpredict_phrases\u001b[1;34m(net, imgs, t_dist_dim)\u001b[0m\n\u001b[0;32m    111\u001b[0m     \u001b[0mpreds\u001b[0m \u001b[1;33m=\u001b[0m \u001b[1;33m[\u001b[0m\u001b[1;33m]\u001b[0m\u001b[1;33m\u001b[0m\u001b[1;33m\u001b[0m\u001b[0m\n\u001b[0;32m    112\u001b[0m     \u001b[1;32mfor\u001b[0m \u001b[0mim\u001b[0m \u001b[1;32min\u001b[0m \u001b[0mimgs\u001b[0m\u001b[1;33m:\u001b[0m\u001b[1;33m\u001b[0m\u001b[1;33m\u001b[0m\u001b[0m\n\u001b[1;32m--> 113\u001b[1;33m         \u001b[0mpred\u001b[0m \u001b[1;33m=\u001b[0m \u001b[0mpredict_phrase\u001b[0m\u001b[1;33m(\u001b[0m\u001b[0mim\u001b[0m\u001b[1;33m,\u001b[0m \u001b[0mnet\u001b[0m\u001b[1;33m,\u001b[0m \u001b[0mt_dist_dim\u001b[0m\u001b[1;33m)\u001b[0m\u001b[1;33m\u001b[0m\u001b[1;33m\u001b[0m\u001b[0m\n\u001b[0m\u001b[0;32m    114\u001b[0m         \u001b[0mpreds\u001b[0m\u001b[1;33m.\u001b[0m\u001b[0mappend\u001b[0m\u001b[1;33m(\u001b[0m\u001b[0mphrase_prediction_to_string\u001b[0m\u001b[1;33m(\u001b[0m\u001b[0mpred\u001b[0m\u001b[1;33m)\u001b[0m\u001b[1;33m)\u001b[0m\u001b[1;33m\u001b[0m\u001b[1;33m\u001b[0m\u001b[0m\n\u001b[0;32m    115\u001b[0m     \u001b[1;32mreturn\u001b[0m \u001b[0mpreds\u001b[0m\u001b[1;33m\u001b[0m\u001b[1;33m\u001b[0m\u001b[0m\n",
      "\u001b[1;32m<ipython-input-82-343a51203627>\u001b[0m in \u001b[0;36mpredict_phrase\u001b[1;34m(phrase_img, net, tdist_dim)\u001b[0m\n\u001b[0;32m     85\u001b[0m         \u001b[0mwords\u001b[0m\u001b[1;33m.\u001b[0m\u001b[0mappend\u001b[0m\u001b[1;33m(\u001b[0m\u001b[0mmasked_img\u001b[0m\u001b[1;33m)\u001b[0m\u001b[1;33m\u001b[0m\u001b[1;33m\u001b[0m\u001b[0m\n\u001b[0;32m     86\u001b[0m \u001b[1;33m\u001b[0m\u001b[0m\n\u001b[1;32m---> 87\u001b[1;33m     \u001b[1;32mreturn\u001b[0m \u001b[0mpredict_text\u001b[0m\u001b[1;33m(\u001b[0m\u001b[0mnp\u001b[0m\u001b[1;33m.\u001b[0m\u001b[0marray\u001b[0m\u001b[1;33m(\u001b[0m\u001b[0mwords\u001b[0m\u001b[1;33m)\u001b[0m\u001b[1;33m,\u001b[0m \u001b[0mnet\u001b[0m\u001b[1;33m,\u001b[0m \u001b[0mtdist_dim\u001b[0m\u001b[1;33m)\u001b[0m\u001b[1;33m\u001b[0m\u001b[1;33m\u001b[0m\u001b[0m\n\u001b[0m\u001b[0;32m     88\u001b[0m \u001b[1;33m\u001b[0m\u001b[0m\n\u001b[0;32m     89\u001b[0m \u001b[1;33m\u001b[0m\u001b[0m\n",
      "\u001b[1;32m<ipython-input-82-343a51203627>\u001b[0m in \u001b[0;36mpredict_text\u001b[1;34m(imgs, net, t_dist_dim)\u001b[0m\n\u001b[0;32m     40\u001b[0m         \u001b[0mimgs\u001b[0m \u001b[1;33m=\u001b[0m \u001b[0mnp\u001b[0m\u001b[1;33m.\u001b[0m\u001b[0mexpand_dims\u001b[0m\u001b[1;33m(\u001b[0m\u001b[0mimgs\u001b[0m\u001b[1;33m,\u001b[0m \u001b[0maxis\u001b[0m\u001b[1;33m=\u001b[0m\u001b[1;36m0\u001b[0m\u001b[1;33m)\u001b[0m\u001b[1;33m\u001b[0m\u001b[1;33m\u001b[0m\u001b[0m\n\u001b[0;32m     41\u001b[0m     \u001b[0mt_dim\u001b[0m \u001b[1;33m=\u001b[0m \u001b[0mnp\u001b[0m\u001b[1;33m.\u001b[0m\u001b[0mfull\u001b[0m\u001b[1;33m(\u001b[0m\u001b[1;33m(\u001b[0m\u001b[0mimgs\u001b[0m\u001b[1;33m.\u001b[0m\u001b[0mshape\u001b[0m\u001b[1;33m[\u001b[0m\u001b[1;36m0\u001b[0m\u001b[1;33m]\u001b[0m\u001b[1;33m,\u001b[0m\u001b[1;33m)\u001b[0m\u001b[1;33m,\u001b[0m \u001b[0mt_dist_dim\u001b[0m\u001b[1;33m)\u001b[0m\u001b[1;33m\u001b[0m\u001b[1;33m\u001b[0m\u001b[0m\n\u001b[1;32m---> 42\u001b[1;33m     \u001b[0mpred_tensor\u001b[0m\u001b[1;33m,\u001b[0m \u001b[0m_\u001b[0m \u001b[1;33m=\u001b[0m \u001b[0mdecode_ctc\u001b[0m\u001b[1;33m(\u001b[0m\u001b[1;33m[\u001b[0m\u001b[0mnet\u001b[0m\u001b[1;33m.\u001b[0m\u001b[0mpredict\u001b[0m\u001b[1;33m(\u001b[0m\u001b[0mimgs\u001b[0m\u001b[1;33m)\u001b[0m\u001b[1;33m,\u001b[0m \u001b[0mt_dim\u001b[0m\u001b[1;33m]\u001b[0m\u001b[1;33m)\u001b[0m\u001b[1;33m\u001b[0m\u001b[1;33m\u001b[0m\u001b[0m\n\u001b[0m\u001b[0;32m     43\u001b[0m     \u001b[0mpred_labels\u001b[0m \u001b[1;33m=\u001b[0m \u001b[0mtf\u001b[0m\u001b[1;33m.\u001b[0m\u001b[0mkeras\u001b[0m\u001b[1;33m.\u001b[0m\u001b[0mbackend\u001b[0m\u001b[1;33m.\u001b[0m\u001b[0mget_value\u001b[0m\u001b[1;33m(\u001b[0m\u001b[0mpred_tensor\u001b[0m\u001b[1;33m[\u001b[0m\u001b[1;36m0\u001b[0m\u001b[1;33m]\u001b[0m\u001b[1;33m)\u001b[0m\u001b[1;33m\u001b[0m\u001b[1;33m\u001b[0m\u001b[0m\n\u001b[0;32m     44\u001b[0m     \u001b[1;32mreturn\u001b[0m \u001b[0mencoding_to_label\u001b[0m\u001b[1;33m(\u001b[0m\u001b[0mnum_to_char\u001b[0m\u001b[1;33m(\u001b[0m\u001b[0mpred_labels\u001b[0m\u001b[1;33m)\u001b[0m\u001b[1;33m)\u001b[0m\u001b[1;33m\u001b[0m\u001b[1;33m\u001b[0m\u001b[0m\n",
      "\u001b[1;32mc:\\users\\gpepp\\appdata\\local\\programs\\python\\python38\\lib\\site-packages\\tensorflow\\python\\keras\\engine\\training.py\u001b[0m in \u001b[0;36mpredict\u001b[1;34m(self, x, batch_size, verbose, steps, callbacks, max_queue_size, workers, use_multiprocessing)\u001b[0m\n\u001b[0;32m   1762\u001b[0m             \u001b[0mcallbacks\u001b[0m\u001b[1;33m.\u001b[0m\u001b[0mon_predict_batch_end\u001b[0m\u001b[1;33m(\u001b[0m\u001b[0mend_step\u001b[0m\u001b[1;33m,\u001b[0m \u001b[1;33m{\u001b[0m\u001b[1;34m'outputs'\u001b[0m\u001b[1;33m:\u001b[0m \u001b[0mbatch_outputs\u001b[0m\u001b[1;33m}\u001b[0m\u001b[1;33m)\u001b[0m\u001b[1;33m\u001b[0m\u001b[1;33m\u001b[0m\u001b[0m\n\u001b[0;32m   1763\u001b[0m       \u001b[1;32mif\u001b[0m \u001b[0mbatch_outputs\u001b[0m \u001b[1;32mis\u001b[0m \u001b[1;32mNone\u001b[0m\u001b[1;33m:\u001b[0m\u001b[1;33m\u001b[0m\u001b[1;33m\u001b[0m\u001b[0m\n\u001b[1;32m-> 1764\u001b[1;33m         \u001b[1;32mraise\u001b[0m \u001b[0mValueError\u001b[0m\u001b[1;33m(\u001b[0m\u001b[1;34m'Expect x to be a non-empty array or dataset.'\u001b[0m\u001b[1;33m)\u001b[0m\u001b[1;33m\u001b[0m\u001b[1;33m\u001b[0m\u001b[0m\n\u001b[0m\u001b[0;32m   1765\u001b[0m       \u001b[0mcallbacks\u001b[0m\u001b[1;33m.\u001b[0m\u001b[0mon_predict_end\u001b[0m\u001b[1;33m(\u001b[0m\u001b[1;33m)\u001b[0m\u001b[1;33m\u001b[0m\u001b[1;33m\u001b[0m\u001b[0m\n\u001b[0;32m   1766\u001b[0m     \u001b[0mall_outputs\u001b[0m \u001b[1;33m=\u001b[0m \u001b[0mnest\u001b[0m\u001b[1;33m.\u001b[0m\u001b[0mmap_structure_up_to\u001b[0m\u001b[1;33m(\u001b[0m\u001b[0mbatch_outputs\u001b[0m\u001b[1;33m,\u001b[0m \u001b[0mconcat\u001b[0m\u001b[1;33m,\u001b[0m \u001b[0moutputs\u001b[0m\u001b[1;33m)\u001b[0m\u001b[1;33m\u001b[0m\u001b[1;33m\u001b[0m\u001b[0m\n",
      "\u001b[1;31mValueError\u001b[0m: Expect x to be a non-empty array or dataset."
     ]
    }
   ],
   "source": [
    "ws = [i for i in range(128, 500, 4)]\n",
    "test_scores_1_cer = []\n",
    "test_scores_2_cer = []\n",
    "test_scores_1_wer = []\n",
    "test_scores_2_wer = []\n",
    "for w in ws:\n",
    "    base_generator = GeneratorFromRandom(use_symbols=False, use_letters=True, length = 2, width=w, size=32, space_width=2.0)\n",
    "    test_imgs, test_labels = generate_testset(200, base_generator)\n",
    "    test_preds_1 = predict_phrases(net2, test_imgs, t_dist_dim)\n",
    "    test_preds_2 = predict_phrases_2(net2, test_imgs, t_dist_dim)\n",
    "    test_score_1_cer = 0\n",
    "    test_score_1_wer = 0\n",
    "    test_score_2_cer = 0\n",
    "    test_score_2_wer = 0\n",
    "    for i in range(len(test_preds_1)):\n",
    "        test_score_1_cer += fastwer.score_sent(test_preds_1[i], test_labels[i], char_level=True)\n",
    "        test_score_2_cer += fastwer.score_sent(test_preds_2[i], test_labels[i], char_level=True)\n",
    "        test_score_1_wer += fastwer.score_sent(test_preds_1[i], test_labels[i], char_level=False)\n",
    "        test_score_2_wer += fastwer.score_sent(test_preds_2[i], test_labels[i], char_level=False)\n",
    "    test_score_1_cer = test_score_1_cer / len(test_preds_1)\n",
    "    test_score_2_cer = test_score_2_cer / len(test_preds_1)\n",
    "    test_score_1_wer = test_score_1_wer / len(test_preds_1)\n",
    "    test_score_2_wer = test_score_2_wer / len(test_preds_1)\n",
    "    test_scores_1_cer.append(test_score_1_cer)\n",
    "    test_scores_2_cer.append(test_score_2_cer)\n",
    "    test_scores_1_wer.append(test_score_1_wer)\n",
    "    test_scores_2_wer.append(test_score_2_wer)\n",
    "    print('Lunghezza: ' + str(w))\n",
    "    print('CER 1: ' + str(test_score_1_cer))\n",
    "    print('CER 2: ' + str(test_score_2_cer))\n",
    "    print('WER 1: ' + str(test_score_1_wer))\n",
    "    print('WER 2: ' + str(test_score_2_wer))\n",
    "    print('--------------------------------------')"
   ]
  },
  {
   "cell_type": "code",
   "execution_count": 208,
   "metadata": {},
   "outputs": [],
   "source": [
    "def smooth(y, box_pts):\n",
    "    box = np.ones(box_pts)/box_pts\n",
    "    y_smooth = np.convolve(y, box, mode='same')\n",
    "    return y_smooth"
   ]
  },
  {
   "cell_type": "code",
   "execution_count": 225,
   "metadata": {},
   "outputs": [],
   "source": [
    "ws = [i for i in range(128, 409, 4)]"
   ]
  },
  {
   "cell_type": "code",
   "execution_count": 227,
   "metadata": {},
   "outputs": [
    {
     "data": {
      "image/png": "[encoded data removed]",
      "text/plain": [
       "<Figure size 432x288 with 1 Axes>"
      ]
     },
     "metadata": {
      "needs_background": "light"
     },
     "output_type": "display_data"
    }
   ],
   "source": [
    "plt.plot(ws, test_scores_1_cer, label='CER primo metodo')\n",
    "plt.plot(ws, test_scores_2_cer, label='CER secondo metodo')\n",
    "plt.xlabel('Larghezza immagine')\n",
    "plt.ylabel('CER media (200 immagini)')\n",
    "plt.legend()\n",
    "plt.show()"
   ]
  },
  {
   "cell_type": "code",
   "execution_count": 228,
   "metadata": {},
   "outputs": [
    {
     "data": {
      "image/png": "[encoded data removed]",
      "text/plain": [
       "<Figure size 432x288 with 1 Axes>"
      ]
     },
     "metadata": {
      "needs_background": "light"
     },
     "output_type": "display_data"
    }
   ],
   "source": [
    "from statsmodels.nonparametric.kernel_regression import KernelReg\n",
    "kr1 = KernelReg(test_scores_1_cer,ws,'c')\n",
    "kr2 = KernelReg(test_scores_2_cer,ws,'c')\n",
    "y_pred_1, y_std_1 = kr1.fit(ws)\n",
    "y_pred_2, y_std_2 = kr2.fit(ws)\n",
    "\n",
    "plt.plot(ws, y_pred_1, label='CER primo metodo')\n",
    "plt.plot(ws, y_pred_2, label='CER secondo metodo')\n",
    "plt.xlabel('Larghezza immagine')\n",
    "plt.ylabel('CER media (200 immagini)')\n",
    "plt.legend()\n",
    "plt.show()"
   ]
  },
  {
   "cell_type": "code",
   "execution_count": 210,
   "metadata": {},
   "outputs": [
    {
     "data": {
      "image/png": "[encoded data removed]",
      "text/plain": [
       "<Figure size 432x288 with 1 Axes>"
      ]
     },
     "metadata": {
      "needs_background": "light"
     },
     "output_type": "display_data"
    }
   ],
   "source": [
    "plt.plot(ws, smooth(test_scores_1_cer, 19), label='CER primo metodo')\n",
    "plt.plot(ws, smooth(test_scores_2_cer, 19), label='CER secondo metodo')\n",
    "plt.legend()\n",
    "plt.show()"
   ]
  },
  {
   "cell_type": "code",
   "execution_count": 231,
   "metadata": {},
   "outputs": [
    {
     "data": {
      "image/png": "[encoded data removed]",
      "text/plain": [
       "<Figure size 432x288 with 1 Axes>"
      ]
     },
     "metadata": {
      "needs_background": "light"
     },
     "output_type": "display_data"
    }
   ],
   "source": [
    "plt.plot(ws, test_scores_1_wer, label='WER primo metodo')\n",
    "plt.plot(ws, test_scores_2_wer, label='WER secondo metodo')\n",
    "plt.xlabel('Larghezza immagine')\n",
    "plt.ylabel('WER media (200 immagini)')\n",
    "plt.legend()\n",
    "plt.show()"
   ]
  },
  {
   "cell_type": "code",
   "execution_count": 232,
   "metadata": {},
   "outputs": [
    {
     "data": {
      "image/png": "[encoded data removed]",
      "text/plain": [
       "<Figure size 432x288 with 1 Axes>"
      ]
     },
     "metadata": {
      "needs_background": "light"
     },
     "output_type": "display_data"
    }
   ],
   "source": [
    "from statsmodels.nonparametric.kernel_regression import KernelReg\n",
    "kr1 = KernelReg(test_scores_1_wer,ws,'c')\n",
    "kr2 = KernelReg(test_scores_2_wer,ws,'c')\n",
    "y_pred_1, y_std_1 = kr1.fit(ws)\n",
    "y_pred_2, y_std_2 = kr2.fit(ws)\n",
    "\n",
    "plt.plot(ws, y_pred_1, label='WER primo metodo')\n",
    "plt.plot(ws, y_pred_2, label='WER secondo metodo')\n",
    "plt.xlabel('Larghezza immagine')\n",
    "plt.ylabel('WER media (200 immagini)')\n",
    "plt.legend()\n",
    "plt.show()"
   ]
  },
  {
   "cell_type": "code",
   "execution_count": 195,
   "metadata": {},
   "outputs": [],
   "source": [
    "base_generator = GeneratorFromRandom(use_symbols=False, use_letters=True, length = 1, width=128, size=32)"
   ]
  },
  {
   "cell_type": "code",
   "execution_count": 196,
   "metadata": {},
   "outputs": [],
   "source": [
    "test_imgs, test_labels = generate_testset(10, base_generator)"
   ]
  },
  {
   "cell_type": "code",
   "execution_count": 197,
   "metadata": {},
   "outputs": [],
   "source": [
    "preds, labels = predict_random_phrase_1(net2, base_generator, 10, t_dist_dim)"
   ]
  },
  {
   "cell_type": "code",
   "execution_count": 207,
   "metadata": {},
   "outputs": [
    {
     "data": {
      "text/plain": [
       "['SR']"
      ]
     },
     "execution_count": 207,
     "metadata": {},
     "output_type": "execute_result"
    }
   ],
   "source": [
    "predict_phrase(test_imgs[4], net2, t_dist_dim) "
   ]
  },
  {
   "cell_type": "code",
   "execution_count": 79,
   "metadata": {},
   "outputs": [
    {
     "data": {
      "text/plain": [
       "(32, 200, 3)"
      ]
     },
     "execution_count": 79,
     "metadata": {},
     "output_type": "execute_result"
    }
   ],
   "source": [
    "np.array(test_imgs[0]).shape"
   ]
  },
  {
   "cell_type": "code",
   "execution_count": 77,
   "metadata": {},
   "outputs": [],
   "source": [
    "import matplotlib.pyplot as plt"
   ]
  },
  {
   "cell_type": "code",
   "execution_count": 206,
   "metadata": {},
   "outputs": [
    {
     "data": {
      "image/png": "[encoded data removed]",
      "text/plain": [
       "<PIL.Image.Image image mode=RGB size=128x32 at 0x1F3807B8820>"
      ]
     },
     "execution_count": 206,
     "metadata": {},
     "output_type": "execute_result"
    }
   ],
   "source": [
    "test_imgs[4]"
   ]
  },
  {
   "cell_type": "code",
   "execution_count": 170,
   "metadata": {},
   "outputs": [],
   "source": [
    "test_imgs, test_labels = generate_testset(10, base_generator)"
   ]
  },
  {
   "cell_type": "code",
   "execution_count": 181,
   "metadata": {},
   "outputs": [],
   "source": [
    "test_preds_2 = predict_phrases(net2, test_imgs, t_dist_dim)"
   ]
  },
  {
   "cell_type": "code",
   "execution_count": 182,
   "metadata": {},
   "outputs": [
    {
     "data": {
      "text/plain": [
       "['Aq BoEihW5DH8',\n",
       " 'dtmVm9 t6o',\n",
       " 'H9FX dIVDmlUc',\n",
       " 'Z9xy 3vn',\n",
       " 'zPanIDWPW fY5YvhS4N',\n",
       " 'Kr6C 4s',\n",
       " '8Y A14',\n",
       " 'bR ZDr6yn3S',\n",
       " '9MEE1uHvT 7fm5sz',\n",
       " 'MVf eyHv7']"
      ]
     },
     "execution_count": 182,
     "metadata": {},
     "output_type": "execute_result"
    }
   ],
   "source": [
    "test_labels"
   ]
  },
  {
   "cell_type": "code",
   "execution_count": 183,
   "metadata": {},
   "outputs": [
    {
     "data": {
      "text/plain": [
       "['hapofnwspro',\n",
       " '4tmvm9eso',\n",
       " 'r9fxgIvpnIve',\n",
       " '49ryvn',\n",
       " 'ipanipwpwfysvvnshn',\n",
       " 'xrbc 4s',\n",
       " 'pvAHa',\n",
       " 'nm9',\n",
       " '',\n",
       " 'mvfeYhv']"
      ]
     },
     "execution_count": 183,
     "metadata": {},
     "output_type": "execute_result"
    }
   ],
   "source": [
    "test_preds_2"
   ]
  },
  {
   "cell_type": "code",
   "execution_count": 177,
   "metadata": {},
   "outputs": [
    {
     "data": {
      "image/png": "[encoded data removed]",
      "text/plain": [
       "<PIL.Image.Image image mode=RGB size=128x32 at 0x1F384387610>"
      ]
     },
     "execution_count": 177,
     "metadata": {},
     "output_type": "execute_result"
    }
   ],
   "source": [
    "test_imgs[5]"
   ]
  },
  {
   "cell_type": "code",
   "execution_count": null,
   "metadata": {},
   "outputs": [],
   "source": []
  }
 ],
 "metadata": {
  "kernelspec": {
   "display_name": "Python 3",
   "language": "python",
   "name": "python3"
  },
  "language_info": {
   "codemirror_mode": {
    "name": "ipython",
    "version": 3
   },
   "file_extension": ".py",
   "mimetype": "text/x-python",
   "name": "python",
   "nbconvert_exporter": "python",
   "pygments_lexer": "ipython3",
   "version": "3.8.2"
  }
 },
 "nbformat": 4,
 "nbformat_minor": 4
}
