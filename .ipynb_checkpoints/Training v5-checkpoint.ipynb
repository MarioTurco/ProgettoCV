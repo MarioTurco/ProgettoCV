{
 "cells": [
  {
   "cell_type": "code",
   "execution_count": 1,
   "metadata": {},
   "outputs": [
    {
     "name": "stdout",
     "output_type": "stream",
     "text": [
      "setGPU: Setting GPU to: 1\n"
     ]
    }
   ],
   "source": [
    "import numpy as np\n",
    "from model import *\n",
    "import tensorflow as tf\n",
    "import setGPU\n",
    "#strategy = tf.distribute.MirroredStrategy([\"GPU:0\", \"GPU:1\"])\n",
    "\n",
    "imgs = np.load('../dataset/cv/train/x/imgs.npz')['arr_0']\n",
    "labels = np.load('../dataset/cv/train/y/labels.npy')"
   ]
  },
  {
   "cell_type": "code",
   "execution_count": 2,
   "metadata": {},
   "outputs": [],
   "source": [
    "imgs = imgs/255"
   ]
  },
  {
   "cell_type": "code",
   "execution_count": 3,
   "metadata": {},
   "outputs": [],
   "source": [
    "characters = set(char for label in labels for char in label)"
   ]
  },
  {
   "cell_type": "code",
   "execution_count": 4,
   "metadata": {},
   "outputs": [],
   "source": [
    "# Mapping characters to integers\n",
    "char_to_num = layers.experimental.preprocessing.StringLookup(\n",
    "                  vocabulary=sorted(list(characters)), num_oov_indices=0, mask_token=None )\n",
    "\n",
    "# Mapping integers back to original characters\n",
    "num_to_char = layers.experimental.preprocessing.StringLookup(\n",
    "                  vocabulary=char_to_num.get_vocabulary(), mask_token=None, invert=True )"
   ]
  },
  {
   "cell_type": "code",
   "execution_count": 5,
   "metadata": {},
   "outputs": [],
   "source": [
    "imgs = np.transpose(imgs, (0, 2, 1, 3))\n",
    "'''\n",
    "max_len = max([len(label) for label in labels])\n",
    "encoded_labels = []\n",
    "for label in labels:\n",
    "    if label:\n",
    "        tmp = np.array([char_to_num(char) for char in label])\n",
    "        encoded_labels.append(np.pad(tmp, (0, max_len-tmp.shape[0]), constant_values=0))\n",
    "    else:\n",
    "        tmp = np.array([char_to_num('#')])\n",
    "        encoded_labels.append(np.pad(tmp, (0, max_len-tmp.shape[0]), constant_values=0))\n",
    "'''\n",
    "\n",
    "encoded_labels = np.load('../dataset/cv/train/y/encoded_labels.npy')"
   ]
  },
  {
   "cell_type": "code",
   "execution_count": 6,
   "metadata": {},
   "outputs": [],
   "source": [
    "#Si inserisce alla fine di ogni array label la lunghezza reale della parola\n",
    "t_dist_dim = int(128)          # Questo valore indica quanti step temporali ci sono: nelle ultime feature map ci sono 128/4\n",
    "                                 # step temporali perché 128 è la larghezza massima tra le immagini in ingresso e 4 è il fattore\n",
    "                                 # di riduzione dovuto ai MaxPooling (ci sono 2 livelli di MaxPooling che dimezzano le dimensioni)\n",
    "enc2 = []\n",
    "for i in range(encoded_labels.shape[0]):\n",
    "    if len(labels[i]) == 0:\n",
    "        enc2.append(np.append(encoded_labels[i], [1, t_dist_dim]))\n",
    "    else:\n",
    "        enc2.append(np.append(encoded_labels[i], [len(labels[i]), t_dist_dim]))\n",
    "enc2 = np.array(enc2)"
   ]
  },
  {
   "cell_type": "code",
   "execution_count": 7,
   "metadata": {},
   "outputs": [],
   "source": [
    "#with strategy.scope():\n",
    "net = build_and_compile_model_v5(input_shape=(128, 128, 3), len_characters=len(characters), opt=\"Adam\")"
   ]
  },
  {
   "cell_type": "code",
   "execution_count": 8,
   "metadata": {},
   "outputs": [
    {
     "name": "stdout",
     "output_type": "stream",
     "text": [
      "Model: \"functional_1\"\n",
      "_________________________________________________________________\n",
      "Layer (type)                 Output Shape              Param #   \n",
      "=================================================================\n",
      "input_1 (InputLayer)         [(None, 128, 128, 3)]     0         \n",
      "_________________________________________________________________\n",
      "conv2d (Conv2D)              (None, 128, 128, 32)      896       \n",
      "_________________________________________________________________\n",
      "activation (Activation)      (None, 128, 128, 32)      0         \n",
      "_________________________________________________________________\n",
      "max_pooling2d (MaxPooling2D) (None, 128, 64, 32)       0         \n",
      "_________________________________________________________________\n",
      "conv2d_1 (Conv2D)            (None, 128, 64, 64)       18496     \n",
      "_________________________________________________________________\n",
      "activation_1 (Activation)    (None, 128, 64, 64)       0         \n",
      "_________________________________________________________________\n",
      "conv2d_2 (Conv2D)            (None, 128, 64, 128)      73856     \n",
      "_________________________________________________________________\n",
      "activation_2 (Activation)    (None, 128, 64, 128)      0         \n",
      "_________________________________________________________________\n",
      "conv2d_3 (Conv2D)            (None, 128, 64, 128)      147584    \n",
      "_________________________________________________________________\n",
      "activation_3 (Activation)    (None, 128, 64, 128)      0         \n",
      "_________________________________________________________________\n",
      "max_pooling2d_2 (MaxPooling2 (None, 128, 32, 128)      0         \n",
      "_________________________________________________________________\n",
      "conv2d_5 (Conv2D)            (None, 128, 32, 256)      295168    \n",
      "_________________________________________________________________\n",
      "activation_5 (Activation)    (None, 128, 32, 256)      0         \n",
      "_________________________________________________________________\n",
      "batch_normalization (BatchNo (None, 128, 32, 256)      1024      \n",
      "_________________________________________________________________\n",
      "max_pooling2d_3 (MaxPooling2 (None, 128, 16, 256)      0         \n",
      "_________________________________________________________________\n",
      "conv2d_6 (Conv2D)            (None, 128, 16, 256)      262400    \n",
      "_________________________________________________________________\n",
      "activation_6 (Activation)    (None, 128, 16, 256)      0         \n",
      "_________________________________________________________________\n",
      "time_distributed (TimeDistri (None, 128, 4096)         0         \n",
      "_________________________________________________________________\n",
      "dense (Dense)                (None, 128, 64)           262208    \n",
      "_________________________________________________________________\n",
      "dropout (Dropout)            (None, 128, 64)           0         \n",
      "_________________________________________________________________\n",
      "bidirectional (Bidirectional (None, 128, 256)          197632    \n",
      "_________________________________________________________________\n",
      "bidirectional_1 (Bidirection (None, 128, 256)          394240    \n",
      "_________________________________________________________________\n",
      "dense_1 (Dense)              (None, 128, 257)          66049     \n",
      "=================================================================\n",
      "Total params: 1,719,553\n",
      "Trainable params: 1,719,041\n",
      "Non-trainable params: 512\n",
      "_________________________________________________________________\n"
     ]
    }
   ],
   "source": [
    "net.summary()"
   ]
  },
  {
   "cell_type": "code",
   "execution_count": 9,
   "metadata": {},
   "outputs": [],
   "source": [
    "from tensorflow.keras.callbacks import ModelCheckpoint, EarlyStopping, ReduceLROnPlateau\n",
    "\n",
    "Early_Stopping_Patience = 10 \n",
    "Min_Delta = 0.0001\n",
    "# Model Check Point\n",
    "Check_Point = ModelCheckpoint( 'weights/CRNN_v5.h5',   # Filepath\n",
    "                               monitor='val_loss',\n",
    "                               save_best_only=True,\n",
    "                               verbose=1,\n",
    "                               mode='auto',\n",
    "                               save_weights_only=False,\n",
    "                               save_freq='epoch' )\n",
    "# Add early stopping\n",
    "Early_Stopping = EarlyStopping( monitor='val_loss',\n",
    "                                min_delta=Min_Delta,\n",
    "                                patience=Early_Stopping_Patience,\n",
    "                                verbose=1,\n",
    "                                mode='auto',\n",
    "                                baseline=None,\n",
    "                                restore_best_weights=True )\n",
    "reduce_lr = ReduceLROnPlateau(monitor='val_loss', factor=0.2,\n",
    "                              patience=10, min_lr=0.0002)"
   ]
  },
  {
   "cell_type": "code",
   "execution_count": 10,
   "metadata": {},
   "outputs": [],
   "source": [
    "batch_size = 32\n",
    "x_train = imgs\n",
    "y_train = enc2"
   ]
  },
  {
   "cell_type": "code",
   "execution_count": null,
   "metadata": {},
   "outputs": [
    {
     "name": "stdout",
     "output_type": "stream",
     "text": [
      "Epoch 1/100\n",
      "906/906 [==============================] - ETA: 0s - loss: 26.4832\n",
      "Epoch 00001: val_loss improved from inf to 23.83883, saving model to CRNN_v5.h5\n",
      "906/906 [==============================] - 134s 147ms/step - loss: 26.4832 - val_loss: 23.8388\n",
      "Epoch 2/100\n",
      "906/906 [==============================] - ETA: 0s - loss: 22.8795\n",
      "Epoch 00002: val_loss improved from 23.83883 to 22.94966, saving model to CRNN_v5.h5\n",
      "906/906 [==============================] - 131s 145ms/step - loss: 22.8795 - val_loss: 22.9497\n",
      "Epoch 3/100\n",
      "906/906 [==============================] - ETA: 0s - loss: 22.3103\n",
      "Epoch 00003: val_loss improved from 22.94966 to 22.81643, saving model to CRNN_v5.h5\n",
      "906/906 [==============================] - 131s 145ms/step - loss: 22.3103 - val_loss: 22.8164\n",
      "Epoch 4/100\n",
      "906/906 [==============================] - ETA: 0s - loss: 21.8417\n",
      "Epoch 00004: val_loss improved from 22.81643 to 21.84813, saving model to CRNN_v5.h5\n",
      "906/906 [==============================] - 131s 145ms/step - loss: 21.8417 - val_loss: 21.8481\n",
      "Epoch 5/100\n",
      "906/906 [==============================] - ETA: 0s - loss: 20.9089\n",
      "Epoch 00005: val_loss improved from 21.84813 to 20.97356, saving model to CRNN_v5.h5\n",
      "906/906 [==============================] - 131s 145ms/step - loss: 20.9089 - val_loss: 20.9736\n",
      "Epoch 6/100\n",
      "906/906 [==============================] - ETA: 0s - loss: 19.2350\n",
      "Epoch 00006: val_loss improved from 20.97356 to 18.38287, saving model to CRNN_v5.h5\n",
      "906/906 [==============================] - 131s 145ms/step - loss: 19.2350 - val_loss: 18.3829\n",
      "Epoch 7/100\n",
      "906/906 [==============================] - ETA: 0s - loss: 16.9445\n",
      "Epoch 00007: val_loss improved from 18.38287 to 16.55278, saving model to CRNN_v5.h5\n",
      "906/906 [==============================] - 131s 145ms/step - loss: 16.9445 - val_loss: 16.5528\n",
      "Epoch 8/100\n",
      "906/906 [==============================] - ETA: 0s - loss: 14.4605\n",
      "Epoch 00008: val_loss improved from 16.55278 to 13.40401, saving model to CRNN_v5.h5\n",
      "906/906 [==============================] - 131s 144ms/step - loss: 14.4605 - val_loss: 13.4040\n",
      "Epoch 9/100\n",
      "502/906 [===============>..............] - ETA: 53s - loss: 13.1673"
     ]
    }
   ],
   "source": [
    "history = net.fit(x_train, y_train, validation_split=0.2, epochs=100, callbacks=[Check_Point, reduce_lr], batch_size=batch_size)"
   ]
  },
  {
   "cell_type": "code",
   "execution_count": null,
   "metadata": {},
   "outputs": [],
   "source": [
    "np.save('my_history_v5.npy',history.history)"
   ]
  },
  {
   "cell_type": "code",
   "execution_count": 23,
   "metadata": {},
   "outputs": [],
   "source": [
    "import numpy as np\n",
    "his = np.load('my_history_v5.npy', allow_pickle=True)"
   ]
  },
  {
   "cell_type": "code",
   "execution_count": 24,
   "metadata": {},
   "outputs": [
    {
     "data": {
      "text/plain": [
       "[<matplotlib.lines.Line2D at 0x7fcf8a7388b0>]"
      ]
     },
     "execution_count": 24,
     "metadata": {},
     "output_type": "execute_result"
    },
    {
     "data": {
      "image/png": "[encoded data removed]",
      "text/plain": [
       "<Figure size 432x288 with 1 Axes>"
      ]
     },
     "metadata": {
      "needs_background": "light"
     },
     "output_type": "display_data"
    }
   ],
   "source": [
    "import matplotlib.pyplot as plt\n",
    "plt.plot(range(1, 101), his[()]['loss'])\n",
    "plt.plot(range(1, 101), his[()]['val_loss'])"
   ]
  },
  {
   "cell_type": "code",
   "execution_count": 17,
   "metadata": {},
   "outputs": [
    {
     "data": {
      "text/plain": [
       "[26.483184814453125,\n",
       " 22.879472732543945,\n",
       " 22.310277938842773,\n",
       " 21.84165382385254,\n",
       " 20.90894889831543,\n",
       " 19.235000610351562,\n",
       " 16.944541931152344,\n",
       " 14.460494041442871,\n",
       " 12.849721908569336,\n",
       " 11.68117904663086,\n",
       " 10.909193992614746,\n",
       " 10.230377197265625,\n",
       " 9.755118370056152,\n",
       " 9.322587013244629,\n",
       " 8.956155776977539,\n",
       " 8.592137336730957,\n",
       " 8.347542762756348,\n",
       " 8.0772066116333,\n",
       " 7.832581996917725,\n",
       " 7.57880973815918,\n",
       " 7.3784403800964355,\n",
       " 7.2063307762146,\n",
       " 6.977541446685791,\n",
       " 6.841725826263428,\n",
       " 6.675350189208984,\n",
       " 6.550205707550049,\n",
       " 6.385983943939209,\n",
       " 6.158980369567871,\n",
       " 6.1251540184021,\n",
       " 6.034574508666992,\n",
       " 5.870692253112793,\n",
       " 5.739696025848389,\n",
       " 5.683994770050049,\n",
       " 5.614535331726074,\n",
       " 5.448439598083496,\n",
       " 5.389533996582031,\n",
       " 5.315771102905273,\n",
       " 4.428159236907959,\n",
       " 4.134344577789307,\n",
       " 3.9910457134246826,\n",
       " 3.8765950202941895,\n",
       " 3.774503231048584,\n",
       " 3.681612253189087,\n",
       " 3.596201181411743,\n",
       " 3.5306150913238525,\n",
       " 3.456108808517456,\n",
       " 3.380309820175171,\n",
       " 3.323477029800415,\n",
       " 3.2593209743499756,\n",
       " 3.1948304176330566,\n",
       " 3.131887197494507,\n",
       " 3.0850541591644287,\n",
       " 3.0289580821990967,\n",
       " 2.9793553352355957,\n",
       " 2.9290685653686523,\n",
       " 2.875916004180908,\n",
       " 2.8259024620056152,\n",
       " 2.780945062637329,\n",
       " 2.7493226528167725,\n",
       " 2.7033653259277344,\n",
       " 2.6412930488586426,\n",
       " 2.615123748779297,\n",
       " 2.5735158920288086,\n",
       " 2.535885810852051,\n",
       " 2.4896047115325928,\n",
       " 2.4531848430633545,\n",
       " 2.418651580810547,\n",
       " 2.3642616271972656,\n",
       " 2.334944725036621,\n",
       " 2.303041696548462,\n",
       " 2.2584478855133057,\n",
       " 2.2420239448547363,\n",
       " 2.202587604522705,\n",
       " 2.185119390487671,\n",
       " 2.150315761566162,\n",
       " 2.1049277782440186,\n",
       " 2.086073160171509,\n",
       " 2.0492160320281982,\n",
       " 2.0177628993988037,\n",
       " 1.9947168827056885,\n",
       " 1.9605653285980225,\n",
       " 1.935023307800293,\n",
       " 1.9072033166885376,\n",
       " 1.8808430433273315,\n",
       " 1.8701854944229126,\n",
       " 1.8296630382537842,\n",
       " 1.8078908920288086,\n",
       " 1.7745085954666138,\n",
       " 1.7556736469268799,\n",
       " 1.7197736501693726,\n",
       " 1.696021318435669,\n",
       " 1.6862436532974243,\n",
       " 1.6809459924697876,\n",
       " 1.6961915493011475,\n",
       " 1.6052998304367065,\n",
       " 1.585117220878601,\n",
       " 1.5867677927017212,\n",
       " 1.5607035160064697,\n",
       " 1.554848313331604,\n",
       " 1.5451124906539917]"
      ]
     },
     "execution_count": 17,
     "metadata": {},
     "output_type": "execute_result"
    }
   ],
   "source": [
    "his[()]['loss']"
   ]
  },
  {
   "cell_type": "code",
   "execution_count": null,
   "metadata": {},
   "outputs": [],
   "source": []
  }
 ],
 "metadata": {
  "kernelspec": {
   "display_name": "Python 3",
   "language": "python",
   "name": "python3"
  },
  "language_info": {
   "codemirror_mode": {
    "name": "ipython",
    "version": 3
   },
   "file_extension": ".py",
   "mimetype": "text/x-python",
   "name": "python",
   "nbconvert_exporter": "python",
   "pygments_lexer": "ipython3",
   "version": "3.8.10"
  }
 },
 "nbformat": 4,
 "nbformat_minor": 4
}
