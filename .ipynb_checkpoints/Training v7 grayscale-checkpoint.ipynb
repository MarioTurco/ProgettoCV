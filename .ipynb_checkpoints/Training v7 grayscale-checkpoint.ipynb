{
 "cells": [
  {
   "cell_type": "code",
   "execution_count": 1,
   "metadata": {},
   "outputs": [
    {
     "name": "stdout",
     "output_type": "stream",
     "text": [
      "setGPU: Setting GPU to: 0\n"
     ]
    }
   ],
   "source": [
    "import numpy as np\n",
    "from model import *\n",
    "import tensorflow as tf\n",
    "import setGPU\n",
    "#strategy = tf.distribute.MirroredStrategy([\"GPU:0\", \"GPU:1\"])\n",
    "\n",
    "imgs = np.load('../dataset/cv/train/x/imgs.npz')['arr_0']\n",
    "labels = np.load('../dataset/cv/train/y/labels.npy')"
   ]
  },
  {
   "cell_type": "code",
   "execution_count": 2,
   "metadata": {},
   "outputs": [],
   "source": [
    "characters = set(char for label in labels for char in label)"
   ]
  },
  {
   "cell_type": "code",
   "execution_count": 3,
   "metadata": {},
   "outputs": [],
   "source": [
    "# Mapping characters to integers\n",
    "char_to_num = layers.experimental.preprocessing.StringLookup(\n",
    "                  vocabulary=sorted(list(characters)), num_oov_indices=0, mask_token=None )\n",
    "\n",
    "# Mapping integers back to original characters\n",
    "num_to_char = layers.experimental.preprocessing.StringLookup(\n",
    "                  vocabulary=char_to_num.get_vocabulary(), mask_token=None, invert=True )"
   ]
  },
  {
   "cell_type": "code",
   "execution_count": 4,
   "metadata": {},
   "outputs": [],
   "source": [
    "imgs = np.transpose(imgs, (0, 2, 1, 3))\n",
    "'''\n",
    "max_len = max([len(label) for label in labels])\n",
    "encoded_labels = []\n",
    "for label in labels:\n",
    "    if label:\n",
    "        tmp = np.array([char_to_num(char) for char in label])\n",
    "        encoded_labels.append(np.pad(tmp, (0, max_len-tmp.shape[0]), constant_values=0))\n",
    "    else:\n",
    "        tmp = np.array([char_to_num('#')])\n",
    "        encoded_labels.append(np.pad(tmp, (0, max_len-tmp.shape[0]), constant_values=0))\n",
    "'''\n",
    "\n",
    "encoded_labels = np.load('../dataset/cv/train/y/encoded_labels.npy')"
   ]
  },
  {
   "cell_type": "code",
   "execution_count": 5,
   "metadata": {},
   "outputs": [],
   "source": [
    "#Si inserisce alla fine di ogni array label la lunghezza reale della parola\n",
    "t_dist_dim = int(128)          # Questo valore indica quanti step temporali ci sono: nelle ultime feature map ci sono 128/4\n",
    "                                 # step temporali perché 128 è la larghezza massima tra le immagini in ingresso e 4 è il fattore\n",
    "                                 # di riduzione dovuto ai MaxPooling (ci sono 2 livelli di MaxPooling che dimezzano le dimensioni)\n",
    "enc2 = []\n",
    "for i in range(encoded_labels.shape[0]):\n",
    "    if len(labels[i]) == 0:\n",
    "        enc2.append(np.append(encoded_labels[i], [1, t_dist_dim]))\n",
    "    else:\n",
    "        enc2.append(np.append(encoded_labels[i], [len(labels[i]), t_dist_dim]))\n",
    "enc2 = np.array(enc2)"
   ]
  },
  {
   "cell_type": "code",
   "execution_count": 6,
   "metadata": {},
   "outputs": [],
   "source": [
    "#with strategy.scope():\n",
    "net = build_and_compile_model_v2(input_shape=(128, 128, 3), len_characters=len(characters))"
   ]
  },
  {
   "cell_type": "code",
   "execution_count": 7,
   "metadata": {},
   "outputs": [
    {
     "name": "stdout",
     "output_type": "stream",
     "text": [
      "Model: \"functional_1\"\n",
      "_________________________________________________________________\n",
      "Layer (type)                 Output Shape              Param #   \n",
      "=================================================================\n",
      "input_1 (InputLayer)         [(None, 128, 128, 3)]     0         \n",
      "_________________________________________________________________\n",
      "conv2d (Conv2D)              (None, 128, 128, 64)      1792      \n",
      "_________________________________________________________________\n",
      "activation (Activation)      (None, 128, 128, 64)      0         \n",
      "_________________________________________________________________\n",
      "max_pooling2d (MaxPooling2D) (None, 128, 64, 64)       0         \n",
      "_________________________________________________________________\n",
      "conv2d_1 (Conv2D)            (None, 128, 64, 128)      73856     \n",
      "_________________________________________________________________\n",
      "activation_1 (Activation)    (None, 128, 64, 128)      0         \n",
      "_________________________________________________________________\n",
      "max_pooling2d_1 (MaxPooling2 (None, 128, 32, 128)      0         \n",
      "_________________________________________________________________\n",
      "conv2d_2 (Conv2D)            (None, 128, 32, 256)      295168    \n",
      "_________________________________________________________________\n",
      "activation_2 (Activation)    (None, 128, 32, 256)      0         \n",
      "_________________________________________________________________\n",
      "conv2d_3 (Conv2D)            (None, 128, 32, 256)      590080    \n",
      "_________________________________________________________________\n",
      "activation_3 (Activation)    (None, 128, 32, 256)      0         \n",
      "_________________________________________________________________\n",
      "conv2d_4 (Conv2D)            (None, 128, 32, 256)      590080    \n",
      "_________________________________________________________________\n",
      "activation_4 (Activation)    (None, 128, 32, 256)      0         \n",
      "_________________________________________________________________\n",
      "max_pooling2d_2 (MaxPooling2 (None, 128, 16, 256)      0         \n",
      "_________________________________________________________________\n",
      "conv2d_5 (Conv2D)            (None, 128, 16, 512)      1180160   \n",
      "_________________________________________________________________\n",
      "activation_5 (Activation)    (None, 128, 16, 512)      0         \n",
      "_________________________________________________________________\n",
      "batch_normalization (BatchNo (None, 128, 16, 512)      2048      \n",
      "_________________________________________________________________\n",
      "max_pooling2d_3 (MaxPooling2 (None, 128, 8, 512)       0         \n",
      "_________________________________________________________________\n",
      "conv2d_6 (Conv2D)            (None, 128, 8, 512)       1049088   \n",
      "_________________________________________________________________\n",
      "activation_6 (Activation)    (None, 128, 8, 512)       0         \n",
      "_________________________________________________________________\n",
      "time_distributed (TimeDistri (None, 128, 4096)         0         \n",
      "_________________________________________________________________\n",
      "dense (Dense)                (None, 128, 64)           262208    \n",
      "_________________________________________________________________\n",
      "bidirectional (Bidirectional (None, 128, 128)          66048     \n",
      "_________________________________________________________________\n",
      "bidirectional_1 (Bidirection (None, 128, 128)          98816     \n",
      "_________________________________________________________________\n",
      "dense_1 (Dense)              (None, 128, 257)          33153     \n",
      "=================================================================\n",
      "Total params: 4,242,497\n",
      "Trainable params: 4,241,473\n",
      "Non-trainable params: 1,024\n",
      "_________________________________________________________________\n"
     ]
    }
   ],
   "source": [
    "net.summary()"
   ]
  },
  {
   "cell_type": "code",
   "execution_count": 8,
   "metadata": {},
   "outputs": [],
   "source": [
    "from tensorflow.keras.callbacks import ModelCheckpoint, EarlyStopping\n",
    "\n",
    "Early_Stopping_Patience = 10 \n",
    "Min_Delta = 0.0001\n",
    "# Model Check Point\n",
    "Check_Point = ModelCheckpoint( 'CRNN_v2.h5',   # Filepath\n",
    "                               monitor='val_loss',\n",
    "                               save_best_only=True,\n",
    "                               verbose=1,\n",
    "                               mode='auto',\n",
    "                               save_weights_only=False,\n",
    "                               save_freq='epoch' )\n",
    "# Add early stopping\n",
    "Early_Stopping = EarlyStopping( monitor='val_loss',\n",
    "                                min_delta=Min_Delta,\n",
    "                                patience=Early_Stopping_Patience,\n",
    "                                verbose=1,\n",
    "                                mode='auto',\n",
    "                                baseline=None,\n",
    "                                restore_best_weights=True )"
   ]
  },
  {
   "cell_type": "code",
   "execution_count": 9,
   "metadata": {},
   "outputs": [],
   "source": [
    "batch_size = 32\n",
    "x_train = imgs\n",
    "y_train = enc2"
   ]
  },
  {
   "cell_type": "code",
   "execution_count": null,
   "metadata": {},
   "outputs": [
    {
     "name": "stdout",
     "output_type": "stream",
     "text": [
      "Epoch 1/100\n",
      "906/906 [==============================] - ETA: 0s - loss: 30.1118\n",
      "Epoch 00001: val_loss improved from inf to 24.92436, saving model to CRNN_v2.h5\n",
      "906/906 [==============================] - 158s 174ms/step - loss: 30.1118 - val_loss: 24.9244\n",
      "Epoch 2/100\n",
      "906/906 [==============================] - ETA: 0s - loss: 23.8318\n",
      "Epoch 00002: val_loss improved from 24.92436 to 23.54925, saving model to CRNN_v2.h5\n",
      "906/906 [==============================] - 158s 174ms/step - loss: 23.8318 - val_loss: 23.5492\n",
      "Epoch 3/100\n",
      "262/906 [=======>......................] - ETA: 1:42 - loss: 22.8630"
     ]
    }
   ],
   "source": [
    "history = net.fit(x_train, y_train, validation_split=0.2, epochs=100, callbacks=[Check_Point, Early_Stopping], batch_size=batch_size)"
   ]
  },
  {
   "cell_type": "code",
   "execution_count": 11,
   "metadata": {},
   "outputs": [],
   "source": [
    "np.save('my_history.npy',history.history)"
   ]
  },
  {
   "cell_type": "code",
   "execution_count": null,
   "metadata": {},
   "outputs": [],
   "source": []
  }
 ],
 "metadata": {
  "kernelspec": {
   "display_name": "Python 3",
   "language": "python",
   "name": "python3"
  },
  "language_info": {
   "codemirror_mode": {
    "name": "ipython",
    "version": 3
   },
   "file_extension": ".py",
   "mimetype": "text/x-python",
   "name": "python",
   "nbconvert_exporter": "python",
   "pygments_lexer": "ipython3",
   "version": "3.8.10"
  }
 },
 "nbformat": 4,
 "nbformat_minor": 4
}
