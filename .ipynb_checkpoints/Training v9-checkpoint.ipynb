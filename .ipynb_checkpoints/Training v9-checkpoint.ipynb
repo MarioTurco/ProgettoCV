{
 "cells": [
  {
   "cell_type": "code",
   "execution_count": 1,
   "metadata": {},
   "outputs": [
    {
     "name": "stdout",
     "output_type": "stream",
     "text": [
      "setGPU: Setting GPU to: 0\n"
     ]
    }
   ],
   "source": [
    "import numpy as np\n",
    "from model import *\n",
    "import tensorflow as tf\n",
    "import setGPU\n",
    "#strategy = tf.distribute.MirroredStrategy([\"GPU:0\", \"GPU:1\"])\n",
    "\n",
    "imgs = np.expand_dims(np.load('../dataset/cv/train/x/generated_text.npz')['arr_0'], axis=-1)\n",
    "labels = np.load('../dataset/cv/train/y/generated_labels.npy')"
   ]
  },
  {
   "cell_type": "code",
   "execution_count": 2,
   "metadata": {},
   "outputs": [],
   "source": [
    "#imgs = imgs/255"
   ]
  },
  {
   "cell_type": "code",
   "execution_count": 3,
   "metadata": {},
   "outputs": [],
   "source": [
    "characters = set(char for label in labels for char in label)"
   ]
  },
  {
   "cell_type": "code",
   "execution_count": 4,
   "metadata": {},
   "outputs": [],
   "source": [
    "# Mapping characters to integers\n",
    "char_to_num = layers.experimental.preprocessing.StringLookup(\n",
    "                  vocabulary=sorted(list(characters)), num_oov_indices=0, mask_token=None )\n",
    "\n",
    "# Mapping integers back to original characters\n",
    "num_to_char = layers.experimental.preprocessing.StringLookup(\n",
    "                  vocabulary=char_to_num.get_vocabulary(), mask_token=None, invert=True )"
   ]
  },
  {
   "cell_type": "code",
   "execution_count": 5,
   "metadata": {},
   "outputs": [],
   "source": [
    "imgs = np.transpose(imgs, (0, 2, 1, 3))\n",
    "'''\n",
    "max_len = max([len(label) for label in labels])\n",
    "encoded_labels = []\n",
    "for label in labels:\n",
    "    if label:\n",
    "        tmp = np.array([char_to_num(char) for char in label])\n",
    "        encoded_labels.append(np.pad(tmp, (0, max_len-tmp.shape[0]), constant_values=0))\n",
    "    else:\n",
    "        tmp = np.array([char_to_num('#')])\n",
    "        encoded_labels.append(np.pad(tmp, (0, max_len-tmp.shape[0]), constant_values=0))\n",
    "'''\n",
    "\n",
    "encoded_labels = np.load('../dataset/cv/train/y/encoded_generated_labels.npy')"
   ]
  },
  {
   "cell_type": "code",
   "execution_count": 6,
   "metadata": {},
   "outputs": [],
   "source": [
    "#Si inserisce alla fine di ogni array label la lunghezza reale della parola\n",
    "t_dist_dim = int(128)          # Questo valore indica quanti step temporali ci sono: nelle ultime feature map ci sono 128/4\n",
    "                                 # step temporali perché 128 è la larghezza massima tra le immagini in ingresso e 4 è il fattore\n",
    "                                 # di riduzione dovuto ai MaxPooling (ci sono 2 livelli di MaxPooling che dimezzano le dimensioni)\n",
    "enc2 = []\n",
    "for i in range(encoded_labels.shape[0]):\n",
    "    if len(labels[i]) == 0:\n",
    "        enc2.append(np.append(encoded_labels[i], [1, t_dist_dim]))\n",
    "    else:\n",
    "        enc2.append(np.append(encoded_labels[i], [len(labels[i]), t_dist_dim]))\n",
    "enc2 = np.array(enc2)"
   ]
  },
  {
   "cell_type": "code",
   "execution_count": 7,
   "metadata": {},
   "outputs": [],
   "source": [
    "#with strategy.scope():\n",
    "net = build_and_compile_model_v9_7(input_shape=(128, 128, 1), len_characters=len(characters), opt=\"Adam\")"
   ]
  },
  {
   "cell_type": "code",
   "execution_count": 8,
   "metadata": {},
   "outputs": [
    {
     "name": "stdout",
     "output_type": "stream",
     "text": [
      "Model: \"functional_1\"\n",
      "_________________________________________________________________\n",
      "Layer (type)                 Output Shape              Param #   \n",
      "=================================================================\n",
      "input_1 (InputLayer)         [(None, 128, 128, 1)]     0         \n",
      "_________________________________________________________________\n",
      "conv2d (Conv2D)              (None, 128, 128, 64)      640       \n",
      "_________________________________________________________________\n",
      "activation (Activation)      (None, 128, 128, 64)      0         \n",
      "_________________________________________________________________\n",
      "batch_normalization (BatchNo (None, 128, 128, 64)      256       \n",
      "_________________________________________________________________\n",
      "conv2d_1 (Conv2D)            (None, 128, 128, 64)      36928     \n",
      "_________________________________________________________________\n",
      "activation_1 (Activation)    (None, 128, 128, 64)      0         \n",
      "_________________________________________________________________\n",
      "batch_normalization_1 (Batch (None, 128, 128, 64)      256       \n",
      "_________________________________________________________________\n",
      "max_pooling2d (MaxPooling2D) (None, 128, 64, 64)       0         \n",
      "_________________________________________________________________\n",
      "conv2d_2 (Conv2D)            (None, 128, 64, 128)      73856     \n",
      "_________________________________________________________________\n",
      "activation_2 (Activation)    (None, 128, 64, 128)      0         \n",
      "_________________________________________________________________\n",
      "batch_normalization_2 (Batch (None, 128, 64, 128)      512       \n",
      "_________________________________________________________________\n",
      "conv2d_3 (Conv2D)            (None, 128, 64, 128)      147584    \n",
      "_________________________________________________________________\n",
      "activation_3 (Activation)    (None, 128, 64, 128)      0         \n",
      "_________________________________________________________________\n",
      "batch_normalization_3 (Batch (None, 128, 64, 128)      512       \n",
      "_________________________________________________________________\n",
      "max_pooling2d_1 (MaxPooling2 (None, 128, 32, 128)      0         \n",
      "_________________________________________________________________\n",
      "conv2d_4 (Conv2D)            (None, 128, 32, 256)      295168    \n",
      "_________________________________________________________________\n",
      "activation_4 (Activation)    (None, 128, 32, 256)      0         \n",
      "_________________________________________________________________\n",
      "batch_normalization_4 (Batch (None, 128, 32, 256)      1024      \n",
      "_________________________________________________________________\n",
      "conv2d_5 (Conv2D)            (None, 128, 32, 256)      590080    \n",
      "_________________________________________________________________\n",
      "activation_5 (Activation)    (None, 128, 32, 256)      0         \n",
      "_________________________________________________________________\n",
      "batch_normalization_5 (Batch (None, 128, 32, 256)      1024      \n",
      "_________________________________________________________________\n",
      "max_pooling2d_2 (MaxPooling2 (None, 128, 16, 256)      0         \n",
      "_________________________________________________________________\n",
      "conv2d_6 (Conv2D)            (None, 128, 16, 512)      1180160   \n",
      "_________________________________________________________________\n",
      "activation_6 (Activation)    (None, 128, 16, 512)      0         \n",
      "_________________________________________________________________\n",
      "batch_normalization_6 (Batch (None, 128, 16, 512)      2048      \n",
      "_________________________________________________________________\n",
      "conv2d_7 (Conv2D)            (None, 128, 16, 512)      2359808   \n",
      "_________________________________________________________________\n",
      "activation_7 (Activation)    (None, 128, 16, 512)      0         \n",
      "_________________________________________________________________\n",
      "batch_normalization_7 (Batch (None, 128, 16, 512)      2048      \n",
      "_________________________________________________________________\n",
      "max_pooling2d_3 (MaxPooling2 (None, 128, 8, 512)       0         \n",
      "_________________________________________________________________\n",
      "time_distributed (TimeDistri (None, 128, 4096)         0         \n",
      "_________________________________________________________________\n",
      "dense (Dense)                (None, 128, 128)          524416    \n",
      "_________________________________________________________________\n",
      "dropout (Dropout)            (None, 128, 128)          0         \n",
      "_________________________________________________________________\n",
      "bidirectional (Bidirectional (None, 128, 128)          98816     \n",
      "_________________________________________________________________\n",
      "bidirectional_1 (Bidirection (None, 128, 256)          263168    \n",
      "_________________________________________________________________\n",
      "dense_1 (Dense)              (None, 128, 63)           16191     \n",
      "=================================================================\n",
      "Total params: 5,594,495\n",
      "Trainable params: 5,590,655\n",
      "Non-trainable params: 3,840\n",
      "_________________________________________________________________\n"
     ]
    }
   ],
   "source": [
    "net.summary()"
   ]
  },
  {
   "cell_type": "code",
   "execution_count": 9,
   "metadata": {},
   "outputs": [],
   "source": [
    "from tensorflow.keras.callbacks import ModelCheckpoint, EarlyStopping, ReduceLROnPlateau\n",
    "\n",
    "Early_Stopping_Patience = 10 \n",
    "Min_Delta = 0.0001\n",
    "# Model Check Point\n",
    "Check_Point = ModelCheckpoint( 'weights/CRNN_v9_6.h5',   # Filepath\n",
    "                               monitor='val_loss',\n",
    "                               save_best_only=True,\n",
    "                               verbose=1,\n",
    "                               mode='auto',\n",
    "                               save_weights_only=False,\n",
    "                               save_freq='epoch' )\n",
    "# Add early stopping\n",
    "Early_Stopping = EarlyStopping( monitor='val_loss',\n",
    "                                min_delta=Min_Delta,\n",
    "                                patience=Early_Stopping_Patience,\n",
    "                                verbose=1,\n",
    "                                mode='auto',\n",
    "                                baseline=None,\n",
    "                                restore_best_weights=True )\n",
    "reduce_lr = ReduceLROnPlateau(monitor='val_loss', factor=0.2,\n",
    "                              patience=10, min_lr=0.0002)"
   ]
  },
  {
   "cell_type": "code",
   "execution_count": 10,
   "metadata": {},
   "outputs": [],
   "source": [
    "batch_size = 32\n",
    "x_train = imgs\n",
    "y_train = enc2"
   ]
  },
  {
   "cell_type": "code",
   "execution_count": 11,
   "metadata": {},
   "outputs": [
    {
     "name": "stdout",
     "output_type": "stream",
     "text": [
      "Epoch 1/100\n",
      "250/250 [==============================] - ETA: 0s - loss: 30.6162\n",
      "Epoch 00001: val_loss improved from inf to 26.87294, saving model to weights/CRNN_v9_6.h5\n",
      "250/250 [==============================] - 56s 225ms/step - loss: 30.6162 - val_loss: 26.8729\n",
      "Epoch 2/100\n",
      "250/250 [==============================] - ETA: 0s - loss: 23.7805\n",
      "Epoch 00002: val_loss improved from 26.87294 to 17.72018, saving model to weights/CRNN_v9_6.h5\n",
      "250/250 [==============================] - 56s 222ms/step - loss: 23.7805 - val_loss: 17.7202\n",
      "Epoch 3/100\n",
      "250/250 [==============================] - ETA: 0s - loss: 6.5133\n",
      "Epoch 00003: val_loss improved from 17.72018 to 2.76643, saving model to weights/CRNN_v9_6.h5\n",
      "250/250 [==============================] - 55s 221ms/step - loss: 6.5133 - val_loss: 2.7664\n",
      "Epoch 4/100\n",
      "250/250 [==============================] - ETA: 0s - loss: 1.9591\n",
      "Epoch 00004: val_loss improved from 2.76643 to 1.91398, saving model to weights/CRNN_v9_6.h5\n",
      "250/250 [==============================] - 56s 222ms/step - loss: 1.9591 - val_loss: 1.9140\n",
      "Epoch 5/100\n",
      "250/250 [==============================] - ETA: 0s - loss: 1.3764\n",
      "Epoch 00005: val_loss improved from 1.91398 to 1.30299, saving model to weights/CRNN_v9_6.h5\n",
      "250/250 [==============================] - 55s 222ms/step - loss: 1.3764 - val_loss: 1.3030\n",
      "Epoch 6/100\n",
      "250/250 [==============================] - ETA: 0s - loss: 1.1338\n",
      "Epoch 00006: val_loss improved from 1.30299 to 1.18098, saving model to weights/CRNN_v9_6.h5\n",
      "250/250 [==============================] - 56s 222ms/step - loss: 1.1338 - val_loss: 1.1810\n",
      "Epoch 7/100\n",
      "250/250 [==============================] - ETA: 0s - loss: 1.0089\n",
      "Epoch 00007: val_loss improved from 1.18098 to 1.14618, saving model to weights/CRNN_v9_6.h5\n",
      "250/250 [==============================] - 56s 222ms/step - loss: 1.0089 - val_loss: 1.1462\n",
      "Epoch 8/100\n",
      "250/250 [==============================] - ETA: 0s - loss: 0.8352\n",
      "Epoch 00008: val_loss did not improve from 1.14618\n",
      "250/250 [==============================] - 55s 221ms/step - loss: 0.8352 - val_loss: 12.4406\n",
      "Epoch 9/100\n",
      "250/250 [==============================] - ETA: 0s - loss: 0.7979\n",
      "Epoch 00009: val_loss improved from 1.14618 to 0.87510, saving model to weights/CRNN_v9_6.h5\n",
      "250/250 [==============================] - 55s 222ms/step - loss: 0.7979 - val_loss: 0.8751\n",
      "Epoch 10/100\n",
      "250/250 [==============================] - ETA: 0s - loss: 0.7445\n",
      "Epoch 00010: val_loss did not improve from 0.87510\n",
      "250/250 [==============================] - 55s 221ms/step - loss: 0.7445 - val_loss: 1.0798\n",
      "Epoch 11/100\n",
      "250/250 [==============================] - ETA: 0s - loss: 0.8210\n",
      "Epoch 00011: val_loss did not improve from 0.87510\n",
      "250/250 [==============================] - 55s 221ms/step - loss: 0.8210 - val_loss: 0.9250\n",
      "Epoch 12/100\n",
      "250/250 [==============================] - ETA: 0s - loss: 0.7615\n",
      "Epoch 00012: val_loss did not improve from 0.87510\n",
      "250/250 [==============================] - 55s 221ms/step - loss: 0.7615 - val_loss: 1.3371\n",
      "Epoch 13/100\n",
      "250/250 [==============================] - ETA: 0s - loss: 0.7295\n",
      "Epoch 00013: val_loss improved from 0.87510 to 0.80857, saving model to weights/CRNN_v9_6.h5\n",
      "250/250 [==============================] - 55s 221ms/step - loss: 0.7295 - val_loss: 0.8086\n",
      "Epoch 14/100\n",
      "250/250 [==============================] - ETA: 0s - loss: 0.7196\n",
      "Epoch 00014: val_loss improved from 0.80857 to 0.80419, saving model to weights/CRNN_v9_6.h5\n",
      "250/250 [==============================] - 55s 221ms/step - loss: 0.7196 - val_loss: 0.8042\n",
      "Epoch 15/100\n",
      "250/250 [==============================] - ETA: 0s - loss: 0.6153\n",
      "Epoch 00015: val_loss improved from 0.80419 to 0.71320, saving model to weights/CRNN_v9_6.h5\n",
      "250/250 [==============================] - 55s 222ms/step - loss: 0.6153 - val_loss: 0.7132\n",
      "Epoch 16/100\n",
      "250/250 [==============================] - ETA: 0s - loss: 0.6168\n",
      "Epoch 00016: val_loss did not improve from 0.71320\n",
      "250/250 [==============================] - 55s 221ms/step - loss: 0.6168 - val_loss: 0.7275\n",
      "Epoch 17/100\n",
      "250/250 [==============================] - ETA: 0s - loss: 0.6224\n",
      "Epoch 00017: val_loss did not improve from 0.71320\n",
      "250/250 [==============================] - 55s 221ms/step - loss: 0.6224 - val_loss: 1.3249\n",
      "Epoch 18/100\n",
      "250/250 [==============================] - ETA: 0s - loss: 0.5949\n",
      "Epoch 00018: val_loss did not improve from 0.71320\n",
      "250/250 [==============================] - 55s 221ms/step - loss: 0.5949 - val_loss: 0.7518\n",
      "Epoch 19/100\n",
      "250/250 [==============================] - ETA: 0s - loss: 0.5937\n",
      "Epoch 00019: val_loss did not improve from 0.71320\n",
      "250/250 [==============================] - 55s 221ms/step - loss: 0.5937 - val_loss: 1.0664\n",
      "Epoch 20/100\n",
      "250/250 [==============================] - ETA: 0s - loss: 0.5977\n",
      "Epoch 00020: val_loss did not improve from 0.71320\n",
      "250/250 [==============================] - 55s 220ms/step - loss: 0.5977 - val_loss: 1.0872\n",
      "Epoch 21/100\n",
      "250/250 [==============================] - ETA: 0s - loss: 0.6071\n",
      "Epoch 00021: val_loss improved from 0.71320 to 0.66236, saving model to weights/CRNN_v9_6.h5\n",
      "250/250 [==============================] - 56s 223ms/step - loss: 0.6071 - val_loss: 0.6624\n",
      "Epoch 22/100\n",
      "250/250 [==============================] - ETA: 0s - loss: 0.5632\n",
      "Epoch 00022: val_loss did not improve from 0.66236\n",
      "250/250 [==============================] - 55s 220ms/step - loss: 0.5632 - val_loss: 0.8943\n",
      "Epoch 23/100\n",
      "250/250 [==============================] - ETA: 0s - loss: 0.6289\n",
      "Epoch 00023: val_loss did not improve from 0.66236\n",
      "250/250 [==============================] - 55s 220ms/step - loss: 0.6289 - val_loss: 0.6658\n",
      "Epoch 24/100\n",
      "250/250 [==============================] - ETA: 0s - loss: 0.5015\n",
      "Epoch 00024: val_loss did not improve from 0.66236\n",
      "250/250 [==============================] - 55s 221ms/step - loss: 0.5015 - val_loss: 0.7888\n",
      "Epoch 25/100\n",
      "250/250 [==============================] - ETA: 0s - loss: 0.4498\n",
      "Epoch 00025: val_loss did not improve from 0.66236\n",
      "250/250 [==============================] - 55s 220ms/step - loss: 0.4498 - val_loss: 1.0172\n",
      "Epoch 26/100\n",
      "250/250 [==============================] - ETA: 0s - loss: 0.4944- \n",
      "Epoch 00026: val_loss did not improve from 0.66236\n",
      "250/250 [==============================] - 55s 221ms/step - loss: 0.4944 - val_loss: 0.8313\n",
      "Epoch 27/100\n",
      "250/250 [==============================] - ETA: 0s - loss: 0.5143\n",
      "Epoch 00027: val_loss did not improve from 0.66236\n",
      "250/250 [==============================] - 55s 221ms/step - loss: 0.5143 - val_loss: 1.1882\n",
      "Epoch 28/100\n",
      "250/250 [==============================] - ETA: 0s - loss: 0.5999\n",
      "Epoch 00028: val_loss did not improve from 0.66236\n",
      "250/250 [==============================] - 55s 221ms/step - loss: 0.5999 - val_loss: 0.6838\n",
      "Epoch 29/100\n",
      "250/250 [==============================] - ETA: 0s - loss: 0.5017\n",
      "Epoch 00029: val_loss did not improve from 0.66236\n",
      "250/250 [==============================] - 55s 221ms/step - loss: 0.5017 - val_loss: 0.6824\n",
      "Epoch 30/100\n",
      "250/250 [==============================] - ETA: 0s - loss: 0.5189\n",
      "Epoch 00030: val_loss did not improve from 0.66236\n",
      "250/250 [==============================] - 55s 221ms/step - loss: 0.5189 - val_loss: 0.9041\n",
      "Epoch 31/100\n",
      "250/250 [==============================] - ETA: 0s - loss: 0.4858\n",
      "Epoch 00031: val_loss did not improve from 0.66236\n",
      "250/250 [==============================] - 55s 220ms/step - loss: 0.4858 - val_loss: 0.6692\n",
      "Epoch 32/100\n",
      "250/250 [==============================] - ETA: 0s - loss: 0.3601\n",
      "Epoch 00032: val_loss improved from 0.66236 to 0.54619, saving model to weights/CRNN_v9_6.h5\n",
      "250/250 [==============================] - 55s 222ms/step - loss: 0.3601 - val_loss: 0.5462\n",
      "Epoch 33/100\n",
      "250/250 [==============================] - ETA: 0s - loss: 0.3010\n",
      "Epoch 00033: val_loss improved from 0.54619 to 0.52467, saving model to weights/CRNN_v9_6.h5\n",
      "250/250 [==============================] - 56s 222ms/step - loss: 0.3010 - val_loss: 0.5247\n",
      "Epoch 34/100\n",
      "250/250 [==============================] - ETA: 0s - loss: 0.2774\n",
      "Epoch 00034: val_loss did not improve from 0.52467\n",
      "250/250 [==============================] - 55s 221ms/step - loss: 0.2774 - val_loss: 0.5606\n",
      "Epoch 35/100\n"
     ]
    },
    {
     "name": "stdout",
     "output_type": "stream",
     "text": [
      "250/250 [==============================] - ETA: 0s - loss: 0.2684\n",
      "Epoch 00035: val_loss did not improve from 0.52467\n",
      "250/250 [==============================] - 55s 220ms/step - loss: 0.2684 - val_loss: 0.5384\n",
      "Epoch 36/100\n",
      "250/250 [==============================] - ETA: 0s - loss: 0.2596\n",
      "Epoch 00036: val_loss did not improve from 0.52467\n",
      "250/250 [==============================] - 55s 220ms/step - loss: 0.2596 - val_loss: 0.5386\n",
      "Epoch 37/100\n",
      "250/250 [==============================] - ETA: 0s - loss: 0.2433\n",
      "Epoch 00037: val_loss did not improve from 0.52467\n",
      "250/250 [==============================] - 55s 220ms/step - loss: 0.2433 - val_loss: 0.5492\n",
      "Epoch 38/100\n",
      "250/250 [==============================] - ETA: 0s - loss: 0.2399\n",
      "Epoch 00038: val_loss did not improve from 0.52467\n",
      "250/250 [==============================] - 55s 221ms/step - loss: 0.2399 - val_loss: 0.5362\n",
      "Epoch 39/100\n",
      "250/250 [==============================] - ETA: 0s - loss: 0.2332\n",
      "Epoch 00039: val_loss did not improve from 0.52467\n",
      "250/250 [==============================] - 55s 220ms/step - loss: 0.2332 - val_loss: 0.5899\n",
      "Epoch 40/100\n",
      "250/250 [==============================] - ETA: 0s - loss: 0.2176\n",
      "Epoch 00040: val_loss did not improve from 0.52467\n",
      "250/250 [==============================] - 55s 220ms/step - loss: 0.2176 - val_loss: 0.5492\n",
      "Epoch 41/100\n",
      "250/250 [==============================] - ETA: 0s - loss: 0.2039\n",
      "Epoch 00041: val_loss did not improve from 0.52467\n",
      "250/250 [==============================] - 55s 221ms/step - loss: 0.2039 - val_loss: 0.5681\n",
      "Epoch 42/100\n",
      "250/250 [==============================] - ETA: 0s - loss: 0.1973\n",
      "Epoch 00042: val_loss did not improve from 0.52467\n",
      "250/250 [==============================] - 55s 221ms/step - loss: 0.1973 - val_loss: 0.5622\n",
      "Epoch 43/100\n",
      "250/250 [==============================] - ETA: 0s - loss: 0.1972\n",
      "Epoch 00043: val_loss did not improve from 0.52467\n",
      "250/250 [==============================] - 55s 221ms/step - loss: 0.1972 - val_loss: 0.5633\n",
      "Epoch 44/100\n",
      "250/250 [==============================] - ETA: 0s - loss: 0.1908\n",
      "Epoch 00044: val_loss did not improve from 0.52467\n",
      "250/250 [==============================] - 55s 220ms/step - loss: 0.1908 - val_loss: 0.5643\n",
      "Epoch 45/100\n",
      "250/250 [==============================] - ETA: 0s - loss: 0.1727\n",
      "Epoch 00045: val_loss did not improve from 0.52467\n",
      "250/250 [==============================] - 55s 221ms/step - loss: 0.1727 - val_loss: 0.5925\n",
      "Epoch 46/100\n",
      "250/250 [==============================] - ETA: 0s - loss: 0.1740\n",
      "Epoch 00046: val_loss did not improve from 0.52467\n",
      "250/250 [==============================] - 55s 220ms/step - loss: 0.1740 - val_loss: 0.5991\n",
      "Epoch 47/100\n",
      "250/250 [==============================] - ETA: 0s - loss: 0.1759\n",
      "Epoch 00047: val_loss did not improve from 0.52467\n",
      "250/250 [==============================] - 55s 220ms/step - loss: 0.1759 - val_loss: 0.6136\n",
      "Epoch 48/100\n",
      "250/250 [==============================] - ETA: 0s - loss: 0.1586\n",
      "Epoch 00048: val_loss did not improve from 0.52467\n",
      "250/250 [==============================] - 55s 221ms/step - loss: 0.1586 - val_loss: 0.5932\n",
      "Epoch 49/100\n",
      "250/250 [==============================] - ETA: 0s - loss: 0.1508\n",
      "Epoch 00049: val_loss did not improve from 0.52467\n",
      "250/250 [==============================] - 55s 220ms/step - loss: 0.1508 - val_loss: 0.5995\n",
      "Epoch 50/100\n",
      "250/250 [==============================] - ETA: 0s - loss: 0.1603\n",
      "Epoch 00050: val_loss did not improve from 0.52467\n",
      "250/250 [==============================] - 55s 221ms/step - loss: 0.1603 - val_loss: 0.6435\n",
      "Epoch 51/100\n",
      "250/250 [==============================] - ETA: 0s - loss: 0.1494\n",
      "Epoch 00051: val_loss did not improve from 0.52467\n",
      "250/250 [==============================] - 55s 220ms/step - loss: 0.1494 - val_loss: 0.6157\n",
      "Epoch 52/100\n",
      "250/250 [==============================] - ETA: 0s - loss: 0.1352\n",
      "Epoch 00052: val_loss did not improve from 0.52467\n",
      "250/250 [==============================] - 55s 220ms/step - loss: 0.1352 - val_loss: 0.6236\n",
      "Epoch 53/100\n",
      "250/250 [==============================] - ETA: 0s - loss: 0.1255\n",
      "Epoch 00053: val_loss did not improve from 0.52467\n",
      "250/250 [==============================] - 55s 221ms/step - loss: 0.1255 - val_loss: 0.6292\n",
      "Epoch 54/100\n",
      "250/250 [==============================] - ETA: 0s - loss: 0.1335\n",
      "Epoch 00054: val_loss did not improve from 0.52467\n",
      "250/250 [==============================] - 55s 221ms/step - loss: 0.1335 - val_loss: 0.6515\n",
      "Epoch 55/100\n",
      "250/250 [==============================] - ETA: 0s - loss: 0.1276- ETA: 2s \n",
      "Epoch 00055: val_loss did not improve from 0.52467\n",
      "250/250 [==============================] - 55s 221ms/step - loss: 0.1276 - val_loss: 0.6379\n",
      "Epoch 56/100\n",
      "250/250 [==============================] - ETA: 0s - loss: 0.1122\n",
      "Epoch 00056: val_loss did not improve from 0.52467\n",
      "250/250 [==============================] - 55s 220ms/step - loss: 0.1122 - val_loss: 0.6530\n",
      "Epoch 57/100\n",
      "250/250 [==============================] - ETA: 0s - loss: 0.1121\n",
      "Epoch 00057: val_loss did not improve from 0.52467\n",
      "250/250 [==============================] - 55s 221ms/step - loss: 0.1121 - val_loss: 0.6869\n",
      "Epoch 58/100\n",
      "250/250 [==============================] - ETA: 0s - loss: 0.1131\n",
      "Epoch 00058: val_loss did not improve from 0.52467\n",
      "250/250 [==============================] - 55s 221ms/step - loss: 0.1131 - val_loss: 0.6859\n",
      "Epoch 59/100\n",
      "250/250 [==============================] - ETA: 0s - loss: 0.0962\n",
      "Epoch 00059: val_loss did not improve from 0.52467\n",
      "250/250 [==============================] - 55s 220ms/step - loss: 0.0962 - val_loss: 0.6750\n",
      "Epoch 60/100\n",
      "250/250 [==============================] - ETA: 0s - loss: 0.0994\n",
      "Epoch 00060: val_loss did not improve from 0.52467\n",
      "250/250 [==============================] - 55s 220ms/step - loss: 0.0994 - val_loss: 0.6913\n",
      "Epoch 61/100\n",
      "250/250 [==============================] - ETA: 0s - loss: 0.1029\n",
      "Epoch 00061: val_loss did not improve from 0.52467\n",
      "250/250 [==============================] - 55s 220ms/step - loss: 0.1029 - val_loss: 0.7017\n",
      "Epoch 62/100\n",
      "250/250 [==============================] - ETA: 0s - loss: 0.0919\n",
      "Epoch 00062: val_loss did not improve from 0.52467\n",
      "250/250 [==============================] - 55s 220ms/step - loss: 0.0919 - val_loss: 0.6922\n",
      "Epoch 63/100\n",
      "100/250 [===========>..................] - ETA: 30s - loss: 0.0788"
     ]
    },
    {
     "ename": "KeyboardInterrupt",
     "evalue": "",
     "output_type": "error",
     "traceback": [
      "\u001b[0;31m---------------------------------------------------------------------------\u001b[0m",
      "\u001b[0;31mKeyboardInterrupt\u001b[0m                         Traceback (most recent call last)",
      "\u001b[0;32m<ipython-input-11-9e46d52032c1>\u001b[0m in \u001b[0;36m<module>\u001b[0;34m\u001b[0m\n\u001b[0;32m----> 1\u001b[0;31m \u001b[0mhistory\u001b[0m \u001b[0;34m=\u001b[0m \u001b[0mnet\u001b[0m\u001b[0;34m.\u001b[0m\u001b[0mfit\u001b[0m\u001b[0;34m(\u001b[0m\u001b[0mx_train\u001b[0m\u001b[0;34m,\u001b[0m \u001b[0my_train\u001b[0m\u001b[0;34m,\u001b[0m \u001b[0mvalidation_split\u001b[0m\u001b[0;34m=\u001b[0m\u001b[0;36m0.2\u001b[0m\u001b[0;34m,\u001b[0m \u001b[0mepochs\u001b[0m\u001b[0;34m=\u001b[0m\u001b[0;36m100\u001b[0m\u001b[0;34m,\u001b[0m \u001b[0mcallbacks\u001b[0m\u001b[0;34m=\u001b[0m\u001b[0;34m[\u001b[0m\u001b[0mCheck_Point\u001b[0m\u001b[0;34m,\u001b[0m \u001b[0mreduce_lr\u001b[0m\u001b[0;34m]\u001b[0m\u001b[0;34m,\u001b[0m \u001b[0mbatch_size\u001b[0m\u001b[0;34m=\u001b[0m\u001b[0mbatch_size\u001b[0m\u001b[0;34m,\u001b[0m \u001b[0mshuffle\u001b[0m\u001b[0;34m=\u001b[0m\u001b[0;32mTrue\u001b[0m\u001b[0;34m)\u001b[0m\u001b[0;34m\u001b[0m\u001b[0;34m\u001b[0m\u001b[0m\n\u001b[0m",
      "\u001b[0;32m~/.local/lib/python3.8/site-packages/tensorflow/python/keras/engine/training.py\u001b[0m in \u001b[0;36m_method_wrapper\u001b[0;34m(self, *args, **kwargs)\u001b[0m\n\u001b[1;32m    106\u001b[0m   \u001b[0;32mdef\u001b[0m \u001b[0m_method_wrapper\u001b[0m\u001b[0;34m(\u001b[0m\u001b[0mself\u001b[0m\u001b[0;34m,\u001b[0m \u001b[0;34m*\u001b[0m\u001b[0margs\u001b[0m\u001b[0;34m,\u001b[0m \u001b[0;34m**\u001b[0m\u001b[0mkwargs\u001b[0m\u001b[0;34m)\u001b[0m\u001b[0;34m:\u001b[0m\u001b[0;34m\u001b[0m\u001b[0;34m\u001b[0m\u001b[0m\n\u001b[1;32m    107\u001b[0m     \u001b[0;32mif\u001b[0m \u001b[0;32mnot\u001b[0m \u001b[0mself\u001b[0m\u001b[0;34m.\u001b[0m\u001b[0m_in_multi_worker_mode\u001b[0m\u001b[0;34m(\u001b[0m\u001b[0;34m)\u001b[0m\u001b[0;34m:\u001b[0m  \u001b[0;31m# pylint: disable=protected-access\u001b[0m\u001b[0;34m\u001b[0m\u001b[0;34m\u001b[0m\u001b[0m\n\u001b[0;32m--> 108\u001b[0;31m       \u001b[0;32mreturn\u001b[0m \u001b[0mmethod\u001b[0m\u001b[0;34m(\u001b[0m\u001b[0mself\u001b[0m\u001b[0;34m,\u001b[0m \u001b[0;34m*\u001b[0m\u001b[0margs\u001b[0m\u001b[0;34m,\u001b[0m \u001b[0;34m**\u001b[0m\u001b[0mkwargs\u001b[0m\u001b[0;34m)\u001b[0m\u001b[0;34m\u001b[0m\u001b[0;34m\u001b[0m\u001b[0m\n\u001b[0m\u001b[1;32m    109\u001b[0m \u001b[0;34m\u001b[0m\u001b[0m\n\u001b[1;32m    110\u001b[0m     \u001b[0;31m# Running inside `run_distribute_coordinator` already.\u001b[0m\u001b[0;34m\u001b[0m\u001b[0;34m\u001b[0m\u001b[0;34m\u001b[0m\u001b[0m\n",
      "\u001b[0;32m~/.local/lib/python3.8/site-packages/tensorflow/python/keras/engine/training.py\u001b[0m in \u001b[0;36mfit\u001b[0;34m(self, x, y, batch_size, epochs, verbose, callbacks, validation_split, validation_data, shuffle, class_weight, sample_weight, initial_epoch, steps_per_epoch, validation_steps, validation_batch_size, validation_freq, max_queue_size, workers, use_multiprocessing)\u001b[0m\n\u001b[1;32m   1096\u001b[0m                 batch_size=batch_size):\n\u001b[1;32m   1097\u001b[0m               \u001b[0mcallbacks\u001b[0m\u001b[0;34m.\u001b[0m\u001b[0mon_train_batch_begin\u001b[0m\u001b[0;34m(\u001b[0m\u001b[0mstep\u001b[0m\u001b[0;34m)\u001b[0m\u001b[0;34m\u001b[0m\u001b[0;34m\u001b[0m\u001b[0m\n\u001b[0;32m-> 1098\u001b[0;31m               \u001b[0mtmp_logs\u001b[0m \u001b[0;34m=\u001b[0m \u001b[0mtrain_function\u001b[0m\u001b[0;34m(\u001b[0m\u001b[0miterator\u001b[0m\u001b[0;34m)\u001b[0m\u001b[0;34m\u001b[0m\u001b[0;34m\u001b[0m\u001b[0m\n\u001b[0m\u001b[1;32m   1099\u001b[0m               \u001b[0;32mif\u001b[0m \u001b[0mdata_handler\u001b[0m\u001b[0;34m.\u001b[0m\u001b[0mshould_sync\u001b[0m\u001b[0;34m:\u001b[0m\u001b[0;34m\u001b[0m\u001b[0;34m\u001b[0m\u001b[0m\n\u001b[1;32m   1100\u001b[0m                 \u001b[0mcontext\u001b[0m\u001b[0;34m.\u001b[0m\u001b[0masync_wait\u001b[0m\u001b[0;34m(\u001b[0m\u001b[0;34m)\u001b[0m\u001b[0;34m\u001b[0m\u001b[0;34m\u001b[0m\u001b[0m\n",
      "\u001b[0;32m~/.local/lib/python3.8/site-packages/tensorflow/python/eager/def_function.py\u001b[0m in \u001b[0;36m__call__\u001b[0;34m(self, *args, **kwds)\u001b[0m\n\u001b[1;32m    778\u001b[0m       \u001b[0;32melse\u001b[0m\u001b[0;34m:\u001b[0m\u001b[0;34m\u001b[0m\u001b[0;34m\u001b[0m\u001b[0m\n\u001b[1;32m    779\u001b[0m         \u001b[0mcompiler\u001b[0m \u001b[0;34m=\u001b[0m \u001b[0;34m\"nonXla\"\u001b[0m\u001b[0;34m\u001b[0m\u001b[0;34m\u001b[0m\u001b[0m\n\u001b[0;32m--> 780\u001b[0;31m         \u001b[0mresult\u001b[0m \u001b[0;34m=\u001b[0m \u001b[0mself\u001b[0m\u001b[0;34m.\u001b[0m\u001b[0m_call\u001b[0m\u001b[0;34m(\u001b[0m\u001b[0;34m*\u001b[0m\u001b[0margs\u001b[0m\u001b[0;34m,\u001b[0m \u001b[0;34m**\u001b[0m\u001b[0mkwds\u001b[0m\u001b[0;34m)\u001b[0m\u001b[0;34m\u001b[0m\u001b[0;34m\u001b[0m\u001b[0m\n\u001b[0m\u001b[1;32m    781\u001b[0m \u001b[0;34m\u001b[0m\u001b[0m\n\u001b[1;32m    782\u001b[0m       \u001b[0mnew_tracing_count\u001b[0m \u001b[0;34m=\u001b[0m \u001b[0mself\u001b[0m\u001b[0;34m.\u001b[0m\u001b[0m_get_tracing_count\u001b[0m\u001b[0;34m(\u001b[0m\u001b[0;34m)\u001b[0m\u001b[0;34m\u001b[0m\u001b[0;34m\u001b[0m\u001b[0m\n",
      "\u001b[0;32m~/.local/lib/python3.8/site-packages/tensorflow/python/eager/def_function.py\u001b[0m in \u001b[0;36m_call\u001b[0;34m(self, *args, **kwds)\u001b[0m\n\u001b[1;32m    805\u001b[0m       \u001b[0;31m# In this case we have created variables on the first call, so we run the\u001b[0m\u001b[0;34m\u001b[0m\u001b[0;34m\u001b[0m\u001b[0;34m\u001b[0m\u001b[0m\n\u001b[1;32m    806\u001b[0m       \u001b[0;31m# defunned version which is guaranteed to never create variables.\u001b[0m\u001b[0;34m\u001b[0m\u001b[0;34m\u001b[0m\u001b[0;34m\u001b[0m\u001b[0m\n\u001b[0;32m--> 807\u001b[0;31m       \u001b[0;32mreturn\u001b[0m \u001b[0mself\u001b[0m\u001b[0;34m.\u001b[0m\u001b[0m_stateless_fn\u001b[0m\u001b[0;34m(\u001b[0m\u001b[0;34m*\u001b[0m\u001b[0margs\u001b[0m\u001b[0;34m,\u001b[0m \u001b[0;34m**\u001b[0m\u001b[0mkwds\u001b[0m\u001b[0;34m)\u001b[0m  \u001b[0;31m# pylint: disable=not-callable\u001b[0m\u001b[0;34m\u001b[0m\u001b[0;34m\u001b[0m\u001b[0m\n\u001b[0m\u001b[1;32m    808\u001b[0m     \u001b[0;32melif\u001b[0m \u001b[0mself\u001b[0m\u001b[0;34m.\u001b[0m\u001b[0m_stateful_fn\u001b[0m \u001b[0;32mis\u001b[0m \u001b[0;32mnot\u001b[0m \u001b[0;32mNone\u001b[0m\u001b[0;34m:\u001b[0m\u001b[0;34m\u001b[0m\u001b[0;34m\u001b[0m\u001b[0m\n\u001b[1;32m    809\u001b[0m       \u001b[0;31m# Release the lock early so that multiple threads can perform the call\u001b[0m\u001b[0;34m\u001b[0m\u001b[0;34m\u001b[0m\u001b[0;34m\u001b[0m\u001b[0m\n",
      "\u001b[0;32m~/.local/lib/python3.8/site-packages/tensorflow/python/eager/function.py\u001b[0m in \u001b[0;36m__call__\u001b[0;34m(self, *args, **kwargs)\u001b[0m\n\u001b[1;32m   2827\u001b[0m     \u001b[0;32mwith\u001b[0m \u001b[0mself\u001b[0m\u001b[0;34m.\u001b[0m\u001b[0m_lock\u001b[0m\u001b[0;34m:\u001b[0m\u001b[0;34m\u001b[0m\u001b[0;34m\u001b[0m\u001b[0m\n\u001b[1;32m   2828\u001b[0m       \u001b[0mgraph_function\u001b[0m\u001b[0;34m,\u001b[0m \u001b[0margs\u001b[0m\u001b[0;34m,\u001b[0m \u001b[0mkwargs\u001b[0m \u001b[0;34m=\u001b[0m \u001b[0mself\u001b[0m\u001b[0;34m.\u001b[0m\u001b[0m_maybe_define_function\u001b[0m\u001b[0;34m(\u001b[0m\u001b[0margs\u001b[0m\u001b[0;34m,\u001b[0m \u001b[0mkwargs\u001b[0m\u001b[0;34m)\u001b[0m\u001b[0;34m\u001b[0m\u001b[0;34m\u001b[0m\u001b[0m\n\u001b[0;32m-> 2829\u001b[0;31m     \u001b[0;32mreturn\u001b[0m \u001b[0mgraph_function\u001b[0m\u001b[0;34m.\u001b[0m\u001b[0m_filtered_call\u001b[0m\u001b[0;34m(\u001b[0m\u001b[0margs\u001b[0m\u001b[0;34m,\u001b[0m \u001b[0mkwargs\u001b[0m\u001b[0;34m)\u001b[0m  \u001b[0;31m# pylint: disable=protected-access\u001b[0m\u001b[0;34m\u001b[0m\u001b[0;34m\u001b[0m\u001b[0m\n\u001b[0m\u001b[1;32m   2830\u001b[0m \u001b[0;34m\u001b[0m\u001b[0m\n\u001b[1;32m   2831\u001b[0m   \u001b[0;34m@\u001b[0m\u001b[0mproperty\u001b[0m\u001b[0;34m\u001b[0m\u001b[0;34m\u001b[0m\u001b[0m\n",
      "\u001b[0;32m~/.local/lib/python3.8/site-packages/tensorflow/python/eager/function.py\u001b[0m in \u001b[0;36m_filtered_call\u001b[0;34m(self, args, kwargs, cancellation_manager)\u001b[0m\n\u001b[1;32m   1841\u001b[0m       \u001b[0;31m`\u001b[0m\u001b[0margs\u001b[0m\u001b[0;31m`\u001b[0m \u001b[0;32mand\u001b[0m\u001b[0;31m \u001b[0m\u001b[0;31m`\u001b[0m\u001b[0mkwargs\u001b[0m\u001b[0;31m`\u001b[0m\u001b[0;34m.\u001b[0m\u001b[0;34m\u001b[0m\u001b[0;34m\u001b[0m\u001b[0m\n\u001b[1;32m   1842\u001b[0m     \"\"\"\n\u001b[0;32m-> 1843\u001b[0;31m     return self._call_flat(\n\u001b[0m\u001b[1;32m   1844\u001b[0m         [t for t in nest.flatten((args, kwargs), expand_composites=True)\n\u001b[1;32m   1845\u001b[0m          if isinstance(t, (ops.Tensor,\n",
      "\u001b[0;32m~/.local/lib/python3.8/site-packages/tensorflow/python/eager/function.py\u001b[0m in \u001b[0;36m_call_flat\u001b[0;34m(self, args, captured_inputs, cancellation_manager)\u001b[0m\n\u001b[1;32m   1921\u001b[0m         and executing_eagerly):\n\u001b[1;32m   1922\u001b[0m       \u001b[0;31m# No tape is watching; skip to running the function.\u001b[0m\u001b[0;34m\u001b[0m\u001b[0;34m\u001b[0m\u001b[0;34m\u001b[0m\u001b[0m\n\u001b[0;32m-> 1923\u001b[0;31m       return self._build_call_outputs(self._inference_function.call(\n\u001b[0m\u001b[1;32m   1924\u001b[0m           ctx, args, cancellation_manager=cancellation_manager))\n\u001b[1;32m   1925\u001b[0m     forward_backward = self._select_forward_and_backward_functions(\n",
      "\u001b[0;32m~/.local/lib/python3.8/site-packages/tensorflow/python/eager/function.py\u001b[0m in \u001b[0;36mcall\u001b[0;34m(self, ctx, args, cancellation_manager)\u001b[0m\n\u001b[1;32m    543\u001b[0m       \u001b[0;32mwith\u001b[0m \u001b[0m_InterpolateFunctionError\u001b[0m\u001b[0;34m(\u001b[0m\u001b[0mself\u001b[0m\u001b[0;34m)\u001b[0m\u001b[0;34m:\u001b[0m\u001b[0;34m\u001b[0m\u001b[0;34m\u001b[0m\u001b[0m\n\u001b[1;32m    544\u001b[0m         \u001b[0;32mif\u001b[0m \u001b[0mcancellation_manager\u001b[0m \u001b[0;32mis\u001b[0m \u001b[0;32mNone\u001b[0m\u001b[0;34m:\u001b[0m\u001b[0;34m\u001b[0m\u001b[0;34m\u001b[0m\u001b[0m\n\u001b[0;32m--> 545\u001b[0;31m           outputs = execute.execute(\n\u001b[0m\u001b[1;32m    546\u001b[0m               \u001b[0mstr\u001b[0m\u001b[0;34m(\u001b[0m\u001b[0mself\u001b[0m\u001b[0;34m.\u001b[0m\u001b[0msignature\u001b[0m\u001b[0;34m.\u001b[0m\u001b[0mname\u001b[0m\u001b[0;34m)\u001b[0m\u001b[0;34m,\u001b[0m\u001b[0;34m\u001b[0m\u001b[0;34m\u001b[0m\u001b[0m\n\u001b[1;32m    547\u001b[0m               \u001b[0mnum_outputs\u001b[0m\u001b[0;34m=\u001b[0m\u001b[0mself\u001b[0m\u001b[0;34m.\u001b[0m\u001b[0m_num_outputs\u001b[0m\u001b[0;34m,\u001b[0m\u001b[0;34m\u001b[0m\u001b[0;34m\u001b[0m\u001b[0m\n",
      "\u001b[0;32m~/.local/lib/python3.8/site-packages/tensorflow/python/eager/execute.py\u001b[0m in \u001b[0;36mquick_execute\u001b[0;34m(op_name, num_outputs, inputs, attrs, ctx, name)\u001b[0m\n\u001b[1;32m     57\u001b[0m   \u001b[0;32mtry\u001b[0m\u001b[0;34m:\u001b[0m\u001b[0;34m\u001b[0m\u001b[0;34m\u001b[0m\u001b[0m\n\u001b[1;32m     58\u001b[0m     \u001b[0mctx\u001b[0m\u001b[0;34m.\u001b[0m\u001b[0mensure_initialized\u001b[0m\u001b[0;34m(\u001b[0m\u001b[0;34m)\u001b[0m\u001b[0;34m\u001b[0m\u001b[0;34m\u001b[0m\u001b[0m\n\u001b[0;32m---> 59\u001b[0;31m     tensors = pywrap_tfe.TFE_Py_Execute(ctx._handle, device_name, op_name,\n\u001b[0m\u001b[1;32m     60\u001b[0m                                         inputs, attrs, num_outputs)\n\u001b[1;32m     61\u001b[0m   \u001b[0;32mexcept\u001b[0m \u001b[0mcore\u001b[0m\u001b[0;34m.\u001b[0m\u001b[0m_NotOkStatusException\u001b[0m \u001b[0;32mas\u001b[0m \u001b[0me\u001b[0m\u001b[0;34m:\u001b[0m\u001b[0;34m\u001b[0m\u001b[0;34m\u001b[0m\u001b[0m\n",
      "\u001b[0;31mKeyboardInterrupt\u001b[0m: "
     ]
    }
   ],
   "source": [
    "history = net.fit(x_train, y_train, validation_split=0.2, epochs=100, callbacks=[Check_Point, reduce_lr], batch_size=batch_size, shuffle=True)"
   ]
  },
  {
   "cell_type": "code",
   "execution_count": 13,
   "metadata": {},
   "outputs": [],
   "source": [
    "np.save('history/my_history_v9_2.npy',history.history)"
   ]
  },
  {
   "cell_type": "code",
   "execution_count": 23,
   "metadata": {},
   "outputs": [],
   "source": [
    "import numpy as np\n",
    "his = np.load('my_history_v5.npy', allow_pickle=True)"
   ]
  },
  {
   "cell_type": "code",
   "execution_count": 12,
   "metadata": {},
   "outputs": [
    {
     "data": {
      "text/plain": [
       "[<matplotlib.lines.Line2D at 0x7fc091347460>]"
      ]
     },
     "execution_count": 12,
     "metadata": {},
     "output_type": "execute_result"
    },
    {
     "data": {
      "image/png": "[encoded data removed]",
      "text/plain": [
       "<Figure size 432x288 with 1 Axes>"
      ]
     },
     "metadata": {
      "needs_background": "light"
     },
     "output_type": "display_data"
    }
   ],
   "source": [
    "import matplotlib.pyplot as plt\n",
    "plt.plot(range(1, 101), history.history['loss'])\n",
    "plt.plot(range(1, 101), history.history['val_loss'])"
   ]
  },
  {
   "cell_type": "code",
   "execution_count": 14,
   "metadata": {},
   "outputs": [],
   "source": [
    "import imageio\n",
    "\n",
    "im = imageio.imread('../dataset/cv/train/mario.png')"
   ]
  },
  {
   "cell_type": "code",
   "execution_count": 15,
   "metadata": {},
   "outputs": [
    {
     "name": "stderr",
     "output_type": "stream",
     "text": [
      "<ipython-input-15-d15eb699efec>:5: FutureWarning: Non RGB image conversion is now deprecated. For RGBA images, please use rgb2gray(rgba2rgb(rgb)) instead. In version 0.19, a ValueError will be raised if input image last dimension length is not 3.\n",
      "  im = color.rgb2gray(im)\n"
     ]
    }
   ],
   "source": [
    "import cv2\n",
    "from skimage import color\n",
    "\n",
    "im = cv2.resize(im, (128, 128))\n",
    "im = color.rgb2gray(im)"
   ]
  },
  {
   "cell_type": "code",
   "execution_count": 16,
   "metadata": {},
   "outputs": [],
   "source": [
    "im = np.expand_dims(im, axis=-1)"
   ]
  },
  {
   "cell_type": "code",
   "execution_count": 20,
   "metadata": {},
   "outputs": [],
   "source": [
    "def decode_ctc(args):\n",
    "    \"\"\"returns a list of decoded ctc losses\"\"\"\n",
    "\n",
    "    y_pred, input_length = args\n",
    "\n",
    "    ctc_decoded = tf.keras.backend.ctc_decode(\n",
    "        y_pred, input_length, greedy=True)\n",
    "\n",
    "    return ctc_decoded"
   ]
  },
  {
   "cell_type": "code",
   "execution_count": 21,
   "metadata": {},
   "outputs": [
    {
     "name": "stdout",
     "output_type": "stream",
     "text": [
      "WARNING:tensorflow:From /home/grauso/.local/lib/python3.8/site-packages/tensorflow/python/util/dispatch.py:201: sparse_to_dense (from tensorflow.python.ops.sparse_ops) is deprecated and will be removed in a future version.\n",
      "Instructions for updating:\n",
      "Create a `tf.sparse.SparseTensor` and use `tf.sparse.to_dense` instead.\n"
     ]
    }
   ],
   "source": [
    "pred_tensor, _ = decode_ctc([net.predict(np.expand_dims(im, axis=0)), np.array([t_dist_dim])])\n",
    "pred_labels = tf.keras.backend.get_value(pred_tensor[0])"
   ]
  },
  {
   "cell_type": "code",
   "execution_count": 22,
   "metadata": {},
   "outputs": [
    {
     "data": {
      "text/plain": [
       "array([[14, -1, -1, -1, -1, -1, -1, -1, -1, -1, -1, -1, -1, -1, -1, -1,\n",
       "        -1, -1, -1, -1, -1, -1, -1, -1, -1, -1, -1, -1, -1, -1, -1, -1,\n",
       "        -1, -1, -1, -1, -1, -1, -1, -1, -1, -1, -1, -1, -1, -1, -1, -1,\n",
       "        -1, -1, -1, -1, -1, -1, -1, -1, -1, -1, -1, -1, -1, -1, -1, -1,\n",
       "        -1, -1, -1, -1, -1, -1, -1, -1, -1, -1, -1, -1, -1, -1, -1, -1,\n",
       "        -1, -1, -1, -1, -1, -1, -1, -1, -1, -1, -1, -1, -1, -1, -1, -1,\n",
       "        -1, -1, -1, -1, -1, -1, -1, -1, -1, -1, -1, -1, -1, -1, -1, -1,\n",
       "        -1, -1, -1, -1, -1, -1, -1, -1, -1, -1, -1, -1, -1, -1, -1, -1]])"
      ]
     },
     "execution_count": 22,
     "metadata": {},
     "output_type": "execute_result"
    }
   ],
   "source": [
    "pred_labels"
   ]
  },
  {
   "cell_type": "code",
   "execution_count": 23,
   "metadata": {},
   "outputs": [
    {
     "data": {
      "text/plain": [
       "<tf.Tensor: shape=(1, 128), dtype=string, numpy=\n",
       "array([[b'E', b'[UNK]', b'[UNK]', b'[UNK]', b'[UNK]', b'[UNK]', b'[UNK]',\n",
       "        b'[UNK]', b'[UNK]', b'[UNK]', b'[UNK]', b'[UNK]', b'[UNK]',\n",
       "        b'[UNK]', b'[UNK]', b'[UNK]', b'[UNK]', b'[UNK]', b'[UNK]',\n",
       "        b'[UNK]', b'[UNK]', b'[UNK]', b'[UNK]', b'[UNK]', b'[UNK]',\n",
       "        b'[UNK]', b'[UNK]', b'[UNK]', b'[UNK]', b'[UNK]', b'[UNK]',\n",
       "        b'[UNK]', b'[UNK]', b'[UNK]', b'[UNK]', b'[UNK]', b'[UNK]',\n",
       "        b'[UNK]', b'[UNK]', b'[UNK]', b'[UNK]', b'[UNK]', b'[UNK]',\n",
       "        b'[UNK]', b'[UNK]', b'[UNK]', b'[UNK]', b'[UNK]', b'[UNK]',\n",
       "        b'[UNK]', b'[UNK]', b'[UNK]', b'[UNK]', b'[UNK]', b'[UNK]',\n",
       "        b'[UNK]', b'[UNK]', b'[UNK]', b'[UNK]', b'[UNK]', b'[UNK]',\n",
       "        b'[UNK]', b'[UNK]', b'[UNK]', b'[UNK]', b'[UNK]', b'[UNK]',\n",
       "        b'[UNK]', b'[UNK]', b'[UNK]', b'[UNK]', b'[UNK]', b'[UNK]',\n",
       "        b'[UNK]', b'[UNK]', b'[UNK]', b'[UNK]', b'[UNK]', b'[UNK]',\n",
       "        b'[UNK]', b'[UNK]', b'[UNK]', b'[UNK]', b'[UNK]', b'[UNK]',\n",
       "        b'[UNK]', b'[UNK]', b'[UNK]', b'[UNK]', b'[UNK]', b'[UNK]',\n",
       "        b'[UNK]', b'[UNK]', b'[UNK]', b'[UNK]', b'[UNK]', b'[UNK]',\n",
       "        b'[UNK]', b'[UNK]', b'[UNK]', b'[UNK]', b'[UNK]', b'[UNK]',\n",
       "        b'[UNK]', b'[UNK]', b'[UNK]', b'[UNK]', b'[UNK]', b'[UNK]',\n",
       "        b'[UNK]', b'[UNK]', b'[UNK]', b'[UNK]', b'[UNK]', b'[UNK]',\n",
       "        b'[UNK]', b'[UNK]', b'[UNK]', b'[UNK]', b'[UNK]', b'[UNK]',\n",
       "        b'[UNK]', b'[UNK]', b'[UNK]', b'[UNK]', b'[UNK]', b'[UNK]',\n",
       "        b'[UNK]']], dtype=object)>"
      ]
     },
     "execution_count": 23,
     "metadata": {},
     "output_type": "execute_result"
    }
   ],
   "source": [
    "num_to_char(pred_labels)"
   ]
  },
  {
   "cell_type": "code",
   "execution_count": 41,
   "metadata": {},
   "outputs": [
    {
     "data": {
      "image/png": "[encoded data removed]",
      "text/plain": [
       "<Figure size 432x288 with 1 Axes>"
      ]
     },
     "metadata": {
      "needs_background": "light"
     },
     "output_type": "display_data"
    }
   ],
   "source": [
    "import matplotlib.pyplot as plt\n",
    "plt.imshow(im, cmap='gray')\n",
    "plt.show()"
   ]
  },
  {
   "cell_type": "code",
   "execution_count": 54,
   "metadata": {},
   "outputs": [
    {
     "data": {
      "image/png": "[encoded data removed]",
      "text/plain": [
       "<PIL.Image.Image image mode=RGB size=128x32 at 0x7FA125EF0580>"
      ]
     },
     "metadata": {},
     "output_type": "display_data"
    }
   ],
   "source": [
    "from trdg.generators import GeneratorFromRandom  \n",
    "base_generator = GeneratorFromRandom(use_symbols=False, use_letters=True, length=1, width=128, size=32)\n",
    "img, lbl = next(base_generator)\n",
    "display(img)"
   ]
  },
  {
   "cell_type": "code",
   "execution_count": 55,
   "metadata": {},
   "outputs": [],
   "source": [
    "im = cv2.resize(np.array(img), (128, 128))\n",
    "im = color.rgb2gray(im)\n",
    "im = np.expand_dims(im, axis=-1)"
   ]
  },
  {
   "cell_type": "code",
   "execution_count": null,
   "metadata": {},
   "outputs": [],
   "source": []
  },
  {
   "cell_type": "code",
   "execution_count": 59,
   "metadata": {},
   "outputs": [],
   "source": [
    "pred_tensor, _ = decode_ctc([net.predict(np.expand_dims(imgs[50], axis=0)), np.array([t_dist_dim])])\n",
    "pred_labels = tf.keras.backend.get_value(pred_tensor[0])"
   ]
  },
  {
   "cell_type": "code",
   "execution_count": 60,
   "metadata": {},
   "outputs": [
    {
     "data": {
      "text/plain": [
       "array([[43, 55, -1, -1, -1, -1, -1, -1, -1, -1, -1, -1, -1, -1, -1, -1,\n",
       "        -1, -1, -1, -1, -1, -1, -1, -1, -1, -1, -1, -1, -1, -1, -1, -1,\n",
       "        -1, -1, -1, -1, -1, -1, -1, -1, -1, -1, -1, -1, -1, -1, -1, -1,\n",
       "        -1, -1, -1, -1, -1, -1, -1, -1, -1, -1, -1, -1, -1, -1, -1, -1,\n",
       "        -1, -1, -1, -1, -1, -1, -1, -1, -1, -1, -1, -1, -1, -1, -1, -1,\n",
       "        -1, -1, -1, -1, -1, -1, -1, -1, -1, -1, -1, -1, -1, -1, -1, -1,\n",
       "        -1, -1, -1, -1, -1, -1, -1, -1, -1, -1, -1, -1, -1, -1, -1, -1,\n",
       "        -1, -1, -1, -1, -1, -1, -1, -1, -1, -1, -1, -1, -1, -1, -1, -1]])"
      ]
     },
     "execution_count": 60,
     "metadata": {},
     "output_type": "execute_result"
    }
   ],
   "source": [
    "pred_labels"
   ]
  },
  {
   "cell_type": "code",
   "execution_count": 61,
   "metadata": {},
   "outputs": [
    {
     "data": {
      "text/plain": [
       "<tf.Tensor: shape=(1, 128), dtype=string, numpy=\n",
       "array([[b'h', b't', b'[UNK]', b'[UNK]', b'[UNK]', b'[UNK]', b'[UNK]',\n",
       "        b'[UNK]', b'[UNK]', b'[UNK]', b'[UNK]', b'[UNK]', b'[UNK]',\n",
       "        b'[UNK]', b'[UNK]', b'[UNK]', b'[UNK]', b'[UNK]', b'[UNK]',\n",
       "        b'[UNK]', b'[UNK]', b'[UNK]', b'[UNK]', b'[UNK]', b'[UNK]',\n",
       "        b'[UNK]', b'[UNK]', b'[UNK]', b'[UNK]', b'[UNK]', b'[UNK]',\n",
       "        b'[UNK]', b'[UNK]', b'[UNK]', b'[UNK]', b'[UNK]', b'[UNK]',\n",
       "        b'[UNK]', b'[UNK]', b'[UNK]', b'[UNK]', b'[UNK]', b'[UNK]',\n",
       "        b'[UNK]', b'[UNK]', b'[UNK]', b'[UNK]', b'[UNK]', b'[UNK]',\n",
       "        b'[UNK]', b'[UNK]', b'[UNK]', b'[UNK]', b'[UNK]', b'[UNK]',\n",
       "        b'[UNK]', b'[UNK]', b'[UNK]', b'[UNK]', b'[UNK]', b'[UNK]',\n",
       "        b'[UNK]', b'[UNK]', b'[UNK]', b'[UNK]', b'[UNK]', b'[UNK]',\n",
       "        b'[UNK]', b'[UNK]', b'[UNK]', b'[UNK]', b'[UNK]', b'[UNK]',\n",
       "        b'[UNK]', b'[UNK]', b'[UNK]', b'[UNK]', b'[UNK]', b'[UNK]',\n",
       "        b'[UNK]', b'[UNK]', b'[UNK]', b'[UNK]', b'[UNK]', b'[UNK]',\n",
       "        b'[UNK]', b'[UNK]', b'[UNK]', b'[UNK]', b'[UNK]', b'[UNK]',\n",
       "        b'[UNK]', b'[UNK]', b'[UNK]', b'[UNK]', b'[UNK]', b'[UNK]',\n",
       "        b'[UNK]', b'[UNK]', b'[UNK]', b'[UNK]', b'[UNK]', b'[UNK]',\n",
       "        b'[UNK]', b'[UNK]', b'[UNK]', b'[UNK]', b'[UNK]', b'[UNK]',\n",
       "        b'[UNK]', b'[UNK]', b'[UNK]', b'[UNK]', b'[UNK]', b'[UNK]',\n",
       "        b'[UNK]', b'[UNK]', b'[UNK]', b'[UNK]', b'[UNK]', b'[UNK]',\n",
       "        b'[UNK]', b'[UNK]', b'[UNK]', b'[UNK]', b'[UNK]', b'[UNK]',\n",
       "        b'[UNK]']], dtype=object)>"
      ]
     },
     "execution_count": 61,
     "metadata": {},
     "output_type": "execute_result"
    }
   ],
   "source": [
    "num_to_char(pred_labels)"
   ]
  },
  {
   "cell_type": "code",
   "execution_count": 62,
   "metadata": {},
   "outputs": [
    {
     "data": {
      "text/plain": [
       "'ht'"
      ]
     },
     "execution_count": 62,
     "metadata": {},
     "output_type": "execute_result"
    }
   ],
   "source": [
    "labels[50]"
   ]
  },
  {
   "cell_type": "code",
   "execution_count": null,
   "metadata": {},
   "outputs": [],
   "source": []
  }
 ],
 "metadata": {
  "kernelspec": {
   "display_name": "Python 3",
   "language": "python",
   "name": "python3"
  },
  "language_info": {
   "codemirror_mode": {
    "name": "ipython",
    "version": 3
   },
   "file_extension": ".py",
   "mimetype": "text/x-python",
   "name": "python",
   "nbconvert_exporter": "python",
   "pygments_lexer": "ipython3",
   "version": "3.8.10"
  }
 },
 "nbformat": 4,
 "nbformat_minor": 4
}
