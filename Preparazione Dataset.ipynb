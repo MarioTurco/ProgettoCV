{
 "cells": [
  {
   "cell_type": "code",
   "execution_count": 36,
   "metadata": {},
   "outputs": [],
   "source": [
    "import json\n",
    "\n",
    "with open('../dataset_text_rec/train_task2_labels.json') as f:\n",
    "    data = json.load(f)\n",
    "\n",
    "labels = []\n",
    "for i in sorted(data, key = lambda x: (int(x.split(\"_\")[1]), int(x.split(\"_\")[2]))):\n",
    "    if data[i][0]['language'] == 'Latin':\n",
    "        labels.append(data[i][0]['transcription'])"
   ]
  },
  {
   "cell_type": "code",
   "execution_count": 42,
   "metadata": {},
   "outputs": [],
   "source": [
    "import numpy as np\n",
    "\n",
    "np.save('../dataset_text_rec/labels', labels)"
   ]
  },
  {
   "cell_type": "code",
   "execution_count": 59,
   "metadata": {},
   "outputs": [
    {
     "name": "stderr",
     "output_type": "stream",
     "text": [
      "<ipython-input-59-cf3c4c7a8a05>:8: VisibleDeprecationWarning: Creating an ndarray from ragged nested sequences (which is a list-or-tuple of lists-or-tuples-or ndarrays with different lengths or shapes) is deprecated. If you meant to do this, you must specify 'dtype=object' when creating the ndarray\n",
      "  imgs = np.array(imgs)\n"
     ]
    }
   ],
   "source": [
    "import imageio\n",
    "import glob\n",
    "\n",
    "imgs = []\n",
    "for i in sorted(data, key = lambda x: (int(x.split(\"_\")[1]), int(x.split(\"_\")[2]))):\n",
    "    if data[i][0]['language'] == 'Latin':\n",
    "        imgs.append(imageio.imread(\"../dataset_text_rec/train_task2_images/\" + i + \".jpg\"))\n",
    "imgs = np.array(imgs)"
   ]
  },
  {
   "cell_type": "code",
   "execution_count": 96,
   "metadata": {},
   "outputs": [],
   "source": [
    "import cv2\n",
    "\n",
    "def resize_dataset(imgs, dim):\n",
    "    res_imgs = []\n",
    "    for img in imgs:\n",
    "        res_imgs.append(cv2.resize(img, dim))\n",
    "    return np.array(res_imgs)"
   ]
  },
  {
   "cell_type": "code",
   "execution_count": 98,
   "metadata": {},
   "outputs": [],
   "source": [
    "res_imgs = resize_dataset(imgs, (128, 128))"
   ]
  },
  {
   "cell_type": "code",
   "execution_count": 107,
   "metadata": {},
   "outputs": [],
   "source": [
    "np.savez_compressed('../dataset_text_rec/imgs', res_imgs)"
   ]
  },
  {
   "cell_type": "code",
   "execution_count": 111,
   "metadata": {},
   "outputs": [
    {
     "name": "stdout",
     "output_type": "stream",
     "text": [
      "tf.Tensor([b'E' b'S' b'T'], shape=(3,), dtype=string)\n"
     ]
    }
   ],
   "source": [
    "import tensorflow as tf\n",
    "\n",
    "print(tf.strings.unicode_split(labels[0], input_encoding='UTF-8'))"
   ]
  },
  {
   "cell_type": "code",
   "execution_count": 112,
   "metadata": {},
   "outputs": [
    {
     "data": {
      "text/plain": [
       "'EST'"
      ]
     },
     "execution_count": 112,
     "metadata": {},
     "output_type": "execute_result"
    }
   ],
   "source": [
    "labels[0]"
   ]
  },
  {
   "cell_type": "code",
   "execution_count": null,
   "metadata": {},
   "outputs": [],
   "source": []
  }
 ],
 "metadata": {
  "kernelspec": {
   "display_name": "Python 3",
   "language": "python",
   "name": "python3"
  },
  "language_info": {
   "codemirror_mode": {
    "name": "ipython",
    "version": 3
   },
   "file_extension": ".py",
   "mimetype": "text/x-python",
   "name": "python",
   "nbconvert_exporter": "python",
   "pygments_lexer": "ipython3",
   "version": "3.8.2"
  }
 },
 "nbformat": 4,
 "nbformat_minor": 4
}
