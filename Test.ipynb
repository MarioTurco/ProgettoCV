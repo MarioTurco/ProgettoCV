{
 "cells": [
  {
   "cell_type": "code",
   "execution_count": 1,
   "metadata": {},
   "outputs": [
    {
     "name": "stdout",
     "output_type": "stream",
     "text": [
      "setGPU: Setting GPU to: 0\n"
     ]
    }
   ],
   "source": [
    "import numpy as np\n",
    "from model import *\n",
    "import tensorflow as tf\n",
    "import setGPU\n",
    "import fastwer\n",
    "\n",
    "imgs = np.expand_dims(np.load('../dataset/cv/train/x/generated_text.npz')['arr_0'], axis=-1)\n",
    "imgs = np.transpose(imgs, (0, 2, 1, 3))\n",
    "labels = np.load('../dataset/cv/train/y/generated_labels.npy')\n",
    "characters = set(char for label in labels for char in label)\n",
    "t_dist_dim = int(128)"
   ]
  },
  {
   "cell_type": "code",
   "execution_count": 2,
   "metadata": {},
   "outputs": [],
   "source": [
    "# Mapping characters to integers\n",
    "char_to_num = layers.experimental.preprocessing.StringLookup(\n",
    "                  vocabulary=sorted(list(characters)), num_oov_indices=0, mask_token=None )\n",
    "\n",
    "# Mapping integers back to original characters\n",
    "num_to_char = layers.experimental.preprocessing.StringLookup(\n",
    "                  vocabulary=char_to_num.get_vocabulary(), mask_token=None, invert=True )"
   ]
  },
  {
   "cell_type": "code",
   "execution_count": 3,
   "metadata": {},
   "outputs": [],
   "source": [
    "net = build_and_compile_model_v9_7(input_shape=(128, 128, 1), len_characters=len(characters), opt=\"Adam\")"
   ]
  },
  {
   "cell_type": "code",
   "execution_count": 4,
   "metadata": {},
   "outputs": [],
   "source": [
    "net.load_weights('weights/CRNN_v9_7.h5')"
   ]
  },
  {
   "cell_type": "code",
   "execution_count": 41,
   "metadata": {},
   "outputs": [],
   "source": [
    "def decode_ctc(args):\n",
    "    \"\"\"returns a list of decoded ctc losses\"\"\"\n",
    "\n",
    "    y_pred, input_length = args\n",
    "\n",
    "    ctc_decoded = tf.keras.backend.ctc_decode(\n",
    "        y_pred, input_length, greedy=True)\n",
    "\n",
    "    return ctc_decoded\n",
    "\n",
    "def encoding_to_label(pred):\n",
    "    lst = []\n",
    "    for label in pred:\n",
    "        b = label.squeeze()[np.argwhere(label.squeeze()!=b'[UNK]')]\n",
    "        tmp = ''\n",
    "        if len(b) == 1:\n",
    "            tmp = b[0][0].decode('UTF-8')\n",
    "        else:\n",
    "            for char in b.squeeze():\n",
    "                tmp += char.decode('UTF-8')\n",
    "        lst.append(tmp)\n",
    "    return lst\n",
    "\n",
    "def predict_text(imgs, net, t_dist_dim):\n",
    "    if len(imgs.shape) == 3:\n",
    "        imgs = np.expand_dims(imgs, axis=0)\n",
    "    t_dim = np.full((imgs.shape[0],), t_dist_dim)\n",
    "    pred_tensor, _ = decode_ctc([net.predict(imgs), t_dim])\n",
    "    pred_labels = tf.keras.backend.get_value(pred_tensor[0])\n",
    "    return encoding_to_label(num_to_char(pred_labels).numpy())\n",
    "\n",
    "def predict_random_text(size, gen, net, t_dist_dim):\n",
    "    preds = []\n",
    "    y_true = []\n",
    "    for _ in range(size):\n",
    "        img, lbl = next(gen)\n",
    "        y_true.append(lbl)\n",
    "        im = cv2.resize(np.array(img), (128, 128))\n",
    "        im = color.rgb2gray(im)\n",
    "        im = np.expand_dims(im, axis=-1)\n",
    "        im = np.transpose(im, (1, 0, 2))\n",
    "        pred_tensor, _ = decode_ctc([net.predict(np.expand_dims(im, axis=0)), np.array([t_dist_dim])])\n",
    "        pred_labels = tf.keras.backend.get_value(pred_tensor[0])\n",
    "        preds.append(encoding_to_label(num_to_char(pred_labels).numpy())[0])\n",
    "    return preds, y_true"
   ]
  },
  {
   "cell_type": "code",
   "execution_count": 6,
   "metadata": {},
   "outputs": [
    {
     "name": "stdout",
     "output_type": "stream",
     "text": [
      "Missing modules for handwritten text generation.\n"
     ]
    }
   ],
   "source": [
    "import cv2\n",
    "from skimage import color\n",
    "from trdg.generators import GeneratorFromRandom, GeneratorFromWikipedia\n",
    "\n",
    "base_generator = GeneratorFromRandom(use_symbols=False, use_letters=True, length=1, width=128, size=32)"
   ]
  },
  {
   "cell_type": "code",
   "execution_count": 7,
   "metadata": {},
   "outputs": [
    {
     "name": "stdout",
     "output_type": "stream",
     "text": [
      "WARNING:tensorflow:From /home/grauso/.local/lib/python3.8/site-packages/tensorflow/python/util/dispatch.py:201: sparse_to_dense (from tensorflow.python.ops.sparse_ops) is deprecated and will be removed in a future version.\n",
      "Instructions for updating:\n",
      "Create a `tf.sparse.SparseTensor` and use `tf.sparse.to_dense` instead.\n"
     ]
    }
   ],
   "source": [
    "training_preds = predict_text(imgs, net, t_dist_dim)"
   ]
  },
  {
   "cell_type": "code",
   "execution_count": 8,
   "metadata": {},
   "outputs": [
    {
     "name": "stdout",
     "output_type": "stream",
     "text": [
      "1.3068172800000017\n"
     ]
    }
   ],
   "source": [
    "#Metrica su training set\n",
    "\n",
    "score = 0\n",
    "for i in range(len(training_preds)):\n",
    "    score += fastwer.score_sent(training_preds[i], labels[i], char_level=True)\n",
    "score = score / len(training_preds)\n",
    "print(score)"
   ]
  },
  {
   "cell_type": "code",
   "execution_count": 12,
   "metadata": {
    "scrolled": true
   },
   "outputs": [
    {
     "name": "stdout",
     "output_type": "stream",
     "text": [
      "3.423968199999999\n"
     ]
    }
   ],
   "source": [
    "#Metrica su test set\n",
    "test_preds, test_labels = predict_random_text(500, base_generator, net, t_dist_dim)\n",
    "test_score = 0\n",
    "for i in range(len(test_preds)):\n",
    "    test_score += fastwer.score_sent(test_preds[i], test_labels[i], char_level=True)\n",
    "test_score = test_score / len(test_preds)\n",
    "print(test_score)"
   ]
  },
  {
   "cell_type": "code",
   "execution_count": 51,
   "metadata": {},
   "outputs": [
    {
     "data": {
      "text/plain": [
       "['3qiaahawn5ka9nilvrk', 'OvicoIa', 'Binomialname', 'kM8yb6848lbhiaA']"
      ]
     },
     "execution_count": 51,
     "metadata": {},
     "output_type": "execute_result"
    }
   ],
   "source": [
    "test_preds"
   ]
  },
  {
   "cell_type": "code",
   "execution_count": 52,
   "metadata": {},
   "outputs": [
    {
     "data": {
      "text/plain": [
       "['clade Heterobranchiaclade Euthyneuraclade Panpulmonata',\n",
       " 'O vicola',\n",
       " 'Binomial name',\n",
       " 'Odostomia vicolaDall Bartsch 1909']"
      ]
     },
     "execution_count": 52,
     "metadata": {},
     "output_type": "execute_result"
    }
   ],
   "source": [
    "test_labels"
   ]
  },
  {
   "cell_type": "code",
   "execution_count": 13,
   "metadata": {},
   "outputs": [],
   "source": [
    "from mod_v11 import *\n",
    "net2 = build_and_compile_model_v11(input_shape=(128, 128, 1), len_characters=len(characters), opt=\"Adam\")\n",
    "net2.load_weights('weights/CRNN_v11.h5')"
   ]
  },
  {
   "cell_type": "code",
   "execution_count": 70,
   "metadata": {},
   "outputs": [],
   "source": [
    "test_set = []\n",
    "y_true = []\n",
    "for _ in range(5000):\n",
    "    img, lbl = next(base_generator)\n",
    "    y_true.append(lbl)\n",
    "    im = cv2.resize(np.array(img), (128, 128))\n",
    "    im = color.rgb2gray(im)\n",
    "    im = np.expand_dims(im, axis=-1)\n",
    "    im = np.transpose(im, (1, 0, 2))\n",
    "    test_set.append(im)\n",
    "test_set = np.array(test_set)"
   ]
  },
  {
   "cell_type": "code",
   "execution_count": 71,
   "metadata": {},
   "outputs": [],
   "source": [
    "pred_1 = predict_text(test_set, net, t_dist_dim)\n",
    "pred_2 = predict_text(test_set, net2, t_dist_dim)"
   ]
  },
  {
   "cell_type": "code",
   "execution_count": 72,
   "metadata": {},
   "outputs": [
    {
     "name": "stdout",
     "output_type": "stream",
     "text": [
      "3.0066504400000027\n",
      "2.9954759000000033\n"
     ]
    }
   ],
   "source": [
    "test_score1 = 0\n",
    "test_score2 = 0\n",
    "for i in range(len(test_set)):\n",
    "    test_score1 += fastwer.score_sent(pred_1[i], y_true[i], char_level=True)\n",
    "    test_score2 += fastwer.score_sent(pred_2[i], y_true[i], char_level=True)\n",
    "test_score1 = test_score1 / len(pred_1)\n",
    "test_score2 = test_score2 / len(pred_2)\n",
    "print(test_score1)\n",
    "print(test_score2)"
   ]
  },
  {
   "cell_type": "code",
   "execution_count": null,
   "metadata": {},
   "outputs": [],
   "source": []
  }
 ],
 "metadata": {
  "kernelspec": {
   "display_name": "Python 3",
   "language": "python",
   "name": "python3"
  },
  "language_info": {
   "codemirror_mode": {
    "name": "ipython",
    "version": 3
   },
   "file_extension": ".py",
   "mimetype": "text/x-python",
   "name": "python",
   "nbconvert_exporter": "python",
   "pygments_lexer": "ipython3",
   "version": "3.8.10"
  }
 },
 "nbformat": 4,
 "nbformat_minor": 4
}
