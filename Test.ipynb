{
 "cells": [
  {
   "cell_type": "code",
   "execution_count": 1,
   "metadata": {},
   "outputs": [],
   "source": [
    "import numpy as np\n",
    "from model import *\n",
    "from mod_v11 import *\n",
    "import tensorflow as tf\n",
    "import fastwer\n",
    "import cv2\n",
    "from skimage import color\n",
    "\n",
    "imgs = np.expand_dims(np.load('../generated_text.npz')['arr_0'], axis=-1)\n",
    "imgs = np.transpose(imgs, (0, 2, 1, 3))\n",
    "labels = np.load('../generated_labels.npy')\n",
    "characters = set(char for label in labels for char in label)\n",
    "\n",
    "t_dist_dim = int(128)"
   ]
  },
  {
   "cell_type": "code",
   "execution_count": 91,
   "metadata": {},
   "outputs": [],
   "source": [
    "net = build_and_compile_model_v9_7(input_shape=(128, 128, 1), len_characters=len(characters), opt=\"Adam\")\n",
    "net2 = build_and_compile_model_v11(input_shape=(128, 128, 1), len_characters=len(characters), opt=\"Adam\")\n",
    "net.load_weights('../CRNN_v9_7.h5')\n",
    "net2.load_weights('../CRNN_v11.h5')"
   ]
  },
  {
   "cell_type": "code",
   "execution_count": 94,
   "metadata": {},
   "outputs": [],
   "source": [
    "num_dic = []\n",
    "for char in sorted(characters):\n",
    "    num_dic.append(char)\n",
    "num_dic.append('[UNK]')\n",
    "\n",
    "def num_to_char(strings):\n",
    "    rets = []\n",
    "    for strng in strings:\n",
    "        ret = []\n",
    "        for char in strng:\n",
    "            ret.append(num_dic[char])\n",
    "        rets.append(ret)\n",
    "    return np.array(rets)\n",
    "\n",
    "def decode_ctc(args):\n",
    "    \"\"\"returns a list of decoded ctc losses\"\"\"\n",
    "\n",
    "    y_pred, input_length = args\n",
    "\n",
    "    ctc_decoded = tf.keras.backend.ctc_decode(\n",
    "        y_pred, input_length, greedy=True)\n",
    "\n",
    "    return ctc_decoded\n",
    "\n",
    "def encoding_to_label(pred):\n",
    "    lst = []\n",
    "    for label in pred:\n",
    "        b = label.squeeze()[np.argwhere(label.squeeze()!='[UNK]')]\n",
    "        tmp = ''\n",
    "        if len(b) == 1:\n",
    "            tmp = b[0][0]\n",
    "        else:\n",
    "            for char in b.squeeze():\n",
    "                tmp += char\n",
    "        lst.append(tmp)\n",
    "    return lst\n",
    "\n",
    "def predict_text(imgs, net, t_dist_dim):\n",
    "    if len(imgs.shape) == 3:\n",
    "        imgs = np.expand_dims(imgs, axis=0)\n",
    "    t_dim = np.full((imgs.shape[0],), t_dist_dim)\n",
    "    pred_tensor, _ = decode_ctc([net.predict(imgs), t_dim])\n",
    "    pred_labels = tf.keras.backend.get_value(pred_tensor[0])\n",
    "    return encoding_to_label(num_to_char(pred_labels))\n",
    "\n",
    "def predict_random_text(size, gen, net, t_dist_dim):\n",
    "    preds = []\n",
    "    y_true = []\n",
    "    for _ in range(size):\n",
    "        img, lbl = next(gen)\n",
    "        y_true.append(lbl)\n",
    "        im = cv2.resize(np.array(img), (128, 128))\n",
    "        im = color.rgb2gray(im)\n",
    "        im = np.expand_dims(im, axis=-1)\n",
    "        im = np.transpose(im, (1, 0, 2))\n",
    "        pred_tensor, _ = decode_ctc([net.predict(np.expand_dims(im, axis=0)), np.array([t_dist_dim])])\n",
    "        pred_labels = tf.keras.backend.get_value(pred_tensor[0])\n",
    "        preds.append(encoding_to_label(num_to_char(pred_labels).numpy())[0])\n",
    "    return preds, y_true\n",
    "\n",
    "def predict_phrase(phrase_img, net, tdist_dim):\n",
    "    im = color.rgb2gray(np.array(phrase_img))\n",
    "    saltpepper = cv2.fastNlMeansDenoising(np.uint8(im*255),None, 13,2)\n",
    "    kernel = cv2.getStructuringElement(cv2.MORPH_ELLIPSE, (9, 9))\n",
    "    dilated = cv2.dilate(1-saltpepper, kernel)\n",
    "    dilated[dilated > 128] = 255\n",
    "    dilated[dilated <= 128] = 0\n",
    "    contours, hierarchy = cv2.findContours(dilated, cv2.RETR_EXTERNAL, cv2.CHAIN_APPROX_NONE)\n",
    "    contours = sorted(contours, key=lambda c: min(min(c[:, :, 0])))\n",
    "    words = []\n",
    "    \n",
    "    for i in range(len(contours)):\n",
    "        mask = np.zeros((phrase_img.shape[0], phrase_img.shape[1]), dtype=np.uint8)\n",
    "\n",
    "        # i is the contour to draw, -1 means fill the contours\n",
    "        mask = cv2.drawContours(mask, contours, i, 255, -1)\n",
    "        masked_img = cv2.bitwise_and(255-saltpepper, 255-saltpepper, mask=mask)\n",
    "        masked_img[masked_img<=90] = 0\n",
    "        masked_img = masked_img/255\n",
    "        masked_img = 1-masked_img\n",
    "        #masked_img[masked_img>=0.9] = 0.86\n",
    "        masked_img = cv2.resize(masked_img, (128, 128))\n",
    "        masked_img = np.expand_dims(masked_img, axis=-1)\n",
    "        masked_img = np.transpose(masked_img, (1, 0, 2))\n",
    "        words.append(masked_img)\n",
    "\n",
    "    return predict_text(np.array(words), net, tdist_dim)"
   ]
  },
  {
   "cell_type": "code",
   "execution_count": 60,
   "metadata": {},
   "outputs": [],
   "source": [
    "import cv2\n",
    "from skimage import color\n",
    "from trdg.generators import GeneratorFromRandom, GeneratorFromWikipedia\n",
    "\n",
    "base_generator = GeneratorFromRandom(use_symbols=False, use_letters=True, length=3, width=180, size=32, space_width=2.0)\n",
    "#base_generator = GeneratorFromWikipedia(width=180, size=32, space_width=2.0)"
   ]
  },
  {
   "cell_type": "code",
   "execution_count": 8,
   "metadata": {},
   "outputs": [
    {
     "name": "stdout",
     "output_type": "stream",
     "text": [
      "1.3068172800000017\n"
     ]
    }
   ],
   "source": [
    "#Metrica su training set\n",
    "score = 0\n",
    "for i in range(len(training_preds)):\n",
    "    score += fastwer.score_sent(training_preds[i], labels[i], char_level=True)\n",
    "score = score / len(training_preds)\n",
    "print(score)"
   ]
  },
  {
   "cell_type": "code",
   "execution_count": 12,
   "metadata": {
    "scrolled": true
   },
   "outputs": [
    {
     "name": "stdout",
     "output_type": "stream",
     "text": [
      "3.423968199999999\n"
     ]
    }
   ],
   "source": [
    "#Metrica su test set\n",
    "test_preds, test_labels = predict_random_text(500, base_generator, net, t_dist_dim)\n",
    "test_score = 0\n",
    "for i in range(len(test_preds)):\n",
    "    test_score += fastwer.score_sent(test_preds[i], test_labels[i], char_level=True)\n",
    "test_score = test_score / len(test_preds)\n",
    "print(test_score)"
   ]
  },
  {
   "cell_type": "code",
   "execution_count": 51,
   "metadata": {},
   "outputs": [
    {
     "data": {
      "text/plain": [
       "['3qiaahawn5ka9nilvrk', 'OvicoIa', 'Binomialname', 'kM8yb6848lbhiaA']"
      ]
     },
     "execution_count": 51,
     "metadata": {},
     "output_type": "execute_result"
    }
   ],
   "source": [
    "test_preds"
   ]
  },
  {
   "cell_type": "code",
   "execution_count": 52,
   "metadata": {},
   "outputs": [
    {
     "data": {
      "text/plain": [
       "['clade Heterobranchiaclade Euthyneuraclade Panpulmonata',\n",
       " 'O vicola',\n",
       " 'Binomial name',\n",
       " 'Odostomia vicolaDall Bartsch 1909']"
      ]
     },
     "execution_count": 52,
     "metadata": {},
     "output_type": "execute_result"
    }
   ],
   "source": [
    "test_labels"
   ]
  },
  {
   "cell_type": "code",
   "execution_count": 70,
   "metadata": {},
   "outputs": [],
   "source": [
    "test_set = []\n",
    "y_true = []\n",
    "for _ in range(5000):\n",
    "    img, lbl = next(base_generator)\n",
    "    y_true.append(lbl)\n",
    "    im = cv2.resize(np.array(img), (128, 128))\n",
    "    im = color.rgb2gray(im)\n",
    "    im = np.expand_dims(im, axis=-1)\n",
    "    im = np.transpose(im, (1, 0, 2))\n",
    "    test_set.append(im)\n",
    "test_set = np.array(test_set)"
   ]
  },
  {
   "cell_type": "code",
   "execution_count": 71,
   "metadata": {},
   "outputs": [],
   "source": [
    "pred_1 = predict_text(test_set, net, t_dist_dim)\n",
    "pred_2 = predict_text(test_set, net2, t_dist_dim)"
   ]
  },
  {
   "cell_type": "code",
   "execution_count": 72,
   "metadata": {},
   "outputs": [
    {
     "name": "stdout",
     "output_type": "stream",
     "text": [
      "3.0066504400000027\n",
      "2.9954759000000033\n"
     ]
    }
   ],
   "source": [
    "test_score1 = 0\n",
    "test_score2 = 0\n",
    "for i in range(len(test_set)):\n",
    "    test_score1 += fastwer.score_sent(pred_1[i], y_true[i], char_level=True)\n",
    "    test_score2 += fastwer.score_sent(pred_2[i], y_true[i], char_level=True)\n",
    "test_score1 = test_score1 / len(pred_1)\n",
    "test_score2 = test_score2 / len(pred_2)\n",
    "print(test_score1)\n",
    "print(test_score2)"
   ]
  },
  {
   "cell_type": "markdown",
   "metadata": {},
   "source": [
    "Prediction su frasi, separando le parole"
   ]
  },
  {
   "cell_type": "code",
   "execution_count": 44,
   "metadata": {},
   "outputs": [],
   "source": [
    "import matplotlib.pyplot as plt"
   ]
  },
  {
   "cell_type": "code",
   "execution_count": 78,
   "metadata": {},
   "outputs": [
    {
     "data": {
      "image/png": "[encoded data removed]",
      "text/plain": [
       "<PIL.Image.Image image mode=RGB size=180x32 at 0x1B1DFEAA9D0>"
      ]
     },
     "metadata": {},
     "output_type": "display_data"
    }
   ],
   "source": [
    "img, _ = next(base_generator)\n",
    "im = cv2.resize(np.array(img), (128, 128))\n",
    "im = color.rgb2gray(im)\n",
    "im = np.expand_dims(im, axis=-1)\n",
    "im = np.transpose(im, (1, 0, 2))\n",
    "display(img)"
   ]
  },
  {
   "cell_type": "code",
   "execution_count": 79,
   "metadata": {},
   "outputs": [],
   "source": [
    "im = color.rgb2gray(np.array(img))"
   ]
  },
  {
   "cell_type": "code",
   "execution_count": 80,
   "metadata": {},
   "outputs": [
    {
     "data": {
      "image/png": "[encoded data removed]",
      "text/plain": [
       "<Figure size 432x288 with 1 Axes>"
      ]
     },
     "metadata": {
      "needs_background": "light"
     },
     "output_type": "display_data"
    }
   ],
   "source": [
    "saltpepper = cv2.fastNlMeansDenoising(np.uint8(im*255),None, 13,2)\n",
    "plt.imshow(255-saltpepper, cmap='gray')\n",
    "plt.show()"
   ]
  },
  {
   "cell_type": "code",
   "execution_count": 81,
   "metadata": {},
   "outputs": [
    {
     "data": {
      "image/png": "[encoded data removed]",
      "text/plain": [
       "<Figure size 432x288 with 1 Axes>"
      ]
     },
     "metadata": {
      "needs_background": "light"
     },
     "output_type": "display_data"
    }
   ],
   "source": [
    "kernel = cv2.getStructuringElement(cv2.MORPH_ELLIPSE, (9, 9))\n",
    "dilated = cv2.dilate(1-saltpepper, kernel)\n",
    "dilated[dilated > 128] = 255\n",
    "dilated[dilated <= 128] = 0\n",
    "plt.imshow(dilated, cmap='gray')\n",
    "plt.show()"
   ]
  },
  {
   "cell_type": "code",
   "execution_count": 82,
   "metadata": {},
   "outputs": [],
   "source": [
    "contours, hierarchy = cv2.findContours(dilated, cv2.RETR_EXTERNAL, cv2.CHAIN_APPROX_NONE)\n",
    "contours = sorted(contours, key=lambda c: min(min(c[:, :, 0])))\n",
    "words = []\n",
    "for i in range(len(contours)):\n",
    "\n",
    "    mask = np.zeros((32, 180), dtype=np.uint8)\n",
    "\n",
    "    # i is the contour to draw, -1 means fill the contours\n",
    "    mask = cv2.drawContours(mask, contours, i, 255, -1)\n",
    "    masked_img = cv2.bitwise_and(255-saltpepper, 255-saltpepper, mask=mask)\n",
    "    masked_img[masked_img<=90] = 0\n",
    "    masked_img = masked_img/255\n",
    "    masked_img = 1-masked_img\n",
    "    #masked_img[masked_img>=0.9] = 0.86\n",
    "    words.append(masked_img)"
   ]
  },
  {
   "cell_type": "code",
   "execution_count": 90,
   "metadata": {},
   "outputs": [
    {
     "data": {
      "image/png": "[encoded data removed]",
      "text/plain": [
       "<Figure size 432x288 with 1 Axes>"
      ]
     },
     "metadata": {
      "needs_background": "light"
     },
     "output_type": "display_data"
    }
   ],
   "source": [
    "plt.imshow(words[2], cmap='gray')\n",
    "plt.show()"
   ]
  },
  {
   "cell_type": "code",
   "execution_count": 87,
   "metadata": {},
   "outputs": [],
   "source": [
    "test_img = cv2.resize(words[0], (128, 128))\n",
    "test_img = np.expand_dims(test_img, axis=-1)\n",
    "test_img = np.transpose(test_img, (1, 0, 2))"
   ]
  },
  {
   "cell_type": "code",
   "execution_count": 88,
   "metadata": {},
   "outputs": [
    {
     "data": {
      "image/png": "[encoded data removed]",
      "text/plain": [
       "<Figure size 432x288 with 1 Axes>"
      ]
     },
     "metadata": {
      "needs_background": "light"
     },
     "output_type": "display_data"
    }
   ],
   "source": [
    "plt.imshow(test_img, cmap='gray')\n",
    "plt.show()"
   ]
  },
  {
   "cell_type": "code",
   "execution_count": 344,
   "metadata": {},
   "outputs": [],
   "source": [
    "pred_tensor, _ = decode_ctc([net2.predict(np.expand_dims(test_img, axis=0)), np.array([t_dist_dim])])\n",
    "pred_labels = tf.keras.backend.get_value(pred_tensor[0])"
   ]
  },
  {
   "cell_type": "code",
   "execution_count": 345,
   "metadata": {},
   "outputs": [
    {
     "data": {
      "text/plain": [
       "array([[11, 47, 36, 46, 40, -1, -1, -1, -1, -1, -1, -1, -1, -1, -1, -1,\n",
       "        -1, -1, -1, -1, -1, -1, -1, -1, -1, -1, -1, -1, -1, -1, -1, -1,\n",
       "        -1, -1, -1, -1, -1, -1, -1, -1, -1, -1, -1, -1, -1, -1, -1, -1,\n",
       "        -1, -1, -1, -1, -1, -1, -1, -1, -1, -1, -1, -1, -1, -1, -1, -1,\n",
       "        -1, -1, -1, -1, -1, -1, -1, -1, -1, -1, -1, -1, -1, -1, -1, -1,\n",
       "        -1, -1, -1, -1, -1, -1, -1, -1, -1, -1, -1, -1, -1, -1, -1, -1,\n",
       "        -1, -1, -1, -1, -1, -1, -1, -1, -1, -1, -1, -1, -1, -1, -1, -1,\n",
       "        -1, -1, -1, -1, -1, -1, -1, -1, -1, -1, -1, -1, -1, -1, -1, -1]])"
      ]
     },
     "execution_count": 345,
     "metadata": {},
     "output_type": "execute_result"
    }
   ],
   "source": [
    "pred_labels"
   ]
  },
  {
   "cell_type": "code",
   "execution_count": 346,
   "metadata": {},
   "outputs": [
    {
     "data": {
      "text/plain": [
       "<tf.Tensor: shape=(1, 128), dtype=string, numpy=\n",
       "array([[b'B', b'l', b'a', b'k', b'e', b'[UNK]', b'[UNK]', b'[UNK]',\n",
       "        b'[UNK]', b'[UNK]', b'[UNK]', b'[UNK]', b'[UNK]', b'[UNK]',\n",
       "        b'[UNK]', b'[UNK]', b'[UNK]', b'[UNK]', b'[UNK]', b'[UNK]',\n",
       "        b'[UNK]', b'[UNK]', b'[UNK]', b'[UNK]', b'[UNK]', b'[UNK]',\n",
       "        b'[UNK]', b'[UNK]', b'[UNK]', b'[UNK]', b'[UNK]', b'[UNK]',\n",
       "        b'[UNK]', b'[UNK]', b'[UNK]', b'[UNK]', b'[UNK]', b'[UNK]',\n",
       "        b'[UNK]', b'[UNK]', b'[UNK]', b'[UNK]', b'[UNK]', b'[UNK]',\n",
       "        b'[UNK]', b'[UNK]', b'[UNK]', b'[UNK]', b'[UNK]', b'[UNK]',\n",
       "        b'[UNK]', b'[UNK]', b'[UNK]', b'[UNK]', b'[UNK]', b'[UNK]',\n",
       "        b'[UNK]', b'[UNK]', b'[UNK]', b'[UNK]', b'[UNK]', b'[UNK]',\n",
       "        b'[UNK]', b'[UNK]', b'[UNK]', b'[UNK]', b'[UNK]', b'[UNK]',\n",
       "        b'[UNK]', b'[UNK]', b'[UNK]', b'[UNK]', b'[UNK]', b'[UNK]',\n",
       "        b'[UNK]', b'[UNK]', b'[UNK]', b'[UNK]', b'[UNK]', b'[UNK]',\n",
       "        b'[UNK]', b'[UNK]', b'[UNK]', b'[UNK]', b'[UNK]', b'[UNK]',\n",
       "        b'[UNK]', b'[UNK]', b'[UNK]', b'[UNK]', b'[UNK]', b'[UNK]',\n",
       "        b'[UNK]', b'[UNK]', b'[UNK]', b'[UNK]', b'[UNK]', b'[UNK]',\n",
       "        b'[UNK]', b'[UNK]', b'[UNK]', b'[UNK]', b'[UNK]', b'[UNK]',\n",
       "        b'[UNK]', b'[UNK]', b'[UNK]', b'[UNK]', b'[UNK]', b'[UNK]',\n",
       "        b'[UNK]', b'[UNK]', b'[UNK]', b'[UNK]', b'[UNK]', b'[UNK]',\n",
       "        b'[UNK]', b'[UNK]', b'[UNK]', b'[UNK]', b'[UNK]', b'[UNK]',\n",
       "        b'[UNK]', b'[UNK]', b'[UNK]', b'[UNK]', b'[UNK]', b'[UNK]']],\n",
       "      dtype=object)>"
      ]
     },
     "execution_count": 346,
     "metadata": {},
     "output_type": "execute_result"
    }
   ],
   "source": [
    "num_to_char(pred_labels)"
   ]
  },
  {
   "cell_type": "code",
   "execution_count": 96,
   "metadata": {},
   "outputs": [
    {
     "data": {
      "text/plain": [
       "['J0KkUI07', 'y9fk', '3jzW']"
      ]
     },
     "execution_count": 96,
     "metadata": {},
     "output_type": "execute_result"
    }
   ],
   "source": [
    "predict_phrase(np.array(img), net2, t_dist_dim)"
   ]
  },
  {
   "cell_type": "code",
   "execution_count": null,
   "metadata": {},
   "outputs": [],
   "source": []
  }
 ],
 "metadata": {
  "kernelspec": {
   "display_name": "Python 3",
   "language": "python",
   "name": "python3"
  },
  "language_info": {
   "codemirror_mode": {
    "name": "ipython",
    "version": 3
   },
   "file_extension": ".py",
   "mimetype": "text/x-python",
   "name": "python",
   "nbconvert_exporter": "python",
   "pygments_lexer": "ipython3",
   "version": "3.8.2"
  }
 },
 "nbformat": 4,
 "nbformat_minor": 4
}
