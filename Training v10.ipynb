{
 "cells": [
  {
   "cell_type": "code",
   "execution_count": 1,
   "metadata": {},
   "outputs": [
    {
     "name": "stdout",
     "output_type": "stream",
     "text": [
      "setGPU: Setting GPU to: 1\n"
     ]
    }
   ],
   "source": [
    "import numpy as np\n",
    "from model import *\n",
    "import tensorflow as tf\n",
    "import setGPU\n",
    "#strategy = tf.distribute.MirroredStrategy([\"GPU:0\", \"GPU:1\"])\n",
    "\n",
    "imgs = np.expand_dims(np.load('../dataset/cv/train/x/generated_text.npz')['arr_0'], axis=-1)\n",
    "labels = np.load('../dataset/cv/train/y/generated_labels.npy')"
   ]
  },
  {
   "cell_type": "code",
   "execution_count": 2,
   "metadata": {},
   "outputs": [],
   "source": [
    "#imgs = imgs/255"
   ]
  },
  {
   "cell_type": "code",
   "execution_count": 3,
   "metadata": {},
   "outputs": [],
   "source": [
    "characters = set(char for label in labels for char in label)"
   ]
  },
  {
   "cell_type": "code",
   "execution_count": 4,
   "metadata": {},
   "outputs": [],
   "source": [
    "# Mapping characters to integers\n",
    "char_to_num = layers.experimental.preprocessing.StringLookup(\n",
    "                  vocabulary=sorted(list(characters)), num_oov_indices=0, mask_token=None )\n",
    "\n",
    "# Mapping integers back to original characters\n",
    "num_to_char = layers.experimental.preprocessing.StringLookup(\n",
    "                  vocabulary=char_to_num.get_vocabulary(), mask_token=None, invert=True )"
   ]
  },
  {
   "cell_type": "code",
   "execution_count": 5,
   "metadata": {},
   "outputs": [],
   "source": [
    "imgs = np.transpose(imgs, (0, 2, 1, 3))\n",
    "'''\n",
    "max_len = max([len(label) for label in labels])\n",
    "encoded_labels = []\n",
    "for label in labels:\n",
    "    if label:\n",
    "        tmp = np.array([char_to_num(char) for char in label])\n",
    "        encoded_labels.append(np.pad(tmp, (0, max_len-tmp.shape[0]), constant_values=0))\n",
    "    else:\n",
    "        tmp = np.array([char_to_num('#')])\n",
    "        encoded_labels.append(np.pad(tmp, (0, max_len-tmp.shape[0]), constant_values=0))\n",
    "'''\n",
    "\n",
    "encoded_labels = np.load('../dataset/cv/train/y/encoded_generated_labels.npy')"
   ]
  },
  {
   "cell_type": "code",
   "execution_count": 6,
   "metadata": {},
   "outputs": [],
   "source": [
    "#Si inserisce alla fine di ogni array label la lunghezza reale della parola\n",
    "t_dist_dim = int(128)          # Questo valore indica quanti step temporali ci sono: nelle ultime feature map ci sono 128/4\n",
    "                                 # step temporali perché 128 è la larghezza massima tra le immagini in ingresso e 4 è il fattore\n",
    "                                 # di riduzione dovuto ai MaxPooling (ci sono 2 livelli di MaxPooling che dimezzano le dimensioni)\n",
    "enc2 = []\n",
    "for i in range(encoded_labels.shape[0]):\n",
    "    if len(labels[i]) == 0:\n",
    "        enc2.append(np.append(encoded_labels[i], [1, t_dist_dim]))\n",
    "    else:\n",
    "        enc2.append(np.append(encoded_labels[i], [len(labels[i]), t_dist_dim]))\n",
    "enc2 = np.array(enc2)"
   ]
  },
  {
   "cell_type": "code",
   "execution_count": 8,
   "metadata": {},
   "outputs": [],
   "source": [
    "#with strategy.scope():\n",
    "net = build_and_compile_model_v10_5(input_shape=(128, 128, 1), len_characters=len(characters), opt=\"Adam\")"
   ]
  },
  {
   "cell_type": "code",
   "execution_count": 9,
   "metadata": {},
   "outputs": [
    {
     "name": "stdout",
     "output_type": "stream",
     "text": [
      "Model: \"functional_1\"\n",
      "__________________________________________________________________________________________________\n",
      "Layer (type)                    Output Shape         Param #     Connected to                     \n",
      "==================================================================================================\n",
      "input_1 (InputLayer)            [(None, 128, 128, 1) 0                                            \n",
      "__________________________________________________________________________________________________\n",
      "conv2d (Conv2D)                 (None, 128, 128, 16) 160         input_1[0][0]                    \n",
      "__________________________________________________________________________________________________\n",
      "activation (Activation)         (None, 128, 128, 16) 0           conv2d[0][0]                     \n",
      "__________________________________________________________________________________________________\n",
      "batch_normalization (BatchNorma (None, 128, 128, 16) 64          activation[0][0]                 \n",
      "__________________________________________________________________________________________________\n",
      "conv2d_1 (Conv2D)               (None, 128, 128, 32) 4640        batch_normalization[0][0]        \n",
      "__________________________________________________________________________________________________\n",
      "activation_1 (Activation)       (None, 128, 128, 32) 0           conv2d_1[0][0]                   \n",
      "__________________________________________________________________________________________________\n",
      "batch_normalization_1 (BatchNor (None, 128, 128, 32) 128         activation_1[0][0]               \n",
      "__________________________________________________________________________________________________\n",
      "conv2d_2 (Conv2D)               (None, 128, 128, 64) 18496       batch_normalization_1[0][0]      \n",
      "__________________________________________________________________________________________________\n",
      "activation_2 (Activation)       (None, 128, 128, 64) 0           conv2d_2[0][0]                   \n",
      "__________________________________________________________________________________________________\n",
      "batch_normalization_2 (BatchNor (None, 128, 128, 64) 256         activation_2[0][0]               \n",
      "__________________________________________________________________________________________________\n",
      "concatenate (Concatenate)       (None, 128, 128, 112 0           batch_normalization[0][0]        \n",
      "                                                                 batch_normalization_1[0][0]      \n",
      "                                                                 batch_normalization_2[0][0]      \n",
      "__________________________________________________________________________________________________\n",
      "conv2d_3 (Conv2D)               (None, 128, 128, 8)  8072        concatenate[0][0]                \n",
      "__________________________________________________________________________________________________\n",
      "activation_3 (Activation)       (None, 128, 128, 8)  0           conv2d_3[0][0]                   \n",
      "__________________________________________________________________________________________________\n",
      "batch_normalization_3 (BatchNor (None, 128, 128, 8)  32          activation_3[0][0]               \n",
      "__________________________________________________________________________________________________\n",
      "time_distributed (TimeDistribut (None, 128, 1024)    0           batch_normalization_3[0][0]      \n",
      "__________________________________________________________________________________________________\n",
      "dense (Dense)                   (None, 128, 64)      65600       time_distributed[0][0]           \n",
      "__________________________________________________________________________________________________\n",
      "bidirectional (Bidirectional)   (None, 128, 128)     66048       dense[0][0]                      \n",
      "__________________________________________________________________________________________________\n",
      "bidirectional_1 (Bidirectional) (None, 128, 256)     263168      bidirectional[0][0]              \n",
      "__________________________________________________________________________________________________\n",
      "dense_1 (Dense)                 (None, 128, 63)      16191       bidirectional_1[0][0]            \n",
      "==================================================================================================\n",
      "Total params: 442,855\n",
      "Trainable params: 442,615\n",
      "Non-trainable params: 240\n",
      "__________________________________________________________________________________________________\n"
     ]
    }
   ],
   "source": [
    "net.summary()"
   ]
  },
  {
   "cell_type": "code",
   "execution_count": 10,
   "metadata": {},
   "outputs": [],
   "source": [
    "from tensorflow.keras.callbacks import ModelCheckpoint, EarlyStopping, ReduceLROnPlateau\n",
    "\n",
    "Early_Stopping_Patience = 10 \n",
    "Min_Delta = 0.0001\n",
    "# Model Check Point\n",
    "Check_Point = ModelCheckpoint( 'weights/CRNN_v10_5.h5',   # Filepath\n",
    "                               monitor='val_loss',\n",
    "                               save_best_only=True,\n",
    "                               verbose=1,\n",
    "                               mode='auto',\n",
    "                               save_weights_only=False,\n",
    "                               save_freq='epoch' )\n",
    "# Add early stopping\n",
    "Early_Stopping = EarlyStopping( monitor='val_loss',\n",
    "                                min_delta=Min_Delta,\n",
    "                                patience=Early_Stopping_Patience,\n",
    "                                verbose=1,\n",
    "                                mode='auto',\n",
    "                                baseline=None,\n",
    "                                restore_best_weights=True )\n",
    "reduce_lr = ReduceLROnPlateau(monitor='val_loss', factor=0.2,\n",
    "                              patience=10, min_lr=0.0002)"
   ]
  },
  {
   "cell_type": "code",
   "execution_count": 11,
   "metadata": {},
   "outputs": [],
   "source": [
    "batch_size = 64\n",
    "x_train = imgs\n",
    "y_train = enc2"
   ]
  },
  {
   "cell_type": "code",
   "execution_count": 12,
   "metadata": {},
   "outputs": [
    {
     "name": "stdout",
     "output_type": "stream",
     "text": [
      "Epoch 1/100\n",
      "  2/125 [..............................] - ETA: 39s - loss: 473.9387WARNING:tensorflow:Callbacks method `on_train_batch_end` is slow compared to the batch time (batch time: 0.2381s vs `on_train_batch_end` time: 0.4024s). Check your callbacks.\n",
      "125/125 [==============================] - ETA: 0s - loss: 40.4280\n",
      "Epoch 00001: val_loss improved from inf to 27.68022, saving model to weights/CRNN_v10_5.h5\n",
      "125/125 [==============================] - 74s 590ms/step - loss: 40.4280 - val_loss: 27.6802\n",
      "Epoch 2/100\n",
      "125/125 [==============================] - ETA: 0s - loss: 26.5816\n",
      "Epoch 00002: val_loss improved from 27.68022 to 27.12128, saving model to weights/CRNN_v10_5.h5\n",
      "125/125 [==============================] - 21s 170ms/step - loss: 26.5816 - val_loss: 27.1213\n",
      "Epoch 3/100\n",
      "125/125 [==============================] - ETA: 0s - loss: 26.4227\n",
      "Epoch 00003: val_loss improved from 27.12128 to 26.73323, saving model to weights/CRNN_v10_5.h5\n",
      "125/125 [==============================] - 22s 176ms/step - loss: 26.4227 - val_loss: 26.7332\n",
      "Epoch 4/100\n",
      "125/125 [==============================] - ETA: 0s - loss: 26.2117\n",
      "Epoch 00004: val_loss improved from 26.73323 to 26.28610, saving model to weights/CRNN_v10_5.h5\n",
      "125/125 [==============================] - 22s 178ms/step - loss: 26.2117 - val_loss: 26.2861\n",
      "Epoch 5/100\n",
      "125/125 [==============================] - ETA: 0s - loss: 25.2647\n",
      "Epoch 00005: val_loss improved from 26.28610 to 23.64312, saving model to weights/CRNN_v10_5.h5\n",
      "125/125 [==============================] - 22s 178ms/step - loss: 25.2647 - val_loss: 23.6431\n",
      "Epoch 6/100\n",
      "125/125 [==============================] - ETA: 0s - loss: 18.7643\n",
      "Epoch 00006: val_loss improved from 23.64312 to 12.64332, saving model to weights/CRNN_v10_5.h5\n",
      "125/125 [==============================] - 22s 178ms/step - loss: 18.7643 - val_loss: 12.6433\n",
      "Epoch 7/100\n",
      "125/125 [==============================] - ETA: 0s - loss: 7.2522\n",
      "Epoch 00007: val_loss improved from 12.64332 to 5.80526, saving model to weights/CRNN_v10_5.h5\n",
      "125/125 [==============================] - 22s 177ms/step - loss: 7.2522 - val_loss: 5.8053\n",
      "Epoch 8/100\n",
      "125/125 [==============================] - ETA: 0s - loss: 3.3710\n",
      "Epoch 00008: val_loss improved from 5.80526 to 3.05986, saving model to weights/CRNN_v10_5.h5\n",
      "125/125 [==============================] - 22s 178ms/step - loss: 3.3710 - val_loss: 3.0599\n",
      "Epoch 9/100\n",
      "125/125 [==============================] - ETA: 0s - loss: 2.3152\n",
      "Epoch 00009: val_loss improved from 3.05986 to 2.97290, saving model to weights/CRNN_v10_5.h5\n",
      "125/125 [==============================] - 22s 177ms/step - loss: 2.3152 - val_loss: 2.9729\n",
      "Epoch 10/100\n",
      "125/125 [==============================] - ETA: 0s - loss: 1.7883\n",
      "Epoch 00010: val_loss improved from 2.97290 to 2.55184, saving model to weights/CRNN_v10_5.h5\n",
      "125/125 [==============================] - 22s 178ms/step - loss: 1.7883 - val_loss: 2.5518\n",
      "Epoch 11/100\n",
      "125/125 [==============================] - ETA: 0s - loss: 1.4815\n",
      "Epoch 00011: val_loss improved from 2.55184 to 1.75340, saving model to weights/CRNN_v10_5.h5\n",
      "125/125 [==============================] - 22s 179ms/step - loss: 1.4815 - val_loss: 1.7534\n",
      "Epoch 12/100\n",
      "125/125 [==============================] - ETA: 0s - loss: 1.2475\n",
      "Epoch 00012: val_loss did not improve from 1.75340\n",
      "125/125 [==============================] - 22s 176ms/step - loss: 1.2475 - val_loss: 1.7786\n",
      "Epoch 13/100\n",
      "125/125 [==============================] - ETA: 0s - loss: 1.0841\n",
      "Epoch 00013: val_loss improved from 1.75340 to 1.38049, saving model to weights/CRNN_v10_5.h5\n",
      "125/125 [==============================] - 22s 178ms/step - loss: 1.0841 - val_loss: 1.3805\n",
      "Epoch 14/100\n",
      "125/125 [==============================] - ETA: 0s - loss: 0.9733\n",
      "Epoch 00014: val_loss improved from 1.38049 to 1.35279, saving model to weights/CRNN_v10_5.h5\n",
      "125/125 [==============================] - 22s 178ms/step - loss: 0.9733 - val_loss: 1.3528\n",
      "Epoch 15/100\n",
      "125/125 [==============================] - ETA: 0s - loss: 0.8795\n",
      "Epoch 00015: val_loss improved from 1.35279 to 1.18877, saving model to weights/CRNN_v10_5.h5\n",
      "125/125 [==============================] - 22s 179ms/step - loss: 0.8795 - val_loss: 1.1888\n",
      "Epoch 16/100\n",
      "125/125 [==============================] - ETA: 0s - loss: 0.7693\n",
      "Epoch 00016: val_loss did not improve from 1.18877\n",
      "125/125 [==============================] - 22s 177ms/step - loss: 0.7693 - val_loss: 1.2347\n",
      "Epoch 17/100\n",
      "125/125 [==============================] - ETA: 0s - loss: 0.7022\n",
      "Epoch 00017: val_loss improved from 1.18877 to 1.11197, saving model to weights/CRNN_v10_5.h5\n",
      "125/125 [==============================] - 22s 178ms/step - loss: 0.7022 - val_loss: 1.1120\n",
      "Epoch 18/100\n",
      "125/125 [==============================] - ETA: 0s - loss: 0.7159\n",
      "Epoch 00018: val_loss did not improve from 1.11197\n",
      "125/125 [==============================] - 22s 177ms/step - loss: 0.7159 - val_loss: 1.1852\n",
      "Epoch 19/100\n",
      "125/125 [==============================] - ETA: 0s - loss: 0.6131\n",
      "Epoch 00019: val_loss improved from 1.11197 to 1.10700, saving model to weights/CRNN_v10_5.h5\n",
      "125/125 [==============================] - 22s 178ms/step - loss: 0.6131 - val_loss: 1.1070\n",
      "Epoch 20/100\n",
      "125/125 [==============================] - ETA: 0s - loss: 0.5932\n",
      "Epoch 00020: val_loss did not improve from 1.10700\n",
      "125/125 [==============================] - 22s 175ms/step - loss: 0.5932 - val_loss: 1.1595\n",
      "Epoch 21/100\n",
      "125/125 [==============================] - ETA: 0s - loss: 0.5545\n",
      "Epoch 00021: val_loss improved from 1.10700 to 0.97380, saving model to weights/CRNN_v10_5.h5\n",
      "125/125 [==============================] - 22s 177ms/step - loss: 0.5545 - val_loss: 0.9738\n",
      "Epoch 22/100\n",
      "125/125 [==============================] - ETA: 0s - loss: 0.5010\n",
      "Epoch 00022: val_loss did not improve from 0.97380\n",
      "125/125 [==============================] - 22s 177ms/step - loss: 0.5010 - val_loss: 0.9848\n",
      "Epoch 23/100\n",
      "125/125 [==============================] - ETA: 0s - loss: 0.4912\n",
      "Epoch 00023: val_loss did not improve from 0.97380\n",
      "125/125 [==============================] - 22s 177ms/step - loss: 0.4912 - val_loss: 1.0826\n",
      "Epoch 24/100\n",
      "125/125 [==============================] - ETA: 0s - loss: 0.5032\n",
      "Epoch 00024: val_loss did not improve from 0.97380\n",
      "125/125 [==============================] - 22s 176ms/step - loss: 0.5032 - val_loss: 1.0055\n",
      "Epoch 25/100\n",
      "125/125 [==============================] - ETA: 0s - loss: 0.4362\n",
      "Epoch 00025: val_loss did not improve from 0.97380\n",
      "125/125 [==============================] - 22s 177ms/step - loss: 0.4362 - val_loss: 1.0797\n",
      "Epoch 26/100\n",
      "125/125 [==============================] - ETA: 0s - loss: 0.4625\n",
      "Epoch 00026: val_loss did not improve from 0.97380\n",
      "125/125 [==============================] - 22s 176ms/step - loss: 0.4625 - val_loss: 1.0552\n",
      "Epoch 27/100\n",
      "125/125 [==============================] - ETA: 0s - loss: 0.3931\n",
      "Epoch 00027: val_loss improved from 0.97380 to 0.96446, saving model to weights/CRNN_v10_5.h5\n",
      "125/125 [==============================] - 22s 178ms/step - loss: 0.3931 - val_loss: 0.9645\n",
      "Epoch 28/100\n",
      "125/125 [==============================] - ETA: 0s - loss: 0.3617\n",
      "Epoch 00028: val_loss did not improve from 0.96446\n",
      "125/125 [==============================] - 22s 177ms/step - loss: 0.3617 - val_loss: 1.0491\n",
      "Epoch 29/100\n",
      "125/125 [==============================] - ETA: 0s - loss: 0.3928\n",
      "Epoch 00029: val_loss did not improve from 0.96446\n",
      "125/125 [==============================] - 22s 176ms/step - loss: 0.3928 - val_loss: 0.9645\n",
      "Epoch 30/100\n",
      "125/125 [==============================] - ETA: 0s - loss: 0.3969\n",
      "Epoch 00030: val_loss did not improve from 0.96446\n",
      "125/125 [==============================] - 22s 176ms/step - loss: 0.3969 - val_loss: 1.0990\n",
      "Epoch 31/100\n",
      "125/125 [==============================] - ETA: 0s - loss: 0.3640\n",
      "Epoch 00031: val_loss improved from 0.96446 to 0.94949, saving model to weights/CRNN_v10_5.h5\n",
      "125/125 [==============================] - 22s 178ms/step - loss: 0.3640 - val_loss: 0.9495\n",
      "Epoch 32/100\n",
      "125/125 [==============================] - ETA: 0s - loss: 0.3275\n",
      "Epoch 00032: val_loss did not improve from 0.94949\n",
      "125/125 [==============================] - 22s 176ms/step - loss: 0.3275 - val_loss: 1.0353\n",
      "Epoch 33/100\n"
     ]
    },
    {
     "name": "stdout",
     "output_type": "stream",
     "text": [
      "125/125 [==============================] - ETA: 0s - loss: 0.3273\n",
      "Epoch 00033: val_loss did not improve from 0.94949\n",
      "125/125 [==============================] - 22s 177ms/step - loss: 0.3273 - val_loss: 1.0115\n",
      "Epoch 34/100\n",
      "125/125 [==============================] - ETA: 0s - loss: 0.3122\n",
      "Epoch 00034: val_loss did not improve from 0.94949\n",
      "125/125 [==============================] - 22s 176ms/step - loss: 0.3122 - val_loss: 1.1899\n",
      "Epoch 35/100\n",
      "125/125 [==============================] - ETA: 0s - loss: 0.2847\n",
      "Epoch 00035: val_loss did not improve from 0.94949\n",
      "125/125 [==============================] - 22s 177ms/step - loss: 0.2847 - val_loss: 1.1070\n",
      "Epoch 36/100\n",
      "125/125 [==============================] - ETA: 0s - loss: 0.2995\n",
      "Epoch 00036: val_loss did not improve from 0.94949\n",
      "125/125 [==============================] - 22s 177ms/step - loss: 0.2995 - val_loss: 1.0229\n",
      "Epoch 37/100\n",
      "125/125 [==============================] - ETA: 0s - loss: 0.2533\n",
      "Epoch 00037: val_loss did not improve from 0.94949\n",
      "125/125 [==============================] - 22s 177ms/step - loss: 0.2533 - val_loss: 1.1000\n",
      "Epoch 38/100\n",
      "125/125 [==============================] - ETA: 0s - loss: 0.2485\n",
      "Epoch 00038: val_loss did not improve from 0.94949\n",
      "125/125 [==============================] - 22s 177ms/step - loss: 0.2485 - val_loss: 1.0558\n",
      "Epoch 39/100\n",
      "125/125 [==============================] - ETA: 0s - loss: 0.2423\n",
      "Epoch 00039: val_loss did not improve from 0.94949\n",
      "125/125 [==============================] - 22s 177ms/step - loss: 0.2423 - val_loss: 1.0405\n",
      "Epoch 40/100\n",
      "125/125 [==============================] - ETA: 0s - loss: 0.2619\n",
      "Epoch 00040: val_loss did not improve from 0.94949\n",
      "125/125 [==============================] - 22s 176ms/step - loss: 0.2619 - val_loss: 1.0728\n",
      "Epoch 41/100\n",
      "125/125 [==============================] - ETA: 0s - loss: 0.2691\n",
      "Epoch 00041: val_loss did not improve from 0.94949\n",
      "125/125 [==============================] - 22s 178ms/step - loss: 0.2691 - val_loss: 1.0873\n",
      "Epoch 42/100\n",
      "125/125 [==============================] - ETA: 0s - loss: 0.1440\n",
      "Epoch 00042: val_loss improved from 0.94949 to 0.88675, saving model to weights/CRNN_v10_5.h5\n",
      "125/125 [==============================] - 22s 177ms/step - loss: 0.1440 - val_loss: 0.8868\n",
      "Epoch 43/100\n",
      "125/125 [==============================] - ETA: 0s - loss: 0.0928\n",
      "Epoch 00043: val_loss improved from 0.88675 to 0.88319, saving model to weights/CRNN_v10_5.h5\n",
      "125/125 [==============================] - 22s 177ms/step - loss: 0.0928 - val_loss: 0.8832\n",
      "Epoch 44/100\n",
      "125/125 [==============================] - ETA: 0s - loss: 0.0796\n",
      "Epoch 00044: val_loss improved from 0.88319 to 0.88063, saving model to weights/CRNN_v10_5.h5\n",
      "125/125 [==============================] - 22s 177ms/step - loss: 0.0796 - val_loss: 0.8806\n",
      "Epoch 45/100\n",
      "125/125 [==============================] - ETA: 0s - loss: 0.0708\n",
      "Epoch 00045: val_loss did not improve from 0.88063\n",
      "125/125 [==============================] - 22s 178ms/step - loss: 0.0708 - val_loss: 0.8926\n",
      "Epoch 46/100\n",
      "125/125 [==============================] - ETA: 0s - loss: 0.0656\n",
      "Epoch 00046: val_loss did not improve from 0.88063\n",
      "125/125 [==============================] - 22s 176ms/step - loss: 0.0656 - val_loss: 0.9056\n",
      "Epoch 47/100\n",
      "125/125 [==============================] - ETA: 0s - loss: 0.0617\n",
      "Epoch 00047: val_loss did not improve from 0.88063\n",
      "125/125 [==============================] - 22s 177ms/step - loss: 0.0617 - val_loss: 0.9053\n",
      "Epoch 48/100\n",
      "125/125 [==============================] - ETA: 0s - loss: 0.0560\n",
      "Epoch 00048: val_loss did not improve from 0.88063\n",
      "125/125 [==============================] - 22s 176ms/step - loss: 0.0560 - val_loss: 0.9150\n",
      "Epoch 49/100\n",
      "125/125 [==============================] - ETA: 0s - loss: 0.0522\n",
      "Epoch 00049: val_loss did not improve from 0.88063\n",
      "125/125 [==============================] - 22s 177ms/step - loss: 0.0522 - val_loss: 0.9260\n",
      "Epoch 50/100\n",
      "125/125 [==============================] - ETA: 0s - loss: 0.0481\n",
      "Epoch 00050: val_loss did not improve from 0.88063\n",
      "125/125 [==============================] - 22s 175ms/step - loss: 0.0481 - val_loss: 0.9346\n",
      "Epoch 51/100\n",
      "125/125 [==============================] - ETA: 0s - loss: 0.0460\n",
      "Epoch 00051: val_loss did not improve from 0.88063\n",
      "125/125 [==============================] - 22s 177ms/step - loss: 0.0460 - val_loss: 0.9309\n",
      "Epoch 52/100\n",
      "125/125 [==============================] - ETA: 0s - loss: 0.0430\n",
      "Epoch 00052: val_loss did not improve from 0.88063\n",
      "125/125 [==============================] - 22s 178ms/step - loss: 0.0430 - val_loss: 0.9487\n",
      "Epoch 53/100\n",
      "125/125 [==============================] - ETA: 0s - loss: 0.0404\n",
      "Epoch 00053: val_loss did not improve from 0.88063\n",
      "125/125 [==============================] - 22s 177ms/step - loss: 0.0404 - val_loss: 0.9535\n",
      "Epoch 54/100\n",
      "125/125 [==============================] - ETA: 0s - loss: 0.0375\n",
      "Epoch 00054: val_loss did not improve from 0.88063\n",
      "125/125 [==============================] - 22s 176ms/step - loss: 0.0375 - val_loss: 0.9643\n",
      "Epoch 55/100\n",
      "125/125 [==============================] - ETA: 0s - loss: 0.0357\n",
      "Epoch 00055: val_loss did not improve from 0.88063\n",
      "125/125 [==============================] - 22s 178ms/step - loss: 0.0357 - val_loss: 0.9732\n",
      "Epoch 56/100\n",
      "125/125 [==============================] - ETA: 0s - loss: 0.0343\n",
      "Epoch 00056: val_loss did not improve from 0.88063\n",
      "125/125 [==============================] - 22s 177ms/step - loss: 0.0343 - val_loss: 0.9817\n",
      "Epoch 57/100\n",
      "125/125 [==============================] - ETA: 0s - loss: 0.0315\n",
      "Epoch 00057: val_loss did not improve from 0.88063\n",
      "125/125 [==============================] - 22s 178ms/step - loss: 0.0315 - val_loss: 0.9927\n",
      "Epoch 58/100\n",
      "125/125 [==============================] - ETA: 0s - loss: 0.0296\n",
      "Epoch 00058: val_loss did not improve from 0.88063\n",
      "125/125 [==============================] - 22s 177ms/step - loss: 0.0296 - val_loss: 0.9856\n",
      "Epoch 59/100\n",
      "125/125 [==============================] - ETA: 0s - loss: 0.0274\n",
      "Epoch 00059: val_loss did not improve from 0.88063\n",
      "125/125 [==============================] - 22s 177ms/step - loss: 0.0274 - val_loss: 1.0027\n",
      "Epoch 60/100\n",
      "125/125 [==============================] - ETA: 0s - loss: 0.0267\n",
      "Epoch 00060: val_loss did not improve from 0.88063\n",
      "125/125 [==============================] - 22s 178ms/step - loss: 0.0267 - val_loss: 0.9980\n",
      "Epoch 61/100\n",
      "125/125 [==============================] - ETA: 0s - loss: 0.0246\n",
      "Epoch 00061: val_loss did not improve from 0.88063\n",
      "125/125 [==============================] - 22s 177ms/step - loss: 0.0246 - val_loss: 1.0280\n",
      "Epoch 62/100\n",
      "125/125 [==============================] - ETA: 0s - loss: 0.0234\n",
      "Epoch 00062: val_loss did not improve from 0.88063\n",
      "125/125 [==============================] - 22s 176ms/step - loss: 0.0234 - val_loss: 1.0398\n",
      "Epoch 63/100\n",
      "125/125 [==============================] - ETA: 0s - loss: 0.0227\n",
      "Epoch 00063: val_loss did not improve from 0.88063\n",
      "125/125 [==============================] - 22s 177ms/step - loss: 0.0227 - val_loss: 1.0296\n",
      "Epoch 64/100\n",
      "125/125 [==============================] - ETA: 0s - loss: 0.0230\n",
      "Epoch 00064: val_loss did not improve from 0.88063\n",
      "125/125 [==============================] - 22s 177ms/step - loss: 0.0230 - val_loss: 1.0683\n",
      "Epoch 65/100\n",
      "125/125 [==============================] - ETA: 0s - loss: 0.0230\n",
      "Epoch 00065: val_loss did not improve from 0.88063\n",
      "125/125 [==============================] - 22s 177ms/step - loss: 0.0230 - val_loss: 1.0741\n",
      "Epoch 66/100\n",
      "125/125 [==============================] - ETA: 0s - loss: 0.0209\n",
      "Epoch 00066: val_loss did not improve from 0.88063\n",
      "125/125 [==============================] - 22s 177ms/step - loss: 0.0209 - val_loss: 1.0606\n",
      "Epoch 67/100\n",
      "125/125 [==============================] - ETA: 0s - loss: 0.0197\n",
      "Epoch 00067: val_loss did not improve from 0.88063\n",
      "125/125 [==============================] - 22s 177ms/step - loss: 0.0197 - val_loss: 1.0684\n",
      "Epoch 68/100\n",
      "125/125 [==============================] - ETA: 0s - loss: 0.0223\n",
      "Epoch 00068: val_loss did not improve from 0.88063\n",
      "125/125 [==============================] - 22s 178ms/step - loss: 0.0223 - val_loss: 1.1076\n",
      "Epoch 69/100\n",
      "125/125 [==============================] - ETA: 0s - loss: 0.0232\n",
      "Epoch 00069: val_loss did not improve from 0.88063\n",
      "125/125 [==============================] - 22s 176ms/step - loss: 0.0232 - val_loss: 1.0868\n"
     ]
    },
    {
     "name": "stdout",
     "output_type": "stream",
     "text": [
      "Epoch 70/100\n",
      "125/125 [==============================] - ETA: 0s - loss: 0.0237\n",
      "Epoch 00070: val_loss did not improve from 0.88063\n",
      "125/125 [==============================] - 22s 176ms/step - loss: 0.0237 - val_loss: 1.0746\n",
      "Epoch 71/100\n",
      "125/125 [==============================] - ETA: 0s - loss: 0.0197\n",
      "Epoch 00071: val_loss did not improve from 0.88063\n",
      "125/125 [==============================] - 22s 177ms/step - loss: 0.0197 - val_loss: 1.0828\n",
      "Epoch 72/100\n",
      "125/125 [==============================] - ETA: 0s - loss: 0.0147\n",
      "Epoch 00072: val_loss did not improve from 0.88063\n",
      "125/125 [==============================] - 22s 178ms/step - loss: 0.0147 - val_loss: 1.0917\n",
      "Epoch 73/100\n",
      "125/125 [==============================] - ETA: 0s - loss: 0.0131\n",
      "Epoch 00073: val_loss did not improve from 0.88063\n",
      "125/125 [==============================] - 22s 177ms/step - loss: 0.0131 - val_loss: 1.0988\n",
      "Epoch 74/100\n",
      "125/125 [==============================] - ETA: 0s - loss: 0.0124\n",
      "Epoch 00074: val_loss did not improve from 0.88063\n",
      "125/125 [==============================] - 22s 177ms/step - loss: 0.0124 - val_loss: 1.1172\n",
      "Epoch 75/100\n",
      "125/125 [==============================] - ETA: 0s - loss: 0.0119\n",
      "Epoch 00075: val_loss did not improve from 0.88063\n",
      "125/125 [==============================] - 22s 175ms/step - loss: 0.0119 - val_loss: 1.1129\n",
      "Epoch 76/100\n",
      "125/125 [==============================] - ETA: 0s - loss: 0.0119\n",
      "Epoch 00076: val_loss did not improve from 0.88063\n",
      "125/125 [==============================] - 22s 177ms/step - loss: 0.0119 - val_loss: 1.1170\n",
      "Epoch 77/100\n",
      "125/125 [==============================] - ETA: 0s - loss: 0.0110\n",
      "Epoch 00077: val_loss did not improve from 0.88063\n",
      "125/125 [==============================] - 22s 179ms/step - loss: 0.0110 - val_loss: 1.1288\n",
      "Epoch 78/100\n",
      "125/125 [==============================] - ETA: 0s - loss: 0.0106\n",
      "Epoch 00078: val_loss did not improve from 0.88063\n",
      "125/125 [==============================] - 22s 176ms/step - loss: 0.0106 - val_loss: 1.1414\n",
      "Epoch 79/100\n",
      "125/125 [==============================] - ETA: 0s - loss: 0.0103\n",
      "Epoch 00079: val_loss did not improve from 0.88063\n",
      "125/125 [==============================] - 22s 176ms/step - loss: 0.0103 - val_loss: 1.1317\n",
      "Epoch 80/100\n",
      "125/125 [==============================] - ETA: 0s - loss: 0.0102\n",
      "Epoch 00080: val_loss did not improve from 0.88063\n",
      "125/125 [==============================] - 22s 176ms/step - loss: 0.0102 - val_loss: 1.1426\n",
      "Epoch 81/100\n",
      "125/125 [==============================] - ETA: 0s - loss: 0.0107\n",
      "Epoch 00081: val_loss did not improve from 0.88063\n",
      "125/125 [==============================] - 22s 176ms/step - loss: 0.0107 - val_loss: 1.1575\n",
      "Epoch 82/100\n",
      "125/125 [==============================] - ETA: 0s - loss: 0.0098\n",
      "Epoch 00082: val_loss did not improve from 0.88063\n",
      "125/125 [==============================] - 22s 177ms/step - loss: 0.0098 - val_loss: 1.1524\n",
      "Epoch 83/100\n",
      "125/125 [==============================] - ETA: 0s - loss: 0.0098\n",
      "Epoch 00083: val_loss did not improve from 0.88063\n",
      "125/125 [==============================] - 22s 178ms/step - loss: 0.0098 - val_loss: 1.1731\n",
      "Epoch 84/100\n",
      "125/125 [==============================] - ETA: 0s - loss: 0.1160\n",
      "Epoch 00084: val_loss did not improve from 0.88063\n",
      "125/125 [==============================] - 22s 178ms/step - loss: 0.1160 - val_loss: 1.1642\n",
      "Epoch 85/100\n",
      "125/125 [==============================] - ETA: 0s - loss: 0.0804\n",
      "Epoch 00085: val_loss did not improve from 0.88063\n",
      "125/125 [==============================] - 22s 177ms/step - loss: 0.0804 - val_loss: 1.1709\n",
      "Epoch 86/100\n",
      "125/125 [==============================] - ETA: 0s - loss: 0.0314\n",
      "Epoch 00086: val_loss did not improve from 0.88063\n",
      "125/125 [==============================] - 22s 175ms/step - loss: 0.0314 - val_loss: 1.0983\n",
      "Epoch 87/100\n",
      "125/125 [==============================] - ETA: 0s - loss: 0.0160\n",
      "Epoch 00087: val_loss did not improve from 0.88063\n",
      "125/125 [==============================] - 22s 177ms/step - loss: 0.0160 - val_loss: 1.1073\n",
      "Epoch 88/100\n",
      "125/125 [==============================] - ETA: 0s - loss: 0.0118\n",
      "Epoch 00088: val_loss did not improve from 0.88063\n",
      "125/125 [==============================] - 22s 177ms/step - loss: 0.0118 - val_loss: 1.1284\n",
      "Epoch 89/100\n",
      "125/125 [==============================] - ETA: 0s - loss: 0.0102\n",
      "Epoch 00089: val_loss did not improve from 0.88063\n",
      "125/125 [==============================] - 22s 176ms/step - loss: 0.0102 - val_loss: 1.1287\n",
      "Epoch 90/100\n",
      "125/125 [==============================] - ETA: 0s - loss: 0.0094\n",
      "Epoch 00090: val_loss did not improve from 0.88063\n",
      "125/125 [==============================] - 22s 177ms/step - loss: 0.0094 - val_loss: 1.1344\n",
      "Epoch 91/100\n",
      "125/125 [==============================] - ETA: 0s - loss: 0.0088\n",
      "Epoch 00091: val_loss did not improve from 0.88063\n",
      "125/125 [==============================] - 22s 177ms/step - loss: 0.0088 - val_loss: 1.1545\n",
      "Epoch 92/100\n",
      "125/125 [==============================] - ETA: 0s - loss: 0.0083\n",
      "Epoch 00092: val_loss did not improve from 0.88063\n",
      "125/125 [==============================] - 22s 176ms/step - loss: 0.0083 - val_loss: 1.1524\n",
      "Epoch 93/100\n",
      "125/125 [==============================] - ETA: 0s - loss: 0.0080\n",
      "Epoch 00093: val_loss did not improve from 0.88063\n",
      "125/125 [==============================] - 22s 178ms/step - loss: 0.0080 - val_loss: 1.1655\n",
      "Epoch 94/100\n",
      "125/125 [==============================] - ETA: 0s - loss: 0.0078\n",
      "Epoch 00094: val_loss did not improve from 0.88063\n",
      "125/125 [==============================] - 22s 178ms/step - loss: 0.0078 - val_loss: 1.1665\n",
      "Epoch 95/100\n",
      "125/125 [==============================] - ETA: 0s - loss: 0.0075\n",
      "Epoch 00095: val_loss did not improve from 0.88063\n",
      "125/125 [==============================] - 22s 176ms/step - loss: 0.0075 - val_loss: 1.1691\n",
      "Epoch 96/100\n",
      "125/125 [==============================] - ETA: 0s - loss: 0.0074\n",
      "Epoch 00096: val_loss did not improve from 0.88063\n",
      "125/125 [==============================] - 22s 177ms/step - loss: 0.0074 - val_loss: 1.1850\n",
      "Epoch 97/100\n",
      "125/125 [==============================] - ETA: 0s - loss: 0.0073\n",
      "Epoch 00097: val_loss did not improve from 0.88063\n",
      "125/125 [==============================] - 22s 177ms/step - loss: 0.0073 - val_loss: 1.1747\n",
      "Epoch 98/100\n",
      "125/125 [==============================] - ETA: 0s - loss: 0.0105\n",
      "Epoch 00098: val_loss did not improve from 0.88063\n",
      "125/125 [==============================] - 22s 177ms/step - loss: 0.0105 - val_loss: 1.2861\n",
      "Epoch 99/100\n",
      "125/125 [==============================] - ETA: 0s - loss: 0.0873\n",
      "Epoch 00099: val_loss did not improve from 0.88063\n",
      "125/125 [==============================] - 22s 177ms/step - loss: 0.0873 - val_loss: 1.2553\n",
      "Epoch 100/100\n",
      "125/125 [==============================] - ETA: 0s - loss: 0.0427\n",
      "Epoch 00100: val_loss did not improve from 0.88063\n",
      "125/125 [==============================] - 22s 177ms/step - loss: 0.0427 - val_loss: 1.2527\n"
     ]
    }
   ],
   "source": [
    "history = net.fit(x_train, y_train, validation_split=0.2, epochs=100, callbacks=[Check_Point, reduce_lr], batch_size=batch_size, shuffle=True)"
   ]
  },
  {
   "cell_type": "code",
   "execution_count": null,
   "metadata": {},
   "outputs": [],
   "source": [
    "np.save('history/my_history_v5.npy',history.history)"
   ]
  },
  {
   "cell_type": "code",
   "execution_count": 23,
   "metadata": {},
   "outputs": [],
   "source": [
    "import numpy as np\n",
    "his = np.load('my_history_v5.npy', allow_pickle=True)"
   ]
  },
  {
   "cell_type": "code",
   "execution_count": 13,
   "metadata": {},
   "outputs": [
    {
     "data": {
      "text/plain": [
       "[<matplotlib.lines.Line2D at 0x7f959cd6ce50>]"
      ]
     },
     "execution_count": 13,
     "metadata": {},
     "output_type": "execute_result"
    },
    {
     "data": {
      "image/png": "[encoded data removed]",
      "text/plain": [
       "<Figure size 432x288 with 1 Axes>"
      ]
     },
     "metadata": {
      "needs_background": "light"
     },
     "output_type": "display_data"
    }
   ],
   "source": [
    "import matplotlib.pyplot as plt\n",
    "plt.plot(range(1, 101), history.history['loss'])\n",
    "plt.plot(range(1, 101), history.history['val_loss'])"
   ]
  },
  {
   "cell_type": "code",
   "execution_count": 14,
   "metadata": {},
   "outputs": [],
   "source": [
    "import imageio\n",
    "\n",
    "im = imageio.imread('../dataset/cv/train/mario.png')"
   ]
  },
  {
   "cell_type": "code",
   "execution_count": 15,
   "metadata": {},
   "outputs": [
    {
     "name": "stderr",
     "output_type": "stream",
     "text": [
      "<ipython-input-15-d15eb699efec>:5: FutureWarning: Non RGB image conversion is now deprecated. For RGBA images, please use rgb2gray(rgba2rgb(rgb)) instead. In version 0.19, a ValueError will be raised if input image last dimension length is not 3.\n",
      "  im = color.rgb2gray(im)\n"
     ]
    }
   ],
   "source": [
    "import cv2\n",
    "from skimage import color\n",
    "\n",
    "im = cv2.resize(im, (128, 128))\n",
    "im = color.rgb2gray(im)"
   ]
  },
  {
   "cell_type": "code",
   "execution_count": 16,
   "metadata": {},
   "outputs": [],
   "source": [
    "im = np.expand_dims(im, axis=-1)"
   ]
  },
  {
   "cell_type": "code",
   "execution_count": 17,
   "metadata": {},
   "outputs": [],
   "source": [
    "def decode_ctc(args):\n",
    "    \"\"\"returns a list of decoded ctc losses\"\"\"\n",
    "\n",
    "    y_pred, input_length = args\n",
    "\n",
    "    ctc_decoded = tf.keras.backend.ctc_decode(\n",
    "        y_pred, input_length, greedy=True)\n",
    "\n",
    "    return ctc_decoded"
   ]
  },
  {
   "cell_type": "code",
   "execution_count": 21,
   "metadata": {},
   "outputs": [
    {
     "name": "stdout",
     "output_type": "stream",
     "text": [
      "WARNING:tensorflow:From /home/grauso/.local/lib/python3.8/site-packages/tensorflow/python/util/dispatch.py:201: sparse_to_dense (from tensorflow.python.ops.sparse_ops) is deprecated and will be removed in a future version.\n",
      "Instructions for updating:\n",
      "Create a `tf.sparse.SparseTensor` and use `tf.sparse.to_dense` instead.\n"
     ]
    }
   ],
   "source": [
    "pred_tensor, _ = decode_ctc([net.predict(np.expand_dims(im, axis=0)), np.array([t_dist_dim])])\n",
    "pred_labels = tf.keras.backend.get_value(pred_tensor[0])"
   ]
  },
  {
   "cell_type": "code",
   "execution_count": 22,
   "metadata": {},
   "outputs": [
    {
     "data": {
      "text/plain": [
       "array([[14, -1, -1, -1, -1, -1, -1, -1, -1, -1, -1, -1, -1, -1, -1, -1,\n",
       "        -1, -1, -1, -1, -1, -1, -1, -1, -1, -1, -1, -1, -1, -1, -1, -1,\n",
       "        -1, -1, -1, -1, -1, -1, -1, -1, -1, -1, -1, -1, -1, -1, -1, -1,\n",
       "        -1, -1, -1, -1, -1, -1, -1, -1, -1, -1, -1, -1, -1, -1, -1, -1,\n",
       "        -1, -1, -1, -1, -1, -1, -1, -1, -1, -1, -1, -1, -1, -1, -1, -1,\n",
       "        -1, -1, -1, -1, -1, -1, -1, -1, -1, -1, -1, -1, -1, -1, -1, -1,\n",
       "        -1, -1, -1, -1, -1, -1, -1, -1, -1, -1, -1, -1, -1, -1, -1, -1,\n",
       "        -1, -1, -1, -1, -1, -1, -1, -1, -1, -1, -1, -1, -1, -1, -1, -1]])"
      ]
     },
     "execution_count": 22,
     "metadata": {},
     "output_type": "execute_result"
    }
   ],
   "source": [
    "pred_labels"
   ]
  },
  {
   "cell_type": "code",
   "execution_count": 23,
   "metadata": {},
   "outputs": [
    {
     "data": {
      "text/plain": [
       "<tf.Tensor: shape=(1, 128), dtype=string, numpy=\n",
       "array([[b'E', b'[UNK]', b'[UNK]', b'[UNK]', b'[UNK]', b'[UNK]', b'[UNK]',\n",
       "        b'[UNK]', b'[UNK]', b'[UNK]', b'[UNK]', b'[UNK]', b'[UNK]',\n",
       "        b'[UNK]', b'[UNK]', b'[UNK]', b'[UNK]', b'[UNK]', b'[UNK]',\n",
       "        b'[UNK]', b'[UNK]', b'[UNK]', b'[UNK]', b'[UNK]', b'[UNK]',\n",
       "        b'[UNK]', b'[UNK]', b'[UNK]', b'[UNK]', b'[UNK]', b'[UNK]',\n",
       "        b'[UNK]', b'[UNK]', b'[UNK]', b'[UNK]', b'[UNK]', b'[UNK]',\n",
       "        b'[UNK]', b'[UNK]', b'[UNK]', b'[UNK]', b'[UNK]', b'[UNK]',\n",
       "        b'[UNK]', b'[UNK]', b'[UNK]', b'[UNK]', b'[UNK]', b'[UNK]',\n",
       "        b'[UNK]', b'[UNK]', b'[UNK]', b'[UNK]', b'[UNK]', b'[UNK]',\n",
       "        b'[UNK]', b'[UNK]', b'[UNK]', b'[UNK]', b'[UNK]', b'[UNK]',\n",
       "        b'[UNK]', b'[UNK]', b'[UNK]', b'[UNK]', b'[UNK]', b'[UNK]',\n",
       "        b'[UNK]', b'[UNK]', b'[UNK]', b'[UNK]', b'[UNK]', b'[UNK]',\n",
       "        b'[UNK]', b'[UNK]', b'[UNK]', b'[UNK]', b'[UNK]', b'[UNK]',\n",
       "        b'[UNK]', b'[UNK]', b'[UNK]', b'[UNK]', b'[UNK]', b'[UNK]',\n",
       "        b'[UNK]', b'[UNK]', b'[UNK]', b'[UNK]', b'[UNK]', b'[UNK]',\n",
       "        b'[UNK]', b'[UNK]', b'[UNK]', b'[UNK]', b'[UNK]', b'[UNK]',\n",
       "        b'[UNK]', b'[UNK]', b'[UNK]', b'[UNK]', b'[UNK]', b'[UNK]',\n",
       "        b'[UNK]', b'[UNK]', b'[UNK]', b'[UNK]', b'[UNK]', b'[UNK]',\n",
       "        b'[UNK]', b'[UNK]', b'[UNK]', b'[UNK]', b'[UNK]', b'[UNK]',\n",
       "        b'[UNK]', b'[UNK]', b'[UNK]', b'[UNK]', b'[UNK]', b'[UNK]',\n",
       "        b'[UNK]', b'[UNK]', b'[UNK]', b'[UNK]', b'[UNK]', b'[UNK]',\n",
       "        b'[UNK]']], dtype=object)>"
      ]
     },
     "execution_count": 23,
     "metadata": {},
     "output_type": "execute_result"
    }
   ],
   "source": [
    "num_to_char(pred_labels)"
   ]
  },
  {
   "cell_type": "code",
   "execution_count": 33,
   "metadata": {},
   "outputs": [
    {
     "data": {
      "image/png": "[encoded data removed]",
      "text/plain": [
       "<Figure size 432x288 with 1 Axes>"
      ]
     },
     "metadata": {
      "needs_background": "light"
     },
     "output_type": "display_data"
    }
   ],
   "source": [
    "import matplotlib.pyplot as plt\n",
    "plt.imshow(im, cmap='gray')\n",
    "plt.show()"
   ]
  },
  {
   "cell_type": "code",
   "execution_count": 15,
   "metadata": {},
   "outputs": [],
   "source": [
    "net.load_weights('weights/CRNN_v10_5.h5')"
   ]
  },
  {
   "cell_type": "code",
   "execution_count": 27,
   "metadata": {},
   "outputs": [
    {
     "name": "stdout",
     "output_type": "stream",
     "text": [
      "Missing modules for handwritten text generation.\n"
     ]
    },
    {
     "data": {
      "image/png": "[encoded data removed]",
      "text/plain": [
       "<PIL.Image.Image image mode=RGB size=128x32 at 0x7FEAFDA610A0>"
      ]
     },
     "metadata": {},
     "output_type": "display_data"
    }
   ],
   "source": [
    "from trdg.generators import GeneratorFromRandom  \n",
    "base_generator = GeneratorFromRandom(use_symbols=False, use_letters=True, length=1, width=128, size=32)\n",
    "img, lbl = next(base_generator)\n",
    "display(img)"
   ]
  },
  {
   "cell_type": "code",
   "execution_count": 29,
   "metadata": {},
   "outputs": [],
   "source": [
    "import cv2\n",
    "from skimage import color\n",
    "im = cv2.resize(np.array(img), (128, 128))\n",
    "im = color.rgb2gray(im)\n",
    "im = np.expand_dims(im, axis=-1)"
   ]
  },
  {
   "cell_type": "code",
   "execution_count": null,
   "metadata": {},
   "outputs": [],
   "source": []
  },
  {
   "cell_type": "code",
   "execution_count": 30,
   "metadata": {},
   "outputs": [],
   "source": [
    "pred_tensor, _ = decode_ctc([net.predict(np.expand_dims(im, axis=0)), np.array([t_dist_dim])])\n",
    "pred_labels = tf.keras.backend.get_value(pred_tensor[0])"
   ]
  },
  {
   "cell_type": "code",
   "execution_count": 31,
   "metadata": {},
   "outputs": [
    {
     "data": {
      "text/plain": [
       "array([[14, 25, -1, -1, -1, -1, -1, -1, -1, -1, -1, -1, -1, -1, -1, -1,\n",
       "        -1, -1, -1, -1, -1, -1, -1, -1, -1, -1, -1, -1, -1, -1, -1, -1,\n",
       "        -1, -1, -1, -1, -1, -1, -1, -1, -1, -1, -1, -1, -1, -1, -1, -1,\n",
       "        -1, -1, -1, -1, -1, -1, -1, -1, -1, -1, -1, -1, -1, -1, -1, -1,\n",
       "        -1, -1, -1, -1, -1, -1, -1, -1, -1, -1, -1, -1, -1, -1, -1, -1,\n",
       "        -1, -1, -1, -1, -1, -1, -1, -1, -1, -1, -1, -1, -1, -1, -1, -1,\n",
       "        -1, -1, -1, -1, -1, -1, -1, -1, -1, -1, -1, -1, -1, -1, -1, -1,\n",
       "        -1, -1, -1, -1, -1, -1, -1, -1, -1, -1, -1, -1, -1, -1, -1, -1]])"
      ]
     },
     "execution_count": 31,
     "metadata": {},
     "output_type": "execute_result"
    }
   ],
   "source": [
    "pred_labels"
   ]
  },
  {
   "cell_type": "code",
   "execution_count": 32,
   "metadata": {},
   "outputs": [
    {
     "data": {
      "text/plain": [
       "<tf.Tensor: shape=(1, 128), dtype=string, numpy=\n",
       "array([[b'E', b'P', b'[UNK]', b'[UNK]', b'[UNK]', b'[UNK]', b'[UNK]',\n",
       "        b'[UNK]', b'[UNK]', b'[UNK]', b'[UNK]', b'[UNK]', b'[UNK]',\n",
       "        b'[UNK]', b'[UNK]', b'[UNK]', b'[UNK]', b'[UNK]', b'[UNK]',\n",
       "        b'[UNK]', b'[UNK]', b'[UNK]', b'[UNK]', b'[UNK]', b'[UNK]',\n",
       "        b'[UNK]', b'[UNK]', b'[UNK]', b'[UNK]', b'[UNK]', b'[UNK]',\n",
       "        b'[UNK]', b'[UNK]', b'[UNK]', b'[UNK]', b'[UNK]', b'[UNK]',\n",
       "        b'[UNK]', b'[UNK]', b'[UNK]', b'[UNK]', b'[UNK]', b'[UNK]',\n",
       "        b'[UNK]', b'[UNK]', b'[UNK]', b'[UNK]', b'[UNK]', b'[UNK]',\n",
       "        b'[UNK]', b'[UNK]', b'[UNK]', b'[UNK]', b'[UNK]', b'[UNK]',\n",
       "        b'[UNK]', b'[UNK]', b'[UNK]', b'[UNK]', b'[UNK]', b'[UNK]',\n",
       "        b'[UNK]', b'[UNK]', b'[UNK]', b'[UNK]', b'[UNK]', b'[UNK]',\n",
       "        b'[UNK]', b'[UNK]', b'[UNK]', b'[UNK]', b'[UNK]', b'[UNK]',\n",
       "        b'[UNK]', b'[UNK]', b'[UNK]', b'[UNK]', b'[UNK]', b'[UNK]',\n",
       "        b'[UNK]', b'[UNK]', b'[UNK]', b'[UNK]', b'[UNK]', b'[UNK]',\n",
       "        b'[UNK]', b'[UNK]', b'[UNK]', b'[UNK]', b'[UNK]', b'[UNK]',\n",
       "        b'[UNK]', b'[UNK]', b'[UNK]', b'[UNK]', b'[UNK]', b'[UNK]',\n",
       "        b'[UNK]', b'[UNK]', b'[UNK]', b'[UNK]', b'[UNK]', b'[UNK]',\n",
       "        b'[UNK]', b'[UNK]', b'[UNK]', b'[UNK]', b'[UNK]', b'[UNK]',\n",
       "        b'[UNK]', b'[UNK]', b'[UNK]', b'[UNK]', b'[UNK]', b'[UNK]',\n",
       "        b'[UNK]', b'[UNK]', b'[UNK]', b'[UNK]', b'[UNK]', b'[UNK]',\n",
       "        b'[UNK]', b'[UNK]', b'[UNK]', b'[UNK]', b'[UNK]', b'[UNK]',\n",
       "        b'[UNK]']], dtype=object)>"
      ]
     },
     "execution_count": 32,
     "metadata": {},
     "output_type": "execute_result"
    }
   ],
   "source": [
    "num_to_char(pred_labels)"
   ]
  },
  {
   "cell_type": "code",
   "execution_count": 26,
   "metadata": {},
   "outputs": [
    {
     "data": {
      "text/plain": [
       "'ht'"
      ]
     },
     "execution_count": 26,
     "metadata": {},
     "output_type": "execute_result"
    }
   ],
   "source": [
    "labels[50]"
   ]
  },
  {
   "cell_type": "code",
   "execution_count": null,
   "metadata": {},
   "outputs": [],
   "source": []
  }
 ],
 "metadata": {
  "kernelspec": {
   "display_name": "Python 3",
   "language": "python",
   "name": "python3"
  },
  "language_info": {
   "codemirror_mode": {
    "name": "ipython",
    "version": 3
   },
   "file_extension": ".py",
   "mimetype": "text/x-python",
   "name": "python",
   "nbconvert_exporter": "python",
   "pygments_lexer": "ipython3",
   "version": "3.8.10"
  }
 },
 "nbformat": 4,
 "nbformat_minor": 4
}
