{
 "cells": [
  {
   "cell_type": "code",
   "execution_count": 1,
   "metadata": {},
   "outputs": [
    {
     "name": "stdout",
     "output_type": "stream",
     "text": [
      "setGPU: Setting GPU to: 1\n"
     ]
    }
   ],
   "source": [
    "import numpy as np\n",
    "from model import *\n",
    "import tensorflow as tf\n",
    "import setGPU\n",
    "#strategy = tf.distribute.MirroredStrategy([\"GPU:0\", \"GPU:1\"])\n",
    "\n",
    "imgs = np.expand_dims(np.load('../dataset/cv/train/x/generated_text.npz')['arr_0'], axis=-1)\n",
    "labels = np.load('../dataset/cv/train/y/generated_labels.npy')"
   ]
  },
  {
   "cell_type": "code",
   "execution_count": 2,
   "metadata": {},
   "outputs": [],
   "source": [
    "#imgs = imgs/255"
   ]
  },
  {
   "cell_type": "code",
   "execution_count": 3,
   "metadata": {},
   "outputs": [],
   "source": [
    "characters = set(char for label in labels for char in label)"
   ]
  },
  {
   "cell_type": "code",
   "execution_count": 4,
   "metadata": {},
   "outputs": [],
   "source": [
    "# Mapping characters to integers\n",
    "char_to_num = layers.experimental.preprocessing.StringLookup(\n",
    "                  vocabulary=sorted(list(characters)), num_oov_indices=0, mask_token=None )\n",
    "\n",
    "# Mapping integers back to original characters\n",
    "num_to_char = layers.experimental.preprocessing.StringLookup(\n",
    "                  vocabulary=char_to_num.get_vocabulary(), mask_token=None, invert=True )"
   ]
  },
  {
   "cell_type": "code",
   "execution_count": 5,
   "metadata": {},
   "outputs": [],
   "source": [
    "imgs = np.transpose(imgs, (0, 2, 1, 3))\n",
    "'''\n",
    "max_len = max([len(label) for label in labels])\n",
    "encoded_labels = []\n",
    "for label in labels:\n",
    "    if label:\n",
    "        tmp = np.array([char_to_num(char) for char in label])\n",
    "        encoded_labels.append(np.pad(tmp, (0, max_len-tmp.shape[0]), constant_values=0))\n",
    "    else:\n",
    "        tmp = np.array([char_to_num('#')])\n",
    "        encoded_labels.append(np.pad(tmp, (0, max_len-tmp.shape[0]), constant_values=0))\n",
    "'''\n",
    "\n",
    "encoded_labels = np.load('../dataset/cv/train/y/encoded_generated_labels.npy')"
   ]
  },
  {
   "cell_type": "code",
   "execution_count": 6,
   "metadata": {},
   "outputs": [],
   "source": [
    "#Si inserisce alla fine di ogni array label la lunghezza reale della parola\n",
    "t_dist_dim = int(128)          # Questo valore indica quanti step temporali ci sono: nelle ultime feature map ci sono 128/4\n",
    "                                 # step temporali perché 128 è la larghezza massima tra le immagini in ingresso e 4 è il fattore\n",
    "                                 # di riduzione dovuto ai MaxPooling (ci sono 2 livelli di MaxPooling che dimezzano le dimensioni)\n",
    "enc2 = []\n",
    "for i in range(encoded_labels.shape[0]):\n",
    "    if len(labels[i]) == 0:\n",
    "        enc2.append(np.append(encoded_labels[i], [1, t_dist_dim]))\n",
    "    else:\n",
    "        enc2.append(np.append(encoded_labels[i], [len(labels[i]), t_dist_dim]))\n",
    "enc2 = np.array(enc2)"
   ]
  },
  {
   "cell_type": "code",
   "execution_count": 7,
   "metadata": {},
   "outputs": [],
   "source": [
    "#with strategy.scope():\n",
    "net = build_and_compile_model_v10_6(input_shape=(128, 128, 1), len_characters=len(characters), opt=\"Adam\")"
   ]
  },
  {
   "cell_type": "code",
   "execution_count": 8,
   "metadata": {},
   "outputs": [
    {
     "name": "stdout",
     "output_type": "stream",
     "text": [
      "Model: \"functional_1\"\n",
      "__________________________________________________________________________________________________\n",
      "Layer (type)                    Output Shape         Param #     Connected to                     \n",
      "==================================================================================================\n",
      "input_1 (InputLayer)            [(None, 128, 128, 1) 0                                            \n",
      "__________________________________________________________________________________________________\n",
      "conv2d (Conv2D)                 (None, 128, 128, 16) 160         input_1[0][0]                    \n",
      "__________________________________________________________________________________________________\n",
      "activation (Activation)         (None, 128, 128, 16) 0           conv2d[0][0]                     \n",
      "__________________________________________________________________________________________________\n",
      "batch_normalization (BatchNorma (None, 128, 128, 16) 64          activation[0][0]                 \n",
      "__________________________________________________________________________________________________\n",
      "conv2d_1 (Conv2D)               (None, 128, 128, 32) 4640        batch_normalization[0][0]        \n",
      "__________________________________________________________________________________________________\n",
      "activation_1 (Activation)       (None, 128, 128, 32) 0           conv2d_1[0][0]                   \n",
      "__________________________________________________________________________________________________\n",
      "batch_normalization_1 (BatchNor (None, 128, 128, 32) 128         activation_1[0][0]               \n",
      "__________________________________________________________________________________________________\n",
      "conv2d_2 (Conv2D)               (None, 128, 128, 64) 18496       batch_normalization_1[0][0]      \n",
      "__________________________________________________________________________________________________\n",
      "activation_2 (Activation)       (None, 128, 128, 64) 0           conv2d_2[0][0]                   \n",
      "__________________________________________________________________________________________________\n",
      "batch_normalization_2 (BatchNor (None, 128, 128, 64) 256         activation_2[0][0]               \n",
      "__________________________________________________________________________________________________\n",
      "conv2d_3 (Conv2D)               (None, 128, 128, 128 73856       batch_normalization_2[0][0]      \n",
      "__________________________________________________________________________________________________\n",
      "activation_3 (Activation)       (None, 128, 128, 128 0           conv2d_3[0][0]                   \n",
      "__________________________________________________________________________________________________\n",
      "batch_normalization_3 (BatchNor (None, 128, 128, 128 512         activation_3[0][0]               \n",
      "__________________________________________________________________________________________________\n",
      "conv2d_4 (Conv2D)               (None, 128, 128, 256 295168      batch_normalization_3[0][0]      \n",
      "__________________________________________________________________________________________________\n",
      "activation_4 (Activation)       (None, 128, 128, 256 0           conv2d_4[0][0]                   \n",
      "__________________________________________________________________________________________________\n",
      "batch_normalization_4 (BatchNor (None, 128, 128, 256 1024        activation_4[0][0]               \n",
      "__________________________________________________________________________________________________\n",
      "concatenate (Concatenate)       (None, 128, 128, 496 0           batch_normalization[0][0]        \n",
      "                                                                 batch_normalization_1[0][0]      \n",
      "                                                                 batch_normalization_2[0][0]      \n",
      "                                                                 batch_normalization_3[0][0]      \n",
      "                                                                 batch_normalization_4[0][0]      \n",
      "__________________________________________________________________________________________________\n",
      "conv2d_5 (Conv2D)               (None, 128, 128, 256 1143040     concatenate[0][0]                \n",
      "__________________________________________________________________________________________________\n",
      "activation_5 (Activation)       (None, 128, 128, 256 0           conv2d_5[0][0]                   \n",
      "__________________________________________________________________________________________________\n",
      "batch_normalization_5 (BatchNor (None, 128, 128, 256 1024        activation_5[0][0]               \n",
      "__________________________________________________________________________________________________\n",
      "time_distributed (TimeDistribut (None, 128, 32768)   0           batch_normalization_5[0][0]      \n",
      "__________________________________________________________________________________________________\n",
      "dense (Dense)                   (None, 128, 128)     4194432     time_distributed[0][0]           \n",
      "__________________________________________________________________________________________________\n",
      "bidirectional (Bidirectional)   (None, 128, 128)     98816       dense[0][0]                      \n",
      "__________________________________________________________________________________________________\n",
      "bidirectional_1 (Bidirectional) (None, 128, 256)     263168      bidirectional[0][0]              \n",
      "__________________________________________________________________________________________________\n",
      "dense_1 (Dense)                 (None, 128, 63)      16191       bidirectional_1[0][0]            \n",
      "==================================================================================================\n",
      "Total params: 6,110,975\n",
      "Trainable params: 6,109,471\n",
      "Non-trainable params: 1,504\n",
      "__________________________________________________________________________________________________\n"
     ]
    }
   ],
   "source": [
    "net.summary()"
   ]
  },
  {
   "cell_type": "code",
   "execution_count": 9,
   "metadata": {},
   "outputs": [],
   "source": [
    "from tensorflow.keras.callbacks import ModelCheckpoint, EarlyStopping, ReduceLROnPlateau\n",
    "\n",
    "Early_Stopping_Patience = 10 \n",
    "Min_Delta = 0.0001\n",
    "# Model Check Point\n",
    "Check_Point = ModelCheckpoint( 'weights/CRNN_v10_6.h5',   # Filepath\n",
    "                               monitor='val_loss',\n",
    "                               save_best_only=True,\n",
    "                               verbose=1,\n",
    "                               mode='auto',\n",
    "                               save_weights_only=False,\n",
    "                               save_freq='epoch' )\n",
    "# Add early stopping\n",
    "Early_Stopping = EarlyStopping( monitor='val_loss',\n",
    "                                min_delta=Min_Delta,\n",
    "                                patience=Early_Stopping_Patience,\n",
    "                                verbose=1,\n",
    "                                mode='auto',\n",
    "                                baseline=None,\n",
    "                                restore_best_weights=True )\n",
    "reduce_lr = ReduceLROnPlateau(monitor='val_loss', factor=0.2,\n",
    "                              patience=10, min_lr=0.0002)"
   ]
  },
  {
   "cell_type": "code",
   "execution_count": 10,
   "metadata": {},
   "outputs": [],
   "source": [
    "batch_size = 32\n",
    "x_train = imgs\n",
    "y_train = enc2"
   ]
  },
  {
   "cell_type": "code",
   "execution_count": null,
   "metadata": {},
   "outputs": [
    {
     "name": "stdout",
     "output_type": "stream",
     "text": [
      "Epoch 1/100\n",
      "  2/250 [..............................] - ETA: 48s - loss: 389.6213WARNING:tensorflow:Callbacks method `on_train_batch_end` is slow compared to the batch time (batch time: 0.1464s vs `on_train_batch_end` time: 0.2430s). Check your callbacks.\n",
      "250/250 [==============================] - ETA: 0s - loss: 30.7435\n",
      "Epoch 00001: val_loss improved from inf to 26.89207, saving model to weights/CRNN_v10_6.h5\n",
      "250/250 [==============================] - 109s 435ms/step - loss: 30.7435 - val_loss: 26.8921\n",
      "Epoch 2/100\n",
      "250/250 [==============================] - ETA: 0s - loss: 26.4890\n",
      "Epoch 00002: val_loss improved from 26.89207 to 26.47397, saving model to weights/CRNN_v10_6.h5\n",
      "250/250 [==============================] - 108s 433ms/step - loss: 26.4890 - val_loss: 26.4740\n",
      "Epoch 3/100\n",
      "250/250 [==============================] - ETA: 0s - loss: 26.4106\n",
      "Epoch 00003: val_loss improved from 26.47397 to 26.44406, saving model to weights/CRNN_v10_6.h5\n",
      "250/250 [==============================] - 108s 432ms/step - loss: 26.4106 - val_loss: 26.4441\n",
      "Epoch 4/100\n",
      "250/250 [==============================] - ETA: 0s - loss: 26.3969\n",
      "Epoch 00004: val_loss improved from 26.44406 to 26.42257, saving model to weights/CRNN_v10_6.h5\n",
      "250/250 [==============================] - 108s 432ms/step - loss: 26.3969 - val_loss: 26.4226\n",
      "Epoch 5/100\n",
      "250/250 [==============================] - ETA: 0s - loss: 26.3022\n",
      "Epoch 00005: val_loss improved from 26.42257 to 26.20769, saving model to weights/CRNN_v10_6.h5\n",
      "250/250 [==============================] - 108s 432ms/step - loss: 26.3022 - val_loss: 26.2077\n",
      "Epoch 6/100\n",
      "250/250 [==============================] - ETA: 0s - loss: 26.0560\n",
      "Epoch 00006: val_loss did not improve from 26.20769\n",
      "250/250 [==============================] - 108s 430ms/step - loss: 26.0560 - val_loss: 26.4138\n",
      "Epoch 7/100\n",
      "250/250 [==============================] - ETA: 0s - loss: 25.9197\n",
      "Epoch 00007: val_loss improved from 26.20769 to 25.98657, saving model to weights/CRNN_v10_6.h5\n",
      "250/250 [==============================] - 108s 432ms/step - loss: 25.9197 - val_loss: 25.9866\n",
      "Epoch 8/100\n",
      "250/250 [==============================] - ETA: 0s - loss: 25.7898\n",
      "Epoch 00008: val_loss improved from 25.98657 to 25.74296, saving model to weights/CRNN_v10_6.h5\n",
      "250/250 [==============================] - 108s 433ms/step - loss: 25.7898 - val_loss: 25.7430\n",
      "Epoch 9/100\n",
      "250/250 [==============================] - ETA: 0s - loss: 25.6461\n",
      "Epoch 00009: val_loss did not improve from 25.74296\n",
      "250/250 [==============================] - 108s 431ms/step - loss: 25.6461 - val_loss: 30.2304\n",
      "Epoch 10/100\n",
      "250/250 [==============================] - ETA: 0s - loss: 25.5437\n",
      "Epoch 00010: val_loss did not improve from 25.74296\n",
      "250/250 [==============================] - 108s 430ms/step - loss: 25.5437 - val_loss: 27.5774\n",
      "Epoch 11/100\n",
      "250/250 [==============================] - ETA: 0s - loss: 25.4468\n",
      "Epoch 00011: val_loss did not improve from 25.74296\n",
      "250/250 [==============================] - 108s 431ms/step - loss: 25.4468 - val_loss: 53.3947\n",
      "Epoch 12/100\n",
      "250/250 [==============================] - ETA: 0s - loss: 25.2112\n",
      "Epoch 00012: val_loss did not improve from 25.74296\n",
      "250/250 [==============================] - 108s 430ms/step - loss: 25.2112 - val_loss: 31.5549\n",
      "Epoch 13/100\n",
      "250/250 [==============================] - ETA: 0s - loss: 24.1027\n",
      "Epoch 00013: val_loss improved from 25.74296 to 22.06655, saving model to weights/CRNN_v10_6.h5\n",
      "250/250 [==============================] - 108s 432ms/step - loss: 24.1027 - val_loss: 22.0666\n",
      "Epoch 14/100\n",
      "250/250 [==============================] - ETA: 0s - loss: 16.0560\n",
      "Epoch 00014: val_loss improved from 22.06655 to 11.19870, saving model to weights/CRNN_v10_6.h5\n",
      "250/250 [==============================] - 108s 433ms/step - loss: 16.0560 - val_loss: 11.1987\n",
      "Epoch 15/100\n",
      "250/250 [==============================] - ETA: 0s - loss: 6.6730\n",
      "Epoch 00015: val_loss improved from 11.19870 to 6.36256, saving model to weights/CRNN_v10_6.h5\n",
      "250/250 [==============================] - 108s 432ms/step - loss: 6.6730 - val_loss: 6.3626\n",
      "Epoch 16/100\n",
      "250/250 [==============================] - ETA: 0s - loss: 3.7262\n",
      "Epoch 00016: val_loss improved from 6.36256 to 3.24243, saving model to weights/CRNN_v10_6.h5\n",
      "250/250 [==============================] - 108s 432ms/step - loss: 3.7262 - val_loss: 3.2424\n",
      "Epoch 17/100\n",
      "250/250 [==============================] - ETA: 0s - loss: 2.7791\n",
      "Epoch 00017: val_loss improved from 3.24243 to 2.85052, saving model to weights/CRNN_v10_6.h5\n",
      "250/250 [==============================] - 108s 432ms/step - loss: 2.7791 - val_loss: 2.8505\n",
      "Epoch 18/100\n",
      "250/250 [==============================] - ETA: 0s - loss: 2.1912\n",
      "Epoch 00018: val_loss did not improve from 2.85052\n",
      "250/250 [==============================] - 108s 430ms/step - loss: 2.1912 - val_loss: 15.6591\n",
      "Epoch 19/100\n",
      "250/250 [==============================] - ETA: 0s - loss: 1.9098\n",
      "Epoch 00019: val_loss did not improve from 2.85052\n",
      "250/250 [==============================] - 108s 430ms/step - loss: 1.9098 - val_loss: 34.5440\n",
      "Epoch 20/100\n",
      "250/250 [==============================] - ETA: 0s - loss: 1.6510\n",
      "Epoch 00020: val_loss improved from 2.85052 to 2.84401, saving model to weights/CRNN_v10_6.h5\n",
      "250/250 [==============================] - 108s 432ms/step - loss: 1.6510 - val_loss: 2.8440\n",
      "Epoch 21/100\n",
      "250/250 [==============================] - ETA: 0s - loss: 1.4915\n",
      "Epoch 00021: val_loss improved from 2.84401 to 2.14997, saving model to weights/CRNN_v10_6.h5\n",
      "250/250 [==============================] - 108s 432ms/step - loss: 1.4915 - val_loss: 2.1500\n",
      "Epoch 22/100\n",
      "250/250 [==============================] - ETA: 0s - loss: 1.3406\n",
      "Epoch 00022: val_loss improved from 2.14997 to 1.68925, saving model to weights/CRNN_v10_6.h5\n",
      "250/250 [==============================] - 108s 432ms/step - loss: 1.3406 - val_loss: 1.6892\n",
      "Epoch 23/100\n",
      "250/250 [==============================] - ETA: 0s - loss: 1.2500\n",
      "Epoch 00023: val_loss did not improve from 1.68925\n",
      "250/250 [==============================] - 107s 430ms/step - loss: 1.2500 - val_loss: 1.7660\n",
      "Epoch 24/100\n",
      "250/250 [==============================] - ETA: 0s - loss: 1.1655\n",
      "Epoch 00024: val_loss did not improve from 1.68925\n",
      "250/250 [==============================] - 107s 430ms/step - loss: 1.1655 - val_loss: 2.1702\n",
      "Epoch 25/100\n",
      "250/250 [==============================] - ETA: 0s - loss: 1.0817\n",
      "Epoch 00025: val_loss did not improve from 1.68925\n",
      "250/250 [==============================] - 107s 430ms/step - loss: 1.0817 - val_loss: 2.8065\n",
      "Epoch 26/100\n",
      "250/250 [==============================] - ETA: 0s - loss: 1.0170\n",
      "Epoch 00026: val_loss did not improve from 1.68925\n",
      "250/250 [==============================] - 108s 431ms/step - loss: 1.0170 - val_loss: 11.0518\n",
      "Epoch 27/100\n",
      "250/250 [==============================] - ETA: 0s - loss: 0.9919\n",
      "Epoch 00027: val_loss did not improve from 1.68925\n",
      "250/250 [==============================] - 108s 430ms/step - loss: 0.9919 - val_loss: 1.7168\n",
      "Epoch 28/100\n",
      "250/250 [==============================] - ETA: 0s - loss: 0.8999\n",
      "Epoch 00028: val_loss improved from 1.68925 to 1.60511, saving model to weights/CRNN_v10_6.h5\n",
      "250/250 [==============================] - 108s 431ms/step - loss: 0.8999 - val_loss: 1.6051\n",
      "Epoch 29/100\n",
      "250/250 [==============================] - ETA: 0s - loss: 0.9219\n",
      "Epoch 00029: val_loss did not improve from 1.60511\n",
      "250/250 [==============================] - 107s 430ms/step - loss: 0.9219 - val_loss: 1.6236\n",
      "Epoch 30/100\n",
      "250/250 [==============================] - ETA: 0s - loss: 1.0652\n",
      "Epoch 00030: val_loss did not improve from 1.60511\n",
      "250/250 [==============================] - 108s 431ms/step - loss: 1.0652 - val_loss: 14.5755\n",
      "Epoch 31/100\n",
      "250/250 [==============================] - ETA: 0s - loss: 1.0169\n",
      "Epoch 00031: val_loss improved from 1.60511 to 1.45428, saving model to weights/CRNN_v10_6.h5\n",
      "250/250 [==============================] - 108s 431ms/step - loss: 1.0169 - val_loss: 1.4543\n",
      "Epoch 32/100\n",
      "250/250 [==============================] - ETA: 0s - loss: 0.8473\n",
      "Epoch 00032: val_loss did not improve from 1.45428\n",
      "250/250 [==============================] - 108s 430ms/step - loss: 0.8473 - val_loss: 1.5782\n",
      "Epoch 33/100\n"
     ]
    },
    {
     "name": "stdout",
     "output_type": "stream",
     "text": [
      "250/250 [==============================] - ETA: 0s - loss: 0.7877\n",
      "Epoch 00033: val_loss improved from 1.45428 to 1.20396, saving model to weights/CRNN_v10_6.h5\n",
      "250/250 [==============================] - 108s 431ms/step - loss: 0.7877 - val_loss: 1.2040\n",
      "Epoch 34/100\n",
      "250/250 [==============================] - ETA: 0s - loss: 0.8527\n",
      "Epoch 00034: val_loss did not improve from 1.20396\n",
      "250/250 [==============================] - 108s 431ms/step - loss: 0.8527 - val_loss: 4.7830\n",
      "Epoch 35/100\n",
      "250/250 [==============================] - ETA: 0s - loss: 0.7788\n",
      "Epoch 00035: val_loss improved from 1.20396 to 1.09484, saving model to weights/CRNN_v10_6.h5\n",
      "250/250 [==============================] - 108s 431ms/step - loss: 0.7788 - val_loss: 1.0948\n",
      "Epoch 36/100\n",
      "250/250 [==============================] - ETA: 0s - loss: 0.7217\n",
      "Epoch 00036: val_loss did not improve from 1.09484\n",
      "250/250 [==============================] - 108s 431ms/step - loss: 0.7217 - val_loss: 1.1826\n",
      "Epoch 37/100\n",
      "250/250 [==============================] - ETA: 0s - loss: 0.6831\n",
      "Epoch 00037: val_loss improved from 1.09484 to 1.06089, saving model to weights/CRNN_v10_6.h5\n",
      "250/250 [==============================] - 108s 431ms/step - loss: 0.6831 - val_loss: 1.0609\n",
      "Epoch 38/100\n",
      "  6/250 [..............................] - ETA: 1:21 - loss: 0.6884"
     ]
    }
   ],
   "source": [
    "history = net.fit(x_train, y_train, validation_split=0.2, epochs=100, callbacks=[Check_Point, reduce_lr], batch_size=batch_size, shuffle=True)"
   ]
  },
  {
   "cell_type": "code",
   "execution_count": null,
   "metadata": {},
   "outputs": [],
   "source": [
    "np.save('history/my_history_v5.npy',history.history)"
   ]
  },
  {
   "cell_type": "code",
   "execution_count": 23,
   "metadata": {},
   "outputs": [],
   "source": [
    "import numpy as np\n",
    "his = np.load('my_history_v5.npy', allow_pickle=True)"
   ]
  },
  {
   "cell_type": "code",
   "execution_count": 13,
   "metadata": {},
   "outputs": [
    {
     "data": {
      "text/plain": [
       "[<matplotlib.lines.Line2D at 0x7f959cd6ce50>]"
      ]
     },
     "execution_count": 13,
     "metadata": {},
     "output_type": "execute_result"
    },
    {
     "data": {
      "image/png": "[encoded data removed]",
      "text/plain": [
       "<Figure size 432x288 with 1 Axes>"
      ]
     },
     "metadata": {
      "needs_background": "light"
     },
     "output_type": "display_data"
    }
   ],
   "source": [
    "import matplotlib.pyplot as plt\n",
    "plt.plot(range(1, 101), history.history['loss'])\n",
    "plt.plot(range(1, 101), history.history['val_loss'])"
   ]
  },
  {
   "cell_type": "code",
   "execution_count": 14,
   "metadata": {},
   "outputs": [],
   "source": [
    "import imageio\n",
    "\n",
    "im = imageio.imread('../dataset/cv/train/mario.png')"
   ]
  },
  {
   "cell_type": "code",
   "execution_count": 15,
   "metadata": {},
   "outputs": [
    {
     "name": "stderr",
     "output_type": "stream",
     "text": [
      "<ipython-input-15-d15eb699efec>:5: FutureWarning: Non RGB image conversion is now deprecated. For RGBA images, please use rgb2gray(rgba2rgb(rgb)) instead. In version 0.19, a ValueError will be raised if input image last dimension length is not 3.\n",
      "  im = color.rgb2gray(im)\n"
     ]
    }
   ],
   "source": [
    "import cv2\n",
    "from skimage import color\n",
    "\n",
    "im = cv2.resize(im, (128, 128))\n",
    "im = color.rgb2gray(im)"
   ]
  },
  {
   "cell_type": "code",
   "execution_count": 16,
   "metadata": {},
   "outputs": [],
   "source": [
    "im = np.expand_dims(im, axis=-1)"
   ]
  },
  {
   "cell_type": "code",
   "execution_count": 20,
   "metadata": {},
   "outputs": [],
   "source": [
    "def decode_ctc(args):\n",
    "    \"\"\"returns a list of decoded ctc losses\"\"\"\n",
    "\n",
    "    y_pred, input_length = args\n",
    "\n",
    "    ctc_decoded = tf.keras.backend.ctc_decode(\n",
    "        y_pred, input_length, greedy=True)\n",
    "\n",
    "    return ctc_decoded"
   ]
  },
  {
   "cell_type": "code",
   "execution_count": 21,
   "metadata": {},
   "outputs": [
    {
     "name": "stdout",
     "output_type": "stream",
     "text": [
      "WARNING:tensorflow:From /home/grauso/.local/lib/python3.8/site-packages/tensorflow/python/util/dispatch.py:201: sparse_to_dense (from tensorflow.python.ops.sparse_ops) is deprecated and will be removed in a future version.\n",
      "Instructions for updating:\n",
      "Create a `tf.sparse.SparseTensor` and use `tf.sparse.to_dense` instead.\n"
     ]
    }
   ],
   "source": [
    "pred_tensor, _ = decode_ctc([net.predict(np.expand_dims(im, axis=0)), np.array([t_dist_dim])])\n",
    "pred_labels = tf.keras.backend.get_value(pred_tensor[0])"
   ]
  },
  {
   "cell_type": "code",
   "execution_count": 22,
   "metadata": {},
   "outputs": [
    {
     "data": {
      "text/plain": [
       "array([[14, -1, -1, -1, -1, -1, -1, -1, -1, -1, -1, -1, -1, -1, -1, -1,\n",
       "        -1, -1, -1, -1, -1, -1, -1, -1, -1, -1, -1, -1, -1, -1, -1, -1,\n",
       "        -1, -1, -1, -1, -1, -1, -1, -1, -1, -1, -1, -1, -1, -1, -1, -1,\n",
       "        -1, -1, -1, -1, -1, -1, -1, -1, -1, -1, -1, -1, -1, -1, -1, -1,\n",
       "        -1, -1, -1, -1, -1, -1, -1, -1, -1, -1, -1, -1, -1, -1, -1, -1,\n",
       "        -1, -1, -1, -1, -1, -1, -1, -1, -1, -1, -1, -1, -1, -1, -1, -1,\n",
       "        -1, -1, -1, -1, -1, -1, -1, -1, -1, -1, -1, -1, -1, -1, -1, -1,\n",
       "        -1, -1, -1, -1, -1, -1, -1, -1, -1, -1, -1, -1, -1, -1, -1, -1]])"
      ]
     },
     "execution_count": 22,
     "metadata": {},
     "output_type": "execute_result"
    }
   ],
   "source": [
    "pred_labels"
   ]
  },
  {
   "cell_type": "code",
   "execution_count": 23,
   "metadata": {},
   "outputs": [
    {
     "data": {
      "text/plain": [
       "<tf.Tensor: shape=(1, 128), dtype=string, numpy=\n",
       "array([[b'E', b'[UNK]', b'[UNK]', b'[UNK]', b'[UNK]', b'[UNK]', b'[UNK]',\n",
       "        b'[UNK]', b'[UNK]', b'[UNK]', b'[UNK]', b'[UNK]', b'[UNK]',\n",
       "        b'[UNK]', b'[UNK]', b'[UNK]', b'[UNK]', b'[UNK]', b'[UNK]',\n",
       "        b'[UNK]', b'[UNK]', b'[UNK]', b'[UNK]', b'[UNK]', b'[UNK]',\n",
       "        b'[UNK]', b'[UNK]', b'[UNK]', b'[UNK]', b'[UNK]', b'[UNK]',\n",
       "        b'[UNK]', b'[UNK]', b'[UNK]', b'[UNK]', b'[UNK]', b'[UNK]',\n",
       "        b'[UNK]', b'[UNK]', b'[UNK]', b'[UNK]', b'[UNK]', b'[UNK]',\n",
       "        b'[UNK]', b'[UNK]', b'[UNK]', b'[UNK]', b'[UNK]', b'[UNK]',\n",
       "        b'[UNK]', b'[UNK]', b'[UNK]', b'[UNK]', b'[UNK]', b'[UNK]',\n",
       "        b'[UNK]', b'[UNK]', b'[UNK]', b'[UNK]', b'[UNK]', b'[UNK]',\n",
       "        b'[UNK]', b'[UNK]', b'[UNK]', b'[UNK]', b'[UNK]', b'[UNK]',\n",
       "        b'[UNK]', b'[UNK]', b'[UNK]', b'[UNK]', b'[UNK]', b'[UNK]',\n",
       "        b'[UNK]', b'[UNK]', b'[UNK]', b'[UNK]', b'[UNK]', b'[UNK]',\n",
       "        b'[UNK]', b'[UNK]', b'[UNK]', b'[UNK]', b'[UNK]', b'[UNK]',\n",
       "        b'[UNK]', b'[UNK]', b'[UNK]', b'[UNK]', b'[UNK]', b'[UNK]',\n",
       "        b'[UNK]', b'[UNK]', b'[UNK]', b'[UNK]', b'[UNK]', b'[UNK]',\n",
       "        b'[UNK]', b'[UNK]', b'[UNK]', b'[UNK]', b'[UNK]', b'[UNK]',\n",
       "        b'[UNK]', b'[UNK]', b'[UNK]', b'[UNK]', b'[UNK]', b'[UNK]',\n",
       "        b'[UNK]', b'[UNK]', b'[UNK]', b'[UNK]', b'[UNK]', b'[UNK]',\n",
       "        b'[UNK]', b'[UNK]', b'[UNK]', b'[UNK]', b'[UNK]', b'[UNK]',\n",
       "        b'[UNK]', b'[UNK]', b'[UNK]', b'[UNK]', b'[UNK]', b'[UNK]',\n",
       "        b'[UNK]']], dtype=object)>"
      ]
     },
     "execution_count": 23,
     "metadata": {},
     "output_type": "execute_result"
    }
   ],
   "source": [
    "num_to_char(pred_labels)"
   ]
  },
  {
   "cell_type": "code",
   "execution_count": 41,
   "metadata": {},
   "outputs": [
    {
     "data": {
      "image/png": "[encoded data removed]",
      "text/plain": [
       "<Figure size 432x288 with 1 Axes>"
      ]
     },
     "metadata": {
      "needs_background": "light"
     },
     "output_type": "display_data"
    }
   ],
   "source": [
    "import matplotlib.pyplot as plt\n",
    "plt.imshow(im, cmap='gray')\n",
    "plt.show()"
   ]
  },
  {
   "cell_type": "code",
   "execution_count": 54,
   "metadata": {},
   "outputs": [
    {
     "data": {
      "image/png": "[encoded data removed]",
      "text/plain": [
       "<PIL.Image.Image image mode=RGB size=128x32 at 0x7FA125EF0580>"
      ]
     },
     "metadata": {},
     "output_type": "display_data"
    }
   ],
   "source": [
    "from trdg.generators import GeneratorFromRandom  \n",
    "base_generator = GeneratorFromRandom(use_symbols=False, use_letters=True, length=1, width=128, size=32)\n",
    "img, lbl = next(base_generator)\n",
    "display(img)"
   ]
  },
  {
   "cell_type": "code",
   "execution_count": 55,
   "metadata": {},
   "outputs": [],
   "source": [
    "im = cv2.resize(np.array(img), (128, 128))\n",
    "im = color.rgb2gray(im)\n",
    "im = np.expand_dims(im, axis=-1)"
   ]
  },
  {
   "cell_type": "code",
   "execution_count": null,
   "metadata": {},
   "outputs": [],
   "source": []
  },
  {
   "cell_type": "code",
   "execution_count": 59,
   "metadata": {},
   "outputs": [],
   "source": [
    "pred_tensor, _ = decode_ctc([net.predict(np.expand_dims(imgs[50], axis=0)), np.array([t_dist_dim])])\n",
    "pred_labels = tf.keras.backend.get_value(pred_tensor[0])"
   ]
  },
  {
   "cell_type": "code",
   "execution_count": 60,
   "metadata": {},
   "outputs": [
    {
     "data": {
      "text/plain": [
       "array([[43, 55, -1, -1, -1, -1, -1, -1, -1, -1, -1, -1, -1, -1, -1, -1,\n",
       "        -1, -1, -1, -1, -1, -1, -1, -1, -1, -1, -1, -1, -1, -1, -1, -1,\n",
       "        -1, -1, -1, -1, -1, -1, -1, -1, -1, -1, -1, -1, -1, -1, -1, -1,\n",
       "        -1, -1, -1, -1, -1, -1, -1, -1, -1, -1, -1, -1, -1, -1, -1, -1,\n",
       "        -1, -1, -1, -1, -1, -1, -1, -1, -1, -1, -1, -1, -1, -1, -1, -1,\n",
       "        -1, -1, -1, -1, -1, -1, -1, -1, -1, -1, -1, -1, -1, -1, -1, -1,\n",
       "        -1, -1, -1, -1, -1, -1, -1, -1, -1, -1, -1, -1, -1, -1, -1, -1,\n",
       "        -1, -1, -1, -1, -1, -1, -1, -1, -1, -1, -1, -1, -1, -1, -1, -1]])"
      ]
     },
     "execution_count": 60,
     "metadata": {},
     "output_type": "execute_result"
    }
   ],
   "source": [
    "pred_labels"
   ]
  },
  {
   "cell_type": "code",
   "execution_count": 61,
   "metadata": {},
   "outputs": [
    {
     "data": {
      "text/plain": [
       "<tf.Tensor: shape=(1, 128), dtype=string, numpy=\n",
       "array([[b'h', b't', b'[UNK]', b'[UNK]', b'[UNK]', b'[UNK]', b'[UNK]',\n",
       "        b'[UNK]', b'[UNK]', b'[UNK]', b'[UNK]', b'[UNK]', b'[UNK]',\n",
       "        b'[UNK]', b'[UNK]', b'[UNK]', b'[UNK]', b'[UNK]', b'[UNK]',\n",
       "        b'[UNK]', b'[UNK]', b'[UNK]', b'[UNK]', b'[UNK]', b'[UNK]',\n",
       "        b'[UNK]', b'[UNK]', b'[UNK]', b'[UNK]', b'[UNK]', b'[UNK]',\n",
       "        b'[UNK]', b'[UNK]', b'[UNK]', b'[UNK]', b'[UNK]', b'[UNK]',\n",
       "        b'[UNK]', b'[UNK]', b'[UNK]', b'[UNK]', b'[UNK]', b'[UNK]',\n",
       "        b'[UNK]', b'[UNK]', b'[UNK]', b'[UNK]', b'[UNK]', b'[UNK]',\n",
       "        b'[UNK]', b'[UNK]', b'[UNK]', b'[UNK]', b'[UNK]', b'[UNK]',\n",
       "        b'[UNK]', b'[UNK]', b'[UNK]', b'[UNK]', b'[UNK]', b'[UNK]',\n",
       "        b'[UNK]', b'[UNK]', b'[UNK]', b'[UNK]', b'[UNK]', b'[UNK]',\n",
       "        b'[UNK]', b'[UNK]', b'[UNK]', b'[UNK]', b'[UNK]', b'[UNK]',\n",
       "        b'[UNK]', b'[UNK]', b'[UNK]', b'[UNK]', b'[UNK]', b'[UNK]',\n",
       "        b'[UNK]', b'[UNK]', b'[UNK]', b'[UNK]', b'[UNK]', b'[UNK]',\n",
       "        b'[UNK]', b'[UNK]', b'[UNK]', b'[UNK]', b'[UNK]', b'[UNK]',\n",
       "        b'[UNK]', b'[UNK]', b'[UNK]', b'[UNK]', b'[UNK]', b'[UNK]',\n",
       "        b'[UNK]', b'[UNK]', b'[UNK]', b'[UNK]', b'[UNK]', b'[UNK]',\n",
       "        b'[UNK]', b'[UNK]', b'[UNK]', b'[UNK]', b'[UNK]', b'[UNK]',\n",
       "        b'[UNK]', b'[UNK]', b'[UNK]', b'[UNK]', b'[UNK]', b'[UNK]',\n",
       "        b'[UNK]', b'[UNK]', b'[UNK]', b'[UNK]', b'[UNK]', b'[UNK]',\n",
       "        b'[UNK]', b'[UNK]', b'[UNK]', b'[UNK]', b'[UNK]', b'[UNK]',\n",
       "        b'[UNK]']], dtype=object)>"
      ]
     },
     "execution_count": 61,
     "metadata": {},
     "output_type": "execute_result"
    }
   ],
   "source": [
    "num_to_char(pred_labels)"
   ]
  },
  {
   "cell_type": "code",
   "execution_count": 62,
   "metadata": {},
   "outputs": [
    {
     "data": {
      "text/plain": [
       "'ht'"
      ]
     },
     "execution_count": 62,
     "metadata": {},
     "output_type": "execute_result"
    }
   ],
   "source": [
    "labels[50]"
   ]
  },
  {
   "cell_type": "code",
   "execution_count": null,
   "metadata": {},
   "outputs": [],
   "source": []
  }
 ],
 "metadata": {
  "kernelspec": {
   "display_name": "Python 3",
   "language": "python",
   "name": "python3"
  },
  "language_info": {
   "codemirror_mode": {
    "name": "ipython",
    "version": 3
   },
   "file_extension": ".py",
   "mimetype": "text/x-python",
   "name": "python",
   "nbconvert_exporter": "python",
   "pygments_lexer": "ipython3",
   "version": "3.8.10"
  }
 },
 "nbformat": 4,
 "nbformat_minor": 4
}
