{
 "cells": [
  {
   "cell_type": "code",
   "execution_count": 1,
   "metadata": {},
   "outputs": [
    {
     "name": "stdout",
     "output_type": "stream",
     "text": [
      "setGPU: Setting GPU to: 0\n"
     ]
    }
   ],
   "source": [
    "import numpy as np\n",
    "from mod_v11 import *\n",
    "import tensorflow as tf\n",
    "import setGPU\n",
    "#strategy = tf.distribute.MirroredStrategy([\"GPU:0\", \"GPU:1\"])\n",
    "\n",
    "imgs = np.load('../dataset/cv/train/x/generated_text_2.npz')['arr_0']\n",
    "labels = np.load('../dataset/cv/train/y/generated_labels_2.npy')"
   ]
  },
  {
   "cell_type": "code",
   "execution_count": 2,
   "metadata": {},
   "outputs": [],
   "source": [
    "characters = set(char for label in labels for char in label)"
   ]
  },
  {
   "cell_type": "code",
   "execution_count": 3,
   "metadata": {},
   "outputs": [],
   "source": [
    "# Mapping characters to integers\n",
    "char_to_num = layers.experimental.preprocessing.StringLookup(\n",
    "                  vocabulary=sorted(list(characters)), num_oov_indices=0, mask_token=None )\n",
    "\n",
    "# Mapping integers back to original characters\n",
    "num_to_char = layers.experimental.preprocessing.StringLookup(\n",
    "                  vocabulary=char_to_num.get_vocabulary(), mask_token=None, invert=True )"
   ]
  },
  {
   "cell_type": "code",
   "execution_count": 4,
   "metadata": {},
   "outputs": [],
   "source": [
    "imgs = np.transpose(imgs, (0, 2, 1, 3))\n",
    "\n",
    "'''\n",
    "max_len = max([len(label) for label in labels])\n",
    "encoded_labels = []\n",
    "for label in labels:\n",
    "    tmp = np.array([char_to_num(char) for char in label])\n",
    "    encoded_labels.append(np.pad(tmp, (0, max_len-tmp.shape[0]), constant_values=-1, mode='constant'))\n",
    "\n",
    "'''\n",
    "encoded_labels = np.load('../dataset/cv/train/y/encoded_labels_2.npy')"
   ]
  },
  {
   "cell_type": "code",
   "execution_count": 5,
   "metadata": {},
   "outputs": [],
   "source": [
    "#Si inserisce alla fine di ogni array label la lunghezza reale della parola\n",
    "t_dist_dim = int(128)          # Questo valore indica quanti step temporali ci sono: nelle ultime feature map ci sono 128/4\n",
    "                                 # step temporali perché 128 è la larghezza massima tra le immagini in ingresso e 4 è il fattore\n",
    "                                 # di riduzione dovuto ai MaxPooling (ci sono 2 livelli di MaxPooling che dimezzano le dimensioni)\n",
    "enc2 = []\n",
    "for i in range(encoded_labels.shape[0]):\n",
    "    if len(labels[i]) == 0:\n",
    "        enc2.append(np.append(encoded_labels[i], [1, t_dist_dim]))\n",
    "    else:\n",
    "        enc2.append(np.append(encoded_labels[i], [len(labels[i]), t_dist_dim]))\n",
    "enc2 = np.array(enc2)"
   ]
  },
  {
   "cell_type": "code",
   "execution_count": 6,
   "metadata": {},
   "outputs": [],
   "source": [
    "#with strategy.scope():\n",
    "net = build_and_compile_model_v11_3(input_shape=(128, 32, 1), len_characters=len(characters), opt=\"Adam\")"
   ]
  },
  {
   "cell_type": "code",
   "execution_count": 7,
   "metadata": {},
   "outputs": [
    {
     "name": "stdout",
     "output_type": "stream",
     "text": [
      "Model: \"functional_1\"\n",
      "__________________________________________________________________________________________________\n",
      "Layer (type)                    Output Shape         Param #     Connected to                     \n",
      "==================================================================================================\n",
      "input_1 (InputLayer)            [(None, 128, 32, 1)] 0                                            \n",
      "__________________________________________________________________________________________________\n",
      "conv2d (Conv2D)                 (None, 128, 32, 16)  160         input_1[0][0]                    \n",
      "__________________________________________________________________________________________________\n",
      "activation (Activation)         (None, 128, 32, 16)  0           conv2d[0][0]                     \n",
      "__________________________________________________________________________________________________\n",
      "batch_normalization (BatchNorma (None, 128, 32, 16)  64          activation[0][0]                 \n",
      "__________________________________________________________________________________________________\n",
      "conv2d_1 (Conv2D)               (None, 128, 32, 16)  2320        batch_normalization[0][0]        \n",
      "__________________________________________________________________________________________________\n",
      "activation_1 (Activation)       (None, 128, 32, 16)  0           conv2d_1[0][0]                   \n",
      "__________________________________________________________________________________________________\n",
      "batch_normalization_1 (BatchNor (None, 128, 32, 16)  64          activation_1[0][0]               \n",
      "__________________________________________________________________________________________________\n",
      "max_pooling2d (MaxPooling2D)    (None, 128, 16, 16)  0           batch_normalization_1[0][0]      \n",
      "__________________________________________________________________________________________________\n",
      "conv2d_2 (Conv2D)               (None, 128, 16, 32)  4640        max_pooling2d[0][0]              \n",
      "__________________________________________________________________________________________________\n",
      "activation_2 (Activation)       (None, 128, 16, 32)  0           conv2d_2[0][0]                   \n",
      "__________________________________________________________________________________________________\n",
      "batch_normalization_2 (BatchNor (None, 128, 16, 32)  128         activation_2[0][0]               \n",
      "__________________________________________________________________________________________________\n",
      "concatenate (Concatenate)       (None, 128, 16, 48)  0           batch_normalization_2[0][0]      \n",
      "                                                                 max_pooling2d[0][0]              \n",
      "__________________________________________________________________________________________________\n",
      "conv2d_3 (Conv2D)               (None, 128, 16, 64)  27712       concatenate[0][0]                \n",
      "__________________________________________________________________________________________________\n",
      "activation_3 (Activation)       (None, 128, 16, 64)  0           conv2d_3[0][0]                   \n",
      "__________________________________________________________________________________________________\n",
      "batch_normalization_3 (BatchNor (None, 128, 16, 64)  256         activation_3[0][0]               \n",
      "__________________________________________________________________________________________________\n",
      "max_pooling2d_1 (MaxPooling2D)  (None, 128, 8, 64)   0           batch_normalization_3[0][0]      \n",
      "__________________________________________________________________________________________________\n",
      "conv2d_4 (Conv2D)               (None, 128, 8, 64)   36928       max_pooling2d_1[0][0]            \n",
      "__________________________________________________________________________________________________\n",
      "activation_4 (Activation)       (None, 128, 8, 64)   0           conv2d_4[0][0]                   \n",
      "__________________________________________________________________________________________________\n",
      "batch_normalization_4 (BatchNor (None, 128, 8, 64)   256         activation_4[0][0]               \n",
      "__________________________________________________________________________________________________\n",
      "concatenate_1 (Concatenate)     (None, 128, 8, 128)  0           batch_normalization_4[0][0]      \n",
      "                                                                 max_pooling2d_1[0][0]            \n",
      "__________________________________________________________________________________________________\n",
      "conv2d_5 (Conv2D)               (None, 128, 8, 128)  147584      concatenate_1[0][0]              \n",
      "__________________________________________________________________________________________________\n",
      "activation_5 (Activation)       (None, 128, 8, 128)  0           conv2d_5[0][0]                   \n",
      "__________________________________________________________________________________________________\n",
      "batch_normalization_5 (BatchNor (None, 128, 8, 128)  512         activation_5[0][0]               \n",
      "__________________________________________________________________________________________________\n",
      "max_pooling2d_2 (MaxPooling2D)  (None, 128, 4, 128)  0           batch_normalization_5[0][0]      \n",
      "__________________________________________________________________________________________________\n",
      "conv2d_6 (Conv2D)               (None, 128, 4, 128)  147584      max_pooling2d_2[0][0]            \n",
      "__________________________________________________________________________________________________\n",
      "activation_6 (Activation)       (None, 128, 4, 128)  0           conv2d_6[0][0]                   \n",
      "__________________________________________________________________________________________________\n",
      "batch_normalization_6 (BatchNor (None, 128, 4, 128)  512         activation_6[0][0]               \n",
      "__________________________________________________________________________________________________\n",
      "concatenate_2 (Concatenate)     (None, 128, 4, 256)  0           batch_normalization_6[0][0]      \n",
      "                                                                 max_pooling2d_2[0][0]            \n",
      "__________________________________________________________________________________________________\n",
      "conv2d_7 (Conv2D)               (None, 128, 4, 256)  590080      concatenate_2[0][0]              \n",
      "__________________________________________________________________________________________________\n",
      "activation_7 (Activation)       (None, 128, 4, 256)  0           conv2d_7[0][0]                   \n",
      "__________________________________________________________________________________________________\n",
      "batch_normalization_7 (BatchNor (None, 128, 4, 256)  1024        activation_7[0][0]               \n",
      "__________________________________________________________________________________________________\n",
      "max_pooling2d_3 (MaxPooling2D)  (None, 128, 2, 256)  0           batch_normalization_7[0][0]      \n",
      "__________________________________________________________________________________________________\n",
      "time_distributed (TimeDistribut (None, 128, 512)     0           max_pooling2d_3[0][0]            \n",
      "__________________________________________________________________________________________________\n",
      "dense (Dense)                   (None, 128, 128)     65664       time_distributed[0][0]           \n",
      "__________________________________________________________________________________________________\n",
      "dropout (Dropout)               (None, 128, 128)     0           dense[0][0]                      \n",
      "__________________________________________________________________________________________________\n",
      "bidirectional (Bidirectional)   (None, 128, 128)     98816       dropout[0][0]                    \n",
      "__________________________________________________________________________________________________\n",
      "bidirectional_1 (Bidirectional) (None, 128, 128)     98816       bidirectional[0][0]              \n",
      "__________________________________________________________________________________________________\n",
      "dense_1 (Dense)                 (None, 128, 63)      8127        bidirectional_1[0][0]            \n",
      "==================================================================================================\n",
      "Total params: 1,231,247\n",
      "Trainable params: 1,229,839\n",
      "Non-trainable params: 1,408\n",
      "__________________________________________________________________________________________________\n"
     ]
    }
   ],
   "source": [
    "net.summary()"
   ]
  },
  {
   "cell_type": "code",
   "execution_count": 8,
   "metadata": {},
   "outputs": [],
   "source": [
    "from tensorflow.keras.callbacks import ModelCheckpoint, EarlyStopping, ReduceLROnPlateau\n",
    "\n",
    "Early_Stopping_Patience = 10 \n",
    "Min_Delta = 0.0001\n",
    "# Model Check Point\n",
    "Check_Point = ModelCheckpoint( 'weights/CRNN_v11_3_newdataset.h5',   # Filepath\n",
    "                               monitor='val_loss',\n",
    "                               save_best_only=True,\n",
    "                               verbose=1,\n",
    "                               mode='auto',\n",
    "                               save_weights_only=False,\n",
    "                               save_freq='epoch' )\n",
    "# Add early stopping\n",
    "Early_Stopping = EarlyStopping( monitor='val_loss',\n",
    "                                min_delta=Min_Delta,\n",
    "                                patience=Early_Stopping_Patience,\n",
    "                                verbose=1,\n",
    "                                mode='auto',\n",
    "                                baseline=None,\n",
    "                                restore_best_weights=True )\n",
    "reduce_lr = ReduceLROnPlateau(monitor='val_loss', factor=0.2,\n",
    "                              patience=10, min_lr=0.0002)"
   ]
  },
  {
   "cell_type": "code",
   "execution_count": 9,
   "metadata": {},
   "outputs": [],
   "source": [
    "batch_size = 32\n",
    "x_train = imgs\n",
    "y_train = enc2"
   ]
  },
  {
   "cell_type": "code",
   "execution_count": 10,
   "metadata": {},
   "outputs": [
    {
     "name": "stdout",
     "output_type": "stream",
     "text": [
      "Epoch 1/100\n",
      "249/250 [============================>.] - ETA: 0s - loss: 32.6196\n",
      "Epoch 00001: val_loss improved from inf to 27.09055, saving model to weights/CRNN_v11_3_newdataset.h5\n",
      "250/250 [==============================] - 13s 54ms/step - loss: 32.5971 - val_loss: 27.0905\n",
      "Epoch 2/100\n",
      "249/250 [============================>.] - ETA: 0s - loss: 26.3328\n",
      "Epoch 00002: val_loss improved from 27.09055 to 26.47989, saving model to weights/CRNN_v11_3_newdataset.h5\n",
      "250/250 [==============================] - 12s 50ms/step - loss: 26.3289 - val_loss: 26.4799\n",
      "Epoch 3/100\n",
      "249/250 [============================>.] - ETA: 0s - loss: 25.6022\n",
      "Epoch 00003: val_loss improved from 26.47989 to 24.50849, saving model to weights/CRNN_v11_3_newdataset.h5\n",
      "250/250 [==============================] - 12s 50ms/step - loss: 25.5866 - val_loss: 24.5085\n",
      "Epoch 4/100\n",
      "249/250 [============================>.] - ETA: 0s - loss: 19.6942\n",
      "Epoch 00004: val_loss improved from 24.50849 to 11.67110, saving model to weights/CRNN_v11_3_newdataset.h5\n",
      "250/250 [==============================] - 12s 50ms/step - loss: 19.6641 - val_loss: 11.6711\n",
      "Epoch 5/100\n",
      "249/250 [============================>.] - ETA: 0s - loss: 6.8759\n",
      "Epoch 00005: val_loss improved from 11.67110 to 4.47952, saving model to weights/CRNN_v11_3_newdataset.h5\n",
      "250/250 [==============================] - 12s 50ms/step - loss: 6.8637 - val_loss: 4.4795\n",
      "Epoch 6/100\n",
      "249/250 [============================>.] - ETA: 0s - loss: 3.3147\n",
      "Epoch 00006: val_loss improved from 4.47952 to 3.08230, saving model to weights/CRNN_v11_3_newdataset.h5\n",
      "250/250 [==============================] - 12s 50ms/step - loss: 3.3181 - val_loss: 3.0823\n",
      "Epoch 7/100\n",
      "249/250 [============================>.] - ETA: 0s - loss: 2.3947\n",
      "Epoch 00007: val_loss improved from 3.08230 to 2.38561, saving model to weights/CRNN_v11_3_newdataset.h5\n",
      "250/250 [==============================] - 12s 50ms/step - loss: 2.3910 - val_loss: 2.3856\n",
      "Epoch 8/100\n",
      "249/250 [============================>.] - ETA: 0s - loss: 1.6012\n",
      "Epoch 00008: val_loss improved from 2.38561 to 1.59262, saving model to weights/CRNN_v11_3_newdataset.h5\n",
      "250/250 [==============================] - 12s 50ms/step - loss: 1.6008 - val_loss: 1.5926\n",
      "Epoch 9/100\n",
      "249/250 [============================>.] - ETA: 0s - loss: 1.2036\n",
      "Epoch 00009: val_loss improved from 1.59262 to 1.29105, saving model to weights/CRNN_v11_3_newdataset.h5\n",
      "250/250 [==============================] - 12s 50ms/step - loss: 1.2051 - val_loss: 1.2910\n",
      "Epoch 10/100\n",
      "249/250 [============================>.] - ETA: 0s - loss: 1.1694\n",
      "Epoch 00010: val_loss did not improve from 1.29105\n",
      "250/250 [==============================] - 12s 49ms/step - loss: 1.1681 - val_loss: 3.2627\n",
      "Epoch 11/100\n",
      "249/250 [============================>.] - ETA: 0s - loss: 0.9958\n",
      "Epoch 00011: val_loss improved from 1.29105 to 1.07256, saving model to weights/CRNN_v11_3_newdataset.h5\n",
      "250/250 [==============================] - 13s 50ms/step - loss: 0.9954 - val_loss: 1.0726\n",
      "Epoch 12/100\n",
      "249/250 [============================>.] - ETA: 0s - loss: 0.9083\n",
      "Epoch 00012: val_loss did not improve from 1.07256\n",
      "250/250 [==============================] - 12s 49ms/step - loss: 0.9096 - val_loss: 1.1138\n",
      "Epoch 13/100\n",
      "250/250 [==============================] - ETA: 0s - loss: 1.2041\n",
      "Epoch 00013: val_loss did not improve from 1.07256\n",
      "250/250 [==============================] - 12s 50ms/step - loss: 1.2041 - val_loss: 2.8164\n",
      "Epoch 14/100\n",
      "249/250 [============================>.] - ETA: 0s - loss: 1.0417\n",
      "Epoch 00014: val_loss did not improve from 1.07256\n",
      "250/250 [==============================] - 12s 49ms/step - loss: 1.0425 - val_loss: 1.1264\n",
      "Epoch 15/100\n",
      "249/250 [============================>.] - ETA: 0s - loss: 0.7493\n",
      "Epoch 00015: val_loss did not improve from 1.07256\n",
      "250/250 [==============================] - 12s 49ms/step - loss: 0.7512 - val_loss: 1.2379\n",
      "Epoch 16/100\n",
      "249/250 [============================>.] - ETA: 0s - loss: 0.6777\n",
      "Epoch 00016: val_loss improved from 1.07256 to 0.93010, saving model to weights/CRNN_v11_3_newdataset.h5\n",
      "250/250 [==============================] - 13s 50ms/step - loss: 0.6780 - val_loss: 0.9301\n",
      "Epoch 17/100\n",
      "249/250 [============================>.] - ETA: 0s - loss: 0.5851\n",
      "Epoch 00017: val_loss improved from 0.93010 to 0.87574, saving model to weights/CRNN_v11_3_newdataset.h5\n",
      "250/250 [==============================] - 12s 50ms/step - loss: 0.5846 - val_loss: 0.8757\n",
      "Epoch 18/100\n",
      "249/250 [============================>.] - ETA: 0s - loss: 0.5363\n",
      "Epoch 00018: val_loss improved from 0.87574 to 0.82966, saving model to weights/CRNN_v11_3_newdataset.h5\n",
      "250/250 [==============================] - 13s 50ms/step - loss: 0.5361 - val_loss: 0.8297\n",
      "Epoch 19/100\n",
      "249/250 [============================>.] - ETA: 0s - loss: 0.5289\n",
      "Epoch 00019: val_loss did not improve from 0.82966\n",
      "250/250 [==============================] - 12s 49ms/step - loss: 0.5296 - val_loss: 0.8853\n",
      "Epoch 20/100\n",
      "249/250 [============================>.] - ETA: 0s - loss: 0.5659\n",
      "Epoch 00020: val_loss did not improve from 0.82966\n",
      "250/250 [==============================] - 12s 50ms/step - loss: 0.5648 - val_loss: 0.8379\n",
      "Epoch 21/100\n",
      "249/250 [============================>.] - ETA: 0s - loss: 0.5147\n",
      "Epoch 00021: val_loss did not improve from 0.82966\n",
      "250/250 [==============================] - 12s 50ms/step - loss: 0.5135 - val_loss: 0.8667\n",
      "Epoch 22/100\n",
      "249/250 [============================>.] - ETA: 0s - loss: 0.5000\n",
      "Epoch 00022: val_loss improved from 0.82966 to 0.74778, saving model to weights/CRNN_v11_3_newdataset.h5\n",
      "250/250 [==============================] - 12s 50ms/step - loss: 0.5008 - val_loss: 0.7478\n",
      "Epoch 23/100\n",
      "249/250 [============================>.] - ETA: 0s - loss: 0.4530\n",
      "Epoch 00023: val_loss did not improve from 0.74778\n",
      "250/250 [==============================] - 12s 49ms/step - loss: 0.4521 - val_loss: 0.8421\n",
      "Epoch 24/100\n",
      "249/250 [============================>.] - ETA: 0s - loss: 0.4452\n",
      "Epoch 00024: val_loss did not improve from 0.74778\n",
      "250/250 [==============================] - 12s 50ms/step - loss: 0.4448 - val_loss: 0.7748\n",
      "Epoch 25/100\n",
      "249/250 [============================>.] - ETA: 0s - loss: 0.4387\n",
      "Epoch 00025: val_loss did not improve from 0.74778\n",
      "250/250 [==============================] - 12s 49ms/step - loss: 0.4381 - val_loss: 0.8132\n",
      "Epoch 26/100\n",
      "249/250 [============================>.] - ETA: 0s - loss: 0.4351\n",
      "Epoch 00026: val_loss did not improve from 0.74778\n",
      "250/250 [==============================] - 12s 50ms/step - loss: 0.4360 - val_loss: 0.8008\n",
      "Epoch 27/100\n",
      "249/250 [============================>.] - ETA: 0s - loss: 0.4064\n",
      "Epoch 00027: val_loss did not improve from 0.74778\n",
      "250/250 [==============================] - 12s 50ms/step - loss: 0.4069 - val_loss: 0.8419\n",
      "Epoch 28/100\n",
      "249/250 [============================>.] - ETA: 0s - loss: 0.4365\n",
      "Epoch 00028: val_loss did not improve from 0.74778\n",
      "250/250 [==============================] - 12s 50ms/step - loss: 0.4392 - val_loss: 1.3361\n",
      "Epoch 29/100\n",
      "249/250 [============================>.] - ETA: 0s - loss: 0.5039\n",
      "Epoch 00029: val_loss did not improve from 0.74778\n",
      "250/250 [==============================] - 12s 49ms/step - loss: 0.5031 - val_loss: 0.8436\n",
      "Epoch 30/100\n",
      "250/250 [==============================] - ETA: 0s - loss: 0.4121\n",
      "Epoch 00030: val_loss did not improve from 0.74778\n",
      "250/250 [==============================] - 12s 50ms/step - loss: 0.4121 - val_loss: 0.8508\n",
      "Epoch 31/100\n",
      "249/250 [============================>.] - ETA: 0s - loss: 0.4030\n",
      "Epoch 00031: val_loss did not improve from 0.74778\n",
      "250/250 [==============================] - 12s 50ms/step - loss: 0.4022 - val_loss: 0.7882\n",
      "Epoch 32/100\n",
      "249/250 [============================>.] - ETA: 0s - loss: 0.3766\n",
      "Epoch 00032: val_loss did not improve from 0.74778\n",
      "250/250 [==============================] - 12s 49ms/step - loss: 0.3770 - val_loss: 0.8480\n",
      "Epoch 33/100\n",
      "249/250 [============================>.] - ETA: 0s - loss: 0.2806\n",
      "Epoch 00033: val_loss improved from 0.74778 to 0.66803, saving model to weights/CRNN_v11_3_newdataset.h5\n",
      "250/250 [==============================] - 13s 50ms/step - loss: 0.2811 - val_loss: 0.6680\n",
      "Epoch 34/100\n",
      "250/250 [==============================] - ETA: 0s - loss: 0.2075\n",
      "Epoch 00034: val_loss improved from 0.66803 to 0.66379, saving model to weights/CRNN_v11_3_newdataset.h5\n",
      "250/250 [==============================] - 13s 50ms/step - loss: 0.2075 - val_loss: 0.6638\n"
     ]
    },
    {
     "name": "stdout",
     "output_type": "stream",
     "text": [
      "Epoch 35/100\n",
      "249/250 [============================>.] - ETA: 0s - loss: 0.1937\n",
      "Epoch 00035: val_loss did not improve from 0.66379\n",
      "250/250 [==============================] - 12s 50ms/step - loss: 0.1940 - val_loss: 0.6749\n",
      "Epoch 36/100\n",
      "249/250 [============================>.] - ETA: 0s - loss: 0.1728\n",
      "Epoch 00036: val_loss did not improve from 0.66379\n",
      "250/250 [==============================] - 12s 49ms/step - loss: 0.1727 - val_loss: 0.7104\n",
      "Epoch 37/100\n",
      "249/250 [============================>.] - ETA: 0s - loss: 0.1547\n",
      "Epoch 00037: val_loss did not improve from 0.66379\n",
      "250/250 [==============================] - 12s 50ms/step - loss: 0.1544 - val_loss: 0.6997\n",
      "Epoch 38/100\n",
      "250/250 [==============================] - ETA: 0s - loss: 0.1416\n",
      "Epoch 00038: val_loss did not improve from 0.66379\n",
      "250/250 [==============================] - 12s 50ms/step - loss: 0.1416 - val_loss: 0.7342\n",
      "Epoch 39/100\n",
      "250/250 [==============================] - ETA: 0s - loss: 0.1356\n",
      "Epoch 00039: val_loss did not improve from 0.66379\n",
      "250/250 [==============================] - 12s 50ms/step - loss: 0.1356 - val_loss: 0.7304\n",
      "Epoch 40/100\n",
      "249/250 [============================>.] - ETA: 0s - loss: 0.1306\n",
      "Epoch 00040: val_loss did not improve from 0.66379\n",
      "250/250 [==============================] - 12s 50ms/step - loss: 0.1307 - val_loss: 0.7523\n",
      "Epoch 41/100\n",
      "249/250 [============================>.] - ETA: 0s - loss: 0.1132\n",
      "Epoch 00041: val_loss did not improve from 0.66379\n",
      "250/250 [==============================] - 12s 50ms/step - loss: 0.1129 - val_loss: 0.7809\n",
      "Epoch 42/100\n",
      "249/250 [============================>.] - ETA: 0s - loss: 0.1202\n",
      "Epoch 00042: val_loss did not improve from 0.66379\n",
      "250/250 [==============================] - 12s 50ms/step - loss: 0.1205 - val_loss: 0.7704\n",
      "Epoch 43/100\n",
      "249/250 [============================>.] - ETA: 0s - loss: 0.1143\n",
      "Epoch 00043: val_loss did not improve from 0.66379\n",
      "250/250 [==============================] - 12s 50ms/step - loss: 0.1140 - val_loss: 0.7767\n",
      "Epoch 44/100\n",
      "249/250 [============================>.] - ETA: 0s - loss: 0.1074\n",
      "Epoch 00044: val_loss did not improve from 0.66379\n",
      "250/250 [==============================] - 12s 50ms/step - loss: 0.1074 - val_loss: 0.7952\n",
      "Epoch 45/100\n",
      "249/250 [============================>.] - ETA: 0s - loss: 0.1093\n",
      "Epoch 00045: val_loss did not improve from 0.66379\n",
      "250/250 [==============================] - 12s 50ms/step - loss: 0.1089 - val_loss: 0.8468\n",
      "Epoch 46/100\n",
      "249/250 [============================>.] - ETA: 0s - loss: 0.0935\n",
      "Epoch 00046: val_loss did not improve from 0.66379\n",
      "250/250 [==============================] - 12s 50ms/step - loss: 0.0934 - val_loss: 0.7767\n",
      "Epoch 47/100\n",
      "249/250 [============================>.] - ETA: 0s - loss: 0.0816\n",
      "Epoch 00047: val_loss did not improve from 0.66379\n",
      "250/250 [==============================] - 12s 50ms/step - loss: 0.0820 - val_loss: 0.8254\n",
      "Epoch 48/100\n",
      "249/250 [============================>.] - ETA: 0s - loss: 0.0810\n",
      "Epoch 00048: val_loss did not improve from 0.66379\n",
      "250/250 [==============================] - 12s 50ms/step - loss: 0.0812 - val_loss: 0.8526\n",
      "Epoch 49/100\n",
      "249/250 [============================>.] - ETA: 0s - loss: 0.0737\n",
      "Epoch 00049: val_loss did not improve from 0.66379\n",
      "250/250 [==============================] - 12s 50ms/step - loss: 0.0743 - val_loss: 0.8470\n",
      "Epoch 50/100\n",
      "249/250 [============================>.] - ETA: 0s - loss: 0.0772\n",
      "Epoch 00050: val_loss did not improve from 0.66379\n",
      "250/250 [==============================] - 12s 50ms/step - loss: 0.0774 - val_loss: 0.8506\n",
      "Epoch 51/100\n",
      "249/250 [============================>.] - ETA: 0s - loss: 0.0730\n",
      "Epoch 00051: val_loss did not improve from 0.66379\n",
      "250/250 [==============================] - 12s 50ms/step - loss: 0.0729 - val_loss: 0.8657\n",
      "Epoch 52/100\n",
      "249/250 [============================>.] - ETA: 0s - loss: 0.0641\n",
      "Epoch 00052: val_loss did not improve from 0.66379\n",
      "250/250 [==============================] - 12s 50ms/step - loss: 0.0641 - val_loss: 0.9071\n",
      "Epoch 53/100\n",
      "249/250 [============================>.] - ETA: 0s - loss: 0.0615\n",
      "Epoch 00053: val_loss did not improve from 0.66379\n",
      "250/250 [==============================] - 12s 50ms/step - loss: 0.0615 - val_loss: 0.9124\n",
      "Epoch 54/100\n",
      "249/250 [============================>.] - ETA: 0s - loss: 0.0578\n",
      "Epoch 00054: val_loss did not improve from 0.66379\n",
      "250/250 [==============================] - 12s 50ms/step - loss: 0.0577 - val_loss: 0.9193\n",
      "Epoch 55/100\n",
      "249/250 [============================>.] - ETA: 0s - loss: 0.0478\n",
      "Epoch 00055: val_loss did not improve from 0.66379\n",
      "250/250 [==============================] - 12s 50ms/step - loss: 0.0480 - val_loss: 0.9559\n",
      "Epoch 56/100\n",
      "249/250 [============================>.] - ETA: 0s - loss: 0.0544\n",
      "Epoch 00056: val_loss did not improve from 0.66379\n",
      "250/250 [==============================] - 12s 50ms/step - loss: 0.0545 - val_loss: 0.9510\n",
      "Epoch 57/100\n",
      "249/250 [============================>.] - ETA: 0s - loss: 0.0459\n",
      "Epoch 00057: val_loss did not improve from 0.66379\n",
      "250/250 [==============================] - 12s 49ms/step - loss: 0.0459 - val_loss: 0.9930\n",
      "Epoch 58/100\n",
      "249/250 [============================>.] - ETA: 0s - loss: 0.0435\n",
      "Epoch 00058: val_loss did not improve from 0.66379\n",
      "250/250 [==============================] - 12s 49ms/step - loss: 0.0433 - val_loss: 0.9913\n",
      "Epoch 59/100\n",
      "249/250 [============================>.] - ETA: 0s - loss: 0.0461\n",
      "Epoch 00059: val_loss did not improve from 0.66379\n",
      "250/250 [==============================] - 12s 50ms/step - loss: 0.0460 - val_loss: 1.0177\n",
      "Epoch 60/100\n",
      "249/250 [============================>.] - ETA: 0s - loss: 0.0557\n",
      "Epoch 00060: val_loss did not improve from 0.66379\n",
      "250/250 [==============================] - 12s 50ms/step - loss: 0.0556 - val_loss: 0.9824\n",
      "Epoch 61/100\n",
      "249/250 [============================>.] - ETA: 0s - loss: 0.0522\n",
      "Epoch 00061: val_loss did not improve from 0.66379\n",
      "250/250 [==============================] - 12s 50ms/step - loss: 0.0522 - val_loss: 0.9641\n",
      "Epoch 62/100\n",
      "249/250 [============================>.] - ETA: 0s - loss: 0.0470\n",
      "Epoch 00062: val_loss did not improve from 0.66379\n",
      "250/250 [==============================] - 12s 50ms/step - loss: 0.0470 - val_loss: 0.9665\n",
      "Epoch 63/100\n",
      "249/250 [============================>.] - ETA: 0s - loss: 0.0362\n",
      "Epoch 00063: val_loss did not improve from 0.66379\n",
      "250/250 [==============================] - 12s 50ms/step - loss: 0.0361 - val_loss: 1.0194\n",
      "Epoch 64/100\n",
      "249/250 [============================>.] - ETA: 0s - loss: 0.0398\n",
      "Epoch 00064: val_loss did not improve from 0.66379\n",
      "250/250 [==============================] - 12s 50ms/step - loss: 0.0398 - val_loss: 1.0163\n",
      "Epoch 65/100\n",
      "249/250 [============================>.] - ETA: 0s - loss: 0.0285\n",
      "Epoch 00065: val_loss did not improve from 0.66379\n",
      "250/250 [==============================] - 12s 50ms/step - loss: 0.0284 - val_loss: 1.0057\n",
      "Epoch 66/100\n",
      "249/250 [============================>.] - ETA: 0s - loss: 0.0270\n",
      "Epoch 00066: val_loss did not improve from 0.66379\n",
      "250/250 [==============================] - 12s 50ms/step - loss: 0.0270 - val_loss: 1.0531\n",
      "Epoch 67/100\n",
      "249/250 [============================>.] - ETA: 0s - loss: 0.0311\n",
      "Epoch 00067: val_loss did not improve from 0.66379\n",
      "250/250 [==============================] - 12s 50ms/step - loss: 0.0310 - val_loss: 1.0615\n",
      "Epoch 68/100\n",
      "249/250 [============================>.] - ETA: 0s - loss: 0.0230\n",
      "Epoch 00068: val_loss did not improve from 0.66379\n",
      "250/250 [==============================] - 12s 50ms/step - loss: 0.0231 - val_loss: 1.0423\n",
      "Epoch 69/100\n",
      "249/250 [============================>.] - ETA: 0s - loss: 0.0336\n",
      "Epoch 00069: val_loss did not improve from 0.66379\n",
      "250/250 [==============================] - 12s 49ms/step - loss: 0.0341 - val_loss: 1.0640\n",
      "Epoch 70/100\n",
      "249/250 [============================>.] - ETA: 0s - loss: 0.0407\n",
      "Epoch 00070: val_loss did not improve from 0.66379\n",
      "250/250 [==============================] - 12s 50ms/step - loss: 0.0407 - val_loss: 1.1138\n",
      "Epoch 71/100\n",
      "249/250 [============================>.] - ETA: 0s - loss: 0.0440\n",
      "Epoch 00071: val_loss did not improve from 0.66379\n",
      "250/250 [==============================] - 12s 50ms/step - loss: 0.0439 - val_loss: 1.0649\n",
      "Epoch 72/100\n",
      "249/250 [============================>.] - ETA: 0s - loss: 0.0335\n",
      "Epoch 00072: val_loss did not improve from 0.66379\n",
      "250/250 [==============================] - 12s 50ms/step - loss: 0.0336 - val_loss: 1.0936\n",
      "Epoch 73/100\n",
      "249/250 [============================>.] - ETA: 0s - loss: 0.0250\n",
      "Epoch 00073: val_loss did not improve from 0.66379\n",
      "250/250 [==============================] - 12s 50ms/step - loss: 0.0249 - val_loss: 1.0416\n",
      "Epoch 74/100\n",
      "249/250 [============================>.] - ETA: 0s - loss: 0.0215\n",
      "Epoch 00074: val_loss did not improve from 0.66379\n",
      "250/250 [==============================] - 12s 50ms/step - loss: 0.0215 - val_loss: 1.1045\n",
      "Epoch 75/100\n",
      "249/250 [============================>.] - ETA: 0s - loss: 0.0270\n",
      "Epoch 00075: val_loss did not improve from 0.66379\n",
      "250/250 [==============================] - 12s 50ms/step - loss: 0.0270 - val_loss: 1.1039\n",
      "Epoch 76/100\n",
      "249/250 [============================>.] - ETA: 0s - loss: 0.0310\n",
      "Epoch 00076: val_loss did not improve from 0.66379\n",
      "250/250 [==============================] - 12s 50ms/step - loss: 0.0309 - val_loss: 1.0834\n",
      "Epoch 77/100\n",
      "249/250 [============================>.] - ETA: 0s - loss: 0.0279\n",
      "Epoch 00077: val_loss did not improve from 0.66379\n",
      "250/250 [==============================] - 12s 50ms/step - loss: 0.0278 - val_loss: 1.1074\n",
      "Epoch 78/100\n",
      "249/250 [============================>.] - ETA: 0s - loss: 0.0188\n",
      "Epoch 00078: val_loss did not improve from 0.66379\n",
      "250/250 [==============================] - 12s 50ms/step - loss: 0.0188 - val_loss: 1.0842\n",
      "Epoch 79/100\n",
      "249/250 [============================>.] - ETA: 0s - loss: 0.0154\n",
      "Epoch 00079: val_loss did not improve from 0.66379\n",
      "250/250 [==============================] - 12s 50ms/step - loss: 0.0154 - val_loss: 1.1314\n",
      "Epoch 80/100\n",
      "249/250 [============================>.] - ETA: 0s - loss: 0.0122\n",
      "Epoch 00080: val_loss did not improve from 0.66379\n",
      "250/250 [==============================] - 12s 50ms/step - loss: 0.0121 - val_loss: 1.1229\n",
      "Epoch 81/100\n",
      "249/250 [============================>.] - ETA: 0s - loss: 0.0181\n",
      "Epoch 00081: val_loss did not improve from 0.66379\n",
      "250/250 [==============================] - 12s 50ms/step - loss: 0.0182 - val_loss: 1.1590\n",
      "Epoch 82/100\n",
      "249/250 [============================>.] - ETA: 0s - loss: 0.0207\n",
      "Epoch 00082: val_loss did not improve from 0.66379\n",
      "250/250 [==============================] - 12s 50ms/step - loss: 0.0206 - val_loss: 1.1346\n",
      "Epoch 83/100\n",
      "249/250 [============================>.] - ETA: 0s - loss: 0.0315\n",
      "Epoch 00083: val_loss did not improve from 0.66379\n",
      "250/250 [==============================] - 12s 50ms/step - loss: 0.0314 - val_loss: 1.0958\n",
      "Epoch 84/100\n",
      "250/250 [==============================] - ETA: 0s - loss: 0.0281\n",
      "Epoch 00084: val_loss did not improve from 0.66379\n",
      "250/250 [==============================] - 12s 50ms/step - loss: 0.0281 - val_loss: 1.1533\n",
      "Epoch 85/100\n",
      "250/250 [==============================] - ETA: 0s - loss: 0.0401\n",
      "Epoch 00085: val_loss did not improve from 0.66379\n",
      "250/250 [==============================] - 12s 50ms/step - loss: 0.0401 - val_loss: 1.1115\n",
      "Epoch 86/100\n",
      "249/250 [============================>.] - ETA: 0s - loss: 0.0290\n",
      "Epoch 00086: val_loss did not improve from 0.66379\n",
      "250/250 [==============================] - 12s 50ms/step - loss: 0.0289 - val_loss: 1.1302\n",
      "Epoch 87/100\n",
      "249/250 [============================>.] - ETA: 0s - loss: 0.0191\n",
      "Epoch 00087: val_loss did not improve from 0.66379\n",
      "250/250 [==============================] - 12s 49ms/step - loss: 0.0194 - val_loss: 1.2019\n",
      "Epoch 88/100\n",
      "249/250 [============================>.] - ETA: 0s - loss: 0.0201\n",
      "Epoch 00088: val_loss did not improve from 0.66379\n",
      "250/250 [==============================] - 12s 50ms/step - loss: 0.0200 - val_loss: 1.1591\n",
      "Epoch 89/100\n",
      "249/250 [============================>.] - ETA: 0s - loss: 0.0194\n",
      "Epoch 00089: val_loss did not improve from 0.66379\n",
      "250/250 [==============================] - 12s 50ms/step - loss: 0.0199 - val_loss: 1.1443\n",
      "Epoch 90/100\n",
      "249/250 [============================>.] - ETA: 0s - loss: 0.0159\n",
      "Epoch 00090: val_loss did not improve from 0.66379\n",
      "250/250 [==============================] - 12s 50ms/step - loss: 0.0159 - val_loss: 1.1774\n",
      "Epoch 91/100\n",
      "249/250 [============================>.] - ETA: 0s - loss: 0.0147\n",
      "Epoch 00091: val_loss did not improve from 0.66379\n",
      "250/250 [==============================] - 12s 50ms/step - loss: 0.0148 - val_loss: 1.1678\n",
      "Epoch 92/100\n",
      "249/250 [============================>.] - ETA: 0s - loss: 0.0143\n",
      "Epoch 00092: val_loss did not improve from 0.66379\n",
      "250/250 [==============================] - 12s 50ms/step - loss: 0.0143 - val_loss: 1.2095\n",
      "Epoch 93/100\n",
      "249/250 [============================>.] - ETA: 0s - loss: 0.0240\n",
      "Epoch 00093: val_loss did not improve from 0.66379\n",
      "250/250 [==============================] - 12s 50ms/step - loss: 0.0240 - val_loss: 1.1644\n",
      "Epoch 94/100\n",
      "249/250 [============================>.] - ETA: 0s - loss: 0.0366\n",
      "Epoch 00094: val_loss did not improve from 0.66379\n",
      "250/250 [==============================] - 12s 50ms/step - loss: 0.0367 - val_loss: 1.1144\n",
      "Epoch 95/100\n",
      "250/250 [==============================] - ETA: 0s - loss: 0.0238\n",
      "Epoch 00095: val_loss did not improve from 0.66379\n",
      "250/250 [==============================] - 12s 50ms/step - loss: 0.0238 - val_loss: 1.1465\n",
      "Epoch 96/100\n",
      "249/250 [============================>.] - ETA: 0s - loss: 0.0223\n",
      "Epoch 00096: val_loss did not improve from 0.66379\n",
      "250/250 [==============================] - 12s 50ms/step - loss: 0.0224 - val_loss: 1.1398\n",
      "Epoch 97/100\n",
      "249/250 [============================>.] - ETA: 0s - loss: 0.0177\n",
      "Epoch 00097: val_loss did not improve from 0.66379\n",
      "250/250 [==============================] - 12s 50ms/step - loss: 0.0177 - val_loss: 1.1487\n",
      "Epoch 98/100\n",
      "249/250 [============================>.] - ETA: 0s - loss: 0.0179\n",
      "Epoch 00098: val_loss did not improve from 0.66379\n",
      "250/250 [==============================] - 12s 50ms/step - loss: 0.0179 - val_loss: 1.1507\n",
      "Epoch 99/100\n",
      "249/250 [============================>.] - ETA: 0s - loss: 0.0122\n",
      "Epoch 00099: val_loss did not improve from 0.66379\n",
      "250/250 [==============================] - 12s 50ms/step - loss: 0.0122 - val_loss: 1.1542\n",
      "Epoch 100/100\n",
      "249/250 [============================>.] - ETA: 0s - loss: 0.0097\n",
      "Epoch 00100: val_loss did not improve from 0.66379\n",
      "250/250 [==============================] - 12s 50ms/step - loss: 0.0097 - val_loss: 1.1723\n"
     ]
    }
   ],
   "source": [
    "history = net.fit(x_train, y_train, validation_split=0.2, epochs=100, callbacks=[Check_Point, reduce_lr], batch_size=batch_size, shuffle=True)"
   ]
  },
  {
   "cell_type": "code",
   "execution_count": null,
   "metadata": {},
   "outputs": [],
   "source": [
    "np.save('history/my_history_v5.npy',history.history)"
   ]
  },
  {
   "cell_type": "code",
   "execution_count": 23,
   "metadata": {},
   "outputs": [],
   "source": [
    "import numpy as np\n",
    "his = np.load('my_history_v5.npy', allow_pickle=True)"
   ]
  },
  {
   "cell_type": "code",
   "execution_count": 11,
   "metadata": {},
   "outputs": [
    {
     "data": {
      "text/plain": [
       "[<matplotlib.lines.Line2D at 0x7fddc8e22790>]"
      ]
     },
     "execution_count": 11,
     "metadata": {},
     "output_type": "execute_result"
    },
    {
     "data": {
      "image/png": "[encoded data removed]",
      "text/plain": [
       "<Figure size 432x288 with 1 Axes>"
      ]
     },
     "metadata": {
      "needs_background": "light"
     },
     "output_type": "display_data"
    }
   ],
   "source": [
    "import matplotlib.pyplot as plt\n",
    "plt.plot(range(1, 101), history.history['loss'])\n",
    "plt.plot(range(1, 101), history.history['val_loss'])"
   ]
  },
  {
   "cell_type": "code",
   "execution_count": 14,
   "metadata": {},
   "outputs": [],
   "source": [
    "import imageio\n",
    "\n",
    "im = imageio.imread('../dataset/cv/train/mario.png')"
   ]
  },
  {
   "cell_type": "code",
   "execution_count": 15,
   "metadata": {},
   "outputs": [
    {
     "name": "stderr",
     "output_type": "stream",
     "text": [
      "<ipython-input-15-d15eb699efec>:5: FutureWarning: Non RGB image conversion is now deprecated. For RGBA images, please use rgb2gray(rgba2rgb(rgb)) instead. In version 0.19, a ValueError will be raised if input image last dimension length is not 3.\n",
      "  im = color.rgb2gray(im)\n"
     ]
    }
   ],
   "source": [
    "import cv2\n",
    "from skimage import color\n",
    "\n",
    "im = cv2.resize(im, (128, 128))\n",
    "im = color.rgb2gray(im)"
   ]
  },
  {
   "cell_type": "code",
   "execution_count": 16,
   "metadata": {},
   "outputs": [],
   "source": [
    "im = np.expand_dims(im, axis=-1)"
   ]
  },
  {
   "cell_type": "code",
   "execution_count": 17,
   "metadata": {},
   "outputs": [],
   "source": [
    "def decode_ctc(args):\n",
    "    \"\"\"returns a list of decoded ctc losses\"\"\"\n",
    "\n",
    "    y_pred, input_length = args\n",
    "\n",
    "    ctc_decoded = tf.keras.backend.ctc_decode(\n",
    "        y_pred, input_length, greedy=True)\n",
    "\n",
    "    return ctc_decoded"
   ]
  },
  {
   "cell_type": "code",
   "execution_count": 21,
   "metadata": {},
   "outputs": [
    {
     "name": "stdout",
     "output_type": "stream",
     "text": [
      "WARNING:tensorflow:From /home/grauso/.local/lib/python3.8/site-packages/tensorflow/python/util/dispatch.py:201: sparse_to_dense (from tensorflow.python.ops.sparse_ops) is deprecated and will be removed in a future version.\n",
      "Instructions for updating:\n",
      "Create a `tf.sparse.SparseTensor` and use `tf.sparse.to_dense` instead.\n"
     ]
    }
   ],
   "source": [
    "pred_tensor, _ = decode_ctc([net.predict(np.expand_dims(im, axis=0)), np.array([t_dist_dim])])\n",
    "pred_labels = tf.keras.backend.get_value(pred_tensor[0])"
   ]
  },
  {
   "cell_type": "code",
   "execution_count": 22,
   "metadata": {},
   "outputs": [
    {
     "data": {
      "text/plain": [
       "array([[14, -1, -1, -1, -1, -1, -1, -1, -1, -1, -1, -1, -1, -1, -1, -1,\n",
       "        -1, -1, -1, -1, -1, -1, -1, -1, -1, -1, -1, -1, -1, -1, -1, -1,\n",
       "        -1, -1, -1, -1, -1, -1, -1, -1, -1, -1, -1, -1, -1, -1, -1, -1,\n",
       "        -1, -1, -1, -1, -1, -1, -1, -1, -1, -1, -1, -1, -1, -1, -1, -1,\n",
       "        -1, -1, -1, -1, -1, -1, -1, -1, -1, -1, -1, -1, -1, -1, -1, -1,\n",
       "        -1, -1, -1, -1, -1, -1, -1, -1, -1, -1, -1, -1, -1, -1, -1, -1,\n",
       "        -1, -1, -1, -1, -1, -1, -1, -1, -1, -1, -1, -1, -1, -1, -1, -1,\n",
       "        -1, -1, -1, -1, -1, -1, -1, -1, -1, -1, -1, -1, -1, -1, -1, -1]])"
      ]
     },
     "execution_count": 22,
     "metadata": {},
     "output_type": "execute_result"
    }
   ],
   "source": [
    "pred_labels"
   ]
  },
  {
   "cell_type": "code",
   "execution_count": 23,
   "metadata": {},
   "outputs": [
    {
     "data": {
      "text/plain": [
       "<tf.Tensor: shape=(1, 128), dtype=string, numpy=\n",
       "array([[b'E', b'[UNK]', b'[UNK]', b'[UNK]', b'[UNK]', b'[UNK]', b'[UNK]',\n",
       "        b'[UNK]', b'[UNK]', b'[UNK]', b'[UNK]', b'[UNK]', b'[UNK]',\n",
       "        b'[UNK]', b'[UNK]', b'[UNK]', b'[UNK]', b'[UNK]', b'[UNK]',\n",
       "        b'[UNK]', b'[UNK]', b'[UNK]', b'[UNK]', b'[UNK]', b'[UNK]',\n",
       "        b'[UNK]', b'[UNK]', b'[UNK]', b'[UNK]', b'[UNK]', b'[UNK]',\n",
       "        b'[UNK]', b'[UNK]', b'[UNK]', b'[UNK]', b'[UNK]', b'[UNK]',\n",
       "        b'[UNK]', b'[UNK]', b'[UNK]', b'[UNK]', b'[UNK]', b'[UNK]',\n",
       "        b'[UNK]', b'[UNK]', b'[UNK]', b'[UNK]', b'[UNK]', b'[UNK]',\n",
       "        b'[UNK]', b'[UNK]', b'[UNK]', b'[UNK]', b'[UNK]', b'[UNK]',\n",
       "        b'[UNK]', b'[UNK]', b'[UNK]', b'[UNK]', b'[UNK]', b'[UNK]',\n",
       "        b'[UNK]', b'[UNK]', b'[UNK]', b'[UNK]', b'[UNK]', b'[UNK]',\n",
       "        b'[UNK]', b'[UNK]', b'[UNK]', b'[UNK]', b'[UNK]', b'[UNK]',\n",
       "        b'[UNK]', b'[UNK]', b'[UNK]', b'[UNK]', b'[UNK]', b'[UNK]',\n",
       "        b'[UNK]', b'[UNK]', b'[UNK]', b'[UNK]', b'[UNK]', b'[UNK]',\n",
       "        b'[UNK]', b'[UNK]', b'[UNK]', b'[UNK]', b'[UNK]', b'[UNK]',\n",
       "        b'[UNK]', b'[UNK]', b'[UNK]', b'[UNK]', b'[UNK]', b'[UNK]',\n",
       "        b'[UNK]', b'[UNK]', b'[UNK]', b'[UNK]', b'[UNK]', b'[UNK]',\n",
       "        b'[UNK]', b'[UNK]', b'[UNK]', b'[UNK]', b'[UNK]', b'[UNK]',\n",
       "        b'[UNK]', b'[UNK]', b'[UNK]', b'[UNK]', b'[UNK]', b'[UNK]',\n",
       "        b'[UNK]', b'[UNK]', b'[UNK]', b'[UNK]', b'[UNK]', b'[UNK]',\n",
       "        b'[UNK]', b'[UNK]', b'[UNK]', b'[UNK]', b'[UNK]', b'[UNK]',\n",
       "        b'[UNK]']], dtype=object)>"
      ]
     },
     "execution_count": 23,
     "metadata": {},
     "output_type": "execute_result"
    }
   ],
   "source": [
    "num_to_char(pred_labels)"
   ]
  },
  {
   "cell_type": "code",
   "execution_count": 53,
   "metadata": {},
   "outputs": [
    {
     "data": {
      "image/png": "[encoded data removed]",
      "text/plain": [
       "<Figure size 432x288 with 1 Axes>"
      ]
     },
     "metadata": {
      "needs_background": "light"
     },
     "output_type": "display_data"
    }
   ],
   "source": [
    "import matplotlib.pyplot as plt\n",
    "plt.imshow(imgs[0], cmap='gray')\n",
    "plt.show()"
   ]
  },
  {
   "cell_type": "code",
   "execution_count": 15,
   "metadata": {},
   "outputs": [],
   "source": [
    "net.load_weights('weights/CRNN_v10_5.h5')"
   ]
  },
  {
   "cell_type": "code",
   "execution_count": 16,
   "metadata": {
    "scrolled": true
   },
   "outputs": [
    {
     "data": {
      "image/png": "[encoded data removed]",
      "text/plain": [
       "<PIL.Image.Image image mode=RGB size=180x32 at 0x7F655B09ED60>"
      ]
     },
     "metadata": {},
     "output_type": "display_data"
    }
   ],
   "source": [
    "from trdg.generators import GeneratorFromRandom  \n",
    "base_generator = GeneratorFromRandom(use_symbols=False, use_letters=True, length=2, width=180, size=32)\n",
    "img, lbl = next(base_generator)\n",
    "display(img)"
   ]
  },
  {
   "cell_type": "code",
   "execution_count": 50,
   "metadata": {},
   "outputs": [],
   "source": [
    "imgs = []\n",
    "labels = []\n",
    "import cv2\n",
    "from skimage import color\n",
    "import numpy as np\n",
    "for _ in range(10000):\n",
    "    img, lbl = next(base_generator)\n",
    "    im = color.rgb2gray(np.array(img))\n",
    "    im = np.expand_dims(im, axis=-1)\n",
    "    imgs.append(im)\n",
    "    labels.append(lbl)"
   ]
  },
  {
   "cell_type": "code",
   "execution_count": 51,
   "metadata": {},
   "outputs": [],
   "source": [
    "imgs = np.array(imgs)"
   ]
  },
  {
   "cell_type": "code",
   "execution_count": 54,
   "metadata": {},
   "outputs": [],
   "source": [
    "labels = np.array(labels)"
   ]
  },
  {
   "cell_type": "code",
   "execution_count": 57,
   "metadata": {},
   "outputs": [],
   "source": [
    "#np.savez_compressed('../dataset/cv/train/x/generated_text_spaces', imgs)\n",
    "np.save('../dataset/cv/train/y/generated_labels_spaces', labels)"
   ]
  },
  {
   "cell_type": "code",
   "execution_count": 52,
   "metadata": {},
   "outputs": [
    {
     "data": {
      "text/plain": [
       "(10000, 32, 180, 1)"
      ]
     },
     "execution_count": 52,
     "metadata": {},
     "output_type": "execute_result"
    }
   ],
   "source": [
    "imgs.shape"
   ]
  },
  {
   "cell_type": "code",
   "execution_count": 37,
   "metadata": {},
   "outputs": [
    {
     "data": {
      "text/plain": [
       "(180, 28)"
      ]
     },
     "execution_count": 37,
     "metadata": {},
     "output_type": "execute_result"
    }
   ],
   "source": [
    "img.size"
   ]
  },
  {
   "cell_type": "code",
   "execution_count": 3,
   "metadata": {},
   "outputs": [
    {
     "ename": "NameError",
     "evalue": "name 'np' is not defined",
     "output_type": "error",
     "traceback": [
      "\u001b[0;31m---------------------------------------------------------------------------\u001b[0m",
      "\u001b[0;31mNameError\u001b[0m                                 Traceback (most recent call last)",
      "\u001b[0;32m<ipython-input-3-4157ff3e4d80>\u001b[0m in \u001b[0;36m<module>\u001b[0;34m\u001b[0m\n\u001b[1;32m      1\u001b[0m \u001b[0;32mimport\u001b[0m \u001b[0mcv2\u001b[0m\u001b[0;34m\u001b[0m\u001b[0;34m\u001b[0m\u001b[0m\n\u001b[1;32m      2\u001b[0m \u001b[0;32mfrom\u001b[0m \u001b[0mskimage\u001b[0m \u001b[0;32mimport\u001b[0m \u001b[0mcolor\u001b[0m\u001b[0;34m\u001b[0m\u001b[0;34m\u001b[0m\u001b[0m\n\u001b[0;32m----> 3\u001b[0;31m \u001b[0mim\u001b[0m \u001b[0;34m=\u001b[0m \u001b[0mcv2\u001b[0m\u001b[0;34m.\u001b[0m\u001b[0mresize\u001b[0m\u001b[0;34m(\u001b[0m\u001b[0mnp\u001b[0m\u001b[0;34m.\u001b[0m\u001b[0marray\u001b[0m\u001b[0;34m(\u001b[0m\u001b[0mimg\u001b[0m\u001b[0;34m)\u001b[0m\u001b[0;34m,\u001b[0m \u001b[0;34m(\u001b[0m\u001b[0;36m128\u001b[0m\u001b[0;34m,\u001b[0m \u001b[0;36m128\u001b[0m\u001b[0;34m)\u001b[0m\u001b[0;34m)\u001b[0m\u001b[0;34m\u001b[0m\u001b[0;34m\u001b[0m\u001b[0m\n\u001b[0m\u001b[1;32m      4\u001b[0m \u001b[0mim\u001b[0m \u001b[0;34m=\u001b[0m \u001b[0mcolor\u001b[0m\u001b[0;34m.\u001b[0m\u001b[0mrgb2gray\u001b[0m\u001b[0;34m(\u001b[0m\u001b[0mim\u001b[0m\u001b[0;34m)\u001b[0m\u001b[0;34m\u001b[0m\u001b[0;34m\u001b[0m\u001b[0m\n\u001b[1;32m      5\u001b[0m \u001b[0mim\u001b[0m \u001b[0;34m=\u001b[0m \u001b[0mnp\u001b[0m\u001b[0;34m.\u001b[0m\u001b[0mexpand_dims\u001b[0m\u001b[0;34m(\u001b[0m\u001b[0mim\u001b[0m\u001b[0;34m,\u001b[0m \u001b[0maxis\u001b[0m\u001b[0;34m=\u001b[0m\u001b[0;34m-\u001b[0m\u001b[0;36m1\u001b[0m\u001b[0;34m)\u001b[0m\u001b[0;34m\u001b[0m\u001b[0;34m\u001b[0m\u001b[0m\n",
      "\u001b[0;31mNameError\u001b[0m: name 'np' is not defined"
     ]
    }
   ],
   "source": [
    "import cv2\n",
    "from skimage import color\n",
    "im = cv2.resize(np.array(img), (128, 128))\n",
    "im = color.rgb2gray(im)\n",
    "im = np.expand_dims(im, axis=-1)"
   ]
  },
  {
   "cell_type": "code",
   "execution_count": null,
   "metadata": {},
   "outputs": [],
   "source": []
  },
  {
   "cell_type": "code",
   "execution_count": 30,
   "metadata": {},
   "outputs": [],
   "source": [
    "pred_tensor, _ = decode_ctc([net.predict(np.expand_dims(im, axis=0)), np.array([t_dist_dim])])\n",
    "pred_labels = tf.keras.backend.get_value(pred_tensor[0])"
   ]
  },
  {
   "cell_type": "code",
   "execution_count": 31,
   "metadata": {},
   "outputs": [
    {
     "data": {
      "text/plain": [
       "array([[14, 25, -1, -1, -1, -1, -1, -1, -1, -1, -1, -1, -1, -1, -1, -1,\n",
       "        -1, -1, -1, -1, -1, -1, -1, -1, -1, -1, -1, -1, -1, -1, -1, -1,\n",
       "        -1, -1, -1, -1, -1, -1, -1, -1, -1, -1, -1, -1, -1, -1, -1, -1,\n",
       "        -1, -1, -1, -1, -1, -1, -1, -1, -1, -1, -1, -1, -1, -1, -1, -1,\n",
       "        -1, -1, -1, -1, -1, -1, -1, -1, -1, -1, -1, -1, -1, -1, -1, -1,\n",
       "        -1, -1, -1, -1, -1, -1, -1, -1, -1, -1, -1, -1, -1, -1, -1, -1,\n",
       "        -1, -1, -1, -1, -1, -1, -1, -1, -1, -1, -1, -1, -1, -1, -1, -1,\n",
       "        -1, -1, -1, -1, -1, -1, -1, -1, -1, -1, -1, -1, -1, -1, -1, -1]])"
      ]
     },
     "execution_count": 31,
     "metadata": {},
     "output_type": "execute_result"
    }
   ],
   "source": [
    "pred_labels"
   ]
  },
  {
   "cell_type": "code",
   "execution_count": 32,
   "metadata": {},
   "outputs": [
    {
     "data": {
      "text/plain": [
       "<tf.Tensor: shape=(1, 128), dtype=string, numpy=\n",
       "array([[b'E', b'P', b'[UNK]', b'[UNK]', b'[UNK]', b'[UNK]', b'[UNK]',\n",
       "        b'[UNK]', b'[UNK]', b'[UNK]', b'[UNK]', b'[UNK]', b'[UNK]',\n",
       "        b'[UNK]', b'[UNK]', b'[UNK]', b'[UNK]', b'[UNK]', b'[UNK]',\n",
       "        b'[UNK]', b'[UNK]', b'[UNK]', b'[UNK]', b'[UNK]', b'[UNK]',\n",
       "        b'[UNK]', b'[UNK]', b'[UNK]', b'[UNK]', b'[UNK]', b'[UNK]',\n",
       "        b'[UNK]', b'[UNK]', b'[UNK]', b'[UNK]', b'[UNK]', b'[UNK]',\n",
       "        b'[UNK]', b'[UNK]', b'[UNK]', b'[UNK]', b'[UNK]', b'[UNK]',\n",
       "        b'[UNK]', b'[UNK]', b'[UNK]', b'[UNK]', b'[UNK]', b'[UNK]',\n",
       "        b'[UNK]', b'[UNK]', b'[UNK]', b'[UNK]', b'[UNK]', b'[UNK]',\n",
       "        b'[UNK]', b'[UNK]', b'[UNK]', b'[UNK]', b'[UNK]', b'[UNK]',\n",
       "        b'[UNK]', b'[UNK]', b'[UNK]', b'[UNK]', b'[UNK]', b'[UNK]',\n",
       "        b'[UNK]', b'[UNK]', b'[UNK]', b'[UNK]', b'[UNK]', b'[UNK]',\n",
       "        b'[UNK]', b'[UNK]', b'[UNK]', b'[UNK]', b'[UNK]', b'[UNK]',\n",
       "        b'[UNK]', b'[UNK]', b'[UNK]', b'[UNK]', b'[UNK]', b'[UNK]',\n",
       "        b'[UNK]', b'[UNK]', b'[UNK]', b'[UNK]', b'[UNK]', b'[UNK]',\n",
       "        b'[UNK]', b'[UNK]', b'[UNK]', b'[UNK]', b'[UNK]', b'[UNK]',\n",
       "        b'[UNK]', b'[UNK]', b'[UNK]', b'[UNK]', b'[UNK]', b'[UNK]',\n",
       "        b'[UNK]', b'[UNK]', b'[UNK]', b'[UNK]', b'[UNK]', b'[UNK]',\n",
       "        b'[UNK]', b'[UNK]', b'[UNK]', b'[UNK]', b'[UNK]', b'[UNK]',\n",
       "        b'[UNK]', b'[UNK]', b'[UNK]', b'[UNK]', b'[UNK]', b'[UNK]',\n",
       "        b'[UNK]', b'[UNK]', b'[UNK]', b'[UNK]', b'[UNK]', b'[UNK]',\n",
       "        b'[UNK]']], dtype=object)>"
      ]
     },
     "execution_count": 32,
     "metadata": {},
     "output_type": "execute_result"
    }
   ],
   "source": [
    "num_to_char(pred_labels)"
   ]
  },
  {
   "cell_type": "code",
   "execution_count": 26,
   "metadata": {},
   "outputs": [
    {
     "data": {
      "text/plain": [
       "'ht'"
      ]
     },
     "execution_count": 26,
     "metadata": {},
     "output_type": "execute_result"
    }
   ],
   "source": [
    "labels[50]"
   ]
  },
  {
   "cell_type": "code",
   "execution_count": null,
   "metadata": {},
   "outputs": [],
   "source": []
  }
 ],
 "metadata": {
  "kernelspec": {
   "display_name": "Python 3",
   "language": "python",
   "name": "python3"
  },
  "language_info": {
   "codemirror_mode": {
    "name": "ipython",
    "version": 3
   },
   "file_extension": ".py",
   "mimetype": "text/x-python",
   "name": "python",
   "nbconvert_exporter": "python",
   "pygments_lexer": "ipython3",
   "version": "3.8.10"
  }
 },
 "nbformat": 4,
 "nbformat_minor": 4
}
