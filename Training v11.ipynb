{
 "cells": [
  {
   "cell_type": "code",
   "execution_count": 1,
   "metadata": {},
   "outputs": [
    {
     "name": "stdout",
     "output_type": "stream",
     "text": [
      "setGPU: Setting GPU to: 0\n"
     ]
    }
   ],
   "source": [
    "import numpy as np\n",
    "from model import *\n",
    "import tensorflow as tf\n",
    "import setGPU\n",
    "#strategy = tf.distribute.MirroredStrategy([\"GPU:0\", \"GPU:1\"])\n",
    "\n",
    "imgs = np.load('../dataset/cv/train/x/generated_text_spaces.npz')['arr_0']\n",
    "labels = np.load('../dataset/cv/train/y/generated_labels_spaces.npy')"
   ]
  },
  {
   "cell_type": "code",
   "execution_count": 2,
   "metadata": {},
   "outputs": [],
   "source": [
    "characters = set(char for label in labels for char in label)"
   ]
  },
  {
   "cell_type": "code",
   "execution_count": 3,
   "metadata": {},
   "outputs": [],
   "source": [
    "# Mapping characters to integers\n",
    "char_to_num = layers.experimental.preprocessing.StringLookup(\n",
    "                  vocabulary=sorted(list(characters)), num_oov_indices=0, mask_token=None )\n",
    "\n",
    "# Mapping integers back to original characters\n",
    "num_to_char = layers.experimental.preprocessing.StringLookup(\n",
    "                  vocabulary=char_to_num.get_vocabulary(), mask_token=None, invert=True )"
   ]
  },
  {
   "cell_type": "code",
   "execution_count": 4,
   "metadata": {},
   "outputs": [],
   "source": [
    "imgs = np.transpose(imgs, (0, 2, 1, 3))\n",
    "'''\n",
    "max_len = max([len(label) for label in labels])\n",
    "encoded_labels = []\n",
    "for label in labels:\n",
    "    tmp = np.array([char_to_num(char) for char in label])\n",
    "    encoded_labels.append(np.pad(tmp, (0, max_len-tmp.shape[0]), constant_values=0, mode='constant'))\n",
    "'''\n",
    "\n",
    "encoded_labels = np.load('../dataset/cv/train/y/encoded_generated_labels.npy')"
   ]
  },
  {
   "cell_type": "code",
   "execution_count": 5,
   "metadata": {},
   "outputs": [],
   "source": [
    "#Si inserisce alla fine di ogni array label la lunghezza reale della parola\n",
    "t_dist_dim = int(128)          # Questo valore indica quanti step temporali ci sono: nelle ultime feature map ci sono 128/4\n",
    "                                 # step temporali perché 128 è la larghezza massima tra le immagini in ingresso e 4 è il fattore\n",
    "                                 # di riduzione dovuto ai MaxPooling (ci sono 2 livelli di MaxPooling che dimezzano le dimensioni)\n",
    "enc2 = []\n",
    "for i in range(encoded_labels.shape[0]):\n",
    "    if len(labels[i]) == 0:\n",
    "        enc2.append(np.append(encoded_labels[i], [1, t_dist_dim]))\n",
    "    else:\n",
    "        enc2.append(np.append(encoded_labels[i], [len(labels[i]), t_dist_dim]))\n",
    "enc2 = np.array(enc2)"
   ]
  },
  {
   "cell_type": "code",
   "execution_count": 6,
   "metadata": {},
   "outputs": [],
   "source": [
    "#with strategy.scope():\n",
    "net = build_and_compile_model_v9_7(input_shape=(180, 32, 1), len_characters=len(characters), opt=\"Adam\")"
   ]
  },
  {
   "cell_type": "code",
   "execution_count": 7,
   "metadata": {},
   "outputs": [
    {
     "name": "stdout",
     "output_type": "stream",
     "text": [
      "Model: \"functional_1\"\n",
      "_________________________________________________________________\n",
      "Layer (type)                 Output Shape              Param #   \n",
      "=================================================================\n",
      "input_1 (InputLayer)         [(None, 180, 32, 1)]      0         \n",
      "_________________________________________________________________\n",
      "conv2d (Conv2D)              (None, 180, 32, 64)       640       \n",
      "_________________________________________________________________\n",
      "activation (Activation)      (None, 180, 32, 64)       0         \n",
      "_________________________________________________________________\n",
      "batch_normalization (BatchNo (None, 180, 32, 64)       256       \n",
      "_________________________________________________________________\n",
      "conv2d_1 (Conv2D)            (None, 180, 32, 64)       36928     \n",
      "_________________________________________________________________\n",
      "activation_1 (Activation)    (None, 180, 32, 64)       0         \n",
      "_________________________________________________________________\n",
      "batch_normalization_1 (Batch (None, 180, 32, 64)       256       \n",
      "_________________________________________________________________\n",
      "max_pooling2d (MaxPooling2D) (None, 180, 16, 64)       0         \n",
      "_________________________________________________________________\n",
      "conv2d_2 (Conv2D)            (None, 180, 16, 128)      73856     \n",
      "_________________________________________________________________\n",
      "activation_2 (Activation)    (None, 180, 16, 128)      0         \n",
      "_________________________________________________________________\n",
      "batch_normalization_2 (Batch (None, 180, 16, 128)      512       \n",
      "_________________________________________________________________\n",
      "conv2d_3 (Conv2D)            (None, 180, 16, 128)      147584    \n",
      "_________________________________________________________________\n",
      "activation_3 (Activation)    (None, 180, 16, 128)      0         \n",
      "_________________________________________________________________\n",
      "batch_normalization_3 (Batch (None, 180, 16, 128)      512       \n",
      "_________________________________________________________________\n",
      "max_pooling2d_1 (MaxPooling2 (None, 180, 8, 128)       0         \n",
      "_________________________________________________________________\n",
      "conv2d_4 (Conv2D)            (None, 180, 8, 256)       295168    \n",
      "_________________________________________________________________\n",
      "activation_4 (Activation)    (None, 180, 8, 256)       0         \n",
      "_________________________________________________________________\n",
      "batch_normalization_4 (Batch (None, 180, 8, 256)       1024      \n",
      "_________________________________________________________________\n",
      "conv2d_5 (Conv2D)            (None, 180, 8, 256)       590080    \n",
      "_________________________________________________________________\n",
      "activation_5 (Activation)    (None, 180, 8, 256)       0         \n",
      "_________________________________________________________________\n",
      "batch_normalization_5 (Batch (None, 180, 8, 256)       1024      \n",
      "_________________________________________________________________\n",
      "conv2d_6 (Conv2D)            (None, 180, 8, 256)       590080    \n",
      "_________________________________________________________________\n",
      "activation_6 (Activation)    (None, 180, 8, 256)       0         \n",
      "_________________________________________________________________\n",
      "batch_normalization_6 (Batch (None, 180, 8, 256)       1024      \n",
      "_________________________________________________________________\n",
      "max_pooling2d_2 (MaxPooling2 (None, 180, 4, 256)       0         \n",
      "_________________________________________________________________\n",
      "conv2d_7 (Conv2D)            (None, 180, 4, 512)       1180160   \n",
      "_________________________________________________________________\n",
      "activation_7 (Activation)    (None, 180, 4, 512)       0         \n",
      "_________________________________________________________________\n",
      "batch_normalization_7 (Batch (None, 180, 4, 512)       2048      \n",
      "_________________________________________________________________\n",
      "conv2d_8 (Conv2D)            (None, 180, 4, 512)       2359808   \n",
      "_________________________________________________________________\n",
      "activation_8 (Activation)    (None, 180, 4, 512)       0         \n",
      "_________________________________________________________________\n",
      "batch_normalization_8 (Batch (None, 180, 4, 512)       2048      \n",
      "_________________________________________________________________\n",
      "max_pooling2d_3 (MaxPooling2 (None, 180, 2, 512)       0         \n",
      "_________________________________________________________________\n",
      "time_distributed (TimeDistri (None, 180, 1024)         0         \n",
      "_________________________________________________________________\n",
      "dense (Dense)                (None, 180, 128)          131200    \n",
      "_________________________________________________________________\n",
      "dropout (Dropout)            (None, 180, 128)          0         \n",
      "_________________________________________________________________\n",
      "bidirectional (Bidirectional (None, 180, 128)          98816     \n",
      "_________________________________________________________________\n",
      "bidirectional_1 (Bidirection (None, 180, 256)          263168    \n",
      "_________________________________________________________________\n",
      "dense_1 (Dense)              (None, 180, 64)           16448     \n",
      "=================================================================\n",
      "Total params: 5,792,640\n",
      "Trainable params: 5,788,288\n",
      "Non-trainable params: 4,352\n",
      "_________________________________________________________________\n"
     ]
    }
   ],
   "source": [
    "net.summary()"
   ]
  },
  {
   "cell_type": "code",
   "execution_count": 9,
   "metadata": {},
   "outputs": [],
   "source": [
    "from tensorflow.keras.callbacks import ModelCheckpoint, EarlyStopping, ReduceLROnPlateau\n",
    "\n",
    "Early_Stopping_Patience = 10 \n",
    "Min_Delta = 0.0001\n",
    "# Model Check Point\n",
    "Check_Point = ModelCheckpoint( 'weights/CRNN_v9_7_spaces.h5',   # Filepath\n",
    "                               monitor='val_loss',\n",
    "                               save_best_only=True,\n",
    "                               verbose=1,\n",
    "                               mode='auto',\n",
    "                               save_weights_only=False,\n",
    "                               save_freq='epoch' )\n",
    "# Add early stopping\n",
    "Early_Stopping = EarlyStopping( monitor='val_loss',\n",
    "                                min_delta=Min_Delta,\n",
    "                                patience=Early_Stopping_Patience,\n",
    "                                verbose=1,\n",
    "                                mode='auto',\n",
    "                                baseline=None,\n",
    "                                restore_best_weights=True )\n",
    "reduce_lr = ReduceLROnPlateau(monitor='val_loss', factor=0.2,\n",
    "                              patience=10, min_lr=0.0002)"
   ]
  },
  {
   "cell_type": "code",
   "execution_count": 10,
   "metadata": {},
   "outputs": [],
   "source": [
    "batch_size = 64\n",
    "x_train = imgs\n",
    "y_train = enc2"
   ]
  },
  {
   "cell_type": "code",
   "execution_count": null,
   "metadata": {},
   "outputs": [
    {
     "name": "stdout",
     "output_type": "stream",
     "text": [
      "Epoch 1/100\n",
      "125/125 [==============================] - ETA: 0s - loss: 39.6295\n",
      "Epoch 00001: val_loss improved from inf to 32.25173, saving model to weights/CRNN_v9_7_spaces.h5\n",
      "125/125 [==============================] - 27s 216ms/step - loss: 39.6295 - val_loss: 32.2517\n",
      "Epoch 2/100\n",
      "125/125 [==============================] - ETA: 0s - loss: 29.3446 ETA: 1s\n",
      "Epoch 00002: val_loss improved from 32.25173 to 29.94832, saving model to weights/CRNN_v9_7_spaces.h5\n",
      "125/125 [==============================] - 27s 217ms/step - loss: 29.3446 - val_loss: 29.9483\n",
      "Epoch 3/100\n",
      "125/125 [==============================] - ETA: 0s - loss: 29.2302\n",
      "Epoch 00003: val_loss improved from 29.94832 to 29.56050, saving model to weights/CRNN_v9_7_spaces.h5\n",
      "125/125 [==============================] - 28s 221ms/step - loss: 29.2302 - val_loss: 29.5605\n",
      "Epoch 4/100\n",
      "125/125 [==============================] - ETA: 0s - loss: 29.2062\n",
      "Epoch 00004: val_loss improved from 29.56050 to 29.23753, saving model to weights/CRNN_v9_7_spaces.h5\n",
      "125/125 [==============================] - 28s 222ms/step - loss: 29.2062 - val_loss: 29.2375\n",
      "Epoch 5/100\n",
      "125/125 [==============================] - ETA: 0s - loss: 29.1659\n",
      "Epoch 00005: val_loss improved from 29.23753 to 29.17338, saving model to weights/CRNN_v9_7_spaces.h5\n",
      "125/125 [==============================] - 27s 219ms/step - loss: 29.1659 - val_loss: 29.1734\n",
      "Epoch 6/100\n",
      "125/125 [==============================] - ETA: 0s - loss: 29.1913\n",
      "Epoch 00006: val_loss did not improve from 29.17338\n",
      "125/125 [==============================] - 27s 220ms/step - loss: 29.1913 - val_loss: 29.2000\n",
      "Epoch 7/100\n",
      "125/125 [==============================] - ETA: 0s - loss: 29.1865\n",
      "Epoch 00007: val_loss did not improve from 29.17338\n",
      "125/125 [==============================] - 27s 218ms/step - loss: 29.1865 - val_loss: 29.2067\n",
      "Epoch 8/100\n",
      "125/125 [==============================] - ETA: 0s - loss: 29.1699\n",
      "Epoch 00008: val_loss did not improve from 29.17338\n",
      "125/125 [==============================] - 27s 220ms/step - loss: 29.1699 - val_loss: 29.1830\n",
      "Epoch 9/100\n",
      "125/125 [==============================] - ETA: 0s - loss: 29.1456\n",
      "Epoch 00009: val_loss did not improve from 29.17338\n",
      "125/125 [==============================] - 27s 218ms/step - loss: 29.1456 - val_loss: 29.2241\n",
      "Epoch 10/100\n",
      "125/125 [==============================] - ETA: 0s - loss: 29.1423\n",
      "Epoch 00010: val_loss did not improve from 29.17338\n",
      "125/125 [==============================] - 27s 217ms/step - loss: 29.1423 - val_loss: 29.1751\n",
      "Epoch 11/100\n",
      "125/125 [==============================] - ETA: 0s - loss: 29.1437\n",
      "Epoch 00011: val_loss did not improve from 29.17338\n",
      "125/125 [==============================] - 28s 221ms/step - loss: 29.1437 - val_loss: 29.3021\n",
      "Epoch 12/100\n",
      "125/125 [==============================] - ETA: 0s - loss: 29.1387\n",
      "Epoch 00012: val_loss did not improve from 29.17338\n",
      "125/125 [==============================] - 27s 217ms/step - loss: 29.1387 - val_loss: 29.3369\n",
      "Epoch 13/100\n",
      "125/125 [==============================] - ETA: 0s - loss: 29.1235\n",
      "Epoch 00013: val_loss improved from 29.17338 to 29.14910, saving model to weights/CRNN_v9_7_spaces.h5\n",
      "125/125 [==============================] - 28s 221ms/step - loss: 29.1235 - val_loss: 29.1491\n",
      "Epoch 14/100\n",
      "125/125 [==============================] - ETA: 0s - loss: 29.1050\n",
      "Epoch 00014: val_loss did not improve from 29.14910\n",
      "125/125 [==============================] - 27s 218ms/step - loss: 29.1050 - val_loss: 29.2567\n",
      "Epoch 15/100\n",
      "125/125 [==============================] - ETA: 0s - loss: 29.1147\n",
      "Epoch 00015: val_loss improved from 29.14910 to 29.14605, saving model to weights/CRNN_v9_7_spaces.h5\n",
      "125/125 [==============================] - 28s 221ms/step - loss: 29.1147 - val_loss: 29.1461\n",
      "Epoch 16/100\n",
      "125/125 [==============================] - ETA: 0s - loss: 29.0835\n",
      "Epoch 00016: val_loss did not improve from 29.14605\n",
      "125/125 [==============================] - 27s 218ms/step - loss: 29.0835 - val_loss: 29.2770\n",
      "Epoch 17/100\n",
      "125/125 [==============================] - ETA: 0s - loss: 29.0742\n",
      "Epoch 00017: val_loss did not improve from 29.14605\n",
      "125/125 [==============================] - 27s 218ms/step - loss: 29.0742 - val_loss: 29.3226\n",
      "Epoch 18/100\n",
      "125/125 [==============================] - ETA: 0s - loss: 29.0793\n",
      "Epoch 00018: val_loss did not improve from 29.14605\n",
      "125/125 [==============================] - 27s 218ms/step - loss: 29.0793 - val_loss: 29.2714\n",
      "Epoch 19/100\n",
      "125/125 [==============================] - ETA: 0s - loss: 29.0488\n",
      "Epoch 00019: val_loss did not improve from 29.14605\n",
      "125/125 [==============================] - 27s 218ms/step - loss: 29.0488 - val_loss: 29.2087\n",
      "Epoch 20/100\n",
      "125/125 [==============================] - ETA: 0s - loss: 29.0402\n",
      "Epoch 00020: val_loss did not improve from 29.14605\n",
      "125/125 [==============================] - 27s 218ms/step - loss: 29.0402 - val_loss: 29.5044\n",
      "Epoch 21/100\n",
      "125/125 [==============================] - ETA: 0s - loss: 29.0161\n",
      "Epoch 00021: val_loss did not improve from 29.14605\n",
      "125/125 [==============================] - 27s 218ms/step - loss: 29.0161 - val_loss: 29.3299\n",
      "Epoch 22/100\n",
      "125/125 [==============================] - ETA: 0s - loss: 28.9159\n",
      "Epoch 00022: val_loss did not improve from 29.14605\n",
      "125/125 [==============================] - 27s 217ms/step - loss: 28.9159 - val_loss: 29.3461\n",
      "Epoch 23/100\n",
      "125/125 [==============================] - ETA: 0s - loss: 28.8812\n",
      "Epoch 00023: val_loss did not improve from 29.14605\n",
      "125/125 [==============================] - 27s 218ms/step - loss: 28.8812 - val_loss: 29.8665\n",
      "Epoch 24/100\n",
      "125/125 [==============================] - ETA: 0s - loss: 28.7915\n",
      "Epoch 00024: val_loss did not improve from 29.14605\n",
      "125/125 [==============================] - 27s 218ms/step - loss: 28.7915 - val_loss: 29.3795\n",
      "Epoch 25/100\n",
      "125/125 [==============================] - ETA: 0s - loss: 28.6656\n",
      "Epoch 00025: val_loss did not improve from 29.14605\n",
      "125/125 [==============================] - 27s 218ms/step - loss: 28.6656 - val_loss: 29.6411\n",
      "Epoch 26/100\n",
      "125/125 [==============================] - ETA: 0s - loss: 28.2044\n",
      "Epoch 00026: val_loss did not improve from 29.14605\n",
      "125/125 [==============================] - 27s 218ms/step - loss: 28.2044 - val_loss: 29.9589\n",
      "Epoch 27/100\n",
      "125/125 [==============================] - ETA: 0s - loss: 27.8463\n",
      "Epoch 00027: val_loss did not improve from 29.14605\n",
      "125/125 [==============================] - 27s 219ms/step - loss: 27.8463 - val_loss: 30.0382\n",
      "Epoch 28/100\n",
      "125/125 [==============================] - ETA: 0s - loss: 27.5810\n",
      "Epoch 00028: val_loss did not improve from 29.14605\n",
      "125/125 [==============================] - 27s 218ms/step - loss: 27.5810 - val_loss: 30.3227\n",
      "Epoch 29/100\n",
      "125/125 [==============================] - ETA: 0s - loss: 27.3836\n",
      "Epoch 00029: val_loss did not improve from 29.14605\n",
      "125/125 [==============================] - 27s 216ms/step - loss: 27.3836 - val_loss: 30.9227\n",
      "Epoch 30/100\n",
      "125/125 [==============================] - ETA: 0s - loss: 27.2043\n",
      "Epoch 00030: val_loss did not improve from 29.14605\n",
      "125/125 [==============================] - 27s 218ms/step - loss: 27.2043 - val_loss: 31.6363\n",
      "Epoch 31/100\n",
      "125/125 [==============================] - ETA: 0s - loss: 27.0881\n",
      "Epoch 00031: val_loss did not improve from 29.14605\n",
      "125/125 [==============================] - 27s 216ms/step - loss: 27.0881 - val_loss: 32.3696\n",
      "Epoch 32/100\n",
      "125/125 [==============================] - ETA: 0s - loss: 27.0084\n",
      "Epoch 00032: val_loss did not improve from 29.14605\n",
      "125/125 [==============================] - 27s 218ms/step - loss: 27.0084 - val_loss: 32.6640\n",
      "Epoch 33/100\n",
      "125/125 [==============================] - ETA: 0s - loss: 26.9415\n",
      "Epoch 00033: val_loss did not improve from 29.14605\n",
      "125/125 [==============================] - 27s 217ms/step - loss: 26.9415 - val_loss: 33.0429\n",
      "Epoch 34/100\n",
      "125/125 [==============================] - ETA: 0s - loss: 26.8419\n",
      "Epoch 00034: val_loss did not improve from 29.14605\n",
      "125/125 [==============================] - 27s 218ms/step - loss: 26.8419 - val_loss: 33.4637\n",
      "Epoch 35/100\n",
      "125/125 [==============================] - ETA: 0s - loss: 26.7690\n",
      "Epoch 00035: val_loss did not improve from 29.14605\n",
      "125/125 [==============================] - 27s 216ms/step - loss: 26.7690 - val_loss: 34.1660\n"
     ]
    },
    {
     "name": "stdout",
     "output_type": "stream",
     "text": [
      "Epoch 36/100\n",
      "125/125 [==============================] - ETA: 0s - loss: 26.7340\n",
      "Epoch 00036: val_loss did not improve from 29.14605\n",
      "125/125 [==============================] - 27s 218ms/step - loss: 26.7340 - val_loss: 34.2463\n",
      "Epoch 37/100\n",
      "125/125 [==============================] - ETA: 0s - loss: 26.6730\n",
      "Epoch 00037: val_loss did not improve from 29.14605\n",
      "125/125 [==============================] - 27s 218ms/step - loss: 26.6730 - val_loss: 34.3995\n",
      "Epoch 38/100\n",
      "125/125 [==============================] - ETA: 0s - loss: 26.6122\n",
      "Epoch 00038: val_loss did not improve from 29.14605\n",
      "125/125 [==============================] - 27s 217ms/step - loss: 26.6122 - val_loss: 34.6427\n",
      "Epoch 39/100\n",
      "125/125 [==============================] - ETA: 0s - loss: 26.5515\n",
      "Epoch 00039: val_loss did not improve from 29.14605\n",
      "125/125 [==============================] - 27s 218ms/step - loss: 26.5515 - val_loss: 34.6030\n",
      "Epoch 40/100\n",
      "125/125 [==============================] - ETA: 0s - loss: 26.4951\n",
      "Epoch 00040: val_loss did not improve from 29.14605\n",
      "125/125 [==============================] - 27s 217ms/step - loss: 26.4951 - val_loss: 35.0699\n",
      "Epoch 41/100\n",
      "125/125 [==============================] - ETA: 0s - loss: 26.4297\n",
      "Epoch 00041: val_loss did not improve from 29.14605\n",
      "125/125 [==============================] - 27s 217ms/step - loss: 26.4297 - val_loss: 36.0364\n",
      "Epoch 42/100\n",
      "125/125 [==============================] - ETA: 0s - loss: 26.3858\n",
      "Epoch 00042: val_loss did not improve from 29.14605\n",
      "125/125 [==============================] - 27s 217ms/step - loss: 26.3858 - val_loss: 35.8088\n",
      "Epoch 43/100\n",
      "125/125 [==============================] - ETA: 0s - loss: 26.2769\n",
      "Epoch 00043: val_loss did not improve from 29.14605\n",
      "125/125 [==============================] - 27s 217ms/step - loss: 26.2769 - val_loss: 36.5141\n",
      "Epoch 44/100\n",
      "125/125 [==============================] - ETA: 0s - loss: 26.2218\n",
      "Epoch 00044: val_loss did not improve from 29.14605\n",
      "125/125 [==============================] - 27s 218ms/step - loss: 26.2218 - val_loss: 36.6938\n",
      "Epoch 45/100\n",
      "125/125 [==============================] - ETA: 0s - loss: 26.1299\n",
      "Epoch 00045: val_loss did not improve from 29.14605\n",
      "125/125 [==============================] - 27s 217ms/step - loss: 26.1299 - val_loss: 37.9289\n",
      "Epoch 46/100\n",
      "125/125 [==============================] - ETA: 0s - loss: 26.0886\n",
      "Epoch 00046: val_loss did not improve from 29.14605\n",
      "125/125 [==============================] - 27s 218ms/step - loss: 26.0886 - val_loss: 37.3342\n",
      "Epoch 47/100\n",
      "125/125 [==============================] - ETA: 0s - loss: 26.0001\n",
      "Epoch 00047: val_loss did not improve from 29.14605\n",
      "125/125 [==============================] - 27s 216ms/step - loss: 26.0001 - val_loss: 37.3861\n",
      "Epoch 48/100\n",
      "125/125 [==============================] - ETA: 0s - loss: 25.9202\n",
      "Epoch 00048: val_loss did not improve from 29.14605\n",
      "125/125 [==============================] - 27s 219ms/step - loss: 25.9202 - val_loss: 37.9005\n",
      "Epoch 49/100\n",
      "125/125 [==============================] - ETA: 0s - loss: 25.8639\n",
      "Epoch 00049: val_loss did not improve from 29.14605\n",
      "125/125 [==============================] - 27s 216ms/step - loss: 25.8639 - val_loss: 38.5013\n",
      "Epoch 50/100\n",
      "125/125 [==============================] - ETA: 0s - loss: 25.8179\n",
      "Epoch 00050: val_loss did not improve from 29.14605\n",
      "125/125 [==============================] - 27s 217ms/step - loss: 25.8179 - val_loss: 38.5919\n",
      "Epoch 51/100\n",
      "125/125 [==============================] - ETA: 0s - loss: 25.7628\n",
      "Epoch 00051: val_loss did not improve from 29.14605\n",
      "125/125 [==============================] - 27s 218ms/step - loss: 25.7628 - val_loss: 38.4795\n",
      "Epoch 52/100\n",
      "125/125 [==============================] - ETA: 0s - loss: 25.7291 ETA: 1s -\n",
      "Epoch 00052: val_loss did not improve from 29.14605\n",
      "125/125 [==============================] - 27s 217ms/step - loss: 25.7291 - val_loss: 38.7081\n",
      "Epoch 53/100\n",
      "125/125 [==============================] - ETA: 0s - loss: 25.6800\n",
      "Epoch 00053: val_loss did not improve from 29.14605\n",
      "125/125 [==============================] - 27s 217ms/step - loss: 25.6800 - val_loss: 38.2420\n",
      "Epoch 54/100\n",
      "125/125 [==============================] - ETA: 0s - loss: 25.5754\n",
      "Epoch 00054: val_loss did not improve from 29.14605\n",
      "125/125 [==============================] - 27s 217ms/step - loss: 25.5754 - val_loss: 39.0077\n",
      "Epoch 55/100\n",
      "125/125 [==============================] - ETA: 0s - loss: 25.5772\n",
      "Epoch 00055: val_loss did not improve from 29.14605\n",
      "125/125 [==============================] - 27s 218ms/step - loss: 25.5772 - val_loss: 38.9428\n",
      "Epoch 56/100\n",
      "125/125 [==============================] - ETA: 0s - loss: 25.5201\n",
      "Epoch 00056: val_loss did not improve from 29.14605\n",
      "125/125 [==============================] - 27s 219ms/step - loss: 25.5201 - val_loss: 38.4258\n",
      "Epoch 57/100\n",
      "125/125 [==============================] - ETA: 0s - loss: 25.4298\n",
      "Epoch 00057: val_loss did not improve from 29.14605\n",
      "125/125 [==============================] - 27s 217ms/step - loss: 25.4298 - val_loss: 38.8454\n",
      "Epoch 58/100\n",
      "125/125 [==============================] - ETA: 0s - loss: 25.3153\n",
      "Epoch 00058: val_loss did not improve from 29.14605\n",
      "125/125 [==============================] - 27s 217ms/step - loss: 25.3153 - val_loss: 39.7010\n",
      "Epoch 59/100\n",
      "125/125 [==============================] - ETA: 0s - loss: 25.1826\n",
      "Epoch 00059: val_loss did not improve from 29.14605\n",
      "125/125 [==============================] - 27s 217ms/step - loss: 25.1826 - val_loss: 39.5195\n",
      "Epoch 60/100\n",
      "125/125 [==============================] - ETA: 0s - loss: 25.1302\n",
      "Epoch 00060: val_loss did not improve from 29.14605\n",
      "125/125 [==============================] - 27s 217ms/step - loss: 25.1302 - val_loss: 39.1970\n",
      "Epoch 61/100\n",
      "125/125 [==============================] - ETA: 0s - loss: 25.0705\n",
      "Epoch 00061: val_loss did not improve from 29.14605\n",
      "125/125 [==============================] - 27s 217ms/step - loss: 25.0705 - val_loss: 40.0854\n",
      "Epoch 62/100\n",
      "125/125 [==============================] - ETA: 0s - loss: 25.0266\n",
      "Epoch 00062: val_loss did not improve from 29.14605\n",
      "125/125 [==============================] - 27s 217ms/step - loss: 25.0266 - val_loss: 39.8141\n",
      "Epoch 63/100\n",
      "125/125 [==============================] - ETA: 0s - loss: 24.8928\n",
      "Epoch 00063: val_loss did not improve from 29.14605\n",
      "125/125 [==============================] - 27s 219ms/step - loss: 24.8928 - val_loss: 39.6996\n",
      "Epoch 64/100\n",
      "125/125 [==============================] - ETA: 0s - loss: 24.8137\n",
      "Epoch 00064: val_loss did not improve from 29.14605\n",
      "125/125 [==============================] - 27s 216ms/step - loss: 24.8137 - val_loss: 39.6820\n",
      "Epoch 65/100\n",
      "125/125 [==============================] - ETA: 0s - loss: 24.7178\n",
      "Epoch 00065: val_loss did not improve from 29.14605\n",
      "125/125 [==============================] - 27s 218ms/step - loss: 24.7178 - val_loss: 40.1843\n",
      "Epoch 66/100\n",
      "125/125 [==============================] - ETA: 0s - loss: 24.5838\n",
      "Epoch 00066: val_loss did not improve from 29.14605\n",
      "125/125 [==============================] - 27s 216ms/step - loss: 24.5838 - val_loss: 40.3902\n",
      "Epoch 67/100\n",
      "125/125 [==============================] - ETA: 0s - loss: 24.4788\n",
      "Epoch 00067: val_loss did not improve from 29.14605\n",
      "125/125 [==============================] - 27s 218ms/step - loss: 24.4788 - val_loss: 39.7712\n",
      "Epoch 68/100\n",
      "125/125 [==============================] - ETA: 0s - loss: 24.3866\n",
      "Epoch 00068: val_loss did not improve from 29.14605\n",
      "125/125 [==============================] - 27s 217ms/step - loss: 24.3866 - val_loss: 40.6266\n",
      "Epoch 69/100\n",
      "125/125 [==============================] - ETA: 0s - loss: 24.2044"
     ]
    }
   ],
   "source": [
    "history = net.fit(x_train, y_train, validation_split=0.2, epochs=100, callbacks=[Check_Point, reduce_lr], batch_size=batch_size, shuffle=True)"
   ]
  },
  {
   "cell_type": "code",
   "execution_count": null,
   "metadata": {},
   "outputs": [],
   "source": [
    "np.save('history/my_history_v5.npy',history.history)"
   ]
  },
  {
   "cell_type": "code",
   "execution_count": 23,
   "metadata": {},
   "outputs": [],
   "source": [
    "import numpy as np\n",
    "his = np.load('my_history_v5.npy', allow_pickle=True)"
   ]
  },
  {
   "cell_type": "code",
   "execution_count": 13,
   "metadata": {},
   "outputs": [
    {
     "data": {
      "text/plain": [
       "[<matplotlib.lines.Line2D at 0x7f959cd6ce50>]"
      ]
     },
     "execution_count": 13,
     "metadata": {},
     "output_type": "execute_result"
    },
    {
     "data": {
      "image/png": "[encoded data removed]",
      "text/plain": [
       "<Figure size 432x288 with 1 Axes>"
      ]
     },
     "metadata": {
      "needs_background": "light"
     },
     "output_type": "display_data"
    }
   ],
   "source": [
    "import matplotlib.pyplot as plt\n",
    "plt.plot(range(1, 101), history.history['loss'])\n",
    "plt.plot(range(1, 101), history.history['val_loss'])"
   ]
  },
  {
   "cell_type": "code",
   "execution_count": 14,
   "metadata": {},
   "outputs": [],
   "source": [
    "import imageio\n",
    "\n",
    "im = imageio.imread('../dataset/cv/train/mario.png')"
   ]
  },
  {
   "cell_type": "code",
   "execution_count": 15,
   "metadata": {},
   "outputs": [
    {
     "name": "stderr",
     "output_type": "stream",
     "text": [
      "<ipython-input-15-d15eb699efec>:5: FutureWarning: Non RGB image conversion is now deprecated. For RGBA images, please use rgb2gray(rgba2rgb(rgb)) instead. In version 0.19, a ValueError will be raised if input image last dimension length is not 3.\n",
      "  im = color.rgb2gray(im)\n"
     ]
    }
   ],
   "source": [
    "import cv2\n",
    "from skimage import color\n",
    "\n",
    "im = cv2.resize(im, (128, 128))\n",
    "im = color.rgb2gray(im)"
   ]
  },
  {
   "cell_type": "code",
   "execution_count": 16,
   "metadata": {},
   "outputs": [],
   "source": [
    "im = np.expand_dims(im, axis=-1)"
   ]
  },
  {
   "cell_type": "code",
   "execution_count": 17,
   "metadata": {},
   "outputs": [],
   "source": [
    "def decode_ctc(args):\n",
    "    \"\"\"returns a list of decoded ctc losses\"\"\"\n",
    "\n",
    "    y_pred, input_length = args\n",
    "\n",
    "    ctc_decoded = tf.keras.backend.ctc_decode(\n",
    "        y_pred, input_length, greedy=True)\n",
    "\n",
    "    return ctc_decoded"
   ]
  },
  {
   "cell_type": "code",
   "execution_count": 21,
   "metadata": {},
   "outputs": [
    {
     "name": "stdout",
     "output_type": "stream",
     "text": [
      "WARNING:tensorflow:From /home/grauso/.local/lib/python3.8/site-packages/tensorflow/python/util/dispatch.py:201: sparse_to_dense (from tensorflow.python.ops.sparse_ops) is deprecated and will be removed in a future version.\n",
      "Instructions for updating:\n",
      "Create a `tf.sparse.SparseTensor` and use `tf.sparse.to_dense` instead.\n"
     ]
    }
   ],
   "source": [
    "pred_tensor, _ = decode_ctc([net.predict(np.expand_dims(im, axis=0)), np.array([t_dist_dim])])\n",
    "pred_labels = tf.keras.backend.get_value(pred_tensor[0])"
   ]
  },
  {
   "cell_type": "code",
   "execution_count": 22,
   "metadata": {},
   "outputs": [
    {
     "data": {
      "text/plain": [
       "array([[14, -1, -1, -1, -1, -1, -1, -1, -1, -1, -1, -1, -1, -1, -1, -1,\n",
       "        -1, -1, -1, -1, -1, -1, -1, -1, -1, -1, -1, -1, -1, -1, -1, -1,\n",
       "        -1, -1, -1, -1, -1, -1, -1, -1, -1, -1, -1, -1, -1, -1, -1, -1,\n",
       "        -1, -1, -1, -1, -1, -1, -1, -1, -1, -1, -1, -1, -1, -1, -1, -1,\n",
       "        -1, -1, -1, -1, -1, -1, -1, -1, -1, -1, -1, -1, -1, -1, -1, -1,\n",
       "        -1, -1, -1, -1, -1, -1, -1, -1, -1, -1, -1, -1, -1, -1, -1, -1,\n",
       "        -1, -1, -1, -1, -1, -1, -1, -1, -1, -1, -1, -1, -1, -1, -1, -1,\n",
       "        -1, -1, -1, -1, -1, -1, -1, -1, -1, -1, -1, -1, -1, -1, -1, -1]])"
      ]
     },
     "execution_count": 22,
     "metadata": {},
     "output_type": "execute_result"
    }
   ],
   "source": [
    "pred_labels"
   ]
  },
  {
   "cell_type": "code",
   "execution_count": 23,
   "metadata": {},
   "outputs": [
    {
     "data": {
      "text/plain": [
       "<tf.Tensor: shape=(1, 128), dtype=string, numpy=\n",
       "array([[b'E', b'[UNK]', b'[UNK]', b'[UNK]', b'[UNK]', b'[UNK]', b'[UNK]',\n",
       "        b'[UNK]', b'[UNK]', b'[UNK]', b'[UNK]', b'[UNK]', b'[UNK]',\n",
       "        b'[UNK]', b'[UNK]', b'[UNK]', b'[UNK]', b'[UNK]', b'[UNK]',\n",
       "        b'[UNK]', b'[UNK]', b'[UNK]', b'[UNK]', b'[UNK]', b'[UNK]',\n",
       "        b'[UNK]', b'[UNK]', b'[UNK]', b'[UNK]', b'[UNK]', b'[UNK]',\n",
       "        b'[UNK]', b'[UNK]', b'[UNK]', b'[UNK]', b'[UNK]', b'[UNK]',\n",
       "        b'[UNK]', b'[UNK]', b'[UNK]', b'[UNK]', b'[UNK]', b'[UNK]',\n",
       "        b'[UNK]', b'[UNK]', b'[UNK]', b'[UNK]', b'[UNK]', b'[UNK]',\n",
       "        b'[UNK]', b'[UNK]', b'[UNK]', b'[UNK]', b'[UNK]', b'[UNK]',\n",
       "        b'[UNK]', b'[UNK]', b'[UNK]', b'[UNK]', b'[UNK]', b'[UNK]',\n",
       "        b'[UNK]', b'[UNK]', b'[UNK]', b'[UNK]', b'[UNK]', b'[UNK]',\n",
       "        b'[UNK]', b'[UNK]', b'[UNK]', b'[UNK]', b'[UNK]', b'[UNK]',\n",
       "        b'[UNK]', b'[UNK]', b'[UNK]', b'[UNK]', b'[UNK]', b'[UNK]',\n",
       "        b'[UNK]', b'[UNK]', b'[UNK]', b'[UNK]', b'[UNK]', b'[UNK]',\n",
       "        b'[UNK]', b'[UNK]', b'[UNK]', b'[UNK]', b'[UNK]', b'[UNK]',\n",
       "        b'[UNK]', b'[UNK]', b'[UNK]', b'[UNK]', b'[UNK]', b'[UNK]',\n",
       "        b'[UNK]', b'[UNK]', b'[UNK]', b'[UNK]', b'[UNK]', b'[UNK]',\n",
       "        b'[UNK]', b'[UNK]', b'[UNK]', b'[UNK]', b'[UNK]', b'[UNK]',\n",
       "        b'[UNK]', b'[UNK]', b'[UNK]', b'[UNK]', b'[UNK]', b'[UNK]',\n",
       "        b'[UNK]', b'[UNK]', b'[UNK]', b'[UNK]', b'[UNK]', b'[UNK]',\n",
       "        b'[UNK]', b'[UNK]', b'[UNK]', b'[UNK]', b'[UNK]', b'[UNK]',\n",
       "        b'[UNK]']], dtype=object)>"
      ]
     },
     "execution_count": 23,
     "metadata": {},
     "output_type": "execute_result"
    }
   ],
   "source": [
    "num_to_char(pred_labels)"
   ]
  },
  {
   "cell_type": "code",
   "execution_count": 53,
   "metadata": {},
   "outputs": [
    {
     "data": {
      "image/png": "[encoded data removed]",
      "text/plain": [
       "<Figure size 432x288 with 1 Axes>"
      ]
     },
     "metadata": {
      "needs_background": "light"
     },
     "output_type": "display_data"
    }
   ],
   "source": [
    "import matplotlib.pyplot as plt\n",
    "plt.imshow(imgs[0], cmap='gray')\n",
    "plt.show()"
   ]
  },
  {
   "cell_type": "code",
   "execution_count": 15,
   "metadata": {},
   "outputs": [],
   "source": [
    "net.load_weights('weights/CRNN_v10_5.h5')"
   ]
  },
  {
   "cell_type": "code",
   "execution_count": 49,
   "metadata": {
    "scrolled": true
   },
   "outputs": [
    {
     "data": {
      "image/png": "[encoded data removed]",
      "text/plain": [
       "<PIL.Image.Image image mode=RGB size=180x32 at 0x7F7E4FC7FB80>"
      ]
     },
     "metadata": {},
     "output_type": "display_data"
    }
   ],
   "source": [
    "from trdg.generators import GeneratorFromRandom  \n",
    "base_generator = GeneratorFromRandom(use_symbols=False, use_letters=True, length=2, width=180, size=32)\n",
    "img, lbl = next(base_generator)\n",
    "display(img)"
   ]
  },
  {
   "cell_type": "code",
   "execution_count": 50,
   "metadata": {},
   "outputs": [],
   "source": [
    "imgs = []\n",
    "labels = []\n",
    "import cv2\n",
    "from skimage import color\n",
    "import numpy as np\n",
    "for _ in range(10000):\n",
    "    img, lbl = next(base_generator)\n",
    "    im = color.rgb2gray(np.array(img))\n",
    "    im = np.expand_dims(im, axis=-1)\n",
    "    imgs.append(im)\n",
    "    labels.append(lbl)"
   ]
  },
  {
   "cell_type": "code",
   "execution_count": 51,
   "metadata": {},
   "outputs": [],
   "source": [
    "imgs = np.array(imgs)"
   ]
  },
  {
   "cell_type": "code",
   "execution_count": 54,
   "metadata": {},
   "outputs": [],
   "source": [
    "labels = np.array(labels)"
   ]
  },
  {
   "cell_type": "code",
   "execution_count": 57,
   "metadata": {},
   "outputs": [],
   "source": [
    "#np.savez_compressed('../dataset/cv/train/x/generated_text_spaces', imgs)\n",
    "np.save('../dataset/cv/train/y/generated_labels_spaces', labels)"
   ]
  },
  {
   "cell_type": "code",
   "execution_count": 52,
   "metadata": {},
   "outputs": [
    {
     "data": {
      "text/plain": [
       "(10000, 32, 180, 1)"
      ]
     },
     "execution_count": 52,
     "metadata": {},
     "output_type": "execute_result"
    }
   ],
   "source": [
    "imgs.shape"
   ]
  },
  {
   "cell_type": "code",
   "execution_count": 37,
   "metadata": {},
   "outputs": [
    {
     "data": {
      "text/plain": [
       "(180, 28)"
      ]
     },
     "execution_count": 37,
     "metadata": {},
     "output_type": "execute_result"
    }
   ],
   "source": [
    "img.size"
   ]
  },
  {
   "cell_type": "code",
   "execution_count": 3,
   "metadata": {},
   "outputs": [
    {
     "ename": "NameError",
     "evalue": "name 'np' is not defined",
     "output_type": "error",
     "traceback": [
      "\u001b[0;31m---------------------------------------------------------------------------\u001b[0m",
      "\u001b[0;31mNameError\u001b[0m                                 Traceback (most recent call last)",
      "\u001b[0;32m<ipython-input-3-4157ff3e4d80>\u001b[0m in \u001b[0;36m<module>\u001b[0;34m\u001b[0m\n\u001b[1;32m      1\u001b[0m \u001b[0;32mimport\u001b[0m \u001b[0mcv2\u001b[0m\u001b[0;34m\u001b[0m\u001b[0;34m\u001b[0m\u001b[0m\n\u001b[1;32m      2\u001b[0m \u001b[0;32mfrom\u001b[0m \u001b[0mskimage\u001b[0m \u001b[0;32mimport\u001b[0m \u001b[0mcolor\u001b[0m\u001b[0;34m\u001b[0m\u001b[0;34m\u001b[0m\u001b[0m\n\u001b[0;32m----> 3\u001b[0;31m \u001b[0mim\u001b[0m \u001b[0;34m=\u001b[0m \u001b[0mcv2\u001b[0m\u001b[0;34m.\u001b[0m\u001b[0mresize\u001b[0m\u001b[0;34m(\u001b[0m\u001b[0mnp\u001b[0m\u001b[0;34m.\u001b[0m\u001b[0marray\u001b[0m\u001b[0;34m(\u001b[0m\u001b[0mimg\u001b[0m\u001b[0;34m)\u001b[0m\u001b[0;34m,\u001b[0m \u001b[0;34m(\u001b[0m\u001b[0;36m128\u001b[0m\u001b[0;34m,\u001b[0m \u001b[0;36m128\u001b[0m\u001b[0;34m)\u001b[0m\u001b[0;34m)\u001b[0m\u001b[0;34m\u001b[0m\u001b[0;34m\u001b[0m\u001b[0m\n\u001b[0m\u001b[1;32m      4\u001b[0m \u001b[0mim\u001b[0m \u001b[0;34m=\u001b[0m \u001b[0mcolor\u001b[0m\u001b[0;34m.\u001b[0m\u001b[0mrgb2gray\u001b[0m\u001b[0;34m(\u001b[0m\u001b[0mim\u001b[0m\u001b[0;34m)\u001b[0m\u001b[0;34m\u001b[0m\u001b[0;34m\u001b[0m\u001b[0m\n\u001b[1;32m      5\u001b[0m \u001b[0mim\u001b[0m \u001b[0;34m=\u001b[0m \u001b[0mnp\u001b[0m\u001b[0;34m.\u001b[0m\u001b[0mexpand_dims\u001b[0m\u001b[0;34m(\u001b[0m\u001b[0mim\u001b[0m\u001b[0;34m,\u001b[0m \u001b[0maxis\u001b[0m\u001b[0;34m=\u001b[0m\u001b[0;34m-\u001b[0m\u001b[0;36m1\u001b[0m\u001b[0;34m)\u001b[0m\u001b[0;34m\u001b[0m\u001b[0;34m\u001b[0m\u001b[0m\n",
      "\u001b[0;31mNameError\u001b[0m: name 'np' is not defined"
     ]
    }
   ],
   "source": [
    "import cv2\n",
    "from skimage import color\n",
    "im = cv2.resize(np.array(img), (128, 128))\n",
    "im = color.rgb2gray(im)\n",
    "im = np.expand_dims(im, axis=-1)"
   ]
  },
  {
   "cell_type": "code",
   "execution_count": null,
   "metadata": {},
   "outputs": [],
   "source": []
  },
  {
   "cell_type": "code",
   "execution_count": 30,
   "metadata": {},
   "outputs": [],
   "source": [
    "pred_tensor, _ = decode_ctc([net.predict(np.expand_dims(im, axis=0)), np.array([t_dist_dim])])\n",
    "pred_labels = tf.keras.backend.get_value(pred_tensor[0])"
   ]
  },
  {
   "cell_type": "code",
   "execution_count": 31,
   "metadata": {},
   "outputs": [
    {
     "data": {
      "text/plain": [
       "array([[14, 25, -1, -1, -1, -1, -1, -1, -1, -1, -1, -1, -1, -1, -1, -1,\n",
       "        -1, -1, -1, -1, -1, -1, -1, -1, -1, -1, -1, -1, -1, -1, -1, -1,\n",
       "        -1, -1, -1, -1, -1, -1, -1, -1, -1, -1, -1, -1, -1, -1, -1, -1,\n",
       "        -1, -1, -1, -1, -1, -1, -1, -1, -1, -1, -1, -1, -1, -1, -1, -1,\n",
       "        -1, -1, -1, -1, -1, -1, -1, -1, -1, -1, -1, -1, -1, -1, -1, -1,\n",
       "        -1, -1, -1, -1, -1, -1, -1, -1, -1, -1, -1, -1, -1, -1, -1, -1,\n",
       "        -1, -1, -1, -1, -1, -1, -1, -1, -1, -1, -1, -1, -1, -1, -1, -1,\n",
       "        -1, -1, -1, -1, -1, -1, -1, -1, -1, -1, -1, -1, -1, -1, -1, -1]])"
      ]
     },
     "execution_count": 31,
     "metadata": {},
     "output_type": "execute_result"
    }
   ],
   "source": [
    "pred_labels"
   ]
  },
  {
   "cell_type": "code",
   "execution_count": 32,
   "metadata": {},
   "outputs": [
    {
     "data": {
      "text/plain": [
       "<tf.Tensor: shape=(1, 128), dtype=string, numpy=\n",
       "array([[b'E', b'P', b'[UNK]', b'[UNK]', b'[UNK]', b'[UNK]', b'[UNK]',\n",
       "        b'[UNK]', b'[UNK]', b'[UNK]', b'[UNK]', b'[UNK]', b'[UNK]',\n",
       "        b'[UNK]', b'[UNK]', b'[UNK]', b'[UNK]', b'[UNK]', b'[UNK]',\n",
       "        b'[UNK]', b'[UNK]', b'[UNK]', b'[UNK]', b'[UNK]', b'[UNK]',\n",
       "        b'[UNK]', b'[UNK]', b'[UNK]', b'[UNK]', b'[UNK]', b'[UNK]',\n",
       "        b'[UNK]', b'[UNK]', b'[UNK]', b'[UNK]', b'[UNK]', b'[UNK]',\n",
       "        b'[UNK]', b'[UNK]', b'[UNK]', b'[UNK]', b'[UNK]', b'[UNK]',\n",
       "        b'[UNK]', b'[UNK]', b'[UNK]', b'[UNK]', b'[UNK]', b'[UNK]',\n",
       "        b'[UNK]', b'[UNK]', b'[UNK]', b'[UNK]', b'[UNK]', b'[UNK]',\n",
       "        b'[UNK]', b'[UNK]', b'[UNK]', b'[UNK]', b'[UNK]', b'[UNK]',\n",
       "        b'[UNK]', b'[UNK]', b'[UNK]', b'[UNK]', b'[UNK]', b'[UNK]',\n",
       "        b'[UNK]', b'[UNK]', b'[UNK]', b'[UNK]', b'[UNK]', b'[UNK]',\n",
       "        b'[UNK]', b'[UNK]', b'[UNK]', b'[UNK]', b'[UNK]', b'[UNK]',\n",
       "        b'[UNK]', b'[UNK]', b'[UNK]', b'[UNK]', b'[UNK]', b'[UNK]',\n",
       "        b'[UNK]', b'[UNK]', b'[UNK]', b'[UNK]', b'[UNK]', b'[UNK]',\n",
       "        b'[UNK]', b'[UNK]', b'[UNK]', b'[UNK]', b'[UNK]', b'[UNK]',\n",
       "        b'[UNK]', b'[UNK]', b'[UNK]', b'[UNK]', b'[UNK]', b'[UNK]',\n",
       "        b'[UNK]', b'[UNK]', b'[UNK]', b'[UNK]', b'[UNK]', b'[UNK]',\n",
       "        b'[UNK]', b'[UNK]', b'[UNK]', b'[UNK]', b'[UNK]', b'[UNK]',\n",
       "        b'[UNK]', b'[UNK]', b'[UNK]', b'[UNK]', b'[UNK]', b'[UNK]',\n",
       "        b'[UNK]', b'[UNK]', b'[UNK]', b'[UNK]', b'[UNK]', b'[UNK]',\n",
       "        b'[UNK]']], dtype=object)>"
      ]
     },
     "execution_count": 32,
     "metadata": {},
     "output_type": "execute_result"
    }
   ],
   "source": [
    "num_to_char(pred_labels)"
   ]
  },
  {
   "cell_type": "code",
   "execution_count": 26,
   "metadata": {},
   "outputs": [
    {
     "data": {
      "text/plain": [
       "'ht'"
      ]
     },
     "execution_count": 26,
     "metadata": {},
     "output_type": "execute_result"
    }
   ],
   "source": [
    "labels[50]"
   ]
  },
  {
   "cell_type": "code",
   "execution_count": null,
   "metadata": {},
   "outputs": [],
   "source": []
  }
 ],
 "metadata": {
  "kernelspec": {
   "display_name": "Python 3",
   "language": "python",
   "name": "python3"
  },
  "language_info": {
   "codemirror_mode": {
    "name": "ipython",
    "version": 3
   },
   "file_extension": ".py",
   "mimetype": "text/x-python",
   "name": "python",
   "nbconvert_exporter": "python",
   "pygments_lexer": "ipython3",
   "version": "3.8.10"
  }
 },
 "nbformat": 4,
 "nbformat_minor": 4
}
