{
 "cells": [
  {
   "cell_type": "code",
   "execution_count": 1,
   "metadata": {},
   "outputs": [
    {
     "name": "stdout",
     "output_type": "stream",
     "text": [
      "setGPU: Setting GPU to: 0\n"
     ]
    }
   ],
   "source": [
    "import numpy as np\n",
    "from model import *\n",
    "import tensorflow as tf\n",
    "import setGPU\n",
    "#strategy = tf.distribute.MirroredStrategy([\"GPU:0\", \"GPU:1\"])\n",
    "\n",
    "imgs = np.load('../dataset/cv/train/x/imgs_grayscale.npz')['arr_0']\n",
    "labels = np.load('../dataset/cv/train/y/labels.npy')"
   ]
  },
  {
   "cell_type": "code",
   "execution_count": 3,
   "metadata": {},
   "outputs": [],
   "source": [
    "characters = set(char for label in labels for char in label)"
   ]
  },
  {
   "cell_type": "code",
   "execution_count": 4,
   "metadata": {},
   "outputs": [],
   "source": [
    "# Mapping characters to integers\n",
    "char_to_num = layers.experimental.preprocessing.StringLookup(\n",
    "                  vocabulary=sorted(list(characters)), num_oov_indices=0, mask_token=None )\n",
    "\n",
    "# Mapping integers back to original characters\n",
    "num_to_char = layers.experimental.preprocessing.StringLookup(\n",
    "                  vocabulary=char_to_num.get_vocabulary(), mask_token=None, invert=True )"
   ]
  },
  {
   "cell_type": "code",
   "execution_count": 5,
   "metadata": {},
   "outputs": [],
   "source": [
    "imgs = np.transpose(imgs, (0, 2, 1, 3))\n",
    "'''\n",
    "max_len = max([len(label) for label in labels])\n",
    "encoded_labels = []\n",
    "for label in labels:\n",
    "    if label:\n",
    "        tmp = np.array([char_to_num(char) for char in label])\n",
    "        encoded_labels.append(np.pad(tmp, (0, max_len-tmp.shape[0]), constant_values=0))\n",
    "    else:\n",
    "        tmp = np.array([char_to_num('#')])\n",
    "        encoded_labels.append(np.pad(tmp, (0, max_len-tmp.shape[0]), constant_values=0))\n",
    "'''\n",
    "\n",
    "encoded_labels = np.load('../dataset/cv/train/y/encoded_labels.npy')"
   ]
  },
  {
   "cell_type": "code",
   "execution_count": 6,
   "metadata": {},
   "outputs": [],
   "source": [
    "#Si inserisce alla fine di ogni array label la lunghezza reale della parola\n",
    "t_dist_dim = int(128)          # Questo valore indica quanti step temporali ci sono: nelle ultime feature map ci sono 128/4\n",
    "                                 # step temporali perché 128 è la larghezza massima tra le immagini in ingresso e 4 è il fattore\n",
    "                                 # di riduzione dovuto ai MaxPooling (ci sono 2 livelli di MaxPooling che dimezzano le dimensioni)\n",
    "enc2 = []\n",
    "for i in range(encoded_labels.shape[0]):\n",
    "    if len(labels[i]) == 0:\n",
    "        enc2.append(np.append(encoded_labels[i], [1, t_dist_dim]))\n",
    "    else:\n",
    "        enc2.append(np.append(encoded_labels[i], [len(labels[i]), t_dist_dim]))\n",
    "enc2 = np.array(enc2)"
   ]
  },
  {
   "cell_type": "code",
   "execution_count": 7,
   "metadata": {},
   "outputs": [],
   "source": [
    "#with strategy.scope():\n",
    "net = build_and_compile_model_v8(input_shape=(128, 128, 1), len_characters=len(characters), opt=\"Adam\")"
   ]
  },
  {
   "cell_type": "code",
   "execution_count": 8,
   "metadata": {},
   "outputs": [
    {
     "name": "stdout",
     "output_type": "stream",
     "text": [
      "Model: \"functional_1\"\n",
      "_________________________________________________________________\n",
      "Layer (type)                 Output Shape              Param #   \n",
      "=================================================================\n",
      "input_1 (InputLayer)         [(None, 128, 128, 1)]     0         \n",
      "_________________________________________________________________\n",
      "conv2d (Conv2D)              (None, 128, 128, 64)      640       \n",
      "_________________________________________________________________\n",
      "activation (Activation)      (None, 128, 128, 64)      0         \n",
      "_________________________________________________________________\n",
      "max_pooling2d (MaxPooling2D) (None, 128, 64, 64)       0         \n",
      "_________________________________________________________________\n",
      "conv2d_1 (Conv2D)            (None, 128, 64, 128)      73856     \n",
      "_________________________________________________________________\n",
      "activation_1 (Activation)    (None, 128, 64, 128)      0         \n",
      "_________________________________________________________________\n",
      "max_pooling2d_1 (MaxPooling2 (None, 128, 32, 128)      0         \n",
      "_________________________________________________________________\n",
      "conv2d_3 (Conv2D)            (None, 128, 32, 256)      295168    \n",
      "_________________________________________________________________\n",
      "activation_3 (Activation)    (None, 128, 32, 256)      0         \n",
      "_________________________________________________________________\n",
      "max_pooling2d_2 (MaxPooling2 (None, 128, 16, 256)      0         \n",
      "_________________________________________________________________\n",
      "conv2d_4 (Conv2D)            (None, 128, 16, 256)      590080    \n",
      "_________________________________________________________________\n",
      "activation_4 (Activation)    (None, 128, 16, 256)      0         \n",
      "_________________________________________________________________\n",
      "batch_normalization (BatchNo (None, 128, 16, 256)      1024      \n",
      "_________________________________________________________________\n",
      "conv2d_5 (Conv2D)            (None, 128, 16, 512)      1180160   \n",
      "_________________________________________________________________\n",
      "activation_5 (Activation)    (None, 128, 16, 512)      0         \n",
      "_________________________________________________________________\n",
      "max_pooling2d_3 (MaxPooling2 (None, 128, 8, 512)       0         \n",
      "_________________________________________________________________\n",
      "conv2d_6 (Conv2D)            (None, 128, 8, 512)       1049088   \n",
      "_________________________________________________________________\n",
      "activation_6 (Activation)    (None, 128, 8, 512)       0         \n",
      "_________________________________________________________________\n",
      "time_distributed (TimeDistri (None, 128, 4096)         0         \n",
      "_________________________________________________________________\n",
      "dense (Dense)                (None, 128, 64)           262208    \n",
      "_________________________________________________________________\n",
      "dropout (Dropout)            (None, 128, 64)           0         \n",
      "_________________________________________________________________\n",
      "bidirectional (Bidirectional (None, 128, 512)          657408    \n",
      "_________________________________________________________________\n",
      "bidirectional_1 (Bidirection (None, 128, 512)          1574912   \n",
      "_________________________________________________________________\n",
      "dense_1 (Dense)              (None, 128, 257)          131841    \n",
      "=================================================================\n",
      "Total params: 5,816,385\n",
      "Trainable params: 5,815,873\n",
      "Non-trainable params: 512\n",
      "_________________________________________________________________\n"
     ]
    }
   ],
   "source": [
    "net.summary()"
   ]
  },
  {
   "cell_type": "code",
   "execution_count": 9,
   "metadata": {},
   "outputs": [],
   "source": [
    "from tensorflow.keras.callbacks import ModelCheckpoint, EarlyStopping, ReduceLROnPlateau\n",
    "\n",
    "Early_Stopping_Patience = 10 \n",
    "Min_Delta = 0.0001\n",
    "# Model Check Point\n",
    "Check_Point = ModelCheckpoint( 'weights/CRNN_v8.h5',   # Filepath\n",
    "                               monitor='val_loss',\n",
    "                               save_best_only=True,\n",
    "                               verbose=1,\n",
    "                               mode='auto',\n",
    "                               save_weights_only=False,\n",
    "                               save_freq='epoch' )\n",
    "# Add early stopping\n",
    "Early_Stopping = EarlyStopping( monitor='val_loss',\n",
    "                                min_delta=Min_Delta,\n",
    "                                patience=Early_Stopping_Patience,\n",
    "                                verbose=1,\n",
    "                                mode='auto',\n",
    "                                baseline=None,\n",
    "                                restore_best_weights=True )\n",
    "reduce_lr = ReduceLROnPlateau(monitor='val_loss', factor=0.2,\n",
    "                              patience=10, min_lr=0.0002)"
   ]
  },
  {
   "cell_type": "code",
   "execution_count": 10,
   "metadata": {},
   "outputs": [],
   "source": [
    "batch_size = 32\n",
    "x_train = imgs\n",
    "y_train = enc2"
   ]
  },
  {
   "cell_type": "code",
   "execution_count": null,
   "metadata": {},
   "outputs": [
    {
     "name": "stdout",
     "output_type": "stream",
     "text": [
      "Epoch 1/100\n",
      "906/906 [==============================] - ETA: 0s - loss: 25.7289\n",
      "Epoch 00001: val_loss improved from inf to 39.70912, saving model to weights/CRNN_v8.h5\n",
      "906/906 [==============================] - 147s 162ms/step - loss: 25.7289 - val_loss: 39.7091\n",
      "Epoch 2/100\n",
      "906/906 [==============================] - ETA: 0s - loss: 23.2942\n",
      "Epoch 00002: val_loss improved from 39.70912 to 23.49923, saving model to weights/CRNN_v8.h5\n",
      "906/906 [==============================] - 146s 162ms/step - loss: 23.2942 - val_loss: 23.4992\n",
      "Epoch 3/100\n",
      "906/906 [==============================] - ETA: 0s - loss: 22.6490\n",
      "Epoch 00003: val_loss improved from 23.49923 to 23.00181, saving model to weights/CRNN_v8.h5\n",
      "906/906 [==============================] - 146s 161ms/step - loss: 22.6490 - val_loss: 23.0018\n",
      "Epoch 4/100\n",
      "906/906 [==============================] - ETA: 0s - loss: 22.2006\n",
      "Epoch 00004: val_loss improved from 23.00181 to 22.97358, saving model to weights/CRNN_v8.h5\n",
      "906/906 [==============================] - 146s 161ms/step - loss: 22.2006 - val_loss: 22.9736\n",
      "Epoch 5/100\n",
      "906/906 [==============================] - ETA: 0s - loss: 21.9181\n",
      "Epoch 00005: val_loss improved from 22.97358 to 22.97065, saving model to weights/CRNN_v8.h5\n",
      "906/906 [==============================] - 146s 161ms/step - loss: 21.9181 - val_loss: 22.9706\n",
      "Epoch 6/100\n",
      "906/906 [==============================] - ETA: 0s - loss: 21.7301\n",
      "Epoch 00006: val_loss did not improve from 22.97065\n",
      "906/906 [==============================] - 145s 160ms/step - loss: 21.7301 - val_loss: 25.0052\n",
      "Epoch 7/100\n",
      "906/906 [==============================] - ETA: 0s - loss: 21.5762\n",
      "Epoch 00007: val_loss did not improve from 22.97065\n",
      "906/906 [==============================] - 145s 160ms/step - loss: 21.5762 - val_loss: 23.2930\n",
      "Epoch 8/100\n",
      "906/906 [==============================] - ETA: 0s - loss: 21.5206\n",
      "Epoch 00008: val_loss improved from 22.97065 to 22.65893, saving model to weights/CRNN_v8.h5\n",
      "906/906 [==============================] - 145s 160ms/step - loss: 21.5206 - val_loss: 22.6589\n",
      "Epoch 9/100\n",
      "906/906 [==============================] - ETA: 0s - loss: 21.3066\n",
      "Epoch 00009: val_loss improved from 22.65893 to 22.30317, saving model to weights/CRNN_v8.h5\n",
      "906/906 [==============================] - 145s 160ms/step - loss: 21.3066 - val_loss: 22.3032\n",
      "Epoch 10/100\n",
      "906/906 [==============================] - ETA: 0s - loss: 21.1826\n",
      "Epoch 00010: val_loss improved from 22.30317 to 22.07684, saving model to weights/CRNN_v8.h5\n",
      "906/906 [==============================] - 145s 160ms/step - loss: 21.1826 - val_loss: 22.0768\n",
      "Epoch 11/100\n",
      "906/906 [==============================] - ETA: 0s - loss: 21.1204\n",
      "Epoch 00011: val_loss did not improve from 22.07684\n",
      "906/906 [==============================] - 144s 159ms/step - loss: 21.1204 - val_loss: 22.3674\n",
      "Epoch 12/100\n",
      " 87/906 [=>............................] - ETA: 1:57 - loss: 21.3508"
     ]
    }
   ],
   "source": [
    "history = net.fit(x_train, y_train, validation_split=0.2, epochs=100, callbacks=[Check_Point, reduce_lr], batch_size=batch_size, shuffle=True)"
   ]
  },
  {
   "cell_type": "code",
   "execution_count": null,
   "metadata": {},
   "outputs": [],
   "source": [
    "np.save('history/my_history_v8.npy',history.history)"
   ]
  },
  {
   "cell_type": "code",
   "execution_count": 11,
   "metadata": {},
   "outputs": [
    {
     "data": {
      "text/plain": [
       "[<matplotlib.lines.Line2D at 0x7f7e503554f0>]"
      ]
     },
     "execution_count": 11,
     "metadata": {},
     "output_type": "execute_result"
    },
    {
     "data": {
      "image/png": "[encoded data removed]",
      "text/plain": [
       "<Figure size 432x288 with 1 Axes>"
      ]
     },
     "metadata": {
      "needs_background": "light"
     },
     "output_type": "display_data"
    }
   ],
   "source": [
    "import matplotlib.pyplot as plt\n",
    "plt.plot(range(1, 101), history.history['loss'])\n",
    "plt.plot(range(1, 101), history.history['val_loss'])"
   ]
  },
  {
   "cell_type": "code",
   "execution_count": 11,
   "metadata": {},
   "outputs": [],
   "source": [
    "lbl_to_char_dict = {0: '0',\n",
    "                        1: '1',\n",
    "                        2: '2',\n",
    "                        3: '3',\n",
    "                        4: '4',\n",
    "                        5: '5',\n",
    "                        6: '6',\n",
    "                        7: '7',\n",
    "                        8: '8',\n",
    "                        9: '9'}"
   ]
  },
  {
   "cell_type": "code",
   "execution_count": 12,
   "metadata": {},
   "outputs": [],
   "source": [
    "def decode_ctc(args):\n",
    "    \"\"\"returns a list of decoded ctc losses\"\"\"\n",
    "\n",
    "    y_pred, input_length = args\n",
    "\n",
    "    ctc_decoded = tf.keras.backend.ctc_decode(\n",
    "        y_pred, input_length, greedy=True)\n",
    "\n",
    "    return ctc_decoded"
   ]
  },
  {
   "cell_type": "code",
   "execution_count": 20,
   "metadata": {},
   "outputs": [
    {
     "data": {
      "text/plain": [
       "(128, 257)"
      ]
     },
     "execution_count": 20,
     "metadata": {},
     "output_type": "execute_result"
    }
   ],
   "source": [
    "net.predict(np.expand_dims(imgs[0], axis=0)).squeeze().shape"
   ]
  },
  {
   "cell_type": "code",
   "execution_count": 22,
   "metadata": {},
   "outputs": [
    {
     "name": "stdout",
     "output_type": "stream",
     "text": [
      "WARNING:tensorflow:From /home/grauso/.local/lib/python3.8/site-packages/tensorflow/python/util/dispatch.py:201: sparse_to_dense (from tensorflow.python.ops.sparse_ops) is deprecated and will be removed in a future version.\n",
      "Instructions for updating:\n",
      "Create a `tf.sparse.SparseTensor` and use `tf.sparse.to_dense` instead.\n"
     ]
    }
   ],
   "source": [
    "pred_tensor, _ = decode_ctc([net.predict(np.expand_dims(imgs[0], axis=0)), np.array([t_dist_dim])])\n",
    "pred_labels = tf.keras.backend.get_value(pred_tensor[0])"
   ]
  },
  {
   "cell_type": "code",
   "execution_count": 28,
   "metadata": {},
   "outputs": [
    {
     "data": {
      "text/plain": [
       "array([[35, 49, 50, -1, -1, -1, -1, -1, -1, -1, -1, -1, -1, -1, -1, -1,\n",
       "        -1, -1, -1, -1, -1, -1, -1, -1, -1, -1, -1, -1, -1, -1, -1, -1,\n",
       "        -1, -1, -1, -1, -1, -1, -1, -1, -1, -1, -1, -1, -1, -1, -1, -1,\n",
       "        -1, -1, -1, -1, -1, -1, -1, -1, -1, -1, -1, -1, -1, -1, -1, -1,\n",
       "        -1, -1, -1, -1, -1, -1, -1, -1, -1, -1, -1, -1, -1, -1, -1, -1,\n",
       "        -1, -1, -1, -1, -1, -1, -1, -1, -1, -1, -1, -1, -1, -1, -1, -1,\n",
       "        -1, -1, -1, -1, -1, -1, -1, -1, -1, -1, -1, -1, -1, -1, -1, -1,\n",
       "        -1, -1, -1, -1, -1, -1, -1, -1, -1, -1, -1, -1, -1, -1, -1, -1]])"
      ]
     },
     "execution_count": 28,
     "metadata": {},
     "output_type": "execute_result"
    }
   ],
   "source": [
    "pred_labels"
   ]
  },
  {
   "cell_type": "code",
   "execution_count": null,
   "metadata": {},
   "outputs": [],
   "source": []
  }
 ],
 "metadata": {
  "kernelspec": {
   "display_name": "Python 3",
   "language": "python",
   "name": "python3"
  },
  "language_info": {
   "codemirror_mode": {
    "name": "ipython",
    "version": 3
   },
   "file_extension": ".py",
   "mimetype": "text/x-python",
   "name": "python",
   "nbconvert_exporter": "python",
   "pygments_lexer": "ipython3",
   "version": "3.8.10"
  }
 },
 "nbformat": 4,
 "nbformat_minor": 4
}
