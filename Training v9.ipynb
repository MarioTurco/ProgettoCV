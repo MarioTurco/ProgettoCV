{
 "cells": [
  {
   "cell_type": "code",
   "execution_count": 1,
   "metadata": {},
   "outputs": [
    {
     "name": "stdout",
     "output_type": "stream",
     "text": [
      "setGPU: Setting GPU to: 0\n"
     ]
    }
   ],
   "source": [
    "import numpy as np\n",
    "from model import *\n",
    "import tensorflow as tf\n",
    "import setGPU\n",
    "#strategy = tf.distribute.MirroredStrategy([\"GPU:0\", \"GPU:1\"])\n",
    "\n",
    "imgs = np.expand_dims(np.load('../dataset/cv/train/x/generated_text.npz')['arr_0'], axis=-1)\n",
    "labels = np.load('../dataset/cv/train/y/generated_labels.npy')"
   ]
  },
  {
   "cell_type": "code",
   "execution_count": 2,
   "metadata": {},
   "outputs": [],
   "source": [
    "#imgs = imgs/255"
   ]
  },
  {
   "cell_type": "code",
   "execution_count": 3,
   "metadata": {},
   "outputs": [],
   "source": [
    "characters = set(char for label in labels for char in label)"
   ]
  },
  {
   "cell_type": "code",
   "execution_count": 4,
   "metadata": {},
   "outputs": [],
   "source": [
    "# Mapping characters to integers\n",
    "char_to_num = layers.experimental.preprocessing.StringLookup(\n",
    "                  vocabulary=sorted(list(characters)), num_oov_indices=0, mask_token=None )\n",
    "\n",
    "# Mapping integers back to original characters\n",
    "num_to_char = layers.experimental.preprocessing.StringLookup(\n",
    "                  vocabulary=char_to_num.get_vocabulary(), mask_token=None, invert=True )"
   ]
  },
  {
   "cell_type": "code",
   "execution_count": 5,
   "metadata": {},
   "outputs": [],
   "source": [
    "imgs = np.transpose(imgs, (0, 2, 1, 3))\n",
    "'''\n",
    "max_len = max([len(label) for label in labels])\n",
    "encoded_labels = []\n",
    "for label in labels:\n",
    "    if label:\n",
    "        tmp = np.array([char_to_num(char) for char in label])\n",
    "        encoded_labels.append(np.pad(tmp, (0, max_len-tmp.shape[0]), constant_values=0))\n",
    "    else:\n",
    "        tmp = np.array([char_to_num('#')])\n",
    "        encoded_labels.append(np.pad(tmp, (0, max_len-tmp.shape[0]), constant_values=0))\n",
    "'''\n",
    "\n",
    "encoded_labels = np.load('../dataset/cv/train/y/encoded_generated_labels.npy')"
   ]
  },
  {
   "cell_type": "code",
   "execution_count": 6,
   "metadata": {},
   "outputs": [],
   "source": [
    "#Si inserisce alla fine di ogni array label la lunghezza reale della parola\n",
    "t_dist_dim = int(128)          # Questo valore indica quanti step temporali ci sono: nelle ultime feature map ci sono 128/4\n",
    "                                 # step temporali perché 128 è la larghezza massima tra le immagini in ingresso e 4 è il fattore\n",
    "                                 # di riduzione dovuto ai MaxPooling (ci sono 2 livelli di MaxPooling che dimezzano le dimensioni)\n",
    "enc2 = []\n",
    "for i in range(encoded_labels.shape[0]):\n",
    "    if len(labels[i]) == 0:\n",
    "        enc2.append(np.append(encoded_labels[i], [1, t_dist_dim]))\n",
    "    else:\n",
    "        enc2.append(np.append(encoded_labels[i], [len(labels[i]), t_dist_dim]))\n",
    "enc2 = np.array(enc2)"
   ]
  },
  {
   "cell_type": "code",
   "execution_count": 7,
   "metadata": {},
   "outputs": [],
   "source": [
    "#with strategy.scope():\n",
    "net = build_and_compile_model_v9_7(input_shape=(128, 128, 1), len_characters=len(characters), opt=\"Adam\")"
   ]
  },
  {
   "cell_type": "code",
   "execution_count": 8,
   "metadata": {},
   "outputs": [
    {
     "name": "stdout",
     "output_type": "stream",
     "text": [
      "Model: \"functional_1\"\n",
      "_________________________________________________________________\n",
      "Layer (type)                 Output Shape              Param #   \n",
      "=================================================================\n",
      "input_1 (InputLayer)         [(None, 128, 128, 1)]     0         \n",
      "_________________________________________________________________\n",
      "conv2d (Conv2D)              (None, 128, 128, 64)      640       \n",
      "_________________________________________________________________\n",
      "activation (Activation)      (None, 128, 128, 64)      0         \n",
      "_________________________________________________________________\n",
      "batch_normalization (BatchNo (None, 128, 128, 64)      256       \n",
      "_________________________________________________________________\n",
      "conv2d_1 (Conv2D)            (None, 128, 128, 64)      36928     \n",
      "_________________________________________________________________\n",
      "activation_1 (Activation)    (None, 128, 128, 64)      0         \n",
      "_________________________________________________________________\n",
      "batch_normalization_1 (Batch (None, 128, 128, 64)      256       \n",
      "_________________________________________________________________\n",
      "max_pooling2d (MaxPooling2D) (None, 128, 64, 64)       0         \n",
      "_________________________________________________________________\n",
      "conv2d_2 (Conv2D)            (None, 128, 64, 128)      73856     \n",
      "_________________________________________________________________\n",
      "activation_2 (Activation)    (None, 128, 64, 128)      0         \n",
      "_________________________________________________________________\n",
      "batch_normalization_2 (Batch (None, 128, 64, 128)      512       \n",
      "_________________________________________________________________\n",
      "conv2d_3 (Conv2D)            (None, 128, 64, 128)      147584    \n",
      "_________________________________________________________________\n",
      "activation_3 (Activation)    (None, 128, 64, 128)      0         \n",
      "_________________________________________________________________\n",
      "batch_normalization_3 (Batch (None, 128, 64, 128)      512       \n",
      "_________________________________________________________________\n",
      "max_pooling2d_1 (MaxPooling2 (None, 128, 32, 128)      0         \n",
      "_________________________________________________________________\n",
      "conv2d_4 (Conv2D)            (None, 128, 32, 256)      295168    \n",
      "_________________________________________________________________\n",
      "activation_4 (Activation)    (None, 128, 32, 256)      0         \n",
      "_________________________________________________________________\n",
      "batch_normalization_4 (Batch (None, 128, 32, 256)      1024      \n",
      "_________________________________________________________________\n",
      "conv2d_5 (Conv2D)            (None, 128, 32, 256)      590080    \n",
      "_________________________________________________________________\n",
      "activation_5 (Activation)    (None, 128, 32, 256)      0         \n",
      "_________________________________________________________________\n",
      "batch_normalization_5 (Batch (None, 128, 32, 256)      1024      \n",
      "_________________________________________________________________\n",
      "conv2d_6 (Conv2D)            (None, 128, 32, 256)      590080    \n",
      "_________________________________________________________________\n",
      "activation_6 (Activation)    (None, 128, 32, 256)      0         \n",
      "_________________________________________________________________\n",
      "batch_normalization_6 (Batch (None, 128, 32, 256)      1024      \n",
      "_________________________________________________________________\n",
      "max_pooling2d_2 (MaxPooling2 (None, 128, 16, 256)      0         \n",
      "_________________________________________________________________\n",
      "conv2d_7 (Conv2D)            (None, 128, 16, 512)      1180160   \n",
      "_________________________________________________________________\n",
      "activation_7 (Activation)    (None, 128, 16, 512)      0         \n",
      "_________________________________________________________________\n",
      "batch_normalization_7 (Batch (None, 128, 16, 512)      2048      \n",
      "_________________________________________________________________\n",
      "conv2d_8 (Conv2D)            (None, 128, 16, 512)      2359808   \n",
      "_________________________________________________________________\n",
      "activation_8 (Activation)    (None, 128, 16, 512)      0         \n",
      "_________________________________________________________________\n",
      "batch_normalization_8 (Batch (None, 128, 16, 512)      2048      \n",
      "_________________________________________________________________\n",
      "max_pooling2d_3 (MaxPooling2 (None, 128, 8, 512)       0         \n",
      "_________________________________________________________________\n",
      "time_distributed (TimeDistri (None, 128, 4096)         0         \n",
      "_________________________________________________________________\n",
      "dense (Dense)                (None, 128, 128)          524416    \n",
      "_________________________________________________________________\n",
      "dropout (Dropout)            (None, 128, 128)          0         \n",
      "_________________________________________________________________\n",
      "bidirectional (Bidirectional (None, 128, 128)          98816     \n",
      "_________________________________________________________________\n",
      "bidirectional_1 (Bidirection (None, 128, 256)          263168    \n",
      "_________________________________________________________________\n",
      "dense_1 (Dense)              (None, 128, 63)           16191     \n",
      "=================================================================\n",
      "Total params: 6,185,599\n",
      "Trainable params: 6,181,247\n",
      "Non-trainable params: 4,352\n",
      "_________________________________________________________________\n"
     ]
    }
   ],
   "source": [
    "net.summary()"
   ]
  },
  {
   "cell_type": "code",
   "execution_count": 9,
   "metadata": {},
   "outputs": [],
   "source": [
    "from tensorflow.keras.callbacks import ModelCheckpoint, EarlyStopping, ReduceLROnPlateau\n",
    "\n",
    "Early_Stopping_Patience = 10 \n",
    "Min_Delta = 0.0001\n",
    "# Model Check Point\n",
    "Check_Point = ModelCheckpoint( 'weights/CRNN_v9_7.h5',   # Filepath\n",
    "                               monitor='val_loss',\n",
    "                               save_best_only=True,\n",
    "                               verbose=1,\n",
    "                               mode='auto',\n",
    "                               save_weights_only=False,\n",
    "                               save_freq='epoch' )\n",
    "# Add early stopping\n",
    "Early_Stopping = EarlyStopping( monitor='val_loss',\n",
    "                                min_delta=Min_Delta,\n",
    "                                patience=Early_Stopping_Patience,\n",
    "                                verbose=1,\n",
    "                                mode='auto',\n",
    "                                baseline=None,\n",
    "                                restore_best_weights=True )\n",
    "reduce_lr = ReduceLROnPlateau(monitor='val_loss', factor=0.2,\n",
    "                              patience=10, min_lr=0.0002)"
   ]
  },
  {
   "cell_type": "code",
   "execution_count": 11,
   "metadata": {},
   "outputs": [],
   "source": [
    "batch_size = 64\n",
    "x_train = imgs\n",
    "y_train = enc2"
   ]
  },
  {
   "cell_type": "code",
   "execution_count": 12,
   "metadata": {},
   "outputs": [
    {
     "name": "stdout",
     "output_type": "stream",
     "text": [
      "Epoch 1/100\n",
      "  2/125 [..............................] - ETA: 26s - loss: 409.5411WARNING:tensorflow:Callbacks method `on_train_batch_end` is slow compared to the batch time (batch time: 0.1589s vs `on_train_batch_end` time: 0.2715s). Check your callbacks.\n",
      "125/125 [==============================] - ETA: 0s - loss: 35.9965\n",
      "Epoch 00001: val_loss improved from inf to 28.05896, saving model to weights/CRNN_v9_7.h5\n",
      "125/125 [==============================] - 61s 486ms/step - loss: 35.9965 - val_loss: 28.0590\n",
      "Epoch 2/100\n",
      "125/125 [==============================] - ETA: 0s - loss: 26.4929\n",
      "Epoch 00002: val_loss did not improve from 28.05896\n",
      "125/125 [==============================] - 60s 478ms/step - loss: 26.4929 - val_loss: 100.3777\n",
      "Epoch 3/100\n",
      "125/125 [==============================] - ETA: 0s - loss: 26.3623\n",
      "Epoch 00003: val_loss improved from 28.05896 to 26.45493, saving model to weights/CRNN_v9_7.h5\n",
      "125/125 [==============================] - 60s 481ms/step - loss: 26.3623 - val_loss: 26.4549\n",
      "Epoch 4/100\n",
      "125/125 [==============================] - ETA: 0s - loss: 26.2671\n",
      "Epoch 00004: val_loss did not improve from 26.45493\n",
      "125/125 [==============================] - 60s 478ms/step - loss: 26.2671 - val_loss: 26.5549\n",
      "Epoch 5/100\n",
      "125/125 [==============================] - ETA: 0s - loss: 26.1929\n",
      "Epoch 00005: val_loss improved from 26.45493 to 26.45312, saving model to weights/CRNN_v9_7.h5\n",
      "125/125 [==============================] - 60s 480ms/step - loss: 26.1929 - val_loss: 26.4531\n",
      "Epoch 6/100\n",
      "125/125 [==============================] - ETA: 0s - loss: 26.1184\n",
      "Epoch 00006: val_loss improved from 26.45312 to 26.34712, saving model to weights/CRNN_v9_7.h5\n",
      "125/125 [==============================] - 60s 480ms/step - loss: 26.1184 - val_loss: 26.3471\n",
      "Epoch 7/100\n",
      "125/125 [==============================] - ETA: 0s - loss: 26.0397\n",
      "Epoch 00007: val_loss improved from 26.34712 to 26.13761, saving model to weights/CRNN_v9_7.h5\n",
      "125/125 [==============================] - 60s 479ms/step - loss: 26.0397 - val_loss: 26.1376\n",
      "Epoch 8/100\n",
      "125/125 [==============================] - ETA: 0s - loss: 25.9121\n",
      "Epoch 00008: val_loss improved from 26.13761 to 25.89793, saving model to weights/CRNN_v9_7.h5\n",
      "125/125 [==============================] - 60s 480ms/step - loss: 25.9121 - val_loss: 25.8979\n",
      "Epoch 9/100\n",
      "125/125 [==============================] - ETA: 0s - loss: 25.9331\n",
      "Epoch 00009: val_loss did not improve from 25.89793\n",
      "125/125 [==============================] - 60s 476ms/step - loss: 25.9331 - val_loss: 33.8776\n",
      "Epoch 10/100\n",
      "125/125 [==============================] - ETA: 0s - loss: 25.9396\n",
      "Epoch 00010: val_loss did not improve from 25.89793\n",
      "125/125 [==============================] - 60s 478ms/step - loss: 25.9396 - val_loss: 26.1868\n",
      "Epoch 11/100\n",
      "125/125 [==============================] - ETA: 0s - loss: 25.8047\n",
      "Epoch 00011: val_loss improved from 25.89793 to 25.86469, saving model to weights/CRNN_v9_7.h5\n",
      "125/125 [==============================] - 60s 481ms/step - loss: 25.8047 - val_loss: 25.8647\n",
      "Epoch 12/100\n",
      "125/125 [==============================] - ETA: 0s - loss: 25.7287\n",
      "Epoch 00012: val_loss improved from 25.86469 to 25.79286, saving model to weights/CRNN_v9_7.h5\n",
      "125/125 [==============================] - 60s 480ms/step - loss: 25.7287 - val_loss: 25.7929\n",
      "Epoch 13/100\n",
      "125/125 [==============================] - ETA: 0s - loss: 25.6585\n",
      "Epoch 00013: val_loss did not improve from 25.79286\n",
      "125/125 [==============================] - 60s 478ms/step - loss: 25.6585 - val_loss: 25.8413\n",
      "Epoch 14/100\n",
      "125/125 [==============================] - ETA: 0s - loss: 25.5784\n",
      "Epoch 00014: val_loss did not improve from 25.79286\n",
      "125/125 [==============================] - 60s 478ms/step - loss: 25.5784 - val_loss: 28.6659\n",
      "Epoch 15/100\n",
      "125/125 [==============================] - ETA: 0s - loss: 25.5012\n",
      "Epoch 00015: val_loss improved from 25.79286 to 25.64226, saving model to weights/CRNN_v9_7.h5\n",
      "125/125 [==============================] - 60s 481ms/step - loss: 25.5012 - val_loss: 25.6423\n",
      "Epoch 16/100\n",
      "125/125 [==============================] - ETA: 0s - loss: 25.3979\n",
      "Epoch 00016: val_loss improved from 25.64226 to 25.50167, saving model to weights/CRNN_v9_7.h5\n",
      "125/125 [==============================] - 60s 480ms/step - loss: 25.3979 - val_loss: 25.5017\n",
      "Epoch 17/100\n",
      "125/125 [==============================] - ETA: 0s - loss: 25.2736\n",
      "Epoch 00017: val_loss did not improve from 25.50167\n",
      "125/125 [==============================] - 60s 478ms/step - loss: 25.2736 - val_loss: 25.5058\n",
      "Epoch 18/100\n",
      "125/125 [==============================] - ETA: 0s - loss: 25.1702\n",
      "Epoch 00018: val_loss did not improve from 25.50167\n",
      "125/125 [==============================] - 60s 478ms/step - loss: 25.1702 - val_loss: 26.9776\n",
      "Epoch 19/100\n",
      "125/125 [==============================] - ETA: 0s - loss: 24.9907\n",
      "Epoch 00019: val_loss improved from 25.50167 to 25.24474, saving model to weights/CRNN_v9_7.h5\n",
      "125/125 [==============================] - 60s 482ms/step - loss: 24.9907 - val_loss: 25.2447\n",
      "Epoch 20/100\n",
      "125/125 [==============================] - ETA: 0s - loss: 24.7069\n",
      "Epoch 00020: val_loss did not improve from 25.24474\n",
      "125/125 [==============================] - 60s 478ms/step - loss: 24.7069 - val_loss: 27.2178\n",
      "Epoch 21/100\n",
      "125/125 [==============================] - ETA: 0s - loss: 24.4221\n",
      "Epoch 00021: val_loss did not improve from 25.24474\n",
      "125/125 [==============================] - 60s 479ms/step - loss: 24.4221 - val_loss: 26.9013\n",
      "Epoch 22/100\n",
      "125/125 [==============================] - ETA: 0s - loss: 24.0610\n",
      "Epoch 00022: val_loss improved from 25.24474 to 24.00609, saving model to weights/CRNN_v9_7.h5\n",
      "125/125 [==============================] - 60s 481ms/step - loss: 24.0610 - val_loss: 24.0061\n",
      "Epoch 23/100\n",
      "125/125 [==============================] - ETA: 0s - loss: 23.6031\n",
      "Epoch 00023: val_loss improved from 24.00609 to 23.49483, saving model to weights/CRNN_v9_7.h5\n",
      "125/125 [==============================] - 60s 480ms/step - loss: 23.6031 - val_loss: 23.4948\n",
      "Epoch 24/100\n",
      "125/125 [==============================] - ETA: 0s - loss: 22.6720\n",
      "Epoch 00024: val_loss improved from 23.49483 to 21.53583, saving model to weights/CRNN_v9_7.h5\n",
      "125/125 [==============================] - 60s 480ms/step - loss: 22.6720 - val_loss: 21.5358\n",
      "Epoch 25/100\n",
      "125/125 [==============================] - ETA: 0s - loss: 15.7651\n",
      "Epoch 00025: val_loss improved from 21.53583 to 12.13592, saving model to weights/CRNN_v9_7.h5\n",
      "125/125 [==============================] - 60s 480ms/step - loss: 15.7651 - val_loss: 12.1359\n",
      "Epoch 26/100\n",
      "125/125 [==============================] - ETA: 0s - loss: 4.4146\n",
      "Epoch 00026: val_loss improved from 12.13592 to 10.02650, saving model to weights/CRNN_v9_7.h5\n",
      "125/125 [==============================] - 60s 480ms/step - loss: 4.4146 - val_loss: 10.0265\n",
      "Epoch 27/100\n",
      "125/125 [==============================] - ETA: 0s - loss: 2.1223\n",
      "Epoch 00027: val_loss improved from 10.02650 to 9.94699, saving model to weights/CRNN_v9_7.h5\n",
      "125/125 [==============================] - 60s 481ms/step - loss: 2.1223 - val_loss: 9.9470\n",
      "Epoch 28/100\n",
      "125/125 [==============================] - ETA: 0s - loss: 1.5107\n",
      "Epoch 00028: val_loss improved from 9.94699 to 1.55614, saving model to weights/CRNN_v9_7.h5\n",
      "125/125 [==============================] - 60s 481ms/step - loss: 1.5107 - val_loss: 1.5561\n",
      "Epoch 29/100\n",
      "125/125 [==============================] - ETA: 0s - loss: 1.2430\n",
      "Epoch 00029: val_loss did not improve from 1.55614\n",
      "125/125 [==============================] - 60s 478ms/step - loss: 1.2430 - val_loss: 9.5614\n",
      "Epoch 30/100\n",
      "125/125 [==============================] - ETA: 0s - loss: 1.0616\n",
      "Epoch 00030: val_loss improved from 1.55614 to 1.30588, saving model to weights/CRNN_v9_7.h5\n",
      "125/125 [==============================] - 60s 480ms/step - loss: 1.0616 - val_loss: 1.3059\n",
      "Epoch 31/100\n",
      "125/125 [==============================] - ETA: 0s - loss: 0.9212\n",
      "Epoch 00031: val_loss improved from 1.30588 to 1.05858, saving model to weights/CRNN_v9_7.h5\n",
      "125/125 [==============================] - 60s 480ms/step - loss: 0.9212 - val_loss: 1.0586\n",
      "Epoch 32/100\n",
      "125/125 [==============================] - ETA: 0s - loss: 0.8300\n",
      "Epoch 00032: val_loss improved from 1.05858 to 0.93682, saving model to weights/CRNN_v9_7.h5\n"
     ]
    },
    {
     "name": "stdout",
     "output_type": "stream",
     "text": [
      "125/125 [==============================] - 60s 480ms/step - loss: 0.8300 - val_loss: 0.9368\n",
      "Epoch 33/100\n",
      "125/125 [==============================] - ETA: 0s - loss: 0.7304\n",
      "Epoch 00033: val_loss did not improve from 0.93682\n",
      "125/125 [==============================] - 60s 477ms/step - loss: 0.7304 - val_loss: 3.5426\n",
      "Epoch 34/100\n",
      "125/125 [==============================] - ETA: 0s - loss: 0.6957\n",
      "Epoch 00034: val_loss did not improve from 0.93682\n",
      "125/125 [==============================] - 60s 477ms/step - loss: 0.6957 - val_loss: 1.2242\n",
      "Epoch 35/100\n",
      "125/125 [==============================] - ETA: 0s - loss: 0.6580\n",
      "Epoch 00035: val_loss improved from 0.93682 to 0.88149, saving model to weights/CRNN_v9_7.h5\n",
      "125/125 [==============================] - 60s 478ms/step - loss: 0.6580 - val_loss: 0.8815\n",
      "Epoch 36/100\n",
      "125/125 [==============================] - ETA: 0s - loss: 0.6499\n",
      "Epoch 00036: val_loss did not improve from 0.88149\n",
      "125/125 [==============================] - 60s 477ms/step - loss: 0.6499 - val_loss: 1.3053\n",
      "Epoch 37/100\n",
      "125/125 [==============================] - ETA: 0s - loss: 0.5669\n",
      "Epoch 00037: val_loss improved from 0.88149 to 0.75530, saving model to weights/CRNN_v9_7.h5\n",
      "125/125 [==============================] - 60s 479ms/step - loss: 0.5669 - val_loss: 0.7553\n",
      "Epoch 38/100\n",
      "125/125 [==============================] - ETA: 0s - loss: 0.5306\n",
      "Epoch 00038: val_loss did not improve from 0.75530\n",
      "125/125 [==============================] - 60s 477ms/step - loss: 0.5306 - val_loss: 0.7613\n",
      "Epoch 39/100\n",
      "125/125 [==============================] - ETA: 0s - loss: 0.5996\n",
      "Epoch 00039: val_loss did not improve from 0.75530\n",
      "125/125 [==============================] - 60s 478ms/step - loss: 0.5996 - val_loss: 0.9793\n",
      "Epoch 40/100\n",
      "125/125 [==============================] - ETA: 0s - loss: 0.5923\n",
      "Epoch 00040: val_loss did not improve from 0.75530\n",
      "125/125 [==============================] - 60s 477ms/step - loss: 0.5923 - val_loss: 0.8257\n",
      "Epoch 41/100\n",
      "125/125 [==============================] - ETA: 0s - loss: 0.5411\n",
      "Epoch 00041: val_loss did not improve from 0.75530\n",
      "125/125 [==============================] - 60s 477ms/step - loss: 0.5411 - val_loss: 1.7425\n",
      "Epoch 42/100\n",
      "125/125 [==============================] - ETA: 0s - loss: 0.5126\n",
      "Epoch 00042: val_loss improved from 0.75530 to 0.67573, saving model to weights/CRNN_v9_7.h5\n",
      "125/125 [==============================] - 60s 481ms/step - loss: 0.5126 - val_loss: 0.6757\n",
      "Epoch 43/100\n",
      "125/125 [==============================] - ETA: 0s - loss: 0.4876\n",
      "Epoch 00043: val_loss did not improve from 0.67573\n",
      "125/125 [==============================] - 60s 477ms/step - loss: 0.4876 - val_loss: 1.2724\n",
      "Epoch 44/100\n",
      "125/125 [==============================] - ETA: 0s - loss: 0.6056\n",
      "Epoch 00044: val_loss did not improve from 0.67573\n",
      "125/125 [==============================] - 60s 478ms/step - loss: 0.6056 - val_loss: 0.9802\n",
      "Epoch 45/100\n",
      "125/125 [==============================] - ETA: 0s - loss: 0.5578\n",
      "Epoch 00045: val_loss did not improve from 0.67573\n",
      "125/125 [==============================] - 60s 477ms/step - loss: 0.5578 - val_loss: 20.2124\n",
      "Epoch 46/100\n",
      "125/125 [==============================] - ETA: 0s - loss: 0.4661\n",
      "Epoch 00046: val_loss did not improve from 0.67573\n",
      "125/125 [==============================] - 60s 477ms/step - loss: 0.4661 - val_loss: 0.7644\n",
      "Epoch 47/100\n",
      "125/125 [==============================] - ETA: 0s - loss: 0.4759\n",
      "Epoch 00047: val_loss did not improve from 0.67573\n",
      "125/125 [==============================] - 59s 476ms/step - loss: 0.4759 - val_loss: 0.8045\n",
      "Epoch 48/100\n",
      "125/125 [==============================] - ETA: 0s - loss: 0.4298\n",
      "Epoch 00048: val_loss did not improve from 0.67573\n",
      "125/125 [==============================] - 59s 475ms/step - loss: 0.4298 - val_loss: 0.7325\n",
      "Epoch 49/100\n",
      "125/125 [==============================] - ETA: 0s - loss: 0.4281\n",
      "Epoch 00049: val_loss did not improve from 0.67573\n",
      "125/125 [==============================] - 59s 476ms/step - loss: 0.4281 - val_loss: 0.7301\n",
      "Epoch 50/100\n",
      "125/125 [==============================] - ETA: 0s - loss: 0.3967\n",
      "Epoch 00050: val_loss did not improve from 0.67573\n",
      "125/125 [==============================] - 60s 476ms/step - loss: 0.3967 - val_loss: 0.7367\n",
      "Epoch 51/100\n",
      "125/125 [==============================] - ETA: 0s - loss: 0.4001\n",
      "Epoch 00051: val_loss did not improve from 0.67573\n",
      "125/125 [==============================] - 59s 476ms/step - loss: 0.4001 - val_loss: 17.7421\n",
      "Epoch 52/100\n",
      "125/125 [==============================] - ETA: 0s - loss: 0.4453\n",
      "Epoch 00052: val_loss did not improve from 0.67573\n",
      "125/125 [==============================] - 59s 475ms/step - loss: 0.4453 - val_loss: 0.7542\n",
      "Epoch 53/100\n",
      "125/125 [==============================] - ETA: 0s - loss: 0.3022\n",
      "Epoch 00053: val_loss improved from 0.67573 to 0.59197, saving model to weights/CRNN_v9_7.h5\n",
      "125/125 [==============================] - 60s 478ms/step - loss: 0.3022 - val_loss: 0.5920\n",
      "Epoch 54/100\n",
      "125/125 [==============================] - ETA: 0s - loss: 0.2597\n",
      "Epoch 00054: val_loss improved from 0.59197 to 0.58342, saving model to weights/CRNN_v9_7.h5\n",
      "125/125 [==============================] - 60s 478ms/step - loss: 0.2597 - val_loss: 0.5834\n",
      "Epoch 55/100\n",
      "125/125 [==============================] - ETA: 0s - loss: 0.2348\n",
      "Epoch 00055: val_loss improved from 0.58342 to 0.57823, saving model to weights/CRNN_v9_7.h5\n",
      "125/125 [==============================] - 60s 477ms/step - loss: 0.2348 - val_loss: 0.5782\n",
      "Epoch 56/100\n",
      "125/125 [==============================] - ETA: 0s - loss: 0.2221\n",
      "Epoch 00056: val_loss improved from 0.57823 to 0.57141, saving model to weights/CRNN_v9_7.h5\n",
      "125/125 [==============================] - 60s 478ms/step - loss: 0.2221 - val_loss: 0.5714\n",
      "Epoch 57/100\n",
      "125/125 [==============================] - ETA: 0s - loss: 0.2110\n",
      "Epoch 00057: val_loss improved from 0.57141 to 0.56931, saving model to weights/CRNN_v9_7.h5\n",
      "125/125 [==============================] - 60s 478ms/step - loss: 0.2110 - val_loss: 0.5693\n",
      "Epoch 58/100\n",
      "125/125 [==============================] - ETA: 0s - loss: 0.1985\n",
      "Epoch 00058: val_loss did not improve from 0.56931\n",
      "125/125 [==============================] - 59s 475ms/step - loss: 0.1985 - val_loss: 0.5951\n",
      "Epoch 59/100\n",
      "125/125 [==============================] - ETA: 0s - loss: 0.1890\n",
      "Epoch 00059: val_loss did not improve from 0.56931\n",
      "125/125 [==============================] - 59s 475ms/step - loss: 0.1890 - val_loss: 0.5805\n",
      "Epoch 60/100\n",
      "125/125 [==============================] - ETA: 0s - loss: 0.1867\n",
      "Epoch 00060: val_loss did not improve from 0.56931\n",
      "125/125 [==============================] - 59s 475ms/step - loss: 0.1867 - val_loss: 0.5880\n",
      "Epoch 61/100\n",
      "125/125 [==============================] - ETA: 0s - loss: 0.1885\n",
      "Epoch 00061: val_loss did not improve from 0.56931\n",
      "125/125 [==============================] - 59s 475ms/step - loss: 0.1885 - val_loss: 0.6020\n",
      "Epoch 62/100\n",
      "125/125 [==============================] - ETA: 0s - loss: 0.1838\n",
      "Epoch 00062: val_loss did not improve from 0.56931\n",
      "125/125 [==============================] - 59s 475ms/step - loss: 0.1838 - val_loss: 0.6111\n",
      "Epoch 63/100\n",
      "125/125 [==============================] - ETA: 0s - loss: 0.1637\n",
      "Epoch 00063: val_loss did not improve from 0.56931\n",
      "125/125 [==============================] - 59s 475ms/step - loss: 0.1637 - val_loss: 0.6189\n",
      "Epoch 64/100\n",
      "125/125 [==============================] - ETA: 0s - loss: 0.1655\n",
      "Epoch 00064: val_loss did not improve from 0.56931\n",
      "125/125 [==============================] - 59s 475ms/step - loss: 0.1655 - val_loss: 0.6032\n",
      "Epoch 65/100\n",
      "125/125 [==============================] - ETA: 0s - loss: 0.1613\n",
      "Epoch 00065: val_loss did not improve from 0.56931\n",
      "125/125 [==============================] - 59s 475ms/step - loss: 0.1613 - val_loss: 0.5920\n",
      "Epoch 66/100\n",
      "125/125 [==============================] - ETA: 0s - loss: 0.1528\n",
      "Epoch 00066: val_loss did not improve from 0.56931\n",
      "125/125 [==============================] - 59s 474ms/step - loss: 0.1528 - val_loss: 0.6175\n",
      "Epoch 67/100\n",
      "125/125 [==============================] - ETA: 0s - loss: 0.1466\n",
      "Epoch 00067: val_loss did not improve from 0.56931\n",
      "125/125 [==============================] - 59s 475ms/step - loss: 0.1466 - val_loss: 0.6340\n"
     ]
    },
    {
     "name": "stdout",
     "output_type": "stream",
     "text": [
      "Epoch 68/100\n",
      "125/125 [==============================] - ETA: 0s - loss: 0.1417\n",
      "Epoch 00068: val_loss did not improve from 0.56931\n",
      "125/125 [==============================] - 59s 474ms/step - loss: 0.1417 - val_loss: 0.6201\n",
      "Epoch 69/100\n",
      "125/125 [==============================] - ETA: 0s - loss: 0.1394\n",
      "Epoch 00069: val_loss did not improve from 0.56931\n",
      "125/125 [==============================] - 59s 475ms/step - loss: 0.1394 - val_loss: 0.6251\n",
      "Epoch 70/100\n",
      "125/125 [==============================] - ETA: 0s - loss: 0.1331\n",
      "Epoch 00070: val_loss did not improve from 0.56931\n",
      "125/125 [==============================] - 59s 476ms/step - loss: 0.1331 - val_loss: 0.6482\n",
      "Epoch 71/100\n",
      "125/125 [==============================] - ETA: 0s - loss: 0.1314\n",
      "Epoch 00071: val_loss did not improve from 0.56931\n",
      "125/125 [==============================] - 59s 475ms/step - loss: 0.1314 - val_loss: 0.6595\n",
      "Epoch 72/100\n",
      "125/125 [==============================] - ETA: 0s - loss: 0.1222\n",
      "Epoch 00072: val_loss did not improve from 0.56931\n",
      "125/125 [==============================] - 59s 475ms/step - loss: 0.1222 - val_loss: 0.6597\n",
      "Epoch 73/100\n",
      "125/125 [==============================] - ETA: 0s - loss: 0.1202\n",
      "Epoch 00073: val_loss did not improve from 0.56931\n",
      "125/125 [==============================] - 59s 474ms/step - loss: 0.1202 - val_loss: 0.6982\n",
      "Epoch 74/100\n",
      "125/125 [==============================] - ETA: 0s - loss: 0.1228\n",
      "Epoch 00074: val_loss did not improve from 0.56931\n",
      "125/125 [==============================] - 59s 475ms/step - loss: 0.1228 - val_loss: 0.7015\n",
      "Epoch 75/100\n",
      "125/125 [==============================] - ETA: 0s - loss: 0.1128\n",
      "Epoch 00075: val_loss did not improve from 0.56931\n",
      "125/125 [==============================] - 59s 475ms/step - loss: 0.1128 - val_loss: 0.6691\n",
      "Epoch 76/100\n",
      "125/125 [==============================] - ETA: 0s - loss: 0.1076\n",
      "Epoch 00076: val_loss did not improve from 0.56931\n",
      "125/125 [==============================] - 59s 475ms/step - loss: 0.1076 - val_loss: 0.6956\n",
      "Epoch 77/100\n",
      "125/125 [==============================] - ETA: 0s - loss: 0.0994\n",
      "Epoch 00077: val_loss did not improve from 0.56931\n",
      "125/125 [==============================] - 59s 476ms/step - loss: 0.0994 - val_loss: 0.6844\n",
      "Epoch 78/100\n",
      "125/125 [==============================] - ETA: 0s - loss: 0.0964\n",
      "Epoch 00078: val_loss did not improve from 0.56931\n",
      "125/125 [==============================] - 59s 475ms/step - loss: 0.0964 - val_loss: 0.7305\n",
      "Epoch 79/100\n",
      "125/125 [==============================] - ETA: 0s - loss: 0.0955\n",
      "Epoch 00079: val_loss did not improve from 0.56931\n",
      "125/125 [==============================] - 59s 476ms/step - loss: 0.0955 - val_loss: 0.7377\n",
      "Epoch 80/100\n",
      "125/125 [==============================] - ETA: 0s - loss: 0.1038\n",
      "Epoch 00080: val_loss did not improve from 0.56931\n",
      "125/125 [==============================] - 59s 475ms/step - loss: 0.1038 - val_loss: 0.7125\n",
      "Epoch 81/100\n",
      "125/125 [==============================] - ETA: 0s - loss: 0.0878\n",
      "Epoch 00081: val_loss did not improve from 0.56931\n",
      "125/125 [==============================] - 59s 475ms/step - loss: 0.0878 - val_loss: 0.7242\n",
      "Epoch 82/100\n",
      "125/125 [==============================] - ETA: 0s - loss: 0.0909\n",
      "Epoch 00082: val_loss did not improve from 0.56931\n",
      "125/125 [==============================] - 59s 475ms/step - loss: 0.0909 - val_loss: 0.7697\n",
      "Epoch 83/100\n",
      "125/125 [==============================] - ETA: 0s - loss: 0.0925\n",
      "Epoch 00083: val_loss did not improve from 0.56931\n",
      "125/125 [==============================] - 59s 475ms/step - loss: 0.0925 - val_loss: 0.7309\n",
      "Epoch 84/100\n",
      "125/125 [==============================] - ETA: 0s - loss: 0.0882\n",
      "Epoch 00084: val_loss did not improve from 0.56931\n",
      "125/125 [==============================] - 59s 476ms/step - loss: 0.0882 - val_loss: 0.7559\n",
      "Epoch 85/100\n",
      "125/125 [==============================] - ETA: 0s - loss: 0.0827\n",
      "Epoch 00085: val_loss did not improve from 0.56931\n",
      "125/125 [==============================] - 59s 476ms/step - loss: 0.0827 - val_loss: 0.7771\n",
      "Epoch 86/100\n",
      "125/125 [==============================] - ETA: 0s - loss: 0.0810\n",
      "Epoch 00086: val_loss did not improve from 0.56931\n",
      "125/125 [==============================] - 59s 476ms/step - loss: 0.0810 - val_loss: 0.7645\n",
      "Epoch 87/100\n",
      "125/125 [==============================] - ETA: 0s - loss: 0.0734\n",
      "Epoch 00087: val_loss did not improve from 0.56931\n",
      "125/125 [==============================] - 59s 476ms/step - loss: 0.0734 - val_loss: 0.7619\n",
      "Epoch 88/100\n",
      "125/125 [==============================] - ETA: 0s - loss: 0.0740\n",
      "Epoch 00088: val_loss did not improve from 0.56931\n",
      "125/125 [==============================] - 59s 475ms/step - loss: 0.0740 - val_loss: 0.7588\n",
      "Epoch 89/100\n",
      "125/125 [==============================] - ETA: 0s - loss: 0.0745\n",
      "Epoch 00089: val_loss did not improve from 0.56931\n",
      "125/125 [==============================] - 60s 476ms/step - loss: 0.0745 - val_loss: 0.7970\n",
      "Epoch 90/100\n",
      "125/125 [==============================] - ETA: 0s - loss: 0.0686\n",
      "Epoch 00090: val_loss did not improve from 0.56931\n",
      "125/125 [==============================] - 60s 477ms/step - loss: 0.0686 - val_loss: 0.7992\n",
      "Epoch 91/100\n",
      "125/125 [==============================] - ETA: 0s - loss: 0.0646\n",
      "Epoch 00091: val_loss did not improve from 0.56931\n",
      "125/125 [==============================] - 59s 475ms/step - loss: 0.0646 - val_loss: 0.8008\n",
      "Epoch 92/100\n",
      "125/125 [==============================] - ETA: 0s - loss: 0.0633\n",
      "Epoch 00092: val_loss did not improve from 0.56931\n",
      "125/125 [==============================] - 60s 477ms/step - loss: 0.0633 - val_loss: 0.7878\n",
      "Epoch 93/100\n",
      "125/125 [==============================] - ETA: 0s - loss: 0.0605\n",
      "Epoch 00093: val_loss did not improve from 0.56931\n",
      "125/125 [==============================] - 59s 476ms/step - loss: 0.0605 - val_loss: 0.7728\n",
      "Epoch 94/100\n",
      "125/125 [==============================] - ETA: 0s - loss: 0.0552\n",
      "Epoch 00094: val_loss did not improve from 0.56931\n",
      "125/125 [==============================] - 59s 475ms/step - loss: 0.0552 - val_loss: 0.8193\n",
      "Epoch 95/100\n",
      "125/125 [==============================] - ETA: 0s - loss: 0.0543\n",
      "Epoch 00095: val_loss did not improve from 0.56931\n",
      "125/125 [==============================] - 60s 476ms/step - loss: 0.0543 - val_loss: 0.8255\n",
      "Epoch 96/100\n",
      "125/125 [==============================] - ETA: 0s - loss: 0.0569\n",
      "Epoch 00096: val_loss did not improve from 0.56931\n",
      "125/125 [==============================] - 59s 475ms/step - loss: 0.0569 - val_loss: 0.8459\n",
      "Epoch 97/100\n",
      "125/125 [==============================] - ETA: 0s - loss: 0.0522\n",
      "Epoch 00097: val_loss did not improve from 0.56931\n",
      "125/125 [==============================] - 59s 476ms/step - loss: 0.0522 - val_loss: 0.8251\n",
      "Epoch 98/100\n",
      "125/125 [==============================] - ETA: 0s - loss: 0.0422\n",
      "Epoch 00098: val_loss did not improve from 0.56931\n",
      "125/125 [==============================] - 59s 475ms/step - loss: 0.0422 - val_loss: 0.8202\n",
      "Epoch 99/100\n",
      "125/125 [==============================] - ETA: 0s - loss: 0.0392\n",
      "Epoch 00099: val_loss did not improve from 0.56931\n",
      "125/125 [==============================] - 59s 476ms/step - loss: 0.0392 - val_loss: 0.8477\n",
      "Epoch 100/100\n",
      "125/125 [==============================] - ETA: 0s - loss: 0.0453\n",
      "Epoch 00100: val_loss did not improve from 0.56931\n",
      "125/125 [==============================] - 59s 475ms/step - loss: 0.0453 - val_loss: 0.8957\n"
     ]
    }
   ],
   "source": [
    "history = net.fit(x_train, y_train, validation_split=0.2, epochs=100, callbacks=[Check_Point, reduce_lr], batch_size=batch_size, shuffle=True)"
   ]
  },
  {
   "cell_type": "code",
   "execution_count": 43,
   "metadata": {},
   "outputs": [],
   "source": [
    "net.save_weights('weights/CRNN_v9_7_last.h5')"
   ]
  },
  {
   "cell_type": "code",
   "execution_count": 45,
   "metadata": {},
   "outputs": [],
   "source": [
    "net.load_weights('weights/CRNN_v9_7.h5')"
   ]
  },
  {
   "cell_type": "code",
   "execution_count": 44,
   "metadata": {},
   "outputs": [],
   "source": [
    "np.save('history/my_history_v9_7.npy', history.history)"
   ]
  },
  {
   "cell_type": "code",
   "execution_count": 23,
   "metadata": {},
   "outputs": [],
   "source": [
    "import numpy as np\n",
    "his = np.load('my_history_v5.npy', allow_pickle=True)"
   ]
  },
  {
   "cell_type": "code",
   "execution_count": 13,
   "metadata": {},
   "outputs": [
    {
     "data": {
      "text/plain": [
       "[<matplotlib.lines.Line2D at 0x7f2c66028730>]"
      ]
     },
     "execution_count": 13,
     "metadata": {},
     "output_type": "execute_result"
    },
    {
     "data": {
      "image/png": "[encoded data removed]",
      "text/plain": [
       "<Figure size 432x288 with 1 Axes>"
      ]
     },
     "metadata": {
      "needs_background": "light"
     },
     "output_type": "display_data"
    }
   ],
   "source": [
    "import matplotlib.pyplot as plt\n",
    "plt.plot(range(1, 101), history.history['loss'])\n",
    "plt.plot(range(1, 101), history.history['val_loss'])"
   ]
  },
  {
   "cell_type": "code",
   "execution_count": 14,
   "metadata": {},
   "outputs": [],
   "source": [
    "import imageio\n",
    "\n",
    "im = imageio.imread('../dataset/cv/train/mario.png')"
   ]
  },
  {
   "cell_type": "code",
   "execution_count": 16,
   "metadata": {},
   "outputs": [
    {
     "ename": "NameError",
     "evalue": "name 'im' is not defined",
     "output_type": "error",
     "traceback": [
      "\u001b[0;31m---------------------------------------------------------------------------\u001b[0m",
      "\u001b[0;31mNameError\u001b[0m                                 Traceback (most recent call last)",
      "\u001b[0;32m<ipython-input-16-d15eb699efec>\u001b[0m in \u001b[0;36m<module>\u001b[0;34m\u001b[0m\n\u001b[1;32m      2\u001b[0m \u001b[0;32mfrom\u001b[0m \u001b[0mskimage\u001b[0m \u001b[0;32mimport\u001b[0m \u001b[0mcolor\u001b[0m\u001b[0;34m\u001b[0m\u001b[0;34m\u001b[0m\u001b[0m\n\u001b[1;32m      3\u001b[0m \u001b[0;34m\u001b[0m\u001b[0m\n\u001b[0;32m----> 4\u001b[0;31m \u001b[0mim\u001b[0m \u001b[0;34m=\u001b[0m \u001b[0mcv2\u001b[0m\u001b[0;34m.\u001b[0m\u001b[0mresize\u001b[0m\u001b[0;34m(\u001b[0m\u001b[0mim\u001b[0m\u001b[0;34m,\u001b[0m \u001b[0;34m(\u001b[0m\u001b[0;36m128\u001b[0m\u001b[0;34m,\u001b[0m \u001b[0;36m128\u001b[0m\u001b[0;34m)\u001b[0m\u001b[0;34m)\u001b[0m\u001b[0;34m\u001b[0m\u001b[0;34m\u001b[0m\u001b[0m\n\u001b[0m\u001b[1;32m      5\u001b[0m \u001b[0mim\u001b[0m \u001b[0;34m=\u001b[0m \u001b[0mcolor\u001b[0m\u001b[0;34m.\u001b[0m\u001b[0mrgb2gray\u001b[0m\u001b[0;34m(\u001b[0m\u001b[0mim\u001b[0m\u001b[0;34m)\u001b[0m\u001b[0;34m\u001b[0m\u001b[0;34m\u001b[0m\u001b[0m\n",
      "\u001b[0;31mNameError\u001b[0m: name 'im' is not defined"
     ]
    }
   ],
   "source": [
    "import cv2\n",
    "from skimage import color\n",
    "\n",
    "im = cv2.resize(im, (128, 128))\n",
    "im = color.rgb2gray(im)"
   ]
  },
  {
   "cell_type": "code",
   "execution_count": 16,
   "metadata": {},
   "outputs": [],
   "source": [
    "im = np.expand_dims(im, axis=-1)"
   ]
  },
  {
   "cell_type": "code",
   "execution_count": 15,
   "metadata": {},
   "outputs": [],
   "source": [
    "def decode_ctc(args):\n",
    "    \"\"\"returns a list of decoded ctc losses\"\"\"\n",
    "\n",
    "    y_pred, input_length = args\n",
    "\n",
    "    ctc_decoded = tf.keras.backend.ctc_decode(\n",
    "        y_pred, input_length, greedy=True)\n",
    "\n",
    "    return ctc_decoded"
   ]
  },
  {
   "cell_type": "code",
   "execution_count": 17,
   "metadata": {},
   "outputs": [
    {
     "name": "stdout",
     "output_type": "stream",
     "text": [
      "WARNING:tensorflow:From /home/grauso/.local/lib/python3.8/site-packages/tensorflow/python/util/dispatch.py:201: sparse_to_dense (from tensorflow.python.ops.sparse_ops) is deprecated and will be removed in a future version.\n",
      "Instructions for updating:\n",
      "Create a `tf.sparse.SparseTensor` and use `tf.sparse.to_dense` instead.\n"
     ]
    }
   ],
   "source": [
    "pred_tensor, _ = decode_ctc([net.predict(np.expand_dims(imgs[0], axis=0)), np.array([t_dist_dim])])\n",
    "pred_labels = tf.keras.backend.get_value(pred_tensor[0])"
   ]
  },
  {
   "cell_type": "code",
   "execution_count": 18,
   "metadata": {},
   "outputs": [
    {
     "data": {
      "text/plain": [
       "array([[55, 13, 22, 21, 14, 26, 16,  4,  1, -1, -1, -1, -1, -1, -1, -1,\n",
       "        -1, -1, -1, -1, -1, -1, -1, -1, -1, -1, -1, -1, -1, -1, -1, -1,\n",
       "        -1, -1, -1, -1, -1, -1, -1, -1, -1, -1, -1, -1, -1, -1, -1, -1,\n",
       "        -1, -1, -1, -1, -1, -1, -1, -1, -1, -1, -1, -1, -1, -1, -1, -1,\n",
       "        -1, -1, -1, -1, -1, -1, -1, -1, -1, -1, -1, -1, -1, -1, -1, -1,\n",
       "        -1, -1, -1, -1, -1, -1, -1, -1, -1, -1, -1, -1, -1, -1, -1, -1,\n",
       "        -1, -1, -1, -1, -1, -1, -1, -1, -1, -1, -1, -1, -1, -1, -1, -1,\n",
       "        -1, -1, -1, -1, -1, -1, -1, -1, -1, -1, -1, -1, -1, -1, -1, -1]])"
      ]
     },
     "execution_count": 18,
     "metadata": {},
     "output_type": "execute_result"
    }
   ],
   "source": [
    "pred_labels"
   ]
  },
  {
   "cell_type": "code",
   "execution_count": 19,
   "metadata": {},
   "outputs": [
    {
     "data": {
      "text/plain": [
       "<tf.Tensor: shape=(1, 128), dtype=string, numpy=\n",
       "array([[b't', b'D', b'M', b'L', b'E', b'Q', b'G', b'4', b'1', b'[UNK]',\n",
       "        b'[UNK]', b'[UNK]', b'[UNK]', b'[UNK]', b'[UNK]', b'[UNK]',\n",
       "        b'[UNK]', b'[UNK]', b'[UNK]', b'[UNK]', b'[UNK]', b'[UNK]',\n",
       "        b'[UNK]', b'[UNK]', b'[UNK]', b'[UNK]', b'[UNK]', b'[UNK]',\n",
       "        b'[UNK]', b'[UNK]', b'[UNK]', b'[UNK]', b'[UNK]', b'[UNK]',\n",
       "        b'[UNK]', b'[UNK]', b'[UNK]', b'[UNK]', b'[UNK]', b'[UNK]',\n",
       "        b'[UNK]', b'[UNK]', b'[UNK]', b'[UNK]', b'[UNK]', b'[UNK]',\n",
       "        b'[UNK]', b'[UNK]', b'[UNK]', b'[UNK]', b'[UNK]', b'[UNK]',\n",
       "        b'[UNK]', b'[UNK]', b'[UNK]', b'[UNK]', b'[UNK]', b'[UNK]',\n",
       "        b'[UNK]', b'[UNK]', b'[UNK]', b'[UNK]', b'[UNK]', b'[UNK]',\n",
       "        b'[UNK]', b'[UNK]', b'[UNK]', b'[UNK]', b'[UNK]', b'[UNK]',\n",
       "        b'[UNK]', b'[UNK]', b'[UNK]', b'[UNK]', b'[UNK]', b'[UNK]',\n",
       "        b'[UNK]', b'[UNK]', b'[UNK]', b'[UNK]', b'[UNK]', b'[UNK]',\n",
       "        b'[UNK]', b'[UNK]', b'[UNK]', b'[UNK]', b'[UNK]', b'[UNK]',\n",
       "        b'[UNK]', b'[UNK]', b'[UNK]', b'[UNK]', b'[UNK]', b'[UNK]',\n",
       "        b'[UNK]', b'[UNK]', b'[UNK]', b'[UNK]', b'[UNK]', b'[UNK]',\n",
       "        b'[UNK]', b'[UNK]', b'[UNK]', b'[UNK]', b'[UNK]', b'[UNK]',\n",
       "        b'[UNK]', b'[UNK]', b'[UNK]', b'[UNK]', b'[UNK]', b'[UNK]',\n",
       "        b'[UNK]', b'[UNK]', b'[UNK]', b'[UNK]', b'[UNK]', b'[UNK]',\n",
       "        b'[UNK]', b'[UNK]', b'[UNK]', b'[UNK]', b'[UNK]', b'[UNK]',\n",
       "        b'[UNK]', b'[UNK]', b'[UNK]', b'[UNK]']], dtype=object)>"
      ]
     },
     "execution_count": 19,
     "metadata": {},
     "output_type": "execute_result"
    }
   ],
   "source": [
    "num_to_char(pred_labels)"
   ]
  },
  {
   "cell_type": "code",
   "execution_count": 67,
   "metadata": {},
   "outputs": [
    {
     "data": {
      "image/png": "[encoded data removed]",
      "text/plain": [
       "<Figure size 432x288 with 1 Axes>"
      ]
     },
     "metadata": {
      "needs_background": "light"
     },
     "output_type": "display_data"
    }
   ],
   "source": [
    "import matplotlib.pyplot as plt\n",
    "plt.imshow(im, cmap='gray')\n",
    "plt.show()"
   ]
  },
  {
   "cell_type": "code",
   "execution_count": 63,
   "metadata": {},
   "outputs": [
    {
     "data": {
      "image/png": "[encoded data removed]",
      "text/plain": [
       "<PIL.Image.Image image mode=RGB size=128x32 at 0x7F2C52AE7640>"
      ]
     },
     "metadata": {},
     "output_type": "display_data"
    }
   ],
   "source": [
    "from trdg.generators import GeneratorFromRandom  \n",
    "base_generator = GeneratorFromRandom(use_symbols=False, use_letters=True, length=1, width=128, size=32)\n",
    "img, lbl = next(base_generator)\n",
    "display(img)"
   ]
  },
  {
   "cell_type": "code",
   "execution_count": 64,
   "metadata": {},
   "outputs": [],
   "source": [
    "im = cv2.resize(np.array(img), (128, 128))\n",
    "im = color.rgb2gray(im)\n",
    "im = np.expand_dims(im, axis=-1)\n",
    "im = np.transpose(im, (1, 0, 2))"
   ]
  },
  {
   "cell_type": "code",
   "execution_count": 48,
   "metadata": {},
   "outputs": [
    {
     "data": {
      "text/plain": [
       "(128, 128, 1)"
      ]
     },
     "execution_count": 48,
     "metadata": {},
     "output_type": "execute_result"
    }
   ],
   "source": [
    "im.shape"
   ]
  },
  {
   "cell_type": "code",
   "execution_count": 60,
   "metadata": {},
   "outputs": [],
   "source": [
    "pred_tensor, _ = decode_ctc([net.predict(np.expand_dims(im, axis=0)), np.array([t_dist_dim])])\n",
    "pred_labels = tf.keras.backend.get_value(pred_tensor[0])"
   ]
  },
  {
   "cell_type": "code",
   "execution_count": 61,
   "metadata": {},
   "outputs": [
    {
     "data": {
      "text/plain": [
       "array([[47, 25, 27, 26, 11, 43, -1, -1, -1, -1, -1, -1, -1, -1, -1, -1,\n",
       "        -1, -1, -1, -1, -1, -1, -1, -1, -1, -1, -1, -1, -1, -1, -1, -1,\n",
       "        -1, -1, -1, -1, -1, -1, -1, -1, -1, -1, -1, -1, -1, -1, -1, -1,\n",
       "        -1, -1, -1, -1, -1, -1, -1, -1, -1, -1, -1, -1, -1, -1, -1, -1,\n",
       "        -1, -1, -1, -1, -1, -1, -1, -1, -1, -1, -1, -1, -1, -1, -1, -1,\n",
       "        -1, -1, -1, -1, -1, -1, -1, -1, -1, -1, -1, -1, -1, -1, -1, -1,\n",
       "        -1, -1, -1, -1, -1, -1, -1, -1, -1, -1, -1, -1, -1, -1, -1, -1,\n",
       "        -1, -1, -1, -1, -1, -1, -1, -1, -1, -1, -1, -1, -1, -1, -1, -1]])"
      ]
     },
     "execution_count": 61,
     "metadata": {},
     "output_type": "execute_result"
    }
   ],
   "source": [
    "pred_labels"
   ]
  },
  {
   "cell_type": "code",
   "execution_count": 62,
   "metadata": {},
   "outputs": [
    {
     "data": {
      "text/plain": [
       "<tf.Tensor: shape=(1, 128), dtype=string, numpy=\n",
       "array([[b'l', b'P', b'R', b'Q', b'B', b'h', b'[UNK]', b'[UNK]', b'[UNK]',\n",
       "        b'[UNK]', b'[UNK]', b'[UNK]', b'[UNK]', b'[UNK]', b'[UNK]',\n",
       "        b'[UNK]', b'[UNK]', b'[UNK]', b'[UNK]', b'[UNK]', b'[UNK]',\n",
       "        b'[UNK]', b'[UNK]', b'[UNK]', b'[UNK]', b'[UNK]', b'[UNK]',\n",
       "        b'[UNK]', b'[UNK]', b'[UNK]', b'[UNK]', b'[UNK]', b'[UNK]',\n",
       "        b'[UNK]', b'[UNK]', b'[UNK]', b'[UNK]', b'[UNK]', b'[UNK]',\n",
       "        b'[UNK]', b'[UNK]', b'[UNK]', b'[UNK]', b'[UNK]', b'[UNK]',\n",
       "        b'[UNK]', b'[UNK]', b'[UNK]', b'[UNK]', b'[UNK]', b'[UNK]',\n",
       "        b'[UNK]', b'[UNK]', b'[UNK]', b'[UNK]', b'[UNK]', b'[UNK]',\n",
       "        b'[UNK]', b'[UNK]', b'[UNK]', b'[UNK]', b'[UNK]', b'[UNK]',\n",
       "        b'[UNK]', b'[UNK]', b'[UNK]', b'[UNK]', b'[UNK]', b'[UNK]',\n",
       "        b'[UNK]', b'[UNK]', b'[UNK]', b'[UNK]', b'[UNK]', b'[UNK]',\n",
       "        b'[UNK]', b'[UNK]', b'[UNK]', b'[UNK]', b'[UNK]', b'[UNK]',\n",
       "        b'[UNK]', b'[UNK]', b'[UNK]', b'[UNK]', b'[UNK]', b'[UNK]',\n",
       "        b'[UNK]', b'[UNK]', b'[UNK]', b'[UNK]', b'[UNK]', b'[UNK]',\n",
       "        b'[UNK]', b'[UNK]', b'[UNK]', b'[UNK]', b'[UNK]', b'[UNK]',\n",
       "        b'[UNK]', b'[UNK]', b'[UNK]', b'[UNK]', b'[UNK]', b'[UNK]',\n",
       "        b'[UNK]', b'[UNK]', b'[UNK]', b'[UNK]', b'[UNK]', b'[UNK]',\n",
       "        b'[UNK]', b'[UNK]', b'[UNK]', b'[UNK]', b'[UNK]', b'[UNK]',\n",
       "        b'[UNK]', b'[UNK]', b'[UNK]', b'[UNK]', b'[UNK]', b'[UNK]',\n",
       "        b'[UNK]', b'[UNK]', b'[UNK]', b'[UNK]', b'[UNK]']], dtype=object)>"
      ]
     },
     "execution_count": 62,
     "metadata": {},
     "output_type": "execute_result"
    }
   ],
   "source": [
    "num_to_char(pred_labels)"
   ]
  },
  {
   "cell_type": "code",
   "execution_count": 20,
   "metadata": {},
   "outputs": [
    {
     "data": {
      "text/plain": [
       "'tDMLEQG41'"
      ]
     },
     "execution_count": 20,
     "metadata": {},
     "output_type": "execute_result"
    }
   ],
   "source": [
    "labels[0]"
   ]
  },
  {
   "cell_type": "code",
   "execution_count": 66,
   "metadata": {},
   "outputs": [
    {
     "name": "stderr",
     "output_type": "stream",
     "text": [
      "<ipython-input-66-dd01b744b0dc>:4: FutureWarning: Non RGB image conversion is now deprecated. For RGBA images, please use rgb2gray(rgba2rgb(rgb)) instead. In version 0.19, a ValueError will be raised if input image last dimension length is not 3.\n",
      "  im = color.rgb2gray(im)\n"
     ]
    }
   ],
   "source": [
    "import imageio\n",
    "mario = imageio.imread('../dataset/cv/train/mario.png')\n",
    "im = cv2.resize(np.array(mario), (128, 128))\n",
    "im = color.rgb2gray(im)\n",
    "im = np.expand_dims(im, axis=-1)\n",
    "im = np.transpose(im, (1, 0, 2))"
   ]
  },
  {
   "cell_type": "code",
   "execution_count": null,
   "metadata": {},
   "outputs": [],
   "source": []
  }
 ],
 "metadata": {
  "kernelspec": {
   "display_name": "Python 3",
   "language": "python",
   "name": "python3"
  },
  "language_info": {
   "codemirror_mode": {
    "name": "ipython",
    "version": 3
   },
   "file_extension": ".py",
   "mimetype": "text/x-python",
   "name": "python",
   "nbconvert_exporter": "python",
   "pygments_lexer": "ipython3",
   "version": "3.8.10"
  }
 },
 "nbformat": 4,
 "nbformat_minor": 4
}
