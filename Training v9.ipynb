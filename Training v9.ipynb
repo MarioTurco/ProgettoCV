{
 "cells": [
  {
   "cell_type": "code",
   "execution_count": 1,
   "metadata": {},
   "outputs": [
    {
     "name": "stdout",
     "output_type": "stream",
     "text": [
      "setGPU: Setting GPU to: 1\n"
     ]
    }
   ],
   "source": [
    "import numpy as np\n",
    "from model import *\n",
    "import tensorflow as tf\n",
    "import setGPU\n",
    "#strategy = tf.distribute.MirroredStrategy([\"GPU:0\", \"GPU:1\"])\n",
    "\n",
    "imgs = np.expand_dims(np.load('../dataset/cv/train/x/generated_text.npz')['arr_0'], axis=-1)\n",
    "labels = np.load('../dataset/cv/train/y/generated_labels.npy')"
   ]
  },
  {
   "cell_type": "code",
   "execution_count": 2,
   "metadata": {},
   "outputs": [],
   "source": [
    "#imgs = imgs/255"
   ]
  },
  {
   "cell_type": "code",
   "execution_count": 2,
   "metadata": {},
   "outputs": [],
   "source": [
    "characters = set(char for label in labels for char in label)"
   ]
  },
  {
   "cell_type": "code",
   "execution_count": 3,
   "metadata": {},
   "outputs": [],
   "source": [
    "# Mapping characters to integers\n",
    "char_to_num = layers.experimental.preprocessing.StringLookup(\n",
    "                  vocabulary=sorted(list(characters)), num_oov_indices=0, mask_token=None )\n",
    "\n",
    "# Mapping integers back to original characters\n",
    "num_to_char = layers.experimental.preprocessing.StringLookup(\n",
    "                  vocabulary=char_to_num.get_vocabulary(), mask_token=None, invert=True )"
   ]
  },
  {
   "cell_type": "code",
   "execution_count": 4,
   "metadata": {},
   "outputs": [],
   "source": [
    "imgs = np.transpose(imgs, (0, 2, 1, 3))\n",
    "'''\n",
    "max_len = max([len(label) for label in labels])\n",
    "encoded_labels = []\n",
    "for label in labels:\n",
    "    if label:\n",
    "        tmp = np.array([char_to_num(char) for char in label])\n",
    "        encoded_labels.append(np.pad(tmp, (0, max_len-tmp.shape[0]), constant_values=0))\n",
    "    else:\n",
    "        tmp = np.array([char_to_num('#')])\n",
    "        encoded_labels.append(np.pad(tmp, (0, max_len-tmp.shape[0]), constant_values=0))\n",
    "'''\n",
    "\n",
    "encoded_labels = np.load('../dataset/cv/train/y/encoded_generated_labels.npy')"
   ]
  },
  {
   "cell_type": "code",
   "execution_count": 5,
   "metadata": {},
   "outputs": [],
   "source": [
    "#Si inserisce alla fine di ogni array label la lunghezza reale della parola\n",
    "t_dist_dim = int(128)          # Questo valore indica quanti step temporali ci sono: nelle ultime feature map ci sono 128/4\n",
    "                                 # step temporali perché 128 è la larghezza massima tra le immagini in ingresso e 4 è il fattore\n",
    "                                 # di riduzione dovuto ai MaxPooling (ci sono 2 livelli di MaxPooling che dimezzano le dimensioni)\n",
    "enc2 = []\n",
    "for i in range(encoded_labels.shape[0]):\n",
    "    if len(labels[i]) == 0:\n",
    "        enc2.append(np.append(encoded_labels[i], [1, t_dist_dim]))\n",
    "    else:\n",
    "        enc2.append(np.append(encoded_labels[i], [len(labels[i]), t_dist_dim]))\n",
    "enc2 = np.array(enc2)"
   ]
  },
  {
   "cell_type": "code",
   "execution_count": 6,
   "metadata": {},
   "outputs": [],
   "source": [
    "#with strategy.scope():\n",
    "net = build_and_compile_model_v9(input_shape=(128, 128, 1), len_characters=len(characters), opt=\"Adam\")"
   ]
  },
  {
   "cell_type": "code",
   "execution_count": 7,
   "metadata": {},
   "outputs": [
    {
     "name": "stdout",
     "output_type": "stream",
     "text": [
      "Model: \"functional_1\"\n",
      "__________________________________________________________________________________________________\n",
      "Layer (type)                    Output Shape         Param #     Connected to                     \n",
      "==================================================================================================\n",
      "input_1 (InputLayer)            [(None, 128, 128, 1) 0                                            \n",
      "__________________________________________________________________________________________________\n",
      "conv2d (Conv2D)                 (None, 128, 128, 16) 160         input_1[0][0]                    \n",
      "__________________________________________________________________________________________________\n",
      "activation (Activation)         (None, 128, 128, 16) 0           conv2d[0][0]                     \n",
      "__________________________________________________________________________________________________\n",
      "batch_normalization (BatchNorma (None, 128, 128, 16) 64          activation[0][0]                 \n",
      "__________________________________________________________________________________________________\n",
      "conv2d_1 (Conv2D)               (None, 128, 128, 16) 2320        batch_normalization[0][0]        \n",
      "__________________________________________________________________________________________________\n",
      "activation_1 (Activation)       (None, 128, 128, 16) 0           conv2d_1[0][0]                   \n",
      "__________________________________________________________________________________________________\n",
      "batch_normalization_1 (BatchNor (None, 128, 128, 16) 64          activation_1[0][0]               \n",
      "__________________________________________________________________________________________________\n",
      "max_pooling2d (MaxPooling2D)    (None, 128, 64, 16)  0           batch_normalization_1[0][0]      \n",
      "__________________________________________________________________________________________________\n",
      "conv2d_2 (Conv2D)               (None, 128, 64, 32)  4640        max_pooling2d[0][0]              \n",
      "__________________________________________________________________________________________________\n",
      "activation_2 (Activation)       (None, 128, 64, 32)  0           conv2d_2[0][0]                   \n",
      "__________________________________________________________________________________________________\n",
      "batch_normalization_2 (BatchNor (None, 128, 64, 32)  128         activation_2[0][0]               \n",
      "__________________________________________________________________________________________________\n",
      "concatenate (Concatenate)       (None, 128, 64, 48)  0           batch_normalization_2[0][0]      \n",
      "                                                                 max_pooling2d[0][0]              \n",
      "__________________________________________________________________________________________________\n",
      "conv2d_3 (Conv2D)               (None, 128, 64, 32)  13856       concatenate[0][0]                \n",
      "__________________________________________________________________________________________________\n",
      "activation_3 (Activation)       (None, 128, 64, 32)  0           conv2d_3[0][0]                   \n",
      "__________________________________________________________________________________________________\n",
      "batch_normalization_3 (BatchNor (None, 128, 64, 32)  128         activation_3[0][0]               \n",
      "__________________________________________________________________________________________________\n",
      "max_pooling2d_1 (MaxPooling2D)  (None, 128, 32, 32)  0           batch_normalization_3[0][0]      \n",
      "__________________________________________________________________________________________________\n",
      "conv2d_4 (Conv2D)               (None, 128, 32, 64)  18496       max_pooling2d_1[0][0]            \n",
      "__________________________________________________________________________________________________\n",
      "activation_4 (Activation)       (None, 128, 32, 64)  0           conv2d_4[0][0]                   \n",
      "__________________________________________________________________________________________________\n",
      "batch_normalization_4 (BatchNor (None, 128, 32, 64)  256         activation_4[0][0]               \n",
      "__________________________________________________________________________________________________\n",
      "concatenate_1 (Concatenate)     (None, 128, 32, 96)  0           batch_normalization_4[0][0]      \n",
      "                                                                 max_pooling2d_1[0][0]            \n",
      "__________________________________________________________________________________________________\n",
      "conv2d_5 (Conv2D)               (None, 128, 32, 64)  55360       concatenate_1[0][0]              \n",
      "__________________________________________________________________________________________________\n",
      "activation_5 (Activation)       (None, 128, 32, 64)  0           conv2d_5[0][0]                   \n",
      "__________________________________________________________________________________________________\n",
      "batch_normalization_5 (BatchNor (None, 128, 32, 64)  256         activation_5[0][0]               \n",
      "__________________________________________________________________________________________________\n",
      "max_pooling2d_2 (MaxPooling2D)  (None, 128, 16, 64)  0           batch_normalization_5[0][0]      \n",
      "__________________________________________________________________________________________________\n",
      "conv2d_6 (Conv2D)               (None, 128, 16, 128) 73856       max_pooling2d_2[0][0]            \n",
      "__________________________________________________________________________________________________\n",
      "activation_6 (Activation)       (None, 128, 16, 128) 0           conv2d_6[0][0]                   \n",
      "__________________________________________________________________________________________________\n",
      "batch_normalization_6 (BatchNor (None, 128, 16, 128) 512         activation_6[0][0]               \n",
      "__________________________________________________________________________________________________\n",
      "concatenate_2 (Concatenate)     (None, 128, 16, 192) 0           batch_normalization_6[0][0]      \n",
      "                                                                 max_pooling2d_2[0][0]            \n",
      "__________________________________________________________________________________________________\n",
      "conv2d_7 (Conv2D)               (None, 128, 16, 128) 221312      concatenate_2[0][0]              \n",
      "__________________________________________________________________________________________________\n",
      "activation_7 (Activation)       (None, 128, 16, 128) 0           conv2d_7[0][0]                   \n",
      "__________________________________________________________________________________________________\n",
      "batch_normalization_7 (BatchNor (None, 128, 16, 128) 512         activation_7[0][0]               \n",
      "__________________________________________________________________________________________________\n",
      "max_pooling2d_3 (MaxPooling2D)  (None, 128, 8, 128)  0           batch_normalization_7[0][0]      \n",
      "__________________________________________________________________________________________________\n",
      "time_distributed (TimeDistribut (None, 128, 1024)    0           max_pooling2d_3[0][0]            \n",
      "__________________________________________________________________________________________________\n",
      "dense (Dense)                   (None, 128, 64)      65600       time_distributed[0][0]           \n",
      "__________________________________________________________________________________________________\n",
      "bidirectional (Bidirectional)   (None, 128, 128)     66048       dense[0][0]                      \n",
      "__________________________________________________________________________________________________\n",
      "bidirectional_1 (Bidirectional) (None, 128, 128)     98816       bidirectional[0][0]              \n",
      "__________________________________________________________________________________________________\n",
      "dense_1 (Dense)                 (None, 128, 63)      8127        bidirectional_1[0][0]            \n",
      "==================================================================================================\n",
      "Total params: 630,511\n",
      "Trainable params: 629,551\n",
      "Non-trainable params: 960\n",
      "__________________________________________________________________________________________________\n"
     ]
    }
   ],
   "source": [
    "net.summary()"
   ]
  },
  {
   "cell_type": "code",
   "execution_count": 8,
   "metadata": {},
   "outputs": [],
   "source": [
    "from tensorflow.keras.callbacks import ModelCheckpoint, EarlyStopping, ReduceLROnPlateau\n",
    "\n",
    "Early_Stopping_Patience = 10 \n",
    "Min_Delta = 0.0001\n",
    "# Model Check Point\n",
    "Check_Point = ModelCheckpoint( 'weights/CRNN_v9.h5',   # Filepath\n",
    "                               monitor='val_loss',\n",
    "                               save_best_only=True,\n",
    "                               verbose=1,\n",
    "                               mode='auto',\n",
    "                               save_weights_only=False,\n",
    "                               save_freq='epoch' )\n",
    "# Add early stopping\n",
    "Early_Stopping = EarlyStopping( monitor='val_loss',\n",
    "                                min_delta=Min_Delta,\n",
    "                                patience=Early_Stopping_Patience,\n",
    "                                verbose=1,\n",
    "                                mode='auto',\n",
    "                                baseline=None,\n",
    "                                restore_best_weights=True )\n",
    "reduce_lr = ReduceLROnPlateau(monitor='val_loss', factor=0.2,\n",
    "                              patience=10, min_lr=0.0002)"
   ]
  },
  {
   "cell_type": "code",
   "execution_count": 9,
   "metadata": {},
   "outputs": [],
   "source": [
    "batch_size = 64\n",
    "x_train = imgs\n",
    "y_train = enc2"
   ]
  },
  {
   "cell_type": "code",
   "execution_count": null,
   "metadata": {},
   "outputs": [
    {
     "name": "stdout",
     "output_type": "stream",
     "text": [
      "Epoch 1/50\n",
      "125/125 [==============================] - ETA: 0s - loss: 37.9505\n",
      "Epoch 00001: val_loss improved from inf to 27.56900, saving model to weights/CRNN_v9.h5\n",
      "125/125 [==============================] - 21s 169ms/step - loss: 37.9505 - val_loss: 27.5690\n",
      "Epoch 2/50\n",
      "125/125 [==============================] - ETA: 0s - loss: 26.5651\n",
      "Epoch 00002: val_loss improved from 27.56900 to 27.48182, saving model to weights/CRNN_v9.h5\n",
      "125/125 [==============================] - 20s 160ms/step - loss: 26.5651 - val_loss: 27.4818\n",
      "Epoch 3/50\n",
      "125/125 [==============================] - ETA: 0s - loss: 26.4914\n",
      "Epoch 00003: val_loss improved from 27.48182 to 27.47970, saving model to weights/CRNN_v9.h5\n",
      "125/125 [==============================] - 20s 161ms/step - loss: 26.4914 - val_loss: 27.4797\n",
      "Epoch 4/50\n",
      "125/125 [==============================] - ETA: 0s - loss: 26.3646\n",
      "Epoch 00004: val_loss improved from 27.47970 to 26.40246, saving model to weights/CRNN_v9.h5\n",
      "125/125 [==============================] - 21s 167ms/step - loss: 26.3646 - val_loss: 26.4025\n",
      "Epoch 5/50\n",
      "125/125 [==============================] - ETA: 0s - loss: 26.2667\n",
      "Epoch 00005: val_loss improved from 26.40246 to 26.27509, saving model to weights/CRNN_v9.h5\n",
      "125/125 [==============================] - 21s 167ms/step - loss: 26.2667 - val_loss: 26.2751\n",
      "Epoch 6/50\n",
      "125/125 [==============================] - ETA: 0s - loss: 26.1281\n",
      "Epoch 00006: val_loss improved from 26.27509 to 26.07681, saving model to weights/CRNN_v9.h5\n",
      "125/125 [==============================] - 21s 167ms/step - loss: 26.1281 - val_loss: 26.0768\n",
      "Epoch 7/50\n",
      "125/125 [==============================] - ETA: 0s - loss: 25.9682\n",
      "Epoch 00007: val_loss improved from 26.07681 to 25.88635, saving model to weights/CRNN_v9.h5\n",
      "125/125 [==============================] - 21s 168ms/step - loss: 25.9682 - val_loss: 25.8864\n",
      "Epoch 8/50\n",
      "125/125 [==============================] - ETA: 0s - loss: 25.7850\n",
      "Epoch 00008: val_loss improved from 25.88635 to 25.87696, saving model to weights/CRNN_v9.h5\n",
      "125/125 [==============================] - 21s 165ms/step - loss: 25.7850 - val_loss: 25.8770\n",
      "Epoch 9/50\n",
      "125/125 [==============================] - ETA: 0s - loss: 25.5180\n",
      "Epoch 00009: val_loss improved from 25.87696 to 25.43810, saving model to weights/CRNN_v9.h5\n",
      "125/125 [==============================] - 21s 167ms/step - loss: 25.5180 - val_loss: 25.4381\n",
      "Epoch 10/50\n",
      "125/125 [==============================] - ETA: 0s - loss: 25.2319\n",
      "Epoch 00010: val_loss did not improve from 25.43810\n",
      "125/125 [==============================] - 21s 166ms/step - loss: 25.2319 - val_loss: 28.6056\n",
      "Epoch 11/50\n",
      "125/125 [==============================] - ETA: 0s - loss: 24.9576\n",
      "Epoch 00011: val_loss improved from 25.43810 to 25.07781, saving model to weights/CRNN_v9.h5\n",
      "125/125 [==============================] - 21s 166ms/step - loss: 24.9576 - val_loss: 25.0778\n",
      "Epoch 12/50\n",
      "125/125 [==============================] - ETA: 0s - loss: 24.5799\n",
      "Epoch 00012: val_loss improved from 25.07781 to 24.51961, saving model to weights/CRNN_v9.h5\n",
      "125/125 [==============================] - 21s 165ms/step - loss: 24.5799 - val_loss: 24.5196\n",
      "Epoch 13/50\n",
      "125/125 [==============================] - ETA: 0s - loss: 24.1861\n",
      "Epoch 00013: val_loss did not improve from 24.51961\n",
      "125/125 [==============================] - 21s 165ms/step - loss: 24.1861 - val_loss: 25.7036\n",
      "Epoch 14/50\n",
      "125/125 [==============================] - ETA: 0s - loss: 23.7941\n",
      "Epoch 00014: val_loss improved from 24.51961 to 23.64200, saving model to weights/CRNN_v9.h5\n",
      "125/125 [==============================] - 21s 167ms/step - loss: 23.7941 - val_loss: 23.6420\n",
      "Epoch 15/50\n",
      "125/125 [==============================] - ETA: 0s - loss: 23.3213\n",
      "Epoch 00015: val_loss improved from 23.64200 to 23.52790, saving model to weights/CRNN_v9.h5\n",
      "125/125 [==============================] - 21s 167ms/step - loss: 23.3213 - val_loss: 23.5279\n",
      "Epoch 16/50\n",
      "125/125 [==============================] - ETA: 0s - loss: 22.7685\n",
      "Epoch 00016: val_loss improved from 23.52790 to 23.10037, saving model to weights/CRNN_v9.h5\n",
      "125/125 [==============================] - 21s 167ms/step - loss: 22.7685 - val_loss: 23.1004\n",
      "Epoch 17/50\n",
      "125/125 [==============================] - ETA: 0s - loss: 21.9974\n",
      "Epoch 00017: val_loss improved from 23.10037 to 22.05560, saving model to weights/CRNN_v9.h5\n",
      "125/125 [==============================] - 21s 166ms/step - loss: 21.9974 - val_loss: 22.0556\n",
      "Epoch 18/50\n",
      "125/125 [==============================] - ETA: 0s - loss: 21.2063\n",
      "Epoch 00018: val_loss improved from 22.05560 to 21.34455, saving model to weights/CRNN_v9.h5\n",
      "125/125 [==============================] - 21s 168ms/step - loss: 21.2063 - val_loss: 21.3446\n",
      "Epoch 19/50\n",
      "125/125 [==============================] - ETA: 0s - loss: 20.1237\n",
      "Epoch 00019: val_loss improved from 21.34455 to 19.24710, saving model to weights/CRNN_v9.h5\n",
      "125/125 [==============================] - 21s 167ms/step - loss: 20.1237 - val_loss: 19.2471\n",
      "Epoch 20/50\n",
      "125/125 [==============================] - ETA: 0s - loss: 12.8086\n",
      "Epoch 00020: val_loss improved from 19.24710 to 7.89200, saving model to weights/CRNN_v9.h5\n",
      "125/125 [==============================] - 21s 167ms/step - loss: 12.8086 - val_loss: 7.8920\n",
      "Epoch 21/50\n",
      "125/125 [==============================] - ETA: 0s - loss: 4.5626\n",
      "Epoch 00021: val_loss improved from 7.89200 to 3.94444, saving model to weights/CRNN_v9.h5\n",
      "125/125 [==============================] - 21s 166ms/step - loss: 4.5626 - val_loss: 3.9444\n",
      "Epoch 22/50\n",
      "125/125 [==============================] - ETA: 0s - loss: 2.5420\n",
      "Epoch 00022: val_loss did not improve from 3.94444\n",
      "125/125 [==============================] - 21s 167ms/step - loss: 2.5420 - val_loss: 12.6736\n",
      "Epoch 23/50\n",
      "125/125 [==============================] - ETA: 0s - loss: 1.7926\n",
      "Epoch 00023: val_loss did not improve from 3.94444\n",
      "125/125 [==============================] - 21s 166ms/step - loss: 1.7926 - val_loss: 5.0417\n",
      "Epoch 24/50\n",
      "125/125 [==============================] - ETA: 0s - loss: 1.4178\n",
      "Epoch 00024: val_loss improved from 3.94444 to 1.80609, saving model to weights/CRNN_v9.h5\n",
      "125/125 [==============================] - 21s 167ms/step - loss: 1.4178 - val_loss: 1.8061\n",
      "Epoch 25/50\n",
      "125/125 [==============================] - ETA: 0s - loss: 1.1177\n",
      "Epoch 00025: val_loss did not improve from 1.80609\n",
      "125/125 [==============================] - 21s 166ms/step - loss: 1.1177 - val_loss: 4.6538\n",
      "Epoch 26/50\n",
      "125/125 [==============================] - ETA: 0s - loss: 0.9390"
     ]
    }
   ],
   "source": [
    "history = net.fit(x_train, y_train, validation_split=0.2, epochs=50, callbacks=[Check_Point, reduce_lr], batch_size=batch_size, shuffle=True)"
   ]
  },
  {
   "cell_type": "code",
   "execution_count": null,
   "metadata": {},
   "outputs": [],
   "source": [
    "np.save('history/my_history_v5.npy',history.history)"
   ]
  },
  {
   "cell_type": "code",
   "execution_count": 23,
   "metadata": {},
   "outputs": [],
   "source": [
    "import numpy as np\n",
    "his = np.load('my_history_v5.npy', allow_pickle=True)"
   ]
  },
  {
   "cell_type": "code",
   "execution_count": 13,
   "metadata": {},
   "outputs": [
    {
     "data": {
      "text/plain": [
       "[<matplotlib.lines.Line2D at 0x7f959cd6ce50>]"
      ]
     },
     "execution_count": 13,
     "metadata": {},
     "output_type": "execute_result"
    },
    {
     "data": {
      "image/png": "[encoded data removed]",
      "text/plain": [
       "<Figure size 432x288 with 1 Axes>"
      ]
     },
     "metadata": {
      "needs_background": "light"
     },
     "output_type": "display_data"
    }
   ],
   "source": [
    "import matplotlib.pyplot as plt\n",
    "plt.plot(range(1, 101), history.history['loss'])\n",
    "plt.plot(range(1, 101), history.history['val_loss'])"
   ]
  },
  {
   "cell_type": "code",
   "execution_count": 30,
   "metadata": {},
   "outputs": [],
   "source": [
    "import imageio\n",
    "\n",
    "im = imageio.imread('../dataset/cv/train/mario.png')"
   ]
  },
  {
   "cell_type": "code",
   "execution_count": 31,
   "metadata": {},
   "outputs": [
    {
     "name": "stderr",
     "output_type": "stream",
     "text": [
      "<ipython-input-31-d15eb699efec>:5: FutureWarning: Non RGB image conversion is now deprecated. For RGBA images, please use rgb2gray(rgba2rgb(rgb)) instead. In version 0.19, a ValueError will be raised if input image last dimension length is not 3.\n",
      "  im = color.rgb2gray(im)\n"
     ]
    }
   ],
   "source": [
    "import cv2\n",
    "from skimage import color\n",
    "\n",
    "im = cv2.resize(im, (128, 128))\n",
    "im = color.rgb2gray(im)"
   ]
  },
  {
   "cell_type": "code",
   "execution_count": 32,
   "metadata": {},
   "outputs": [],
   "source": [
    "im = np.expand_dims(im, axis=-1)"
   ]
  },
  {
   "cell_type": "code",
   "execution_count": 23,
   "metadata": {},
   "outputs": [],
   "source": [
    "def decode_ctc(args):\n",
    "    \"\"\"returns a list of decoded ctc losses\"\"\"\n",
    "\n",
    "    y_pred, input_length = args\n",
    "\n",
    "    ctc_decoded = tf.keras.backend.ctc_decode(\n",
    "        y_pred, input_length, greedy=True)\n",
    "\n",
    "    return ctc_decoded"
   ]
  },
  {
   "cell_type": "code",
   "execution_count": 34,
   "metadata": {},
   "outputs": [],
   "source": [
    "pred_tensor, _ = decode_ctc([net.predict(np.expand_dims(im, axis=0)), np.array([t_dist_dim])])\n",
    "pred_labels = tf.keras.backend.get_value(pred_tensor[0])"
   ]
  },
  {
   "cell_type": "code",
   "execution_count": 35,
   "metadata": {},
   "outputs": [
    {
     "data": {
      "text/plain": [
       "array([[41, -1, -1, -1, -1, -1, -1, -1, -1, -1, -1, -1, -1, -1, -1, -1,\n",
       "        -1, -1, -1, -1, -1, -1, -1, -1, -1, -1, -1, -1, -1, -1, -1, -1,\n",
       "        -1, -1, -1, -1, -1, -1, -1, -1, -1, -1, -1, -1, -1, -1, -1, -1,\n",
       "        -1, -1, -1, -1, -1, -1, -1, -1, -1, -1, -1, -1, -1, -1, -1, -1,\n",
       "        -1, -1, -1, -1, -1, -1, -1, -1, -1, -1, -1, -1, -1, -1, -1, -1,\n",
       "        -1, -1, -1, -1, -1, -1, -1, -1, -1, -1, -1, -1, -1, -1, -1, -1,\n",
       "        -1, -1, -1, -1, -1, -1, -1, -1, -1, -1, -1, -1, -1, -1, -1, -1,\n",
       "        -1, -1, -1, -1, -1, -1, -1, -1, -1, -1, -1, -1, -1, -1, -1, -1]])"
      ]
     },
     "execution_count": 35,
     "metadata": {},
     "output_type": "execute_result"
    }
   ],
   "source": [
    "pred_labels"
   ]
  },
  {
   "cell_type": "code",
   "execution_count": 38,
   "metadata": {},
   "outputs": [
    {
     "data": {
      "text/plain": [
       "<tf.Tensor: shape=(1, 128), dtype=string, numpy=\n",
       "array([[b'f', b'[UNK]', b'[UNK]', b'[UNK]', b'[UNK]', b'[UNK]', b'[UNK]',\n",
       "        b'[UNK]', b'[UNK]', b'[UNK]', b'[UNK]', b'[UNK]', b'[UNK]',\n",
       "        b'[UNK]', b'[UNK]', b'[UNK]', b'[UNK]', b'[UNK]', b'[UNK]',\n",
       "        b'[UNK]', b'[UNK]', b'[UNK]', b'[UNK]', b'[UNK]', b'[UNK]',\n",
       "        b'[UNK]', b'[UNK]', b'[UNK]', b'[UNK]', b'[UNK]', b'[UNK]',\n",
       "        b'[UNK]', b'[UNK]', b'[UNK]', b'[UNK]', b'[UNK]', b'[UNK]',\n",
       "        b'[UNK]', b'[UNK]', b'[UNK]', b'[UNK]', b'[UNK]', b'[UNK]',\n",
       "        b'[UNK]', b'[UNK]', b'[UNK]', b'[UNK]', b'[UNK]', b'[UNK]',\n",
       "        b'[UNK]', b'[UNK]', b'[UNK]', b'[UNK]', b'[UNK]', b'[UNK]',\n",
       "        b'[UNK]', b'[UNK]', b'[UNK]', b'[UNK]', b'[UNK]', b'[UNK]',\n",
       "        b'[UNK]', b'[UNK]', b'[UNK]', b'[UNK]', b'[UNK]', b'[UNK]',\n",
       "        b'[UNK]', b'[UNK]', b'[UNK]', b'[UNK]', b'[UNK]', b'[UNK]',\n",
       "        b'[UNK]', b'[UNK]', b'[UNK]', b'[UNK]', b'[UNK]', b'[UNK]',\n",
       "        b'[UNK]', b'[UNK]', b'[UNK]', b'[UNK]', b'[UNK]', b'[UNK]',\n",
       "        b'[UNK]', b'[UNK]', b'[UNK]', b'[UNK]', b'[UNK]', b'[UNK]',\n",
       "        b'[UNK]', b'[UNK]', b'[UNK]', b'[UNK]', b'[UNK]', b'[UNK]',\n",
       "        b'[UNK]', b'[UNK]', b'[UNK]', b'[UNK]', b'[UNK]', b'[UNK]',\n",
       "        b'[UNK]', b'[UNK]', b'[UNK]', b'[UNK]', b'[UNK]', b'[UNK]',\n",
       "        b'[UNK]', b'[UNK]', b'[UNK]', b'[UNK]', b'[UNK]', b'[UNK]',\n",
       "        b'[UNK]', b'[UNK]', b'[UNK]', b'[UNK]', b'[UNK]', b'[UNK]',\n",
       "        b'[UNK]', b'[UNK]', b'[UNK]', b'[UNK]', b'[UNK]', b'[UNK]',\n",
       "        b'[UNK]']], dtype=object)>"
      ]
     },
     "execution_count": 38,
     "metadata": {},
     "output_type": "execute_result"
    }
   ],
   "source": [
    "num_to_char(pred_labels)"
   ]
  },
  {
   "cell_type": "code",
   "execution_count": 33,
   "metadata": {},
   "outputs": [
    {
     "data": {
      "image/png": "[encoded data removed]",
      "text/plain": [
       "<Figure size 432x288 with 1 Axes>"
      ]
     },
     "metadata": {
      "needs_background": "light"
     },
     "output_type": "display_data"
    }
   ],
   "source": [
    "import matplotlib.pyplot as plt\n",
    "plt.imshow(im, cmap='gray')\n",
    "plt.show()"
   ]
  },
  {
   "cell_type": "code",
   "execution_count": null,
   "metadata": {},
   "outputs": [],
   "source": []
  }
 ],
 "metadata": {
  "kernelspec": {
   "display_name": "Python 3",
   "language": "python",
   "name": "python3"
  },
  "language_info": {
   "codemirror_mode": {
    "name": "ipython",
    "version": 3
   },
   "file_extension": ".py",
   "mimetype": "text/x-python",
   "name": "python",
   "nbconvert_exporter": "python",
   "pygments_lexer": "ipython3",
   "version": "3.8.10"
  }
 },
 "nbformat": 4,
 "nbformat_minor": 4
}
